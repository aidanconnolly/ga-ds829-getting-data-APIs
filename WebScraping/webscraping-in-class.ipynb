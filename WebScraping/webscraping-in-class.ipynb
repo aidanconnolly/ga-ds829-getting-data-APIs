{
 "cells": [
  {
   "cell_type": "markdown",
   "metadata": {
    "collapsed": true
   },
   "source": [
    "# Webscraping 2.0\n",
    "\n",
    "In today's codealong, I'll walkthrough how to build a scraper using urllib and BeautifulSoup. We'll discover the problems we discussed in the lesson readme associated with doing so, and we'll remedy this problem using a headless browser called Selenium."
   ]
  },
  {
   "cell_type": "markdown",
   "metadata": {},
   "source": [
    "For starter's we're going to be scraping OpenTable's DC listings. We're interested in knowing the restaurant's **name, location, price, and how many people booked it today.**\n",
    "\n",
    "OpenTable provides all of this information on this given page: http://www.opentable.com/washington-dc-restaurant-listings\n",
    "\n",
    "Let's inspect the elements of this page to assure we can find each of the bits of information in which we're interested.\n",
    ">Class proceeds to do exactly that ^\n",
    "\n",
    "We'll then build our scraper:"
   ]
  },
  {
   "cell_type": "code",
   "execution_count": 2,
   "metadata": {
    "collapsed": true,
    "scrolled": false
   },
   "outputs": [],
   "source": [
    "# import our necessary first packages\n",
    "from bs4 import BeautifulSoup\n",
    "import urllib"
   ]
  },
  {
   "cell_type": "code",
   "execution_count": 3,
   "metadata": {
    "collapsed": true
   },
   "outputs": [],
   "source": [
    "# set the url we want to visit\n",
    "url = \"http://www.opentable.com/washington-dc-restaurant-listings\"\n",
    "\n",
    "# visit that url, and grab the html of said page\n",
    "html = urllib.urlopen(url).read()"
   ]
  },
  {
   "cell_type": "markdown",
   "metadata": {},
   "source": [
    "At this point, what is in html?"
   ]
  },
  {
   "cell_type": "code",
   "execution_count": 4,
   "metadata": {
    "collapsed": false
   },
   "outputs": [
    {
     "data": {
      "text/plain": [
       "'          <!DOCTYPE html><html lang=\"en\"><head><meta charset=\"utf-8\"/><meta http-equiv=\"X-UA-Compatible\" content=\"IE=9; IE=8; IE=7; IE=EDGE\"/> <title>Washington, D.C. Area Restaurants List | OpenTable</title>  <meta  name=\"description\" content=\"Find Washington, D.C. Area restaurants. Search by location, cuisine, or price to refine restaurant results in the Washington, D.C. Area area.\" > </meta>  <meta  name=\"robots\" content=\"noindex\" > </meta>    <link rel=\"shortcut icon\" href=\"//components.otst'"
      ]
     },
     "execution_count": 4,
     "metadata": {},
     "output_type": "execute_result"
    }
   ],
   "source": [
    "html[:500]"
   ]
  },
  {
   "cell_type": "code",
   "execution_count": 5,
   "metadata": {
    "collapsed": true
   },
   "outputs": [],
   "source": [
    "# we need to convert this into a soup object\n",
    "soup = BeautifulSoup(html, 'html.parser', from_encoding=\"utf-8\")"
   ]
  },
  {
   "cell_type": "markdown",
   "metadata": {},
   "source": [
    "Let's first find each restaurant name listed on the page we've loaded. How do we find the page location of the restaurant? (Psst: we need to know where in the **html** the restaurant element is housed)\n",
    "\n",
    "See if you can find the restaurant name on the page. Keep in mind there are many restaurants loaded on the page."
   ]
  },
  {
   "cell_type": "code",
   "execution_count": 6,
   "metadata": {
    "collapsed": false,
    "scrolled": true
   },
   "outputs": [
    {
     "data": {
      "text/plain": [
       "[<span class=\"rest-row-name-text\">Rasika</span>,\n",
       " <span class=\"rest-row-name-text\">Harold Black</span>,\n",
       " <span class=\"rest-row-name-text\">Chez Billy Sud</span>,\n",
       " <span class=\"rest-row-name-text\">Centrolina</span>,\n",
       " <span class=\"rest-row-name-text\">Ambar</span>,\n",
       " <span class=\"rest-row-name-text\">Blue Duck Tavern</span>,\n",
       " <span class=\"rest-row-name-text\">Old Ebbitt Grill</span>,\n",
       " <span class=\"rest-row-name-text\">Estadio</span>,\n",
       " <span class=\"rest-row-name-text\">Rasika West End</span>,\n",
       " <span class=\"rest-row-name-text\">Farmers Fishers Bakers</span>,\n",
       " <span class=\"rest-row-name-text\">Captain Gregory's</span>,\n",
       " <span class=\"rest-row-name-text\">Mokomandy</span>,\n",
       " <span class=\"rest-row-name-text\">Le Diplomate</span>,\n",
       " <span class=\"rest-row-name-text\">CIRCA at Foggy Bottom</span>,\n",
       " <span class=\"rest-row-name-text\">Ambar - Arlington</span>,\n",
       " <span class=\"rest-row-name-text\">Medium Rare - Cleveland Park</span>,\n",
       " <span class=\"rest-row-name-text\">Lupo Verde</span>,\n",
       " <span class=\"rest-row-name-text\">Ghibellina</span>,\n",
       " <span class=\"rest-row-name-text\">Floriana</span>,\n",
       " <span class=\"rest-row-name-text\">Founding Farmers - DC</span>,\n",
       " <span class=\"rest-row-name-text\">Clyde's of Georgetown</span>,\n",
       " <span class=\"rest-row-name-text\">Oyamel</span>,\n",
       " <span class=\"rest-row-name-text\">Hazel</span>,\n",
       " <span class=\"rest-row-name-text\">Ted's Bulletin - 14th Street</span>,\n",
       " <span class=\"rest-row-name-text\">Daikaya Izakaya (2F)</span>,\n",
       " <span class=\"rest-row-name-text\">CIRCA at Clarendon</span>,\n",
       " <span class=\"rest-row-name-text\">Chaplin</span>,\n",
       " <span class=\"rest-row-name-text\">Tortino</span>,\n",
       " <span class=\"rest-row-name-text\">Peacock Caf\\xe9</span>,\n",
       " <span class=\"rest-row-name-text\">The Hamilton</span>,\n",
       " <span class=\"rest-row-name-text\">RPM Italian - DC</span>,\n",
       " <span class=\"rest-row-name-text\">Commissary DC</span>,\n",
       " <span class=\"rest-row-name-text\">Doi Moi</span>,\n",
       " <span class=\"rest-row-name-text\">The Bird</span>,\n",
       " <span class=\"rest-row-name-text\">Momofuku CCDC</span>,\n",
       " <span class=\"rest-row-name-text\">Hank's Oyster Bar - Dupont</span>,\n",
       " <span class=\"rest-row-name-text\">DBGB DC</span>,\n",
       " <span class=\"rest-row-name-text\">Osteria Morini DC</span>,\n",
       " <span class=\"rest-row-name-text\">Mission</span>,\n",
       " <span class=\"rest-row-name-text\">SEI restaurant &amp; lounge</span>,\n",
       " <span class=\"rest-row-name-text\">Succotash Restaurant</span>,\n",
       " <span class=\"rest-row-name-text\">The Wine Kitchen on the Creek</span>,\n",
       " <span class=\"rest-row-name-text\">Proof Restaurant</span>,\n",
       " <span class=\"rest-row-name-text\">Filomena Ristorante</span>,\n",
       " <span class=\"rest-row-name-text\">The Arsenal at Bluejacket</span>,\n",
       " <span class=\"rest-row-name-text\">The Majestic</span>,\n",
       " <span class=\"rest-row-name-text\">Virtue Feed &amp; Grain</span>,\n",
       " <span class=\"rest-row-name-text\">Denson Liquor Bar</span>,\n",
       " <span class=\"rest-row-name-text\">The Liberty Tavern</span>,\n",
       " <span class=\"rest-row-name-text\">Kinship</span>,\n",
       " <span class=\"rest-row-name-text\">Cava Mezze - DC</span>,\n",
       " <span class=\"rest-row-name-text\">Farmers &amp; Distillers</span>,\n",
       " <span class=\"rest-row-name-text\">Acqua Al 2</span>,\n",
       " <span class=\"rest-row-name-text\">Joselito Casa de Comidas</span>,\n",
       " <span class=\"rest-row-name-text\">Sakerum</span>,\n",
       " <span class=\"rest-row-name-text\">The Pig</span>,\n",
       " <span class=\"rest-row-name-text\">CIRCA at Dupont</span>,\n",
       " <span class=\"rest-row-name-text\">Logan Tavern</span>,\n",
       " <span class=\"rest-row-name-text\">Mirabelle</span>,\n",
       " <span class=\"rest-row-name-text\">Zaytinya</span>,\n",
       " <span class=\"rest-row-name-text\">Founding Farmers - Tysons</span>,\n",
       " <span class=\"rest-row-name-text\">District Commons</span>,\n",
       " <span class=\"rest-row-name-text\">Tico</span>,\n",
       " <span class=\"rest-row-name-text\">Due South</span>,\n",
       " <span class=\"rest-row-name-text\">NoPa Kitchen + Bar (Washington D.C.)</span>,\n",
       " <span class=\"rest-row-name-text\">Kingbird at The Watergate Hotel</span>,\n",
       " <span class=\"rest-row-name-text\">Georgia Brown's</span>,\n",
       " <span class=\"rest-row-name-text\">Jacques' Brasserie at L'Auberge Chez Francois</span>,\n",
       " <span class=\"rest-row-name-text\">Jack Rose Dining Saloon</span>,\n",
       " <span class=\"rest-row-name-text\">AGORA</span>,\n",
       " <span class=\"rest-row-name-text\">Homestead DC</span>,\n",
       " <span class=\"rest-row-name-text\">Bistrot Lepic &amp; Wine Bar</span>,\n",
       " <span class=\"rest-row-name-text\">Johnny's Half Shell - Adams Morgan</span>,\n",
       " <span class=\"rest-row-name-text\">Nostos Restaurant</span>,\n",
       " <span class=\"rest-row-name-text\">Kona Grill - Arlington</span>,\n",
       " <span class=\"rest-row-name-text\">Del Ray Cafe</span>,\n",
       " <span class=\"rest-row-name-text\">Lyon Hall</span>,\n",
       " <span class=\"rest-row-name-text\">Bombay Club</span>,\n",
       " <span class=\"rest-row-name-text\">Firefly - DC</span>,\n",
       " <span class=\"rest-row-name-text\">La Piquette</span>,\n",
       " <span class=\"rest-row-name-text\">Tabard Inn</span>,\n",
       " <span class=\"rest-row-name-text\">Lavagna - Washington DC</span>,\n",
       " <span class=\"rest-row-name-text\">Copperwood Tavern</span>,\n",
       " <span class=\"rest-row-name-text\">Hill Country Barbecue Market - DC</span>,\n",
       " <span class=\"rest-row-name-text\">Bar Pilar</span>,\n",
       " <span class=\"rest-row-name-text\">Greenhouse at the Jefferson Hotel Washington DC</span>,\n",
       " <span class=\"rest-row-name-text\">Boqueria - DC</span>,\n",
       " <span class=\"rest-row-name-text\">Vola's Dockside Grill</span>,\n",
       " <span class=\"rest-row-name-text\">Silver</span>,\n",
       " <span class=\"rest-row-name-text\">Lincoln - DC</span>,\n",
       " <span class=\"rest-row-name-text\">La Chaumiere</span>,\n",
       " <span class=\"rest-row-name-text\">Grillfish DC</span>,\n",
       " <span class=\"rest-row-name-text\">The Warehouse</span>,\n",
       " <span class=\"rest-row-name-text\">2941 Restaurant</span>,\n",
       " <span class=\"rest-row-name-text\">Whaley's</span>,\n",
       " <span class=\"rest-row-name-text\">PassionFish - Bethesda</span>,\n",
       " <span class=\"rest-row-name-text\">Bistro Bis</span>,\n",
       " <span class=\"rest-row-name-text\">SER</span>,\n",
       " <span class=\"rest-row-name-text\">Barrel &amp; Crow</span>,\n",
       " <span class=\"rest-row-name-text\">Graffiato</span>]"
      ]
     },
     "execution_count": 6,
     "metadata": {},
     "output_type": "execute_result"
    }
   ],
   "source": [
    "# print the restaurant names\n",
    "soup.find_all(name='span', attrs={'class':'rest-row-name-text'})"
   ]
  },
  {
   "cell_type": "markdown",
   "metadata": {},
   "source": [
    "Now that we can find each element, let's think how we can loop through them all one-by-one. In the following cell, print out the name (and **only** the clean name, not the rest of the html) of each restaurant."
   ]
  },
  {
   "cell_type": "code",
   "execution_count": 7,
   "metadata": {
    "collapsed": false
   },
   "outputs": [
    {
     "name": "stdout",
     "output_type": "stream",
     "text": [
      "Rasika\n",
      "Harold Black\n",
      "Chez Billy Sud\n",
      "Centrolina\n",
      "Ambar\n",
      "Blue Duck Tavern\n",
      "Old Ebbitt Grill\n",
      "Estadio\n",
      "Rasika West End\n",
      "Farmers Fishers Bakers\n",
      "Captain Gregory's\n",
      "Mokomandy\n",
      "Le Diplomate\n",
      "CIRCA at Foggy Bottom\n",
      "Ambar - Arlington\n",
      "Medium Rare - Cleveland Park\n",
      "Lupo Verde\n",
      "Ghibellina\n",
      "Floriana\n",
      "Founding Farmers - DC\n",
      "Clyde's of Georgetown\n",
      "Oyamel\n",
      "Hazel\n",
      "Ted's Bulletin - 14th Street\n",
      "Daikaya Izakaya (2F)\n",
      "CIRCA at Clarendon\n",
      "Chaplin\n",
      "Tortino\n",
      "Peacock Café\n",
      "The Hamilton\n",
      "RPM Italian - DC\n",
      "Commissary DC\n",
      "Doi Moi\n",
      "The Bird\n",
      "Momofuku CCDC\n",
      "Hank's Oyster Bar - Dupont\n",
      "DBGB DC\n",
      "Osteria Morini DC\n",
      "Mission\n",
      "SEI restaurant &amp; lounge\n",
      "Succotash Restaurant\n",
      "The Wine Kitchen on the Creek\n",
      "Proof Restaurant\n",
      "Filomena Ristorante\n",
      "The Arsenal at Bluejacket\n",
      "The Majestic\n",
      "Virtue Feed &amp; Grain\n",
      "Denson Liquor Bar\n",
      "The Liberty Tavern\n",
      "Kinship\n",
      "Cava Mezze - DC\n",
      "Farmers &amp; Distillers\n",
      "Acqua Al 2\n",
      "Joselito Casa de Comidas\n",
      "Sakerum\n",
      "The Pig\n",
      "CIRCA at Dupont\n",
      "Logan Tavern\n",
      "Mirabelle\n",
      "Zaytinya\n",
      "Founding Farmers - Tysons\n",
      "District Commons\n",
      "Tico\n",
      "Due South\n",
      "NoPa Kitchen + Bar (Washington D.C.)\n",
      "Kingbird at The Watergate Hotel\n",
      "Georgia Brown's\n",
      "Jacques' Brasserie at L'Auberge Chez Francois\n",
      "Jack Rose Dining Saloon\n",
      "AGORA\n",
      "Homestead DC\n",
      "Bistrot Lepic &amp; Wine Bar\n",
      "Johnny's Half Shell - Adams Morgan\n",
      "Nostos Restaurant\n",
      "Kona Grill - Arlington\n",
      "Del Ray Cafe\n",
      "Lyon Hall\n",
      "Bombay Club\n",
      "Firefly - DC\n",
      "La Piquette\n",
      "Tabard Inn\n",
      "Lavagna - Washington DC\n",
      "Copperwood Tavern\n",
      "Hill Country Barbecue Market - DC\n",
      "Bar Pilar\n",
      "Greenhouse at the Jefferson Hotel Washington DC\n",
      "Boqueria - DC\n",
      "Vola's Dockside Grill\n",
      "Silver\n",
      "Lincoln - DC\n",
      "La Chaumiere\n",
      "Grillfish DC\n",
      "The Warehouse\n",
      "2941 Restaurant\n",
      "Whaley's\n",
      "PassionFish - Bethesda\n",
      "Bistro Bis\n",
      "SER\n",
      "Barrel &amp; Crow\n",
      "Graffiato\n"
     ]
    }
   ],
   "source": [
    "# for each element you find, print out the restaurant name\n",
    "for entry in soup.find_all(name='span', attrs={'class':'rest-row-name-text'}):\n",
    "    print entry.renderContents()"
   ]
  },
  {
   "cell_type": "markdown",
   "metadata": {},
   "source": [
    "Great!\n",
    "\n",
    "Can you repeat that process for finding the location? For example, barmini by Jose Andres is in the location listed as \"Penn Quarter\" in our search results."
   ]
  },
  {
   "cell_type": "code",
   "execution_count": 8,
   "metadata": {
    "collapsed": false
   },
   "outputs": [
    {
     "data": {
      "text/plain": [
       "[<span class=\"rest-row-meta--location rest-row-meta-text\">Penn Quarter</span>,\n",
       " <span class=\"rest-row-meta--location rest-row-meta-text\">Capitol Hill</span>,\n",
       " <span class=\"rest-row-meta--location rest-row-meta-text\">Georgetown</span>,\n",
       " <span class=\"rest-row-meta--location rest-row-meta-text\">Downtown</span>,\n",
       " <span class=\"rest-row-meta--location rest-row-meta-text\">Capitol Hill</span>,\n",
       " <span class=\"rest-row-meta--location rest-row-meta-text\">West End</span>,\n",
       " <span class=\"rest-row-meta--location rest-row-meta-text\">Downtown</span>,\n",
       " <span class=\"rest-row-meta--location rest-row-meta-text\">Logan Circle</span>,\n",
       " <span class=\"rest-row-meta--location rest-row-meta-text\">West End</span>,\n",
       " <span class=\"rest-row-meta--location rest-row-meta-text\">Georgetown</span>,\n",
       " <span class=\"rest-row-meta--location rest-row-meta-text\">Alexandria</span>,\n",
       " <span class=\"rest-row-meta--location rest-row-meta-text\">Sterling</span>,\n",
       " <span class=\"rest-row-meta--location rest-row-meta-text\">Logan Circle</span>,\n",
       " <span class=\"rest-row-meta--location rest-row-meta-text\">Foggy Bottom</span>,\n",
       " <span class=\"rest-row-meta--location rest-row-meta-text\">Arlington</span>,\n",
       " <span class=\"rest-row-meta--location rest-row-meta-text\">Cleveland Park</span>,\n",
       " <span class=\"rest-row-meta--location rest-row-meta-text\">Logan Circle</span>,\n",
       " <span class=\"rest-row-meta--location rest-row-meta-text\">Logan Circle</span>,\n",
       " <span class=\"rest-row-meta--location rest-row-meta-text\">Dupont Circle</span>,\n",
       " <span class=\"rest-row-meta--location rest-row-meta-text\">Foggy Bottom</span>,\n",
       " <span class=\"rest-row-meta--location rest-row-meta-text\">Georgetown</span>,\n",
       " <span class=\"rest-row-meta--location rest-row-meta-text\">Penn Quarter</span>,\n",
       " <span class=\"rest-row-meta--location rest-row-meta-text\">Shaw</span>,\n",
       " <span class=\"rest-row-meta--location rest-row-meta-text\">Logan Circle</span>,\n",
       " <span class=\"rest-row-meta--location rest-row-meta-text\">Penn Quarter</span>,\n",
       " <span class=\"rest-row-meta--location rest-row-meta-text\">Arlington</span>,\n",
       " <span class=\"rest-row-meta--location rest-row-meta-text\">Shaw</span>,\n",
       " <span class=\"rest-row-meta--location rest-row-meta-text\">Downtown</span>,\n",
       " <span class=\"rest-row-meta--location rest-row-meta-text\">Georgetown</span>,\n",
       " <span class=\"rest-row-meta--location rest-row-meta-text\">Downtown</span>,\n",
       " <span class=\"rest-row-meta--location rest-row-meta-text\">Mt. Vernon Square</span>,\n",
       " <span class=\"rest-row-meta--location rest-row-meta-text\">Logan Circle</span>,\n",
       " <span class=\"rest-row-meta--location rest-row-meta-text\">Logan Circle</span>,\n",
       " <span class=\"rest-row-meta--location rest-row-meta-text\">Logan Circle</span>,\n",
       " <span class=\"rest-row-meta--location rest-row-meta-text\">Mount Vernon</span>,\n",
       " <span class=\"rest-row-meta--location rest-row-meta-text\">Dupont Circle</span>,\n",
       " <span class=\"rest-row-meta--location rest-row-meta-text\">Penn Quarter</span>,\n",
       " <span class=\"rest-row-meta--location rest-row-meta-text\">Navy Yard</span>,\n",
       " <span class=\"rest-row-meta--location rest-row-meta-text\">Dupont Circle</span>,\n",
       " <span class=\"rest-row-meta--location rest-row-meta-text\">Penn Quarter</span>,\n",
       " <span class=\"rest-row-meta--location rest-row-meta-text\">National Harbor</span>,\n",
       " <span class=\"rest-row-meta--location rest-row-meta-text\">Frederick</span>,\n",
       " <span class=\"rest-row-meta--location rest-row-meta-text\">Penn Quarter</span>,\n",
       " <span class=\"rest-row-meta--location rest-row-meta-text\">Georgetown</span>,\n",
       " <span class=\"rest-row-meta--location rest-row-meta-text\">Navy Yard</span>,\n",
       " <span class=\"rest-row-meta--location rest-row-meta-text\">Alexandria</span>,\n",
       " <span class=\"rest-row-meta--location rest-row-meta-text\">Alexandria</span>,\n",
       " <span class=\"rest-row-meta--location rest-row-meta-text\">Penn Quarter</span>,\n",
       " <span class=\"rest-row-meta--location rest-row-meta-text\">Arlington</span>,\n",
       " <span class=\"rest-row-meta--location rest-row-meta-text\">Mt. Vernon Square</span>,\n",
       " <span class=\"rest-row-meta--location rest-row-meta-text\">Capitol Hill</span>,\n",
       " <span class=\"rest-row-meta--location rest-row-meta-text\">Mt. Vernon Square</span>,\n",
       " <span class=\"rest-row-meta--location rest-row-meta-text\">Capitol Hill</span>,\n",
       " <span class=\"rest-row-meta--location rest-row-meta-text\">Capitol Hill</span>,\n",
       " <span class=\"rest-row-meta--location rest-row-meta-text\">U Street Corridor</span>,\n",
       " <span class=\"rest-row-meta--location rest-row-meta-text\">Logan Circle</span>,\n",
       " <span class=\"rest-row-meta--location rest-row-meta-text\">Dupont Circle</span>,\n",
       " <span class=\"rest-row-meta--location rest-row-meta-text\">Logan Circle</span>,\n",
       " <span class=\"rest-row-meta--location rest-row-meta-text\">Downtown</span>,\n",
       " <span class=\"rest-row-meta--location rest-row-meta-text\">Penn Quarter</span>,\n",
       " <span class=\"rest-row-meta--location rest-row-meta-text\">Tysons Corner / McLean</span>,\n",
       " <span class=\"rest-row-meta--location rest-row-meta-text\">Foggy Bottom</span>,\n",
       " <span class=\"rest-row-meta--location rest-row-meta-text\">U Street Corridor</span>,\n",
       " <span class=\"rest-row-meta--location rest-row-meta-text\">Navy Yard</span>,\n",
       " <span class=\"rest-row-meta--location rest-row-meta-text\">Penn Quarter</span>,\n",
       " <span class=\"rest-row-meta--location rest-row-meta-text\">Foggy Bottom</span>,\n",
       " <span class=\"rest-row-meta--location rest-row-meta-text\">Downtown</span>,\n",
       " <span class=\"rest-row-meta--location rest-row-meta-text\">Great Falls</span>,\n",
       " <span class=\"rest-row-meta--location rest-row-meta-text\">Adams Morgan</span>,\n",
       " <span class=\"rest-row-meta--location rest-row-meta-text\">Dupont Circle</span>,\n",
       " <span class=\"rest-row-meta--location rest-row-meta-text\">Petworth</span>,\n",
       " <span class=\"rest-row-meta--location rest-row-meta-text\">Georgetown</span>,\n",
       " <span class=\"rest-row-meta--location rest-row-meta-text\">Adams Morgan</span>,\n",
       " <span class=\"rest-row-meta--location rest-row-meta-text\">Vienna</span>,\n",
       " <span class=\"rest-row-meta--location rest-row-meta-text\">Arlington</span>,\n",
       " <span class=\"rest-row-meta--location rest-row-meta-text\">Alexandria</span>,\n",
       " <span class=\"rest-row-meta--location rest-row-meta-text\">Arlington</span>,\n",
       " <span class=\"rest-row-meta--location rest-row-meta-text\">Downtown</span>,\n",
       " <span class=\"rest-row-meta--location rest-row-meta-text\">Dupont Circle</span>,\n",
       " <span class=\"rest-row-meta--location rest-row-meta-text\">Cleveland Park</span>,\n",
       " <span class=\"rest-row-meta--location rest-row-meta-text\">Dupont Circle</span>,\n",
       " <span class=\"rest-row-meta--location rest-row-meta-text\">Capitol Hill</span>,\n",
       " <span class=\"rest-row-meta--location rest-row-meta-text\">Arlington</span>,\n",
       " <span class=\"rest-row-meta--location rest-row-meta-text\">Penn Quarter</span>,\n",
       " <span class=\"rest-row-meta--location rest-row-meta-text\">Logan Circle</span>,\n",
       " <span class=\"rest-row-meta--location rest-row-meta-text\">Downtown</span>,\n",
       " <span class=\"rest-row-meta--location rest-row-meta-text\">Dupont Circle</span>,\n",
       " <span class=\"rest-row-meta--location rest-row-meta-text\">Old Town Alexandria</span>,\n",
       " <span class=\"rest-row-meta--location rest-row-meta-text\">Bethesda / Chevy Chase</span>,\n",
       " <span class=\"rest-row-meta--location rest-row-meta-text\">McPherson Square</span>,\n",
       " <span class=\"rest-row-meta--location rest-row-meta-text\">Georgetown</span>,\n",
       " <span class=\"rest-row-meta--location rest-row-meta-text\">Dupont Circle</span>,\n",
       " <span class=\"rest-row-meta--location rest-row-meta-text\">Alexandria</span>,\n",
       " <span class=\"rest-row-meta--location rest-row-meta-text\">Falls Church</span>,\n",
       " <span class=\"rest-row-meta--location rest-row-meta-text\">Navy Yard</span>,\n",
       " <span class=\"rest-row-meta--location rest-row-meta-text\">Bethesda / Chevy Chase</span>,\n",
       " <span class=\"rest-row-meta--location rest-row-meta-text\">Capitol Hill</span>,\n",
       " <span class=\"rest-row-meta--location rest-row-meta-text\">Arlington</span>,\n",
       " <span class=\"rest-row-meta--location rest-row-meta-text\">Bethesda / Chevy Chase</span>,\n",
       " <span class=\"rest-row-meta--location rest-row-meta-text\">Penn Quarter</span>]"
      ]
     },
     "execution_count": 8,
     "metadata": {},
     "output_type": "execute_result"
    }
   ],
   "source": [
    "# first, see if you can identify the location for all elements -- print it out\n",
    "soup.find_all('span', {'class':'rest-row-meta--location rest-row-meta-text'})"
   ]
  },
  {
   "cell_type": "code",
   "execution_count": 9,
   "metadata": {
    "collapsed": false
   },
   "outputs": [
    {
     "name": "stdout",
     "output_type": "stream",
     "text": [
      "Penn Quarter\n",
      "Capitol Hill\n",
      "Georgetown\n",
      "Downtown\n",
      "Capitol Hill\n",
      "West End\n",
      "Downtown\n",
      "Logan Circle\n",
      "West End\n",
      "Georgetown\n",
      "Alexandria\n",
      "Sterling\n",
      "Logan Circle\n",
      "Foggy Bottom\n",
      "Arlington\n",
      "Cleveland Park\n",
      "Logan Circle\n",
      "Logan Circle\n",
      "Dupont Circle\n",
      "Foggy Bottom\n",
      "Georgetown\n",
      "Penn Quarter\n",
      "Shaw\n",
      "Logan Circle\n",
      "Penn Quarter\n",
      "Arlington\n",
      "Shaw\n",
      "Downtown\n",
      "Georgetown\n",
      "Downtown\n",
      "Mt. Vernon Square\n",
      "Logan Circle\n",
      "Logan Circle\n",
      "Logan Circle\n",
      "Mount Vernon\n",
      "Dupont Circle\n",
      "Penn Quarter\n",
      "Navy Yard\n",
      "Dupont Circle\n",
      "Penn Quarter\n",
      "National Harbor\n",
      "Frederick\n",
      "Penn Quarter\n",
      "Georgetown\n",
      "Navy Yard\n",
      "Alexandria\n",
      "Alexandria\n",
      "Penn Quarter\n",
      "Arlington\n",
      "Mt. Vernon Square\n",
      "Capitol Hill\n",
      "Mt. Vernon Square\n",
      "Capitol Hill\n",
      "Capitol Hill\n",
      "U Street Corridor\n",
      "Logan Circle\n",
      "Dupont Circle\n",
      "Logan Circle\n",
      "Downtown\n",
      "Penn Quarter\n",
      "Tysons Corner / McLean\n",
      "Foggy Bottom\n",
      "U Street Corridor\n",
      "Navy Yard\n",
      "Penn Quarter\n",
      "Foggy Bottom\n",
      "Downtown\n",
      "Great Falls\n",
      "Adams Morgan\n",
      "Dupont Circle\n",
      "Petworth\n",
      "Georgetown\n",
      "Adams Morgan\n",
      "Vienna\n",
      "Arlington\n",
      "Alexandria\n",
      "Arlington\n",
      "Downtown\n",
      "Dupont Circle\n",
      "Cleveland Park\n",
      "Dupont Circle\n",
      "Capitol Hill\n",
      "Arlington\n",
      "Penn Quarter\n",
      "Logan Circle\n",
      "Downtown\n",
      "Dupont Circle\n",
      "Old Town Alexandria\n",
      "Bethesda / Chevy Chase\n",
      "McPherson Square\n",
      "Georgetown\n",
      "Dupont Circle\n",
      "Alexandria\n",
      "Falls Church\n",
      "Navy Yard\n",
      "Bethesda / Chevy Chase\n",
      "Capitol Hill\n",
      "Arlington\n",
      "Bethesda / Chevy Chase\n",
      "Penn Quarter\n"
     ]
    }
   ],
   "source": [
    "# now print out EACH location for the restaurants\n",
    "for entry in soup.find_all('span', {'class':'rest-row-meta--location rest-row-meta-text'}):\n",
    "    print entry.renderContents()"
   ]
  },
  {
   "cell_type": "markdown",
   "metadata": {},
   "source": [
    "Ok, we've figured out the restaurant name and location. Now we need to grab the price (number of dollar signs on a scale of one to four) for each restaurant. We'll follow the same process."
   ]
  },
  {
   "cell_type": "code",
   "execution_count": 10,
   "metadata": {
    "collapsed": false,
    "scrolled": true
   },
   "outputs": [
    {
     "data": {
      "text/plain": [
       "[<div class=\"rest-row-pricing\"> <i>  $    $    $    </i>   $        </div>,\n",
       " <div class=\"rest-row-pricing\"> <i>  $    $      </i>   $    $      </div>,\n",
       " <div class=\"rest-row-pricing\"> <i>  $    $      </i>   $    $      </div>,\n",
       " <div class=\"rest-row-pricing\"> <i>  $    $      </i>   $    $      </div>,\n",
       " <div class=\"rest-row-pricing\"> <i>  $    $      </i>   $    $      </div>,\n",
       " <div class=\"rest-row-pricing\"> <i>  $    $    $    </i>   $        </div>,\n",
       " <div class=\"rest-row-pricing\"> <i>  $    $      </i>   $    $      </div>,\n",
       " <div class=\"rest-row-pricing\"> <i>  $    $      </i>   $    $      </div>,\n",
       " <div class=\"rest-row-pricing\"> <i>  $    $    $    </i>   $        </div>,\n",
       " <div class=\"rest-row-pricing\"> <i>  $    $      </i>   $    $      </div>,\n",
       " <div class=\"rest-row-pricing\"> <i>  $    $      </i>   $    $      </div>,\n",
       " <div class=\"rest-row-pricing\"> <i>  $    $      </i>   $    $      </div>,\n",
       " <div class=\"rest-row-pricing\"> <i>  $    $    $    </i>   $        </div>,\n",
       " <div class=\"rest-row-pricing\"> <i>  $    $      </i>   $    $      </div>,\n",
       " <div class=\"rest-row-pricing\"> <i>  $    $      </i>   $    $      </div>,\n",
       " <div class=\"rest-row-pricing\"> <i>  $    $      </i>   $    $      </div>,\n",
       " <div class=\"rest-row-pricing\"> <i>  $    $      </i>   $    $      </div>,\n",
       " <div class=\"rest-row-pricing\"> <i>  $    $      </i>   $    $      </div>,\n",
       " <div class=\"rest-row-pricing\"> <i>  $    $      </i>   $    $      </div>,\n",
       " <div class=\"rest-row-pricing\"> <i>  $    $      </i>   $    $      </div>,\n",
       " <div class=\"rest-row-pricing\"> <i>  $    $      </i>   $    $      </div>,\n",
       " <div class=\"rest-row-pricing\"> <i>  $    $      </i>   $    $      </div>,\n",
       " <div class=\"rest-row-pricing\"> <i>  $    $    $    </i>   $        </div>,\n",
       " <div class=\"rest-row-pricing\"> <i>  $    $      </i>   $    $      </div>,\n",
       " <div class=\"rest-row-pricing\"> <i>  $    $      </i>   $    $      </div>,\n",
       " <div class=\"rest-row-pricing\"> <i>  $    $      </i>   $    $      </div>,\n",
       " <div class=\"rest-row-pricing\"> <i>  $    $      </i>   $    $      </div>,\n",
       " <div class=\"rest-row-pricing\"> <i>  $    $      </i>   $    $      </div>,\n",
       " <div class=\"rest-row-pricing\"> <i>  $    $      </i>   $    $      </div>,\n",
       " <div class=\"rest-row-pricing\"> <i>  $    $      </i>   $    $      </div>,\n",
       " <div class=\"rest-row-pricing\"> <i>  $    $    $    </i>   $        </div>,\n",
       " <div class=\"rest-row-pricing\"> <i>  $    $      </i>   $    $      </div>,\n",
       " <div class=\"rest-row-pricing\"> <i>  $    $      </i>   $    $      </div>,\n",
       " <div class=\"rest-row-pricing\"> <i>  $    $      </i>   $    $      </div>,\n",
       " <div class=\"rest-row-pricing\"> <i>  $    $    $    </i>   $        </div>,\n",
       " <div class=\"rest-row-pricing\"> <i>  $    $      </i>   $    $      </div>,\n",
       " <div class=\"rest-row-pricing\"> <i>  $    $      </i>   $    $      </div>,\n",
       " <div class=\"rest-row-pricing\"> <i>  $    $      </i>   $    $      </div>,\n",
       " <div class=\"rest-row-pricing\"> <i>  $    $      </i>   $    $      </div>,\n",
       " <div class=\"rest-row-pricing\"> <i>  $    $      </i>   $    $      </div>,\n",
       " <div class=\"rest-row-pricing\"> <i>  $    $      </i>   $    $      </div>,\n",
       " <div class=\"rest-row-pricing\"> <i>  $    $      </i>   $    $      </div>,\n",
       " <div class=\"rest-row-pricing\"> <i>  $    $      </i>   $    $      </div>,\n",
       " <div class=\"rest-row-pricing\"> <i>  $    $    $    </i>   $        </div>,\n",
       " <div class=\"rest-row-pricing\"> <i>  $    $      </i>   $    $      </div>,\n",
       " <div class=\"rest-row-pricing\"> <i>  $    $      </i>   $    $      </div>,\n",
       " <div class=\"rest-row-pricing\"> <i>  $    $      </i>   $    $      </div>,\n",
       " <div class=\"rest-row-pricing\"> <i>  $    $      </i>   $    $      </div>,\n",
       " <div class=\"rest-row-pricing\"> <i>  $    $      </i>   $    $      </div>,\n",
       " <div class=\"rest-row-pricing\"> <i>  $    $    $    $  </i> </div>,\n",
       " <div class=\"rest-row-pricing\"> <i>  $    $      </i>   $    $      </div>,\n",
       " <div class=\"rest-row-pricing\"> <i>  $    $      </i>   $    $      </div>,\n",
       " <div class=\"rest-row-pricing\"> <i>  $    $    $    </i>   $        </div>,\n",
       " <div class=\"rest-row-pricing\"> <i>  $    $      </i>   $    $      </div>,\n",
       " <div class=\"rest-row-pricing\"> <i>  $    $      </i>   $    $      </div>,\n",
       " <div class=\"rest-row-pricing\"> <i>  $    $      </i>   $    $      </div>,\n",
       " <div class=\"rest-row-pricing\"> <i>  $    $      </i>   $    $      </div>,\n",
       " <div class=\"rest-row-pricing\"> <i>  $    $      </i>   $    $      </div>,\n",
       " <div class=\"rest-row-pricing\"> <i>  $    $    $    </i>   $        </div>,\n",
       " <div class=\"rest-row-pricing\"> <i>  $    $    $    </i>   $        </div>,\n",
       " <div class=\"rest-row-pricing\"> <i>  $    $      </i>   $    $      </div>,\n",
       " <div class=\"rest-row-pricing\"> <i>  $    $      </i>   $    $      </div>,\n",
       " <div class=\"rest-row-pricing\"> <i>  $    $      </i>   $    $      </div>,\n",
       " <div class=\"rest-row-pricing\"> <i>  $    $      </i>   $    $      </div>,\n",
       " <div class=\"rest-row-pricing\"> <i>  $    $      </i>   $    $      </div>,\n",
       " <div class=\"rest-row-pricing\"> <i>  $    $      </i>   $    $      </div>,\n",
       " <div class=\"rest-row-pricing\"> <i>  $    $      </i>   $    $      </div>,\n",
       " <div class=\"rest-row-pricing\"> <i>  $    $      </i>   $    $      </div>,\n",
       " <div class=\"rest-row-pricing\"> <i>  $    $      </i>   $    $      </div>,\n",
       " <div class=\"rest-row-pricing\"> <i>  $    $      </i>   $    $      </div>,\n",
       " <div class=\"rest-row-pricing\"> <i>  $    $      </i>   $    $      </div>,\n",
       " <div class=\"rest-row-pricing\"> <i>  $    $      </i>   $    $      </div>,\n",
       " <div class=\"rest-row-pricing\"> <i>  $    $      </i>   $    $      </div>,\n",
       " <div class=\"rest-row-pricing\"> <i>  $    $      </i>   $    $      </div>,\n",
       " <div class=\"rest-row-pricing\"> <i>  $    $      </i>   $    $      </div>,\n",
       " <div class=\"rest-row-pricing\"> <i>  $    $      </i>   $    $      </div>,\n",
       " <div class=\"rest-row-pricing\"> <i>  $    $      </i>   $    $      </div>,\n",
       " <div class=\"rest-row-pricing\"> <i>  $    $    $    </i>   $        </div>,\n",
       " <div class=\"rest-row-pricing\"> <i>  $    $      </i>   $    $      </div>,\n",
       " <div class=\"rest-row-pricing\"> <i>  $    $      </i>   $    $      </div>,\n",
       " <div class=\"rest-row-pricing\"> <i>  $    $    $    </i>   $        </div>,\n",
       " <div class=\"rest-row-pricing\"> <i>  $    $      </i>   $    $      </div>,\n",
       " <div class=\"rest-row-pricing\"> <i>  $    $      </i>   $    $      </div>,\n",
       " <div class=\"rest-row-pricing\"> <i>  $    $      </i>   $    $      </div>,\n",
       " <div class=\"rest-row-pricing\"> <i>  $    $      </i>   $    $      </div>,\n",
       " <div class=\"rest-row-pricing\"> <i>  $    $      </i>   $    $      </div>,\n",
       " <div class=\"rest-row-pricing\"> <i>  $    $    $    </i>   $        </div>,\n",
       " <div class=\"rest-row-pricing\"> <i>  $    $      </i>   $    $      </div>,\n",
       " <div class=\"rest-row-pricing\"> <i>  $    $      </i>   $    $      </div>,\n",
       " <div class=\"rest-row-pricing\"> <i>  $    $      </i>   $    $      </div>,\n",
       " <div class=\"rest-row-pricing\"> <i>  $    $      </i>   $    $      </div>,\n",
       " <div class=\"rest-row-pricing\"> <i>  $    $      </i>   $    $      </div>,\n",
       " <div class=\"rest-row-pricing\"> <i>  $    $      </i>   $    $      </div>,\n",
       " <div class=\"rest-row-pricing\"> <i>  $    $      </i>   $    $      </div>,\n",
       " <div class=\"rest-row-pricing\"> <i>  $    $    $    </i>   $        </div>,\n",
       " <div class=\"rest-row-pricing\"> <i>  $    $      </i>   $    $      </div>,\n",
       " <div class=\"rest-row-pricing\"> <i>  $    $      </i>   $    $      </div>,\n",
       " <div class=\"rest-row-pricing\"> <i>  $    $      </i>   $    $      </div>,\n",
       " <div class=\"rest-row-pricing\"> <i>  $    $      </i>   $    $      </div>,\n",
       " <div class=\"rest-row-pricing\"> <i>  $    $      </i>   $    $      </div>]"
      ]
     },
     "execution_count": 10,
     "metadata": {},
     "output_type": "execute_result"
    }
   ],
   "source": [
    "# print out all prices\n",
    "soup.find_all('div', {'class':'rest-row-pricing'})"
   ]
  },
  {
   "cell_type": "code",
   "execution_count": 11,
   "metadata": {
    "collapsed": false
   },
   "outputs": [
    {
     "name": "stdout",
     "output_type": "stream",
     "text": [
      "  $    $    $    \n",
      "  $    $      \n",
      "  $    $      \n",
      "  $    $      \n",
      "  $    $      \n",
      "  $    $    $    \n",
      "  $    $      \n",
      "  $    $      \n",
      "  $    $    $    \n",
      "  $    $      \n",
      "  $    $      \n",
      "  $    $      \n",
      "  $    $    $    \n",
      "  $    $      \n",
      "  $    $      \n",
      "  $    $      \n",
      "  $    $      \n",
      "  $    $      \n",
      "  $    $      \n",
      "  $    $      \n",
      "  $    $      \n",
      "  $    $      \n",
      "  $    $    $    \n",
      "  $    $      \n",
      "  $    $      \n",
      "  $    $      \n",
      "  $    $      \n",
      "  $    $      \n",
      "  $    $      \n",
      "  $    $      \n",
      "  $    $    $    \n",
      "  $    $      \n",
      "  $    $      \n",
      "  $    $      \n",
      "  $    $    $    \n",
      "  $    $      \n",
      "  $    $      \n",
      "  $    $      \n",
      "  $    $      \n",
      "  $    $      \n",
      "  $    $      \n",
      "  $    $      \n",
      "  $    $      \n",
      "  $    $    $    \n",
      "  $    $      \n",
      "  $    $      \n",
      "  $    $      \n",
      "  $    $      \n",
      "  $    $      \n",
      "  $    $    $    $  \n",
      "  $    $      \n",
      "  $    $      \n",
      "  $    $    $    \n",
      "  $    $      \n",
      "  $    $      \n",
      "  $    $      \n",
      "  $    $      \n",
      "  $    $      \n",
      "  $    $    $    \n",
      "  $    $    $    \n",
      "  $    $      \n",
      "  $    $      \n",
      "  $    $      \n",
      "  $    $      \n",
      "  $    $      \n",
      "  $    $      \n",
      "  $    $      \n",
      "  $    $      \n",
      "  $    $      \n",
      "  $    $      \n",
      "  $    $      \n",
      "  $    $      \n",
      "  $    $      \n",
      "  $    $      \n",
      "  $    $      \n",
      "  $    $      \n",
      "  $    $      \n",
      "  $    $    $    \n",
      "  $    $      \n",
      "  $    $      \n",
      "  $    $    $    \n",
      "  $    $      \n",
      "  $    $      \n",
      "  $    $      \n",
      "  $    $      \n",
      "  $    $      \n",
      "  $    $    $    \n",
      "  $    $      \n",
      "  $    $      \n",
      "  $    $      \n",
      "  $    $      \n",
      "  $    $      \n",
      "  $    $      \n",
      "  $    $      \n",
      "  $    $    $    \n",
      "  $    $      \n",
      "  $    $      \n",
      "  $    $      \n",
      "  $    $      \n",
      "  $    $      \n"
     ]
    }
   ],
   "source": [
    "# print out EACH number of dollar signs per restaurant\n",
    "# this one is trickier to eliminate the html. Hint: try a nested find\n",
    "for entry in soup.find_all('div', {'class':'rest-row-pricing'}):\n",
    "    print entry.find('i').renderContents()"
   ]
  },
  {
   "cell_type": "markdown",
   "metadata": {},
   "source": [
    "That looks great, but what if I wanted just the number of dollar signs per restaurant? Can you figure out a way to simply print out the number of dollar signs per restaurant listed?"
   ]
  },
  {
   "cell_type": "code",
   "execution_count": 12,
   "metadata": {
    "collapsed": false
   },
   "outputs": [
    {
     "name": "stdout",
     "output_type": "stream",
     "text": [
      "3\n",
      "2\n",
      "2\n",
      "2\n",
      "2\n",
      "3\n",
      "2\n",
      "2\n",
      "3\n",
      "2\n",
      "2\n",
      "2\n",
      "3\n",
      "2\n",
      "2\n",
      "2\n",
      "2\n",
      "2\n",
      "2\n",
      "2\n",
      "2\n",
      "2\n",
      "3\n",
      "2\n",
      "2\n",
      "2\n",
      "2\n",
      "2\n",
      "2\n",
      "2\n",
      "3\n",
      "2\n",
      "2\n",
      "2\n",
      "3\n",
      "2\n",
      "2\n",
      "2\n",
      "2\n",
      "2\n",
      "2\n",
      "2\n",
      "2\n",
      "3\n",
      "2\n",
      "2\n",
      "2\n",
      "2\n",
      "2\n",
      "4\n",
      "2\n",
      "2\n",
      "3\n",
      "2\n",
      "2\n",
      "2\n",
      "2\n",
      "2\n",
      "3\n",
      "3\n",
      "2\n",
      "2\n",
      "2\n",
      "2\n",
      "2\n",
      "2\n",
      "2\n",
      "2\n",
      "2\n",
      "2\n",
      "2\n",
      "2\n",
      "2\n",
      "2\n",
      "2\n",
      "2\n",
      "2\n",
      "3\n",
      "2\n",
      "2\n",
      "3\n",
      "2\n",
      "2\n",
      "2\n",
      "2\n",
      "2\n",
      "3\n",
      "2\n",
      "2\n",
      "2\n",
      "2\n",
      "2\n",
      "2\n",
      "2\n",
      "3\n",
      "2\n",
      "2\n",
      "2\n",
      "2\n",
      "2\n"
     ]
    }
   ],
   "source": [
    "# print the number of dollars signs per restaurant\n",
    "for entry in soup.find_all('div', {'class':'rest-row-pricing'}):\n",
    "    price = entry.find('i').renderContents()\n",
    "    print price.count('$')"
   ]
  },
  {
   "cell_type": "markdown",
   "metadata": {},
   "source": [
    "Phew, nice work. \n",
    "\n",
    "One more, right? We only need to find the number times a restaurant was booked. In the next cell, print out all objects that contain the number of times the restaurant was booked."
   ]
  },
  {
   "cell_type": "code",
   "execution_count": 13,
   "metadata": {
    "collapsed": false
   },
   "outputs": [
    {
     "data": {
      "text/plain": [
       "[]"
      ]
     },
     "execution_count": 13,
     "metadata": {},
     "output_type": "execute_result"
    }
   ],
   "source": [
    "# print out all objects that contain the number of times the restaurant was booked\n",
    "soup.find_all('div', {'class':'booking'})"
   ]
  },
  {
   "cell_type": "markdown",
   "metadata": {},
   "source": [
    "That's weird -- an empty set. Did we find the wrong element? What's going on here? Discuss.\n",
    "\n",
    "How can we debug this? Any ideas?"
   ]
  },
  {
   "cell_type": "code",
   "execution_count": null,
   "metadata": {
    "collapsed": true
   },
   "outputs": [],
   "source": [
    "# let's first try printing out all 'div' objects\n",
    "for entry in soup.find_all('div'):\n",
    "    print entry"
   ]
  },
  {
   "cell_type": "markdown",
   "metadata": {},
   "source": [
    "I still don't see it. Let's search our entire soup object:"
   ]
  },
  {
   "cell_type": "code",
   "execution_count": null,
   "metadata": {
    "collapsed": false
   },
   "outputs": [],
   "source": [
    "# print out soup, do command+f for \"booked \"\n",
    "soup"
   ]
  },
  {
   "cell_type": "markdown",
   "metadata": {},
   "source": [
    "What do you notice? Why is this happening?"
   ]
  },
  {
   "cell_type": "markdown",
   "metadata": {},
   "source": []
  },
  {
   "cell_type": "markdown",
   "metadata": {},
   "source": []
  },
  {
   "cell_type": "markdown",
   "metadata": {},
   "source": [
    "## Enter Selenium\n",
    "\n",
    "Selenium is a headless browser. That means it enables us to mock human browsing behavior -- even waiting for JavaScript elements to load.\n",
    "\n",
    "If you do not already have Selenium installed, you can do so via pip.   Simply: `pip install selenium`\n",
    "\n",
    "You will also need GeckoDriver, `brew install geckodriver`\n",
    "\n",
    "Additionally, you will need to have downloaded the [FireFox browser.](https://www.mozilla.org/en-US/firefox/new/?utm_source=google&utm_medium=cpc&utm_campaign=Firefox-Brand-US-GGL-Exact&utm_term=firefox&utm_content=A144_A203_A006336&gclid=Cj0KEQjwnPLKBRC-j7nt1b7OlZwBEiQAv8lMLJUyReT6cPzSYdmEA6uD3YDoieuuuusddgAU7XH6smEaAoje8P8HAQ&gclsrc=aw.ds)"
   ]
  },
  {
   "cell_type": "code",
   "execution_count": 15,
   "metadata": {
    "collapsed": true
   },
   "outputs": [],
   "source": [
    "# import\n",
    "from selenium import webdriver"
   ]
  },
  {
   "cell_type": "markdown",
   "metadata": {},
   "source": [
    "Selenium requires us to determine a default browser to run. I'm going to opt for Firefox, but Chromium is also a very common choice. http://selenium-python.readthedocs.io/faq.html"
   ]
  },
  {
   "cell_type": "code",
   "execution_count": null,
   "metadata": {
    "collapsed": true
   },
   "outputs": [],
   "source": [
    "# STOP\n",
    "# what is going to happen when I run the next cell?"
   ]
  },
  {
   "cell_type": "code",
   "execution_count": 19,
   "metadata": {
    "collapsed": false
   },
   "outputs": [],
   "source": [
    "# create a driver called Firefox\n",
    "driver = webdriver.Firefox()"
   ]
  },
  {
   "cell_type": "markdown",
   "metadata": {},
   "source": [
    "Pretty crazy, right? Let's close that driver."
   ]
  },
  {
   "cell_type": "code",
   "execution_count": 20,
   "metadata": {
    "collapsed": true
   },
   "outputs": [],
   "source": [
    "# close it\n",
    "driver.close()"
   ]
  },
  {
   "cell_type": "code",
   "execution_count": 21,
   "metadata": {
    "collapsed": true
   },
   "outputs": [],
   "source": [
    "# let's boot it up, and visit a URL of our choice\n",
    "driver = webdriver.Firefox()\n",
    "driver.get(\"http://www.python.org\")"
   ]
  },
  {
   "cell_type": "markdown",
   "metadata": {},
   "source": [
    "Awesome. Now we're getting somewhere: programmatically controlling our browser like a human."
   ]
  },
  {
   "cell_type": "markdown",
   "metadata": {},
   "source": [
    "Let's return to our problem at hand. We need to visit the OpenTable listing for DC. Once there, we need to get the html to load. In the next cell, prove you can programmatically visit the page."
   ]
  },
  {
   "cell_type": "code",
   "execution_count": 22,
   "metadata": {
    "collapsed": true
   },
   "outputs": [],
   "source": [
    "# visit our OpenTable page\n",
    "driver = webdriver.Firefox()\n",
    "driver.get(\"http://www.opentable.com/washington-dc-restaurant-listings\")\n",
    "# always good to check we've got the page we think we do\n",
    "assert \"OpenTable\" in driver.title"
   ]
  },
  {
   "cell_type": "code",
   "execution_count": 23,
   "metadata": {
    "collapsed": false
   },
   "outputs": [
    {
     "data": {
      "text/plain": [
       "u'Washington, D.C. Area Restaurants List | OpenTable'"
      ]
     },
     "execution_count": 23,
     "metadata": {},
     "output_type": "execute_result"
    }
   ],
   "source": [
    "driver.title"
   ]
  },
  {
   "cell_type": "markdown",
   "metadata": {},
   "source": [
    "Now, to resolve our JavaScript problem, there's a few things we can do. What I'll do in this case is request that the page load, wait one second, and then I'm going to grab the source html from the page. Because the page should believe I'm visiting from a live connection on a browser client, the JavaScript should render to be a part of the page source. I can then grab the page source."
   ]
  },
  {
   "cell_type": "code",
   "execution_count": 24,
   "metadata": {
    "collapsed": true
   },
   "outputs": [],
   "source": [
    "# import sleep\n",
    "from time import sleep"
   ]
  },
  {
   "cell_type": "code",
   "execution_count": 30,
   "metadata": {
    "collapsed": true
   },
   "outputs": [],
   "source": [
    "# visit our relevant page\n",
    "driver = webdriver.Firefox()\n",
    "driver.get(\"http://www.opentable.com/washington-dc-restaurant-listings\")\n",
    "# wait one second\n",
    "sleep(1)\n",
    "#grab the page source\n",
    "html = driver.page_source"
   ]
  },
  {
   "cell_type": "raw",
   "metadata": {},
   "source": [
    "Pop quiz: what do we need to do with this html?"
   ]
  },
  {
   "cell_type": "code",
   "execution_count": 31,
   "metadata": {
    "collapsed": false
   },
   "outputs": [],
   "source": [
    "# BeautifulSoup it!\n",
    "html = BeautifulSoup(html, \"lxml\")"
   ]
  },
  {
   "cell_type": "markdown",
   "metadata": {},
   "source": [
    "Now, let's return to our earlier problem: how do we locate bookings on the page?"
   ]
  },
  {
   "cell_type": "code",
   "execution_count": 32,
   "metadata": {
    "collapsed": false
   },
   "outputs": [
    {
     "data": {
      "text/plain": [
       "[<div class=\"booking\"><span class=\"tadpole\"></span>Booked 75 times today</div>,\n",
       " <div class=\"booking\"><span class=\"tadpole\"></span>Booked 16 times today</div>,\n",
       " <div class=\"booking\"><span class=\"tadpole\"></span>Booked 25 times today</div>,\n",
       " <div class=\"booking\"><span class=\"tadpole\"></span>Booked 19 times today</div>,\n",
       " <div class=\"booking\"><span class=\"tadpole\"></span>Booked 48 times today</div>,\n",
       " <div class=\"booking\"><span class=\"tadpole\"></span>Booked 83 times today</div>,\n",
       " <div class=\"booking\"><span class=\"tadpole\"></span>Booked 252 times today</div>,\n",
       " <div class=\"booking\"><span class=\"tadpole\"></span>Booked 28 times today</div>,\n",
       " <div class=\"booking\"><span class=\"tadpole\"></span>Booked 90 times today</div>,\n",
       " <div class=\"booking\"><span class=\"tadpole\"></span>Booked 236 times today</div>,\n",
       " <div class=\"booking\"><span class=\"tadpole\"></span>Booked 6 times today</div>,\n",
       " <div class=\"booking\"><span class=\"tadpole\"></span>Booked 12 times today</div>,\n",
       " <div class=\"booking\"><span class=\"tadpole\"></span>Booked 211 times today</div>,\n",
       " <div class=\"booking\"><span class=\"tadpole\"></span>Booked 37 times today</div>,\n",
       " <div class=\"booking\"><span class=\"tadpole\"></span>Booked 42 times today</div>,\n",
       " <div class=\"booking\"><span class=\"tadpole\"></span>Booked 40 times today</div>,\n",
       " <div class=\"booking\"><span class=\"tadpole\"></span>Booked 72 times today</div>,\n",
       " <div class=\"booking\"><span class=\"tadpole\"></span>Booked 19 times today</div>,\n",
       " <div class=\"booking\"><span class=\"tadpole\"></span>Booked 482 times today</div>,\n",
       " <div class=\"booking\"><span class=\"tadpole\"></span>Booked 46 times today</div>,\n",
       " <div class=\"booking\"><span class=\"tadpole\"></span>Booked 136 times today</div>,\n",
       " <div class=\"booking\"><span class=\"tadpole\"></span>Booked 35 times today</div>,\n",
       " <div class=\"booking\"><span class=\"tadpole\"></span>Booked 23 times today</div>,\n",
       " <div class=\"booking\"><span class=\"tadpole\"></span>Booked 13 times today</div>,\n",
       " <div class=\"booking\"><span class=\"tadpole\"></span>Booked 28 times today</div>,\n",
       " <div class=\"booking\"><span class=\"tadpole\"></span>Booked 4 times today</div>,\n",
       " <div class=\"booking\"><span class=\"tadpole\"></span>Booked 15 times today</div>,\n",
       " <div class=\"booking\"><span class=\"tadpole\"></span>Booked 148 times today</div>,\n",
       " <div class=\"booking\"><span class=\"tadpole\"></span>Booked 63 times today</div>,\n",
       " <div class=\"booking\"><span class=\"tadpole\"></span>Booked 40 times today</div>,\n",
       " <div class=\"booking\"><span class=\"tadpole\"></span>Booked 10 times today</div>,\n",
       " <div class=\"booking\"><span class=\"tadpole\"></span>Booked 33 times today</div>,\n",
       " <div class=\"booking\"><span class=\"tadpole\"></span>Booked 48 times today</div>,\n",
       " <div class=\"booking\"><span class=\"tadpole\"></span>Booked 38 times today</div>,\n",
       " <div class=\"booking\"><span class=\"tadpole\"></span>Booked 16 times today</div>,\n",
       " <div class=\"booking\"><span class=\"tadpole\"></span>Booked 90 times today</div>,\n",
       " <div class=\"booking\"><span class=\"tadpole\"></span>Booked 13 times today</div>,\n",
       " <div class=\"booking\"><span class=\"tadpole\"></span>Booked 8 times today</div>,\n",
       " <div class=\"booking\"><span class=\"tadpole\"></span>Booked 25 times today</div>,\n",
       " <div class=\"booking\"><span class=\"tadpole\"></span>Booked 8 times today</div>,\n",
       " <div class=\"booking\"><span class=\"tadpole\"></span>Booked 9 times today</div>,\n",
       " <div class=\"booking\"><span class=\"tadpole\"></span>Booked 112 times today</div>,\n",
       " <div class=\"booking\"><span class=\"tadpole\"></span>Booked 17 times today</div>,\n",
       " <div class=\"booking\"><span class=\"tadpole\"></span>Booked 15 times today</div>,\n",
       " <div class=\"booking\"><span class=\"tadpole\"></span>Booked 63 times today</div>,\n",
       " <div class=\"booking\"><span class=\"tadpole\"></span>Booked 30 times today</div>,\n",
       " <div class=\"booking\"><span class=\"tadpole\"></span>Booked 46 times today</div>,\n",
       " <div class=\"booking\"><span class=\"tadpole\"></span>Booked 4 times today</div>,\n",
       " <div class=\"booking\"><span class=\"tadpole\"></span>Booked 174 times today</div>,\n",
       " <div class=\"booking\"><span class=\"tadpole\"></span>Booked 29 times today</div>,\n",
       " <div class=\"booking\"><span class=\"tadpole\"></span>Booked 13 times today</div>,\n",
       " <div class=\"booking\"><span class=\"tadpole\"></span>Booked 8 times today</div>,\n",
       " <div class=\"booking\"><span class=\"tadpole\"></span>Booked 30 times today</div>,\n",
       " <div class=\"booking\"><span class=\"tadpole\"></span>Booked 14 times today</div>,\n",
       " <div class=\"booking\"><span class=\"tadpole\"></span>Booked 25 times today</div>,\n",
       " <div class=\"booking\"><span class=\"tadpole\"></span>Booked 24 times today</div>,\n",
       " <div class=\"booking\"><span class=\"tadpole\"></span>Booked 220 times today</div>,\n",
       " <div class=\"booking\"><span class=\"tadpole\"></span>Booked 184 times today</div>,\n",
       " <div class=\"booking\"><span class=\"tadpole\"></span>Booked 81 times today</div>,\n",
       " <div class=\"booking\"><span class=\"tadpole\"></span>Booked 9 times today</div>,\n",
       " <div class=\"booking\"><span class=\"tadpole\"></span>Booked 24 times today</div>,\n",
       " <div class=\"booking\"><span class=\"tadpole\"></span>Booked 18 times today</div>,\n",
       " <div class=\"booking\"><span class=\"tadpole\"></span>Booked 27 times today</div>,\n",
       " <div class=\"booking\"><span class=\"tadpole\"></span>Booked 22 times today</div>,\n",
       " <div class=\"booking\"><span class=\"tadpole\"></span>Booked 13 times today</div>,\n",
       " <div class=\"booking\"><span class=\"tadpole\"></span>Booked 7 times today</div>,\n",
       " <div class=\"booking\"><span class=\"tadpole\"></span>Booked 41 times today</div>,\n",
       " <div class=\"booking\"><span class=\"tadpole\"></span>Booked 7 times today</div>,\n",
       " <div class=\"booking\"><span class=\"tadpole\"></span>Booked 3 times today</div>,\n",
       " <div class=\"booking\"><span class=\"tadpole\"></span>Booked 5 times today</div>,\n",
       " <div class=\"booking\"><span class=\"tadpole\"></span>Booked 23 times today</div>,\n",
       " <div class=\"booking\"><span class=\"tadpole\"></span>Booked 12 times today</div>,\n",
       " <div class=\"booking\"><span class=\"tadpole\"></span>Booked 7 times today</div>,\n",
       " <div class=\"booking\"><span class=\"tadpole\"></span>Booked 6 times today</div>,\n",
       " <div class=\"booking\"><span class=\"tadpole\"></span>Booked 21 times today</div>,\n",
       " <div class=\"booking\"><span class=\"tadpole\"></span>Booked 19 times today</div>,\n",
       " <div class=\"booking\"><span class=\"tadpole\"></span>Booked 10 times today</div>,\n",
       " <div class=\"booking\"><span class=\"tadpole\"></span>Booked 26 times today</div>,\n",
       " <div class=\"booking\"><span class=\"tadpole\"></span>Booked 12 times today</div>,\n",
       " <div class=\"booking\"><span class=\"tadpole\"></span>Booked 19 times today</div>,\n",
       " <div class=\"booking\"><span class=\"tadpole\"></span>Booked 14 times today</div>,\n",
       " <div class=\"booking\"><span class=\"tadpole\"></span>Booked 6 times today</div>,\n",
       " <div class=\"booking\"><span class=\"tadpole\"></span>Booked 8 times today</div>,\n",
       " <div class=\"booking\"><span class=\"tadpole\"></span>Booked 50 times today</div>,\n",
       " <div class=\"booking\"><span class=\"tadpole\"></span>Booked 45 times today</div>,\n",
       " <div class=\"booking\"><span class=\"tadpole\"></span>Booked 32 times today</div>,\n",
       " <div class=\"booking\"><span class=\"tadpole\"></span>Booked 53 times today</div>,\n",
       " <div class=\"booking\"><span class=\"tadpole\"></span>Booked 18 times today</div>,\n",
       " <div class=\"booking\"><span class=\"tadpole\"></span>Booked 27 times today</div>,\n",
       " <div class=\"booking\"><span class=\"tadpole\"></span>Booked 20 times today</div>,\n",
       " <div class=\"booking\"><span class=\"tadpole\"></span>Booked 17 times today</div>,\n",
       " <div class=\"booking\"><span class=\"tadpole\"></span>Booked 18 times today</div>,\n",
       " <div class=\"booking\"><span class=\"tadpole\"></span>Booked 12 times today</div>,\n",
       " <div class=\"booking\"><span class=\"tadpole\"></span>Booked 19 times today</div>,\n",
       " <div class=\"booking\"><span class=\"tadpole\"></span>Booked 3 times today</div>,\n",
       " <div class=\"booking\"><span class=\"tadpole\"></span>Booked 10 times today</div>,\n",
       " <div class=\"booking\"><span class=\"tadpole\"></span>Booked 15 times today</div>]"
      ]
     },
     "execution_count": 32,
     "metadata": {},
     "output_type": "execute_result"
    }
   ],
   "source": [
    "# print out the number bookings for all restaurants\n",
    "html.find_all('div', {'class':'booking'})"
   ]
  },
  {
   "cell_type": "code",
   "execution_count": 33,
   "metadata": {
    "collapsed": false,
    "scrolled": true
   },
   "outputs": [
    {
     "name": "stdout",
     "output_type": "stream",
     "text": [
      "<div class=\"booking\"><span class=\"tadpole\"></span>Booked 75 times today</div>\n",
      "<div class=\"booking\"><span class=\"tadpole\"></span>Booked 16 times today</div>\n",
      "<div class=\"booking\"><span class=\"tadpole\"></span>Booked 25 times today</div>\n",
      "<div class=\"booking\"><span class=\"tadpole\"></span>Booked 19 times today</div>\n",
      "<div class=\"booking\"><span class=\"tadpole\"></span>Booked 48 times today</div>\n",
      "<div class=\"booking\"><span class=\"tadpole\"></span>Booked 83 times today</div>\n",
      "<div class=\"booking\"><span class=\"tadpole\"></span>Booked 252 times today</div>\n",
      "<div class=\"booking\"><span class=\"tadpole\"></span>Booked 28 times today</div>\n",
      "<div class=\"booking\"><span class=\"tadpole\"></span>Booked 90 times today</div>\n",
      "<div class=\"booking\"><span class=\"tadpole\"></span>Booked 236 times today</div>\n",
      "<div class=\"booking\"><span class=\"tadpole\"></span>Booked 6 times today</div>\n",
      "<div class=\"booking\"><span class=\"tadpole\"></span>Booked 12 times today</div>\n",
      "<div class=\"booking\"><span class=\"tadpole\"></span>Booked 211 times today</div>\n",
      "<div class=\"booking\"><span class=\"tadpole\"></span>Booked 37 times today</div>\n",
      "<div class=\"booking\"><span class=\"tadpole\"></span>Booked 42 times today</div>\n",
      "<div class=\"booking\"><span class=\"tadpole\"></span>Booked 40 times today</div>\n",
      "<div class=\"booking\"><span class=\"tadpole\"></span>Booked 72 times today</div>\n",
      "<div class=\"booking\"><span class=\"tadpole\"></span>Booked 19 times today</div>\n",
      "<div class=\"booking\"><span class=\"tadpole\"></span>Booked 482 times today</div>\n",
      "<div class=\"booking\"><span class=\"tadpole\"></span>Booked 46 times today</div>\n",
      "<div class=\"booking\"><span class=\"tadpole\"></span>Booked 136 times today</div>\n",
      "<div class=\"booking\"><span class=\"tadpole\"></span>Booked 35 times today</div>\n",
      "<div class=\"booking\"><span class=\"tadpole\"></span>Booked 23 times today</div>\n",
      "<div class=\"booking\"><span class=\"tadpole\"></span>Booked 13 times today</div>\n",
      "<div class=\"booking\"><span class=\"tadpole\"></span>Booked 28 times today</div>\n",
      "<div class=\"booking\"><span class=\"tadpole\"></span>Booked 4 times today</div>\n",
      "<div class=\"booking\"><span class=\"tadpole\"></span>Booked 15 times today</div>\n",
      "<div class=\"booking\"><span class=\"tadpole\"></span>Booked 148 times today</div>\n",
      "<div class=\"booking\"><span class=\"tadpole\"></span>Booked 63 times today</div>\n",
      "<div class=\"booking\"><span class=\"tadpole\"></span>Booked 40 times today</div>\n",
      "<div class=\"booking\"><span class=\"tadpole\"></span>Booked 10 times today</div>\n",
      "<div class=\"booking\"><span class=\"tadpole\"></span>Booked 33 times today</div>\n",
      "<div class=\"booking\"><span class=\"tadpole\"></span>Booked 48 times today</div>\n",
      "<div class=\"booking\"><span class=\"tadpole\"></span>Booked 38 times today</div>\n",
      "<div class=\"booking\"><span class=\"tadpole\"></span>Booked 16 times today</div>\n",
      "<div class=\"booking\"><span class=\"tadpole\"></span>Booked 90 times today</div>\n",
      "<div class=\"booking\"><span class=\"tadpole\"></span>Booked 13 times today</div>\n",
      "<div class=\"booking\"><span class=\"tadpole\"></span>Booked 8 times today</div>\n",
      "<div class=\"booking\"><span class=\"tadpole\"></span>Booked 25 times today</div>\n",
      "<div class=\"booking\"><span class=\"tadpole\"></span>Booked 8 times today</div>\n",
      "<div class=\"booking\"><span class=\"tadpole\"></span>Booked 9 times today</div>\n",
      "<div class=\"booking\"><span class=\"tadpole\"></span>Booked 112 times today</div>\n",
      "<div class=\"booking\"><span class=\"tadpole\"></span>Booked 17 times today</div>\n",
      "<div class=\"booking\"><span class=\"tadpole\"></span>Booked 15 times today</div>\n",
      "<div class=\"booking\"><span class=\"tadpole\"></span>Booked 63 times today</div>\n",
      "<div class=\"booking\"><span class=\"tadpole\"></span>Booked 30 times today</div>\n",
      "<div class=\"booking\"><span class=\"tadpole\"></span>Booked 46 times today</div>\n",
      "<div class=\"booking\"><span class=\"tadpole\"></span>Booked 4 times today</div>\n",
      "<div class=\"booking\"><span class=\"tadpole\"></span>Booked 174 times today</div>\n",
      "<div class=\"booking\"><span class=\"tadpole\"></span>Booked 29 times today</div>\n",
      "<div class=\"booking\"><span class=\"tadpole\"></span>Booked 13 times today</div>\n",
      "<div class=\"booking\"><span class=\"tadpole\"></span>Booked 8 times today</div>\n",
      "<div class=\"booking\"><span class=\"tadpole\"></span>Booked 30 times today</div>\n",
      "<div class=\"booking\"><span class=\"tadpole\"></span>Booked 14 times today</div>\n",
      "<div class=\"booking\"><span class=\"tadpole\"></span>Booked 25 times today</div>\n",
      "<div class=\"booking\"><span class=\"tadpole\"></span>Booked 24 times today</div>\n",
      "<div class=\"booking\"><span class=\"tadpole\"></span>Booked 220 times today</div>\n",
      "<div class=\"booking\"><span class=\"tadpole\"></span>Booked 184 times today</div>\n",
      "<div class=\"booking\"><span class=\"tadpole\"></span>Booked 81 times today</div>\n",
      "<div class=\"booking\"><span class=\"tadpole\"></span>Booked 9 times today</div>\n",
      "<div class=\"booking\"><span class=\"tadpole\"></span>Booked 24 times today</div>\n",
      "<div class=\"booking\"><span class=\"tadpole\"></span>Booked 18 times today</div>\n",
      "<div class=\"booking\"><span class=\"tadpole\"></span>Booked 27 times today</div>\n",
      "<div class=\"booking\"><span class=\"tadpole\"></span>Booked 22 times today</div>\n",
      "<div class=\"booking\"><span class=\"tadpole\"></span>Booked 13 times today</div>\n",
      "<div class=\"booking\"><span class=\"tadpole\"></span>Booked 7 times today</div>\n",
      "<div class=\"booking\"><span class=\"tadpole\"></span>Booked 41 times today</div>\n",
      "<div class=\"booking\"><span class=\"tadpole\"></span>Booked 7 times today</div>\n",
      "<div class=\"booking\"><span class=\"tadpole\"></span>Booked 3 times today</div>\n",
      "<div class=\"booking\"><span class=\"tadpole\"></span>Booked 5 times today</div>\n",
      "<div class=\"booking\"><span class=\"tadpole\"></span>Booked 23 times today</div>\n",
      "<div class=\"booking\"><span class=\"tadpole\"></span>Booked 12 times today</div>\n",
      "<div class=\"booking\"><span class=\"tadpole\"></span>Booked 7 times today</div>\n",
      "<div class=\"booking\"><span class=\"tadpole\"></span>Booked 6 times today</div>\n",
      "<div class=\"booking\"><span class=\"tadpole\"></span>Booked 21 times today</div>\n",
      "<div class=\"booking\"><span class=\"tadpole\"></span>Booked 19 times today</div>\n",
      "<div class=\"booking\"><span class=\"tadpole\"></span>Booked 10 times today</div>\n",
      "<div class=\"booking\"><span class=\"tadpole\"></span>Booked 26 times today</div>\n",
      "<div class=\"booking\"><span class=\"tadpole\"></span>Booked 12 times today</div>\n",
      "<div class=\"booking\"><span class=\"tadpole\"></span>Booked 19 times today</div>\n",
      "<div class=\"booking\"><span class=\"tadpole\"></span>Booked 14 times today</div>\n",
      "<div class=\"booking\"><span class=\"tadpole\"></span>Booked 6 times today</div>\n",
      "<div class=\"booking\"><span class=\"tadpole\"></span>Booked 8 times today</div>\n",
      "<div class=\"booking\"><span class=\"tadpole\"></span>Booked 50 times today</div>\n",
      "<div class=\"booking\"><span class=\"tadpole\"></span>Booked 45 times today</div>\n",
      "<div class=\"booking\"><span class=\"tadpole\"></span>Booked 32 times today</div>\n",
      "<div class=\"booking\"><span class=\"tadpole\"></span>Booked 53 times today</div>\n",
      "<div class=\"booking\"><span class=\"tadpole\"></span>Booked 18 times today</div>\n",
      "<div class=\"booking\"><span class=\"tadpole\"></span>Booked 27 times today</div>\n",
      "<div class=\"booking\"><span class=\"tadpole\"></span>Booked 20 times today</div>\n",
      "<div class=\"booking\"><span class=\"tadpole\"></span>Booked 17 times today</div>\n",
      "<div class=\"booking\"><span class=\"tadpole\"></span>Booked 18 times today</div>\n",
      "<div class=\"booking\"><span class=\"tadpole\"></span>Booked 12 times today</div>\n",
      "<div class=\"booking\"><span class=\"tadpole\"></span>Booked 19 times today</div>\n",
      "<div class=\"booking\"><span class=\"tadpole\"></span>Booked 3 times today</div>\n",
      "<div class=\"booking\"><span class=\"tadpole\"></span>Booked 10 times today</div>\n",
      "<div class=\"booking\"><span class=\"tadpole\"></span>Booked 15 times today</div>\n"
     ]
    }
   ],
   "source": [
    "# now print out each booking for the listings using a loop\n",
    "for entry in html.find_all('div', {'class':'booking'}):\n",
    "    print entry"
   ]
  },
  {
   "cell_type": "markdown",
   "metadata": {},
   "source": [
    "Let's grab just the text of each of these entries."
   ]
  },
  {
   "cell_type": "code",
   "execution_count": 34,
   "metadata": {
    "collapsed": false
   },
   "outputs": [
    {
     "name": "stdout",
     "output_type": "stream",
     "text": [
      "Booked 75 times today\n",
      "Booked 16 times today\n",
      "Booked 25 times today\n",
      "Booked 19 times today\n",
      "Booked 48 times today\n",
      "Booked 83 times today\n",
      "Booked 252 times today\n",
      "Booked 28 times today\n",
      "Booked 90 times today\n",
      "Booked 236 times today\n",
      "Booked 6 times today\n",
      "Booked 12 times today\n",
      "Booked 211 times today\n",
      "Booked 37 times today\n",
      "Booked 42 times today\n",
      "Booked 40 times today\n",
      "Booked 72 times today\n",
      "Booked 19 times today\n",
      "Booked 482 times today\n",
      "Booked 46 times today\n",
      "Booked 136 times today\n",
      "Booked 35 times today\n",
      "Booked 23 times today\n",
      "Booked 13 times today\n",
      "Booked 28 times today\n",
      "Booked 4 times today\n",
      "Booked 15 times today\n",
      "Booked 148 times today\n",
      "Booked 63 times today\n",
      "Booked 40 times today\n",
      "Booked 10 times today\n",
      "Booked 33 times today\n",
      "Booked 48 times today\n",
      "Booked 38 times today\n",
      "Booked 16 times today\n",
      "Booked 90 times today\n",
      "Booked 13 times today\n",
      "Booked 8 times today\n",
      "Booked 25 times today\n",
      "Booked 8 times today\n",
      "Booked 9 times today\n",
      "Booked 112 times today\n",
      "Booked 17 times today\n",
      "Booked 15 times today\n",
      "Booked 63 times today\n",
      "Booked 30 times today\n",
      "Booked 46 times today\n",
      "Booked 4 times today\n",
      "Booked 174 times today\n",
      "Booked 29 times today\n",
      "Booked 13 times today\n",
      "Booked 8 times today\n",
      "Booked 30 times today\n",
      "Booked 14 times today\n",
      "Booked 25 times today\n",
      "Booked 24 times today\n",
      "Booked 220 times today\n",
      "Booked 184 times today\n",
      "Booked 81 times today\n",
      "Booked 9 times today\n",
      "Booked 24 times today\n",
      "Booked 18 times today\n",
      "Booked 27 times today\n",
      "Booked 22 times today\n",
      "Booked 13 times today\n",
      "Booked 7 times today\n",
      "Booked 41 times today\n",
      "Booked 7 times today\n",
      "Booked 3 times today\n",
      "Booked 5 times today\n",
      "Booked 23 times today\n",
      "Booked 12 times today\n",
      "Booked 7 times today\n",
      "Booked 6 times today\n",
      "Booked 21 times today\n",
      "Booked 19 times today\n",
      "Booked 10 times today\n",
      "Booked 26 times today\n",
      "Booked 12 times today\n",
      "Booked 19 times today\n",
      "Booked 14 times today\n",
      "Booked 6 times today\n",
      "Booked 8 times today\n",
      "Booked 50 times today\n",
      "Booked 45 times today\n",
      "Booked 32 times today\n",
      "Booked 53 times today\n",
      "Booked 18 times today\n",
      "Booked 27 times today\n",
      "Booked 20 times today\n",
      "Booked 17 times today\n",
      "Booked 18 times today\n",
      "Booked 12 times today\n",
      "Booked 19 times today\n",
      "Booked 3 times today\n",
      "Booked 10 times today\n",
      "Booked 15 times today\n"
     ]
    }
   ],
   "source": [
    "# do the same as above, but grabbing only the text content\n",
    "for entry in html.find_all('div', {'class':'booking'}):\n",
    "    print entry.text"
   ]
  },
  {
   "cell_type": "markdown",
   "metadata": {},
   "source": [
    "We've succeeded!\n",
    "\n",
    "But we can clean this up a little bit. We're going to use regular expressions (regex) to grab only the digits that are available in each of the text.\n",
    "\n",
    "The best way to get good at regex is to, well, just keep trying and testing: http://pythex.org/"
   ]
  },
  {
   "cell_type": "code",
   "execution_count": 35,
   "metadata": {
    "collapsed": true
   },
   "outputs": [],
   "source": [
    "# import regex\n",
    "import re"
   ]
  },
  {
   "cell_type": "markdown",
   "metadata": {},
   "source": [
    "Given we haven't covered regex, I'll show you how to use the search function to match any given digit."
   ]
  },
  {
   "cell_type": "code",
   "execution_count": 36,
   "metadata": {
    "collapsed": false
   },
   "outputs": [
    {
     "name": "stdout",
     "output_type": "stream",
     "text": [
      "75\n",
      "16\n",
      "25\n",
      "19\n",
      "48\n",
      "83\n",
      "252\n",
      "28\n",
      "90\n",
      "236\n",
      "6\n",
      "12\n",
      "211\n",
      "37\n",
      "42\n",
      "40\n",
      "72\n",
      "19\n",
      "482\n",
      "46\n",
      "136\n",
      "35\n",
      "23\n",
      "13\n",
      "28\n",
      "4\n",
      "15\n",
      "148\n",
      "63\n",
      "40\n",
      "10\n",
      "33\n",
      "48\n",
      "38\n",
      "16\n",
      "90\n",
      "13\n",
      "8\n",
      "25\n",
      "8\n",
      "9\n",
      "112\n",
      "17\n",
      "15\n",
      "63\n",
      "30\n",
      "46\n",
      "4\n",
      "174\n",
      "29\n",
      "13\n",
      "8\n",
      "30\n",
      "14\n",
      "25\n",
      "24\n",
      "220\n",
      "184\n",
      "81\n",
      "9\n",
      "24\n",
      "18\n",
      "27\n",
      "22\n",
      "13\n",
      "7\n",
      "41\n",
      "7\n",
      "3\n",
      "5\n",
      "23\n",
      "12\n",
      "7\n",
      "6\n",
      "21\n",
      "19\n",
      "10\n",
      "26\n",
      "12\n",
      "19\n",
      "14\n",
      "6\n",
      "8\n",
      "50\n",
      "45\n",
      "32\n",
      "53\n",
      "18\n",
      "27\n",
      "20\n",
      "17\n",
      "18\n",
      "12\n",
      "19\n",
      "3\n",
      "10\n",
      "15\n"
     ]
    }
   ],
   "source": [
    "# for each entry, grab the text\n",
    "for booking in html.find_all('div', {'class':'booking'}):\n",
    "    # match all digits\n",
    "    match = re.search(r'\\d+', booking.text)\n",
    "    # print if found\n",
    "    if match:\n",
    "        print match.group()\n",
    "    # otherwise pass\n",
    "    else:\n",
    "        pass"
   ]
  },
  {
   "cell_type": "markdown",
   "metadata": {},
   "source": [
    "Before we demonstrate all the other amazing things about headless browsers, let's finish up collecting the data we want from this current example. Do you suppose the html parsing we wrote above will still work on the page source we've grabbed from our headless browser?"
   ]
  },
  {
   "cell_type": "markdown",
   "metadata": {},
   "source": [
    "To be most efficient, we want to only do a single loop for each entry on the page. That means we want to find what element all of other other elements (name, location, price, bookings) is housed within. Where on the page is each entry located?"
   ]
  },
  {
   "cell_type": "code",
   "execution_count": 37,
   "metadata": {
    "collapsed": false
   },
   "outputs": [
    {
     "data": {
      "text/plain": [
       "[<div class=\"result content-section-list-row cf with-times\" data-id=\"0\" data-index=\"1\" data-lat=\"38.8950000\" data-lon=\"-77.0200000\" data-offers=\"\" data-rid=\"5674\"><div class=\"rest-row with-image\"> <div class=\"rest-row-image\"> <a href=\"/rasika\" target=\"_blank\"><img alt=\"photo of rasika restaurant\" class=\"lazy rest-image\" data-src=\"//resizer.otstatic.com/v2/profiles/legacy/5674.jpg\" src=\"//media.otstatic.com/search-result-node/images/no-image.png\"/></a></div> <div class=\"rest-row-info\"><div class=\"rest-row-header\"> <a class=\"rest-row-name rest-name \" href=\"/rasika\" target=\"_blank\"> <span class=\"rest-row-name-text\">Rasika</span> </a> </div> <div class=\"flex-row-justify\"> <div class=\"rest-row-review\"> <div class=\"star-rating\"><div class=\"star-wrapper small\"><div class=\"all-stars\"></div><div class=\"all-stars filled\" style=\"width: 96%;\"></div></div> <a class=\"review-link\" href=\"/rasika#reviews\" target=\"_blank\"><span class=\"star-rating-text\">(7230)</span><span class=\"star-rating-text--review-text\">7230 reviews</span></a></div> <span class=\"recommended-container\"><span class=\"thumbs-up-icon\"></span> <span class=\"recommended-small\">96%</span> <span class=\"recommended-text\">96% Recommend</span></span> </div> <div class=\"rest-row-pricing\"> <i>  $    $    $    </i>   $        </div> </div><div class=\"rest-row-meta rest-row-meta-grid flex-row-justify\"> <span class=\"rest-row-meta--cuisine rest-row-meta-text\">Indian</span> <span class=\"rest-row-meta--location rest-row-meta-text\">Penn Quarter</span></div> <div class=\"message-alerts\"> </div> <div class=\"rest-row-times-cont\"> <a class=\"button minimal\" href=\"/rasika\">Find next available</a> <p class=\"not-available-message\"> No tables are available within 2.5 hours of your 7:00 PM request.</p> </div> </div></div> </div>,\n",
       " <div class=\"result content-section-list-row cf with-times\" data-id=\"1\" data-index=\"2\" data-lat=\"38.8868560\" data-lon=\"-76.9958080\" data-offers=\"\" data-rid=\"152296\"><div class=\"rest-row with-image\"> <div class=\"rest-row-image\"> <a href=\"/harold-black\" target=\"_blank\"><img alt=\"photo of harold black restaurant\" class=\"lazy rest-image\" data-src=\"//resizer.otstatic.com/v2/profiles/legacy/152296.jpg\" src=\"//media.otstatic.com/search-result-node/images/no-image.png\"/></a></div> <div class=\"rest-row-info\"><div class=\"rest-row-header\"> <a class=\"rest-row-name rest-name \" href=\"/harold-black\" target=\"_blank\"> <span class=\"rest-row-name-text\">Harold Black</span> </a> </div> <div class=\"flex-row-justify\"> <div class=\"rest-row-review\"> <div class=\"star-rating\"><div class=\"star-wrapper small\"><div class=\"all-stars\"></div><div class=\"all-stars filled\" style=\"width: 96%;\"></div></div> <a class=\"review-link\" href=\"/harold-black#reviews\" target=\"_blank\"><span class=\"star-rating-text\">(278)</span><span class=\"star-rating-text--review-text\">278 reviews</span></a></div> <span class=\"recommended-container\"><span class=\"thumbs-up-icon\"></span> <span class=\"recommended-small\">98%</span> <span class=\"recommended-text\">98% Recommend</span></span> </div> <div class=\"rest-row-pricing\"> <i>  $    $      </i>   $    $      </div> </div><div class=\"rest-row-meta rest-row-meta-grid flex-row-justify\"> <span class=\"rest-row-meta--cuisine rest-row-meta-text\">American</span> <span class=\"rest-row-meta--location rest-row-meta-text\">Capitol Hill</span></div> <div class=\"message-alerts\"> </div> <div class=\"rest-row-times-cont\"><div class=\"rest-row-times\"> <div class=\"timeslot-window\"><ul class=\"availability-row-container\"> <li class=\"timeslot-option timeslot-control\"> <a class=\"rest-row-times-btn timeslot\" data-rid=\"152296\" href=\"/book/validate?rid=152296&amp;d=2017-07-05 18:30&amp;p=2&amp;pt=100&amp;ss=0&amp;sd=2017-07-05 18:30&amp;pofids=&amp;hash=3031722550\"> 6:30 pm  </a> </li> <li class=\"timeslot-option timeslot-control\"> <a class=\"rest-row-times-btn timeslot\" data-rid=\"152296\" href=\"/book/validate?rid=152296&amp;d=2017-07-05 18:45&amp;p=2&amp;pt=100&amp;ss=0&amp;sd=2017-07-05 18:45&amp;pofids=&amp;hash=541050146\"> 6:45 pm  </a> </li> <li class=\"timeslot-option timeslot-control\"> <a class=\"rest-row-times-btn exact timeslot\" data-rid=\"152296\" href=\"/book/validate?rid=152296&amp;d=2017-07-05 19:00&amp;p=2&amp;pt=100&amp;ss=0&amp;sd=2017-07-05 19:00&amp;pofids=&amp;hash=2824410663\"> 7:00 pm  </a> </li> <li class=\"timeslot-option timeslot-control\"> <a class=\"rest-row-times-btn timeslot\" data-rid=\"152296\" href=\"/book/validate?rid=152296&amp;d=2017-07-05 19:15&amp;p=2&amp;pt=100&amp;ss=0&amp;sd=2017-07-05 19:15&amp;pofids=&amp;hash=2679902302\"> 7:15 pm  </a> </li> <li class=\"timeslot-option timeslot-control\"> <a class=\"rest-row-times-btn timeslot\" data-rid=\"152296\" href=\"/book/validate?rid=152296&amp;d=2017-07-05 19:30&amp;p=2&amp;pt=100&amp;ss=0&amp;sd=2017-07-05 19:30&amp;pofids=&amp;hash=1748216932\"> 7:30 pm  </a> </li> </ul></div> </div></div> </div></div> </div>,\n",
       " <div class=\"result content-section-list-row cf with-times\" data-id=\"2\" data-index=\"3\" data-lat=\"38.9036480\" data-lon=\"-77.0608090\" data-offers=\"\" data-rid=\"149158\"><div class=\"rest-row with-image\"> <div class=\"rest-row-image\"> <a href=\"/chez-billy-sud\" target=\"_blank\"><img alt=\"photo of chez billy sud restaurant\" class=\"lazy rest-image\" data-src=\"//resizer.otstatic.com/v2/profiles/legacy/149158.jpg\" src=\"//media.otstatic.com/search-result-node/images/no-image.png\"/></a></div> <div class=\"rest-row-info\"><div class=\"rest-row-header\"> <a class=\"rest-row-name rest-name \" href=\"/chez-billy-sud\" target=\"_blank\"> <span class=\"rest-row-name-text\">Chez Billy Sud</span> </a> </div> <div class=\"flex-row-justify\"> <div class=\"rest-row-review\"> <div class=\"star-rating\"><div class=\"star-wrapper small\"><div class=\"all-stars\"></div><div class=\"all-stars filled\" style=\"width: 94%;\"></div></div> <a class=\"review-link\" href=\"/chez-billy-sud#reviews\" target=\"_blank\"><span class=\"star-rating-text\">(738)</span><span class=\"star-rating-text--review-text\">738 reviews</span></a></div> <span class=\"recommended-container\"><span class=\"thumbs-up-icon\"></span> <span class=\"recommended-small\">95%</span> <span class=\"recommended-text\">95% Recommend</span></span> </div> <div class=\"rest-row-pricing\"> <i>  $    $      </i>   $    $      </div> </div><div class=\"rest-row-meta rest-row-meta-grid flex-row-justify\"> <span class=\"rest-row-meta--cuisine rest-row-meta-text\">French</span> <span class=\"rest-row-meta--location rest-row-meta-text\">Georgetown</span></div> <div class=\"message-alerts\"> </div> <div class=\"rest-row-times-cont\"><div class=\"rest-row-times\"> <div class=\"timeslot-window\"><ul class=\"availability-row-container\"> <li class=\"timeslot-option timeslot-control\"> <a class=\"rest-row-times-btn timeslot\" data-rid=\"149158\" href=\"/book/validate?rid=149158&amp;d=2017-07-05 18:30&amp;p=2&amp;pt=100&amp;ss=0&amp;sd=2017-07-05 18:30&amp;pofids=&amp;hash=2990377939\"> 6:30 pm  </a> </li> <li class=\"timeslot-option timeslot-control\"> <a class=\"rest-row-times-btn timeslot\" data-rid=\"149158\" href=\"/book/validate?rid=149158&amp;d=2017-07-05 18:45&amp;p=2&amp;pt=100&amp;ss=0&amp;sd=2017-07-05 18:45&amp;pofids=&amp;hash=1589507279\"> 6:45 pm  </a> </li> <li class=\"timeslot-option timeslot-control\"> <a class=\"rest-row-times-btn exact timeslot\" data-rid=\"149158\" href=\"/book/validate?rid=149158&amp;d=2017-07-05 19:00&amp;p=2&amp;pt=100&amp;ss=0&amp;sd=2017-07-05 19:00&amp;pofids=&amp;hash=3986933134\"> 7:00 pm  </a> </li> <li class=\"timeslot-option timeslot-control\"> <a class=\"rest-row-times-btn timeslot\" data-rid=\"149158\" href=\"/book/validate?rid=149158&amp;d=2017-07-05 19:15&amp;p=2&amp;pt=100&amp;ss=0&amp;sd=2017-07-05 19:15&amp;pofids=&amp;hash=3393836285\"> 7:15 pm  </a> </li> <li class=\"timeslot-option timeslot-control\"> <a class=\"rest-row-times-btn timeslot\" data-rid=\"149158\" href=\"/book/validate?rid=149158&amp;d=2017-07-05 19:30&amp;p=2&amp;pt=100&amp;ss=0&amp;sd=2017-07-05 19:30&amp;pofids=&amp;hash=2926132893\"> 7:30 pm  </a> </li> </ul></div> </div></div> </div></div> </div>,\n",
       " <div class=\"result content-section-list-row cf with-times\" data-id=\"3\" data-index=\"4\" data-lat=\"38.9003420\" data-lon=\"-77.0259890\" data-offers=\"\" data-rid=\"169819\"><div class=\"rest-row with-image\"> <div class=\"rest-row-image\"> <a href=\"/centrolina\" target=\"_blank\"><img alt=\"photo of centrolina restaurant\" class=\"lazy rest-image\" data-src=\"//resizer.otstatic.com/v2/profiles/legacy/169819.jpg\" src=\"//media.otstatic.com/search-result-node/images/no-image.png\"/></a></div> <div class=\"rest-row-info\"><div class=\"rest-row-header\"> <a class=\"rest-row-name rest-name \" href=\"/centrolina\" target=\"_blank\"> <span class=\"rest-row-name-text\">Centrolina</span> </a> </div> <div class=\"flex-row-justify\"> <div class=\"rest-row-review\"> <div class=\"star-rating\"><div class=\"star-wrapper small\"><div class=\"all-stars\"></div><div class=\"all-stars filled\" style=\"width: 92%;\"></div></div> <a class=\"review-link\" href=\"/centrolina#reviews\" target=\"_blank\"><span class=\"star-rating-text\">(557)</span><span class=\"star-rating-text--review-text\">557 reviews</span></a></div> <span class=\"recommended-container\"><span class=\"thumbs-up-icon\"></span> <span class=\"recommended-small\">91%</span> <span class=\"recommended-text\">91% Recommend</span></span> </div> <div class=\"rest-row-pricing\"> <i>  $    $      </i>   $    $      </div> </div><div class=\"rest-row-meta rest-row-meta-grid flex-row-justify\"> <span class=\"rest-row-meta--cuisine rest-row-meta-text\">Italian</span> <span class=\"rest-row-meta--location rest-row-meta-text\">Downtown</span></div> <div class=\"message-alerts\"> </div> <div class=\"rest-row-times-cont\"><div class=\"rest-row-times\"> <div class=\"timeslot-window\"><ul class=\"availability-row-container\"> <li class=\"timeslot-option timeslot-control\"> <a class=\"rest-row-times-btn timeslot\" data-rid=\"169819\" href=\"/book/validate?rid=169819&amp;d=2017-07-05 18:30&amp;p=2&amp;pt=100&amp;ss=0&amp;sd=2017-07-05 18:30&amp;pofids=&amp;hash=2547464337\"> 6:30 pm  </a> </li> <li class=\"timeslot-option timeslot-control\"> <a class=\"rest-row-times-btn timeslot\" data-rid=\"169819\" href=\"/book/validate?rid=169819&amp;d=2017-07-05 18:45&amp;p=2&amp;pt=100&amp;ss=0&amp;sd=2017-07-05 18:45&amp;pofids=&amp;hash=1569037436\"> 6:45 pm  </a> </li> <li class=\"timeslot-option timeslot-control\"> <a class=\"rest-row-times-btn exact timeslot\" data-rid=\"169819\" href=\"/book/validate?rid=169819&amp;d=2017-07-05 19:00&amp;p=2&amp;pt=100&amp;ss=0&amp;sd=2017-07-05 19:00&amp;pofids=&amp;hash=695879066\"> 7:00 pm  </a> </li> <li class=\"timeslot-option timeslot-control\"> <a class=\"rest-row-times-btn timeslot\" data-rid=\"169819\" href=\"/book/validate?rid=169819&amp;d=2017-07-05 19:30&amp;p=2&amp;pt=100&amp;ss=0&amp;sd=2017-07-05 19:30&amp;pofids=&amp;hash=2610239045\"> 7:30 pm  </a> </li> <li class=\"timeslot-option timeslot-control\"> <a class=\"rest-row-times-btn timeslot\" data-rid=\"169819\" href=\"/book/validate?rid=169819&amp;d=2017-07-05 19:45&amp;p=2&amp;pt=100&amp;ss=0&amp;sd=2017-07-05 19:45&amp;pofids=&amp;hash=1859820139\"> 7:45 pm  </a> </li> </ul></div> </div></div> </div></div> </div>,\n",
       " <div class=\"result content-section-list-row cf with-times\" data-id=\"4\" data-index=\"5\" data-lat=\"38.8820240\" data-lon=\"-76.9953410\" data-offers=\"\" data-rid=\"97492\"><div class=\"rest-row with-image\"> <div class=\"rest-row-image\"> <a href=\"/ambar\" target=\"_blank\"><img alt=\"photo of ambar restaurant\" class=\"lazy rest-image\" data-src=\"//resizer.otstatic.com/v2/profiles/legacy/97492.jpg\" src=\"//media.otstatic.com/search-result-node/images/no-image.png\"/></a></div> <div class=\"rest-row-info\"><div class=\"rest-row-header\"> <a class=\"rest-row-name rest-name \" href=\"/ambar\" target=\"_blank\"> <span class=\"rest-row-name-text\">Ambar</span> </a> </div> <div class=\"flex-row-justify\"> <div class=\"rest-row-review\"> <div class=\"star-rating\"><div class=\"star-wrapper small\"><div class=\"all-stars\"></div><div class=\"all-stars filled\" style=\"width: 94%;\"></div></div> <a class=\"review-link\" href=\"/ambar#reviews\" target=\"_blank\"><span class=\"star-rating-text\">(1364)</span><span class=\"star-rating-text--review-text\">1364 reviews</span></a></div> <span class=\"recommended-container\"><span class=\"thumbs-up-icon\"></span> <span class=\"recommended-small\">97%</span> <span class=\"recommended-text\">97% Recommend</span></span> </div> <div class=\"rest-row-pricing\"> <i>  $    $      </i>   $    $      </div> </div><div class=\"rest-row-meta rest-row-meta-grid flex-row-justify\"> <span class=\"rest-row-meta--cuisine rest-row-meta-text\">Balkan style</span> <span class=\"rest-row-meta--location rest-row-meta-text\">Capitol Hill</span></div> <div class=\"message-alerts\"> <div class=\"notice-timeslot\"><span class=\"clock-icon\"></span> <span>Hurry, we only have 4 timeslots left!</span></div> </div> <div class=\"rest-row-times-cont\"><div class=\"rest-row-times\"> <div class=\"timeslot-window\"><ul class=\"availability-row-container\"> <li class=\"timeslot-option timeslot-control\"> <a class=\"rest-row-times-btn timeslot\" data-rid=\"97492\" href=\"/book/validate?rid=97492&amp;d=2017-07-05 18:30&amp;p=2&amp;pt=100&amp;ss=0&amp;sd=2017-07-05 18:30&amp;pofids=&amp;hash=909673001\"> 6:30 pm  </a> </li> <li class=\"timeslot-option timeslot-control\"> <a class=\"rest-row-times-btn timeslot\" data-rid=\"97492\" href=\"/book/validate?rid=97492&amp;d=2017-07-05 18:45&amp;p=2&amp;pt=100&amp;ss=0&amp;sd=2017-07-05 18:45&amp;pofids=&amp;hash=4127675280\"> 6:45 pm  </a> </li> <li class=\"timeslot-option\"> <a class=\"rest-row-times-btn exact unavailable\" data-offers=\"\" data-rid=\"97492\">\\xa0 </a> </li> <li class=\"timeslot-option timeslot-control\"> <a class=\"rest-row-times-btn timeslot\" data-rid=\"97492\" href=\"/book/validate?rid=97492&amp;d=2017-07-05 20:45&amp;p=2&amp;pt=100&amp;ss=0&amp;sd=2017-07-05 20:45&amp;pofids=&amp;hash=341880855\"> 8:45 pm  </a> </li> <li class=\"timeslot-option timeslot-control\"> <a class=\"rest-row-times-btn timeslot\" data-rid=\"97492\" href=\"/book/validate?rid=97492&amp;d=2017-07-05 21:00&amp;p=2&amp;pt=100&amp;ss=0&amp;sd=2017-07-05 21:00&amp;pofids=&amp;hash=2300875642\"> 9:00 pm  </a> </li> </ul></div> </div></div> </div></div> </div>,\n",
       " <div class=\"result content-section-list-row cf with-times\" data-id=\"5\" data-index=\"6\" data-lat=\"38.9054540\" data-lon=\"-77.0512230\" data-offers=\"\" data-rid=\"1517\"><div class=\"rest-row with-image\"> <div class=\"rest-row-image\"> <a href=\"/blue-duck-tavern\" target=\"_blank\"><img alt=\"photo of blue duck tavern restaurant\" class=\"lazy rest-image\" data-src=\"//resizer.otstatic.com/v2/profiles/legacy/1517.jpg\" src=\"//media.otstatic.com/search-result-node/images/no-image.png\"/></a></div> <div class=\"rest-row-info\"><div class=\"rest-row-header\"> <a class=\"rest-row-name rest-name \" href=\"/blue-duck-tavern\" target=\"_blank\"> <span class=\"rest-row-name-text\">Blue Duck Tavern</span> </a> </div> <div class=\"flex-row-justify\"> <div class=\"rest-row-review\"> <div class=\"star-rating\"><div class=\"star-wrapper small\"><div class=\"all-stars\"></div><div class=\"all-stars filled\" style=\"width: 92%;\"></div></div> <a class=\"review-link\" href=\"/blue-duck-tavern#reviews\" target=\"_blank\"><span class=\"star-rating-text\">(5148)</span><span class=\"star-rating-text--review-text\">5148 reviews</span></a></div> <span class=\"recommended-container\"><span class=\"thumbs-up-icon\"></span> <span class=\"recommended-small\">88%</span> <span class=\"recommended-text\">88% Recommend</span></span> </div> <div class=\"rest-row-pricing\"> <i>  $    $    $    </i>   $        </div> </div><div class=\"rest-row-meta rest-row-meta-grid flex-row-justify\"> <span class=\"rest-row-meta--cuisine rest-row-meta-text\">American</span> <span class=\"rest-row-meta--location rest-row-meta-text\">West End</span></div> <div class=\"message-alerts\"> <div class=\"notice-timeslot\"><span class=\"clock-icon\"></span> <span>Hurry, we only have 2 timeslots left!</span></div> </div> <div class=\"rest-row-times-cont\"><div class=\"rest-row-times\"> <div class=\"timeslot-window\"><ul class=\"availability-row-container\"> <li class=\"timeslot-option timeslot-control\"> <a class=\"rest-row-times-btn timeslot\" data-rid=\"1517\" href=\"/book/validate?rid=1517&amp;d=2017-07-05 18:30&amp;p=2&amp;pt=100&amp;ss=0&amp;sd=2017-07-05 18:30&amp;pofids=&amp;hash=2007185122\"> 6:30 pm  </a> </li> <li class=\"timeslot-option timeslot-control\"> <a class=\"rest-row-times-btn timeslot\" data-rid=\"1517\" href=\"/book/validate?rid=1517&amp;d=2017-07-05 18:45&amp;p=2&amp;pt=100&amp;ss=0&amp;sd=2017-07-05 18:45&amp;pofids=&amp;hash=3760965687\"> 6:45 pm  </a> </li> <li class=\"timeslot-option\"> <a class=\"rest-row-times-btn exact unavailable\" data-offers=\"\" data-rid=\"1517\">\\xa0 </a> </li> <li class=\"timeslot-option\"> <a class=\"rest-row-times-btn unavailable\" data-offers=\"\" data-rid=\"1517\">\\xa0 </a> </li> <li class=\"timeslot-option\"> <a class=\"rest-row-times-btn unavailable\" data-offers=\"\" data-rid=\"1517\">\\xa0 </a> </li> </ul></div> </div></div> </div></div> </div>,\n",
       " <div class=\"result content-section-list-row cf with-times\" data-id=\"6\" data-index=\"7\" data-lat=\"38.8979860\" data-lon=\"-77.0334230\" data-offers=\"\" data-rid=\"2069\"><div class=\"rest-row with-image\"> <div class=\"rest-row-image\"> <a href=\"/old-ebbitt-grill\" target=\"_blank\"><img alt=\"photo of old ebbitt grill restaurant\" class=\"lazy rest-image\" data-src=\"//resizer.otstatic.com/v2/profiles/legacy/2069.jpg\" src=\"//media.otstatic.com/search-result-node/images/no-image.png\"/></a></div> <div class=\"rest-row-info\"><div class=\"rest-row-header\"> <a class=\"rest-row-name rest-name \" href=\"/old-ebbitt-grill\" target=\"_blank\"> <span class=\"rest-row-name-text\">Old Ebbitt Grill</span> </a> </div> <div class=\"flex-row-justify\"> <div class=\"rest-row-review\"> <div class=\"star-rating\"><div class=\"star-wrapper small\"><div class=\"all-stars\"></div><div class=\"all-stars filled\" style=\"width: 90%;\"></div></div> <a class=\"review-link\" href=\"/old-ebbitt-grill#reviews\" target=\"_blank\"><span class=\"star-rating-text\">(16649)</span><span class=\"star-rating-text--review-text\">16649 reviews</span></a></div> <span class=\"recommended-container\"><span class=\"thumbs-up-icon\"></span> <span class=\"recommended-small\">94%</span> <span class=\"recommended-text\">94% Recommend</span></span> </div> <div class=\"rest-row-pricing\"> <i>  $    $      </i>   $    $      </div> </div><div class=\"rest-row-meta rest-row-meta-grid flex-row-justify\"> <span class=\"rest-row-meta--cuisine rest-row-meta-text\">American</span> <span class=\"rest-row-meta--location rest-row-meta-text\">Downtown</span></div> <div class=\"message-alerts\"> <div class=\"notice-timeslot\"><span class=\"clock-icon\"></span> <span>Hurry, we only have 4 timeslots left!</span></div> </div> <div class=\"rest-row-times-cont\"><div class=\"rest-row-times\"> <div class=\"timeslot-window\"><ul class=\"availability-row-container\"> <li class=\"timeslot-option\"> <a class=\"rest-row-times-btn unavailable\" data-offers=\"\" data-rid=\"2069\">\\xa0 </a> </li> <li class=\"timeslot-option timeslot-control\"> <a class=\"rest-row-times-btn timeslot\" data-rid=\"2069\" href=\"/book/validate?rid=2069&amp;d=2017-07-05 16:30&amp;p=2&amp;pt=100&amp;ss=0&amp;sd=2017-07-05 16:30&amp;pofids=&amp;hash=2489145927\"> 4:30 pm  </a> </li> <li class=\"timeslot-option timeslot-control\"> <a class=\"rest-row-times-btn exact timeslot\" data-rid=\"2069\" href=\"/book/validate?rid=2069&amp;d=2017-07-05 19:00&amp;p=2&amp;pt=100&amp;ss=0&amp;sd=2017-07-05 19:00&amp;pofids=&amp;hash=1111987291\"> 7:00 pm  </a> </li> <li class=\"timeslot-option timeslot-control\"> <a class=\"rest-row-times-btn timeslot\" data-rid=\"2069\" href=\"/book/validate?rid=2069&amp;d=2017-07-05 21:00&amp;p=2&amp;pt=100&amp;ss=0&amp;sd=2017-07-05 21:00&amp;pofids=&amp;hash=3142904212\"> 9:00 pm  </a> </li> <li class=\"timeslot-option timeslot-control\"> <a class=\"rest-row-times-btn timeslot\" data-rid=\"2069\" href=\"/book/validate?rid=2069&amp;d=2017-07-05 21:30&amp;p=2&amp;pt=100&amp;ss=0&amp;sd=2017-07-05 21:30&amp;pofids=&amp;hash=2586692986\"> 9:30 pm  </a> </li> </ul></div> </div></div> </div></div> </div>,\n",
       " <div class=\"result content-section-list-row cf with-times\" data-id=\"7\" data-index=\"8\" data-lat=\"38.9103630\" data-lon=\"-77.0319890\" data-offers=\"\" data-rid=\"50290\"><div class=\"rest-row with-image\"> <div class=\"rest-row-image\"> <a href=\"/estadio\" target=\"_blank\"><img alt=\"photo of estadio restaurant\" class=\"lazy rest-image\" data-src=\"//resizer.otstatic.com/v2/profiles/legacy/50290.jpg\" src=\"//media.otstatic.com/search-result-node/images/no-image.png\"/></a></div> <div class=\"rest-row-info\"><div class=\"rest-row-header\"> <a class=\"rest-row-name rest-name \" href=\"/estadio\" target=\"_blank\"> <span class=\"rest-row-name-text\">Estadio</span> </a> </div> <div class=\"flex-row-justify\"> <div class=\"rest-row-review\"> <div class=\"star-rating\"><div class=\"star-wrapper small\"><div class=\"all-stars\"></div><div class=\"all-stars filled\" style=\"width: 94%;\"></div></div> <a class=\"review-link\" href=\"/estadio#reviews\" target=\"_blank\"><span class=\"star-rating-text\">(944)</span><span class=\"star-rating-text--review-text\">944 reviews</span></a></div> <span class=\"recommended-container\"><span class=\"thumbs-up-icon\"></span> <span class=\"recommended-small\">97%</span> <span class=\"recommended-text\">97% Recommend</span></span> </div> <div class=\"rest-row-pricing\"> <i>  $    $      </i>   $    $      </div> </div><div class=\"rest-row-meta rest-row-meta-grid flex-row-justify\"> <span class=\"rest-row-meta--cuisine rest-row-meta-text\">Spanish</span> <span class=\"rest-row-meta--location rest-row-meta-text\">Logan Circle</span></div> <div class=\"message-alerts\"> <div class=\"notice-timeslot\"><span class=\"clock-icon\"></span> <span>Hurry, we only have 2 timeslots left!</span></div> </div> <div class=\"rest-row-times-cont\"><div class=\"rest-row-times\"> <div class=\"timeslot-window\"><ul class=\"availability-row-container\"> <li class=\"timeslot-option timeslot-control\"> <a class=\"rest-row-times-btn timeslot\" data-rid=\"50290\" href=\"/book/validate?rid=50290&amp;d=2017-07-05 17:30&amp;p=2&amp;pt=100&amp;ss=0&amp;sd=2017-07-05 17:30&amp;pofids=&amp;hash=3767070413\"> 5:30 pm  </a> </li> <li class=\"timeslot-option timeslot-control\"> <a class=\"rest-row-times-btn timeslot\" data-rid=\"50290\" href=\"/book/validate?rid=50290&amp;d=2017-07-05 18:00&amp;p=2&amp;pt=100&amp;ss=0&amp;sd=2017-07-05 18:00&amp;pofids=&amp;hash=3901289972\"> 6:00 pm  </a> </li> <li class=\"timeslot-option\"> <a class=\"rest-row-times-btn exact unavailable\" data-offers=\"\" data-rid=\"50290\">\\xa0 </a> </li> <li class=\"timeslot-option\"> <a class=\"rest-row-times-btn unavailable\" data-offers=\"\" data-rid=\"50290\">\\xa0 </a> </li> <li class=\"timeslot-option\"> <a class=\"rest-row-times-btn unavailable\" data-offers=\"\" data-rid=\"50290\">\\xa0 </a> </li> </ul></div> </div></div> </div></div> </div>,\n",
       " <div class=\"result content-section-list-row cf with-times\" data-id=\"8\" data-index=\"9\" data-lat=\"38.9047270\" data-lon=\"-77.0484070\" data-offers=\"\" data-rid=\"83077\"><div class=\"rest-row with-image\"> <div class=\"rest-row-image\"> <a href=\"/rasika-west-end\" target=\"_blank\"><img alt=\"photo of rasika west end restaurant\" class=\"lazy rest-image\" data-src=\"//resizer.otstatic.com/v2/profiles/legacy/83077.jpg\" src=\"//media.otstatic.com/search-result-node/images/no-image.png\"/></a></div> <div class=\"rest-row-info\"><div class=\"rest-row-header\"> <a class=\"rest-row-name rest-name \" href=\"/rasika-west-end\" target=\"_blank\"> <span class=\"rest-row-name-text\">Rasika West End</span> </a> </div> <div class=\"flex-row-justify\"> <div class=\"rest-row-review\"> <div class=\"star-rating\"><div class=\"star-wrapper small\"><div class=\"all-stars\"></div><div class=\"all-stars filled\" style=\"width: 94%;\"></div></div> <a class=\"review-link\" href=\"/rasika-west-end#reviews\" target=\"_blank\"><span class=\"star-rating-text\">(3171)</span><span class=\"star-rating-text--review-text\">3171 reviews</span></a></div> <span class=\"recommended-container\"><span class=\"thumbs-up-icon\"></span> <span class=\"recommended-small\">95%</span> <span class=\"recommended-text\">95% Recommend</span></span> </div> <div class=\"rest-row-pricing\"> <i>  $    $    $    </i>   $        </div> </div><div class=\"rest-row-meta rest-row-meta-grid flex-row-justify\"> <span class=\"rest-row-meta--cuisine rest-row-meta-text\">Contemporary Indian</span> <span class=\"rest-row-meta--location rest-row-meta-text\">West End</span></div> <div class=\"message-alerts\"> <div class=\"notice-timeslot\"><span class=\"clock-icon\"></span> <span>Hurry, we only have 2 timeslots left!</span></div> </div> <div class=\"rest-row-times-cont\"><div class=\"rest-row-times\"> <div class=\"timeslot-window\"><ul class=\"availability-row-container\"> <li class=\"timeslot-option\"> <a class=\"rest-row-times-btn unavailable\" data-offers=\"\" data-rid=\"83077\">\\xa0 </a> </li> <li class=\"timeslot-option\"> <a class=\"rest-row-times-btn unavailable\" data-offers=\"\" data-rid=\"83077\">\\xa0 </a> </li> <li class=\"timeslot-option\"> <a class=\"rest-row-times-btn exact unavailable\" data-offers=\"\" data-rid=\"83077\">\\xa0 </a> </li> <li class=\"timeslot-option timeslot-control\"> <a class=\"rest-row-times-btn timeslot\" data-rid=\"83077\" href=\"/book/validate?rid=83077&amp;d=2017-07-05 21:00&amp;p=2&amp;pt=100&amp;ss=0&amp;sd=2017-07-05 21:00&amp;pofids=&amp;hash=556506955\"> 9:00 pm  </a> </li> <li class=\"timeslot-option timeslot-control\"> <a class=\"rest-row-times-btn timeslot\" data-rid=\"83077\" href=\"/book/validate?rid=83077&amp;d=2017-07-05 21:15&amp;p=2&amp;pt=100&amp;ss=0&amp;sd=2017-07-05 21:15&amp;pofids=&amp;hash=2174314901\"> 9:15 pm  </a> </li> </ul></div> </div></div> </div></div> </div>,\n",
       " <div class=\"result content-section-list-row cf with-times\" data-id=\"9\" data-index=\"10\" data-lat=\"38.9013030\" data-lon=\"-77.0597250\" data-offers=\"\" data-rid=\"93802\"><div class=\"rest-row with-image\"> <div class=\"rest-row-image\"> <a href=\"/farmers-fishers-bakers\" target=\"_blank\"><img alt=\"photo of farmers fishers bakers restaurant\" class=\"lazy rest-image\" data-src=\"//resizer.otstatic.com/v2/profiles/legacy/93802.jpg\" src=\"//media.otstatic.com/search-result-node/images/no-image.png\"/></a></div> <div class=\"rest-row-info\"><div class=\"rest-row-header\"> <a class=\"rest-row-name rest-name \" href=\"/farmers-fishers-bakers\" target=\"_blank\"> <span class=\"rest-row-name-text\">Farmers Fishers Bakers</span> </a> </div> <div class=\"flex-row-justify\"> <div class=\"rest-row-review\"> <div class=\"star-rating\"><div class=\"star-wrapper small\"><div class=\"all-stars\"></div><div class=\"all-stars filled\" style=\"width: 88%;\"></div></div> <a class=\"review-link\" href=\"/farmers-fishers-bakers#reviews\" target=\"_blank\"><span class=\"star-rating-text\">(5097)</span><span class=\"star-rating-text--review-text\">5097 reviews</span></a></div> <span class=\"recommended-container\"><span class=\"thumbs-up-icon\"></span> <span class=\"recommended-small\">86%</span> <span class=\"recommended-text\">86% Recommend</span></span> </div> <div class=\"rest-row-pricing\"> <i>  $    $      </i>   $    $      </div> </div><div class=\"rest-row-meta rest-row-meta-grid flex-row-justify\"> <span class=\"rest-row-meta--cuisine rest-row-meta-text\">American</span> <span class=\"rest-row-meta--location rest-row-meta-text\">Georgetown</span></div> <div class=\"message-alerts\"> <div class=\"notice-timeslot\"><span class=\"clock-icon\"></span> <span>Hurry, we only have 4 timeslots left!</span></div> </div> <div class=\"rest-row-times-cont\"><div class=\"rest-row-times\"> <div class=\"timeslot-window\"><ul class=\"availability-row-container\"> <li class=\"timeslot-option timeslot-control\"> <a class=\"rest-row-times-btn timeslot\" data-rid=\"93802\" href=\"/book/validate?rid=93802&amp;d=2017-07-05 18:15&amp;p=2&amp;pt=100&amp;ss=0&amp;sd=2017-07-05 18:15&amp;pofids=&amp;hash=3305558624\"> 6:15 pm  </a> </li> <li class=\"timeslot-option timeslot-control\"> <a class=\"rest-row-times-btn timeslot\" data-rid=\"93802\" href=\"/book/validate?rid=93802&amp;d=2017-07-05 18:45&amp;p=2&amp;pt=100&amp;ss=0&amp;sd=2017-07-05 18:45&amp;pofids=&amp;hash=3909208091\"> 6:45 pm  </a> </li> <li class=\"timeslot-option\"> <a class=\"rest-row-times-btn exact unavailable\" data-offers=\"\" data-rid=\"93802\">\\xa0 </a> </li> <li class=\"timeslot-option timeslot-control\"> <a class=\"rest-row-times-btn timeslot\" data-rid=\"93802\" href=\"/book/validate?rid=93802&amp;d=2017-07-05 19:15&amp;p=2&amp;pt=100&amp;ss=0&amp;sd=2017-07-05 19:15&amp;pofids=&amp;hash=2762517110\"> 7:15 pm  </a> </li> <li class=\"timeslot-option timeslot-control\"> <a class=\"rest-row-times-btn timeslot\" data-rid=\"93802\" href=\"/book/validate?rid=93802&amp;d=2017-07-05 19:45&amp;p=2&amp;pt=100&amp;ss=0&amp;sd=2017-07-05 19:45&amp;pofids=&amp;hash=2465855006\"> 7:45 pm  </a> </li> </ul></div> </div></div> </div></div> </div>,\n",
       " <div class=\"result content-section-list-row cf with-times\" data-id=\"10\" data-index=\"11\" data-lat=\"38.8136360\" data-lon=\"-77.0496710\" data-offers=\"\" data-rid=\"191971\"><div class=\"rest-row with-image\"> <div class=\"rest-row-image\"> <a href=\"/captain-gregorys\" target=\"_blank\"><img alt=\"photo of captain gregory's restaurant\" class=\"lazy rest-image\" data-src=\"//resizer.otstatic.com/v2/profiles/legacy/191971.jpg\" src=\"//media.otstatic.com/search-result-node/images/no-image.png\"/></a></div> <div class=\"rest-row-info\"><div class=\"rest-row-header\"> <a class=\"rest-row-name rest-name \" href=\"/captain-gregorys\" target=\"_blank\"> <span class=\"rest-row-name-text\">Captain Gregory's</span> </a> </div> <div class=\"flex-row-justify\"> <div class=\"rest-row-review\"> <div class=\"star-rating\"><div class=\"star-wrapper small\"><div class=\"all-stars\"></div><div class=\"all-stars filled\" style=\"width: 96%;\"></div></div> <a class=\"review-link\" href=\"/captain-gregorys#reviews\" target=\"_blank\"><span class=\"star-rating-text\">(162)</span><span class=\"star-rating-text--review-text\">162 reviews</span></a></div> <span class=\"recommended-container\"><span class=\"thumbs-up-icon\"></span> <span class=\"recommended-small\">95%</span> <span class=\"recommended-text\">95% Recommend</span></span> </div> <div class=\"rest-row-pricing\"> <i>  $    $      </i>   $    $      </div> </div><div class=\"rest-row-meta rest-row-meta-grid flex-row-justify\"> <span class=\"rest-row-meta--cuisine rest-row-meta-text\">Dining Bar</span> <span class=\"rest-row-meta--location rest-row-meta-text\">Alexandria</span></div> <div class=\"message-alerts\"> </div> <div class=\"rest-row-times-cont\"><div class=\"rest-row-times\"> <div class=\"timeslot-window\"><ul class=\"availability-row-container\"> <li class=\"timeslot-option timeslot-control\"> <a class=\"rest-row-times-btn timeslot\" data-rid=\"191971\" href=\"/book/validate?rid=191971&amp;d=2017-07-05 18:30&amp;p=2&amp;pt=100&amp;ss=0&amp;sd=2017-07-05 18:30&amp;pofids=&amp;hash=1189865975\"> 6:30 pm  </a> </li> <li class=\"timeslot-option timeslot-control\"> <a class=\"rest-row-times-btn timeslot\" data-rid=\"191971\" href=\"/book/validate?rid=191971&amp;d=2017-07-05 18:45&amp;p=2&amp;pt=100&amp;ss=0&amp;sd=2017-07-05 18:45&amp;pofids=&amp;hash=2695388724\"> 6:45 pm  </a> </li> <li class=\"timeslot-option timeslot-control\"> <a class=\"rest-row-times-btn exact timeslot\" data-rid=\"191971\" href=\"/book/validate?rid=191971&amp;d=2017-07-05 19:00&amp;p=2&amp;pt=100&amp;ss=0&amp;sd=2017-07-05 19:00&amp;pofids=&amp;hash=4071499590\"> 7:00 pm  </a> </li> <li class=\"timeslot-option timeslot-control\"> <a class=\"rest-row-times-btn timeslot\" data-rid=\"191971\" href=\"/book/validate?rid=191971&amp;d=2017-07-05 19:15&amp;p=2&amp;pt=100&amp;ss=0&amp;sd=2017-07-05 19:15&amp;pofids=&amp;hash=1088014288\"> 7:15 pm  </a> </li> <li class=\"timeslot-option timeslot-control\"> <a class=\"rest-row-times-btn timeslot\" data-rid=\"191971\" href=\"/book/validate?rid=191971&amp;d=2017-07-05 20:30&amp;p=2&amp;pt=100&amp;ss=0&amp;sd=2017-07-05 20:30&amp;pofids=&amp;hash=873773107\"> 8:30 pm  </a> </li> </ul></div> </div></div> </div></div> </div>,\n",
       " <div class=\"result content-section-list-row cf with-times\" data-id=\"11\" data-index=\"12\" data-lat=\"39.0405530\" data-lon=\"-77.3580730\" data-offers=\"\" data-rid=\"65512\"><div class=\"rest-row with-image\"> <div class=\"rest-row-image\"> <a href=\"/mokomandy\" target=\"_blank\"><img alt=\"photo of mokomandy restaurant\" class=\"lazy rest-image\" data-src=\"//resizer.otstatic.com/v2/profiles/legacy/65512.jpg\" src=\"//media.otstatic.com/search-result-node/images/no-image.png\"/></a></div> <div class=\"rest-row-info\"><div class=\"rest-row-header\"> <a class=\"rest-row-name rest-name \" href=\"/mokomandy\" target=\"_blank\"> <span class=\"rest-row-name-text\">Mokomandy</span> </a> </div> <div class=\"flex-row-justify\"> <div class=\"rest-row-review\"> <div class=\"star-rating\"><div class=\"star-wrapper small\"><div class=\"all-stars\"></div><div class=\"all-stars filled\" style=\"width: 96%;\"></div></div> <a class=\"review-link\" href=\"/mokomandy#reviews\" target=\"_blank\"><span class=\"star-rating-text\">(1409)</span><span class=\"star-rating-text--review-text\">1409 reviews</span></a></div> <span class=\"recommended-container\"><span class=\"thumbs-up-icon\"></span> <span class=\"recommended-small\">99%</span> <span class=\"recommended-text\">99% Recommend</span></span> </div> <div class=\"rest-row-pricing\"> <i>  $    $      </i>   $    $      </div> </div><div class=\"rest-row-meta rest-row-meta-grid flex-row-justify\"> <span class=\"rest-row-meta--cuisine rest-row-meta-text\">American</span> <span class=\"rest-row-meta--location rest-row-meta-text\">Sterling</span></div> <div class=\"message-alerts\"> </div> <div class=\"rest-row-times-cont\"><div class=\"rest-row-times\"> <div class=\"timeslot-window\"><ul class=\"availability-row-container\"> <li class=\"timeslot-option timeslot-control\"> <a class=\"rest-row-times-btn timeslot\" data-rid=\"65512\" href=\"/book/validate?rid=65512&amp;d=2017-07-05 18:30&amp;p=2&amp;pt=100&amp;ss=0&amp;sd=2017-07-05 18:30&amp;pofids=&amp;hash=3138828441\"> 6:30 pm  </a> </li> <li class=\"timeslot-option timeslot-control\"> <a class=\"rest-row-times-btn timeslot\" data-rid=\"65512\" href=\"/book/validate?rid=65512&amp;d=2017-07-05 18:45&amp;p=2&amp;pt=100&amp;ss=0&amp;sd=2017-07-05 18:45&amp;pofids=&amp;hash=3838919109\"> 6:45 pm  </a> </li> <li class=\"timeslot-option timeslot-control\"> <a class=\"rest-row-times-btn exact timeslot\" data-rid=\"65512\" href=\"/book/validate?rid=65512&amp;d=2017-07-05 19:00&amp;p=2&amp;pt=100&amp;ss=0&amp;sd=2017-07-05 19:00&amp;pofids=&amp;hash=1613847386\"> 7:00 pm  </a> </li> <li class=\"timeslot-option timeslot-control\"> <a class=\"rest-row-times-btn timeslot\" data-rid=\"65512\" href=\"/book/validate?rid=65512&amp;d=2017-07-05 19:15&amp;p=2&amp;pt=100&amp;ss=0&amp;sd=2017-07-05 19:15&amp;pofids=&amp;hash=2310909945\"> 7:15 pm  </a> </li> <li class=\"timeslot-option timeslot-control\"> <a class=\"rest-row-times-btn timeslot\" data-rid=\"65512\" href=\"/book/validate?rid=65512&amp;d=2017-07-05 19:30&amp;p=2&amp;pt=100&amp;ss=0&amp;sd=2017-07-05 19:30&amp;pofids=&amp;hash=347002137\"> 7:30 pm  </a> </li> </ul></div> </div></div> </div></div> </div>,\n",
       " <div class=\"result content-section-list-row cf with-times\" data-id=\"12\" data-index=\"13\" data-lat=\"38.9112070\" data-lon=\"-77.0318200\" data-offers=\"\" data-rid=\"104143\"><div class=\"rest-row with-image\"> <div class=\"rest-row-image\"> <a href=\"/le-diplomate\" target=\"_blank\"><img alt=\"photo of le diplomate restaurant\" class=\"lazy rest-image\" data-src=\"//resizer.otstatic.com/v2/profiles/legacy/104143.jpg\" src=\"//media.otstatic.com/search-result-node/images/no-image.png\"/></a></div> <div class=\"rest-row-info\"><div class=\"rest-row-header\"> <a class=\"rest-row-name rest-name \" href=\"/le-diplomate\" target=\"_blank\"> <span class=\"rest-row-name-text\">Le Diplomate</span> </a> </div> <div class=\"flex-row-justify\"> <div class=\"rest-row-review\"> <div class=\"star-rating\"><div class=\"star-wrapper small\"><div class=\"all-stars\"></div><div class=\"all-stars filled\" style=\"width: 94%;\"></div></div> <a class=\"review-link\" href=\"/le-diplomate#reviews\" target=\"_blank\"><span class=\"star-rating-text\">(5078)</span><span class=\"star-rating-text--review-text\">5078 reviews</span></a></div> <span class=\"recommended-container\"><span class=\"thumbs-up-icon\"></span> <span class=\"recommended-small\">96%</span> <span class=\"recommended-text\">96% Recommend</span></span> </div> <div class=\"rest-row-pricing\"> <i>  $    $    $    </i>   $        </div> </div><div class=\"rest-row-meta rest-row-meta-grid flex-row-justify\"> <span class=\"rest-row-meta--cuisine rest-row-meta-text\">French</span> <span class=\"rest-row-meta--location rest-row-meta-text\">Logan Circle</span></div> <div class=\"message-alerts\"> <div class=\"notice-timeslot\"><span class=\"clock-icon\"></span> <span>Hurry, we only have 4 timeslots left!</span></div> </div> <div class=\"rest-row-times-cont\"><div class=\"rest-row-times\"> <div class=\"timeslot-window\"><ul class=\"availability-row-container\"> <li class=\"timeslot-option timeslot-control\"> <a class=\"rest-row-times-btn timeslot\" data-rid=\"104143\" href=\"/book/validate?rid=104143&amp;d=2017-07-05 17:00&amp;p=2&amp;pt=100&amp;ss=0&amp;sd=2017-07-05 17:00&amp;pofids=&amp;hash=1619736778\"> 5:00 pm  </a> </li> <li class=\"timeslot-option timeslot-control\"> <a class=\"rest-row-times-btn timeslot\" data-rid=\"104143\" href=\"/book/validate?rid=104143&amp;d=2017-07-05 17:15&amp;p=2&amp;pt=100&amp;ss=0&amp;sd=2017-07-05 17:15&amp;pofids=&amp;hash=2005791618\"> 5:15 pm  </a> </li> <li class=\"timeslot-option\"> <a class=\"rest-row-times-btn exact unavailable\" data-offers=\"\" data-rid=\"104143\">\\xa0 </a> </li> <li class=\"timeslot-option timeslot-control\"> <a class=\"rest-row-times-btn timeslot\" data-rid=\"104143\" href=\"/book/validate?rid=104143&amp;d=2017-07-05 20:30&amp;p=2&amp;pt=100&amp;ss=0&amp;sd=2017-07-05 20:30&amp;pofids=&amp;hash=1572951399\"> 8:30 pm  </a> </li> <li class=\"timeslot-option timeslot-control\"> <a class=\"rest-row-times-btn timeslot\" data-rid=\"104143\" href=\"/book/validate?rid=104143&amp;d=2017-07-05 20:45&amp;p=2&amp;pt=100&amp;ss=0&amp;sd=2017-07-05 20:45&amp;pofids=&amp;hash=4142024284\"> 8:45 pm  </a> </li> </ul></div> </div></div> </div></div> </div>,\n",
       " <div class=\"result content-section-list-row cf with-times\" data-id=\"13\" data-index=\"14\" data-lat=\"38.9009530\" data-lon=\"-77.0497180\" data-offers=\"\" data-rid=\"156868\"><div class=\"rest-row with-image\"> <div class=\"rest-row-image\"> <a href=\"/circa-at-foggy-bottom\" target=\"_blank\"><img alt=\"photo of circa at foggy bottom restaurant\" class=\"lazy rest-image\" data-src=\"//resizer.otstatic.com/v2/profiles/legacy/156868.jpg\" src=\"//media.otstatic.com/search-result-node/images/no-image.png\"/></a></div> <div class=\"rest-row-info\"><div class=\"rest-row-header\"> <a class=\"rest-row-name rest-name \" href=\"/circa-at-foggy-bottom\" target=\"_blank\"> <span class=\"rest-row-name-text\">CIRCA at Foggy Bottom</span> </a> </div> <div class=\"flex-row-justify\"> <div class=\"rest-row-review\"> <div class=\"star-rating\"><div class=\"star-wrapper small\"><div class=\"all-stars\"></div><div class=\"all-stars filled\" style=\"width: 90%;\"></div></div> <a class=\"review-link\" href=\"/circa-at-foggy-bottom#reviews\" target=\"_blank\"><span class=\"star-rating-text\">(558)</span><span class=\"star-rating-text--review-text\">558 reviews</span></a></div> <span class=\"recommended-container\"><span class=\"thumbs-up-icon\"></span> <span class=\"recommended-small\">96%</span> <span class=\"recommended-text\">96% Recommend</span></span> </div> <div class=\"rest-row-pricing\"> <i>  $    $      </i>   $    $      </div> </div><div class=\"rest-row-meta rest-row-meta-grid flex-row-justify\"> <span class=\"rest-row-meta--cuisine rest-row-meta-text\">American</span> <span class=\"rest-row-meta--location rest-row-meta-text\">Foggy Bottom</span></div> <div class=\"message-alerts\"> </div> <div class=\"rest-row-times-cont\"><div class=\"rest-row-times\"> <div class=\"timeslot-window\"><ul class=\"availability-row-container\"> <li class=\"timeslot-option timeslot-control\"> <a class=\"rest-row-times-btn timeslot\" data-rid=\"156868\" href=\"/book/validate?rid=156868&amp;d=2017-07-05 18:30&amp;p=2&amp;pt=100&amp;ss=0&amp;sd=2017-07-05 18:30&amp;pofids=&amp;hash=986118362\"> 6:30 pm  </a> </li> <li class=\"timeslot-option timeslot-control\"> <a class=\"rest-row-times-btn timeslot\" data-rid=\"156868\" href=\"/book/validate?rid=156868&amp;d=2017-07-05 18:45&amp;p=2&amp;pt=100&amp;ss=0&amp;sd=2017-07-05 18:45&amp;pofids=&amp;hash=3739496571\"> 6:45 pm  </a> </li> <li class=\"timeslot-option timeslot-control\"> <a class=\"rest-row-times-btn exact timeslot\" data-rid=\"156868\" href=\"/book/validate?rid=156868&amp;d=2017-07-05 19:00&amp;p=2&amp;pt=100&amp;ss=0&amp;sd=2017-07-05 19:00&amp;pofids=&amp;hash=1713030922\"> 7:00 pm  </a> </li> <li class=\"timeslot-option timeslot-control\"> <a class=\"rest-row-times-btn timeslot\" data-rid=\"156868\" href=\"/book/validate?rid=156868&amp;d=2017-07-05 19:15&amp;p=2&amp;pt=100&amp;ss=0&amp;sd=2017-07-05 19:15&amp;pofids=&amp;hash=2890976431\"> 7:15 pm  </a> </li> <li class=\"timeslot-option timeslot-control\"> <a class=\"rest-row-times-btn timeslot\" data-rid=\"156868\" href=\"/book/validate?rid=156868&amp;d=2017-07-05 19:30&amp;p=2&amp;pt=100&amp;ss=0&amp;sd=2017-07-05 19:30&amp;pofids=&amp;hash=2484651582\"> 7:30 pm  </a> </li> </ul></div> </div></div> </div></div> </div>,\n",
       " <div class=\"result content-section-list-row cf with-times\" data-id=\"14\" data-index=\"15\" data-lat=\"38.8888000\" data-lon=\"-77.0935490\" data-offers=\"\" data-rid=\"270331\"><div class=\"rest-row with-image\"> <div class=\"rest-row-image\"> <a href=\"/r/ambar-arlington\" target=\"_blank\"><img alt=\"photo of ambar - arlington restaurant\" class=\"lazy rest-image\" data-src=\"//resizer.otstatic.com/v2/profiles/legacy/270331.jpg\" src=\"//media.otstatic.com/search-result-node/images/no-image.png\"/></a></div> <div class=\"rest-row-info\"><div class=\"rest-row-header\"> <a class=\"rest-row-name rest-name \" href=\"/r/ambar-arlington\" target=\"_blank\"> <span class=\"rest-row-name-text\">Ambar - Arlington</span> </a> </div> <div class=\"flex-row-justify\"> <div class=\"rest-row-review\"> <div class=\"star-rating\"><div class=\"star-wrapper small\"><div class=\"all-stars\"></div><div class=\"all-stars filled\" style=\"width: 92%;\"></div></div> <a class=\"review-link\" href=\"/r/ambar-arlington#reviews\" target=\"_blank\"><span class=\"star-rating-text\">(479)</span><span class=\"star-rating-text--review-text\">479 reviews</span></a></div> <span class=\"recommended-container\"><span class=\"thumbs-up-icon\"></span> <span class=\"recommended-small\">94%</span> <span class=\"recommended-text\">94% Recommend</span></span> </div> <div class=\"rest-row-pricing\"> <i>  $    $      </i>   $    $      </div> </div><div class=\"rest-row-meta rest-row-meta-grid flex-row-justify\"> <span class=\"rest-row-meta--cuisine rest-row-meta-text\">Tapas / Small Plates</span> <span class=\"rest-row-meta--location rest-row-meta-text\">Arlington</span></div> <div class=\"message-alerts\"> </div> <div class=\"rest-row-times-cont\"><div class=\"rest-row-times\"> <div class=\"timeslot-window\"><ul class=\"availability-row-container\"> <li class=\"timeslot-option timeslot-control\"> <a class=\"rest-row-times-btn timeslot\" data-rid=\"270331\" href=\"/book/validate?rid=270331&amp;d=2017-07-05 18:15&amp;p=2&amp;pt=100&amp;ss=0&amp;sd=2017-07-05 18:15&amp;pofids=&amp;hash=3310649552\"> 6:15 pm  </a> </li> <li class=\"timeslot-option timeslot-control\"> <a class=\"rest-row-times-btn timeslot\" data-rid=\"270331\" href=\"/book/validate?rid=270331&amp;d=2017-07-05 18:45&amp;p=2&amp;pt=100&amp;ss=0&amp;sd=2017-07-05 18:45&amp;pofids=&amp;hash=930219079\"> 6:45 pm  </a> </li> <li class=\"timeslot-option timeslot-control\"> <a class=\"rest-row-times-btn exact timeslot\" data-rid=\"270331\" href=\"/book/validate?rid=270331&amp;d=2017-07-05 19:00&amp;p=2&amp;pt=100&amp;ss=0&amp;sd=2017-07-05 19:00&amp;pofids=&amp;hash=2421381702\"> 7:00 pm  </a> </li> <li class=\"timeslot-option timeslot-control\"> <a class=\"rest-row-times-btn timeslot\" data-rid=\"270331\" href=\"/book/validate?rid=270331&amp;d=2017-07-05 19:15&amp;p=2&amp;pt=100&amp;ss=0&amp;sd=2017-07-05 19:15&amp;pofids=&amp;hash=3766156857\"> 7:15 pm  </a> </li> <li class=\"timeslot-option timeslot-control\"> <a class=\"rest-row-times-btn timeslot\" data-rid=\"270331\" href=\"/book/validate?rid=270331&amp;d=2017-07-05 19:45&amp;p=2&amp;pt=100&amp;ss=0&amp;sd=2017-07-05 19:45&amp;pofids=&amp;hash=4044246966\"> 7:45 pm  </a> </li> </ul></div> </div></div> </div></div> </div>,\n",
       " <div class=\"result content-section-list-row cf with-times\" data-id=\"15\" data-index=\"16\" data-lat=\"38.9358630\" data-lon=\"-77.0590570\" data-offers=\"\" data-rid=\"60124\"><div class=\"rest-row with-image\"> <div class=\"rest-row-image\"> <a href=\"/medium-rare-cleveland-park\" target=\"_blank\"><img alt=\"photo of medium rare - cleveland park restaurant\" class=\"lazy rest-image\" data-src=\"//resizer.otstatic.com/v2/profiles/legacy/60124.jpg\" src=\"//media.otstatic.com/search-result-node/images/no-image.png\"/></a></div> <div class=\"rest-row-info\"><div class=\"rest-row-header\"> <a class=\"rest-row-name rest-name \" href=\"/medium-rare-cleveland-park\" target=\"_blank\"> <span class=\"rest-row-name-text\">Medium Rare - Cleveland Park</span> </a> </div> <div class=\"flex-row-justify\"> <div class=\"rest-row-review\"> <div class=\"star-rating\"><div class=\"star-wrapper small\"><div class=\"all-stars\"></div><div class=\"all-stars filled\" style=\"width: 92%;\"></div></div> <a class=\"review-link\" href=\"/medium-rare-cleveland-park#reviews\" target=\"_blank\"><span class=\"star-rating-text\">(755)</span><span class=\"star-rating-text--review-text\">755 reviews</span></a></div> <span class=\"recommended-container\"><span class=\"thumbs-up-icon\"></span> <span class=\"recommended-small\">96%</span> <span class=\"recommended-text\">96% Recommend</span></span> </div> <div class=\"rest-row-pricing\"> <i>  $    $      </i>   $    $      </div> </div><div class=\"rest-row-meta rest-row-meta-grid flex-row-justify\"> <span class=\"rest-row-meta--cuisine rest-row-meta-text\">Steak</span> <span class=\"rest-row-meta--location rest-row-meta-text\">Cleveland Park</span></div> <div class=\"message-alerts\"> <div class=\"notice-timeslot\"><span class=\"clock-icon\"></span> <span>Hurry, we only have 4 timeslots left!</span></div> </div> <div class=\"rest-row-times-cont\"><div class=\"rest-row-times\"> <div class=\"timeslot-window\"><ul class=\"availability-row-container\"> <li class=\"timeslot-option timeslot-control\"> <a class=\"rest-row-times-btn timeslot\" data-rid=\"60124\" href=\"/book/validate?rid=60124&amp;d=2017-07-05 18:15&amp;p=2&amp;pt=100&amp;ss=0&amp;sd=2017-07-05 18:15&amp;pofids=&amp;hash=1984400218\"> 6:15 pm  </a> </li> <li class=\"timeslot-option timeslot-control\"> <a class=\"rest-row-times-btn timeslot\" data-rid=\"60124\" href=\"/book/validate?rid=60124&amp;d=2017-07-05 18:45&amp;p=2&amp;pt=100&amp;ss=0&amp;sd=2017-07-05 18:45&amp;pofids=&amp;hash=398019072\"> 6:45 pm  </a> </li> <li class=\"timeslot-option\"> <a class=\"rest-row-times-btn exact unavailable\" data-offers=\"\" data-rid=\"60124\">\\xa0 </a> </li> <li class=\"timeslot-option timeslot-control\"> <a class=\"rest-row-times-btn timeslot\" data-rid=\"60124\" href=\"/book/validate?rid=60124&amp;d=2017-07-05 19:15&amp;p=2&amp;pt=100&amp;ss=0&amp;sd=2017-07-05 19:15&amp;pofids=&amp;hash=346385732\"> 7:15 pm  </a> </li> <li class=\"timeslot-option timeslot-control\"> <a class=\"rest-row-times-btn timeslot\" data-rid=\"60124\" href=\"/book/validate?rid=60124&amp;d=2017-07-05 19:30&amp;p=2&amp;pt=100&amp;ss=0&amp;sd=2017-07-05 19:30&amp;pofids=&amp;hash=1880414536\"> 7:30 pm  </a> </li> </ul></div> </div></div> </div></div> </div>,\n",
       " <div class=\"result content-section-list-row cf with-times\" data-id=\"16\" data-index=\"17\" data-lat=\"38.9157150\" data-lon=\"-77.0322370\" data-offers=\"\" data-rid=\"139102\"><div class=\"rest-row with-image\"> <div class=\"rest-row-image\"> <a href=\"/lupo-verde\" target=\"_blank\"><img alt=\"photo of lupo verde restaurant\" class=\"lazy rest-image\" data-src=\"//resizer.otstatic.com/v2/profiles/legacy/139102.jpg\" src=\"//media.otstatic.com/search-result-node/images/no-image.png\"/></a></div> <div class=\"rest-row-info\"><div class=\"rest-row-header\"> <a class=\"rest-row-name rest-name \" href=\"/lupo-verde\" target=\"_blank\"> <span class=\"rest-row-name-text\">Lupo Verde</span> </a> </div> <div class=\"flex-row-justify\"> <div class=\"rest-row-review\"> <div class=\"star-rating\"><div class=\"star-wrapper small\"><div class=\"all-stars\"></div><div class=\"all-stars filled\" style=\"width: 92%;\"></div></div> <a class=\"review-link\" href=\"/lupo-verde#reviews\" target=\"_blank\"><span class=\"star-rating-text\">(615)</span><span class=\"star-rating-text--review-text\">615 reviews</span></a></div> <span class=\"recommended-container\"><span class=\"thumbs-up-icon\"></span> <span class=\"recommended-small\">91%</span> <span class=\"recommended-text\">91% Recommend</span></span> </div> <div class=\"rest-row-pricing\"> <i>  $    $      </i>   $    $      </div> </div><div class=\"rest-row-meta rest-row-meta-grid flex-row-justify\"> <span class=\"rest-row-meta--cuisine rest-row-meta-text\">Italian</span> <span class=\"rest-row-meta--location rest-row-meta-text\">Logan Circle</span></div> <div class=\"message-alerts\"> <div class=\"notice-timeslot\"><span class=\"clock-icon\"></span> <span>Hurry, we only have 4 timeslots left!</span></div> </div> <div class=\"rest-row-times-cont\"><div class=\"rest-row-times\"> <div class=\"timeslot-window\"><ul class=\"availability-row-container\"> <li class=\"timeslot-option timeslot-control\"> <a class=\"rest-row-times-btn timeslot\" data-rid=\"139102\" href=\"/book/validate?rid=139102&amp;d=2017-07-05 18:15&amp;p=2&amp;pt=100&amp;ss=0&amp;sd=2017-07-05 18:15&amp;pofids=&amp;hash=4095485352\"> 6:15 pm  </a> </li> <li class=\"timeslot-option timeslot-control\"> <a class=\"rest-row-times-btn timeslot\" data-rid=\"139102\" href=\"/book/validate?rid=139102&amp;d=2017-07-05 18:45&amp;p=2&amp;pt=100&amp;ss=0&amp;sd=2017-07-05 18:45&amp;pofids=&amp;hash=3542422882\"> 6:45 pm  </a> </li> <li class=\"timeslot-option\"> <a class=\"rest-row-times-btn exact unavailable\" data-offers=\"\" data-rid=\"139102\">\\xa0 </a> </li> <li class=\"timeslot-option timeslot-control\"> <a class=\"rest-row-times-btn timeslot\" data-rid=\"139102\" href=\"/book/validate?rid=139102&amp;d=2017-07-05 19:15&amp;p=2&amp;pt=100&amp;ss=0&amp;sd=2017-07-05 19:15&amp;pofids=&amp;hash=3401850420\"> 7:15 pm  </a> </li> <li class=\"timeslot-option timeslot-control\"> <a class=\"rest-row-times-btn timeslot\" data-rid=\"139102\" href=\"/book/validate?rid=139102&amp;d=2017-07-05 19:45&amp;p=2&amp;pt=100&amp;ss=0&amp;sd=2017-07-05 19:45&amp;pofids=&amp;hash=321922649\"> 7:45 pm  </a> </li> </ul></div> </div></div> </div></div> </div>,\n",
       " <div class=\"result content-section-list-row cf with-times\" data-id=\"17\" data-index=\"18\" data-lat=\"38.9115760\" data-lon=\"-77.0322120\" data-offers=\"\" data-rid=\"152287\"><div class=\"rest-row with-image\"> <div class=\"rest-row-image\"> <a href=\"/ghibellina\" target=\"_blank\"><img alt=\"photo of ghibellina restaurant\" class=\"lazy rest-image\" data-src=\"//resizer.otstatic.com/v2/profiles/legacy/152287.jpg\" src=\"//media.otstatic.com/search-result-node/images/no-image.png\"/></a></div> <div class=\"rest-row-info\"><div class=\"rest-row-header\"> <a class=\"rest-row-name rest-name \" href=\"/ghibellina\" target=\"_blank\"> <span class=\"rest-row-name-text\">Ghibellina</span> </a> </div> <div class=\"flex-row-justify\"> <div class=\"rest-row-review\"> <div class=\"star-rating\"><div class=\"star-wrapper small\"><div class=\"all-stars\"></div><div class=\"all-stars filled\" style=\"width: 90%;\"></div></div> <a class=\"review-link\" href=\"/ghibellina#reviews\" target=\"_blank\"><span class=\"star-rating-text\">(476)</span><span class=\"star-rating-text--review-text\">476 reviews</span></a></div> <span class=\"recommended-container\"><span class=\"thumbs-up-icon\"></span> <span class=\"recommended-small\">91%</span> <span class=\"recommended-text\">91% Recommend</span></span> </div> <div class=\"rest-row-pricing\"> <i>  $    $      </i>   $    $      </div> </div><div class=\"rest-row-meta rest-row-meta-grid flex-row-justify\"> <span class=\"rest-row-meta--cuisine rest-row-meta-text\">Italian</span> <span class=\"rest-row-meta--location rest-row-meta-text\">Logan Circle</span></div> <div class=\"message-alerts\"> <div class=\"notice-timeslot\"><span class=\"clock-icon\"></span> <span>Hurry, we only have 4 timeslots left!</span></div> </div> <div class=\"rest-row-times-cont\"><div class=\"rest-row-times\"> <div class=\"timeslot-window\"><ul class=\"availability-row-container\"> <li class=\"timeslot-option timeslot-control\"> <a class=\"rest-row-times-btn timeslot\" data-rid=\"152287\" href=\"/book/validate?rid=152287&amp;d=2017-07-05 18:30&amp;p=2&amp;pt=100&amp;ss=0&amp;sd=2017-07-05 18:30&amp;pofids=&amp;hash=2375715488\"> 6:30 pm  </a> </li> <li class=\"timeslot-option timeslot-control\"> <a class=\"rest-row-times-btn timeslot\" data-rid=\"152287\" href=\"/book/validate?rid=152287&amp;d=2017-07-05 18:45&amp;p=2&amp;pt=100&amp;ss=0&amp;sd=2017-07-05 18:45&amp;pofids=&amp;hash=378726629\"> 6:45 pm  </a> </li> <li class=\"timeslot-option\"> <a class=\"rest-row-times-btn exact unavailable\" data-offers=\"\" data-rid=\"152287\">\\xa0 </a> </li> <li class=\"timeslot-option timeslot-control\"> <a class=\"rest-row-times-btn timeslot\" data-rid=\"152287\" href=\"/book/validate?rid=152287&amp;d=2017-07-05 19:15&amp;p=2&amp;pt=100&amp;ss=0&amp;sd=2017-07-05 19:15&amp;pofids=&amp;hash=1596860049\"> 7:15 pm  </a> </li> <li class=\"timeslot-option timeslot-control\"> <a class=\"rest-row-times-btn timeslot\" data-rid=\"152287\" href=\"/book/validate?rid=152287&amp;d=2017-07-05 19:30&amp;p=2&amp;pt=100&amp;ss=0&amp;sd=2017-07-05 19:30&amp;pofids=&amp;hash=3055268048\"> 7:30 pm  </a> </li> </ul></div> </div></div> </div></div> </div>,\n",
       " <div class=\"result content-section-list-row cf with-times\" data-id=\"18\" data-index=\"19\" data-lat=\"38.9113300\" data-lon=\"-77.0387790\" data-offers=\"\" data-rid=\"45367\"><div class=\"rest-row with-image\"> <div class=\"rest-row-image\"> <a href=\"/floriana\" target=\"_blank\"><img alt=\"photo of floriana restaurant\" class=\"lazy rest-image\" data-src=\"//resizer.otstatic.com/v2/profiles/legacy/45367.jpg\" src=\"//media.otstatic.com/search-result-node/images/no-image.png\"/></a></div> <div class=\"rest-row-info\"><div class=\"rest-row-header\"> <a class=\"rest-row-name rest-name \" href=\"/floriana\" target=\"_blank\"> <span class=\"rest-row-name-text\">Floriana</span> </a> </div> <div class=\"flex-row-justify\"> <div class=\"rest-row-review\"> <div class=\"star-rating\"><div class=\"star-wrapper small\"><div class=\"all-stars\"></div><div class=\"all-stars filled\" style=\"width: 94%;\"></div></div> <a class=\"review-link\" href=\"/floriana#reviews\" target=\"_blank\"><span class=\"star-rating-text\">(1832)</span><span class=\"star-rating-text--review-text\">1832 reviews</span></a></div> <span class=\"recommended-container\"><span class=\"thumbs-up-icon\"></span> <span class=\"recommended-small\">94%</span> <span class=\"recommended-text\">94% Recommend</span></span> </div> <div class=\"rest-row-pricing\"> <i>  $    $      </i>   $    $      </div> </div><div class=\"rest-row-meta rest-row-meta-grid flex-row-justify\"> <span class=\"rest-row-meta--cuisine rest-row-meta-text\">Italian</span> <span class=\"rest-row-meta--location rest-row-meta-text\">Dupont Circle</span></div> <div class=\"message-alerts\"> </div> <div class=\"rest-row-times-cont\"><div class=\"rest-row-times\"> <div class=\"timeslot-window\"><ul class=\"availability-row-container\"> <li class=\"timeslot-option timeslot-control\"> <a class=\"rest-row-times-btn timeslot\" data-rid=\"45367\" href=\"/book/validate?rid=45367&amp;d=2017-07-05 18:00&amp;p=2&amp;pt=100&amp;ss=0&amp;sd=2017-07-05 18:00&amp;pofids=&amp;hash=2616637457\"> 6:00 pm  </a> </li> <li class=\"timeslot-option timeslot-control\"> <a class=\"rest-row-times-btn timeslot\" data-rid=\"45367\" href=\"/book/validate?rid=45367&amp;d=2017-07-05 18:30&amp;p=2&amp;pt=100&amp;ss=0&amp;sd=2017-07-05 18:30&amp;pofids=&amp;hash=1178340473\"> 6:30 pm  </a> </li> <li class=\"timeslot-option timeslot-control\"> <a class=\"rest-row-times-btn exact timeslot\" data-rid=\"45367\" href=\"/book/validate?rid=45367&amp;d=2017-07-05 19:00&amp;p=2&amp;pt=100&amp;ss=0&amp;sd=2017-07-05 19:00&amp;pofids=&amp;hash=3345523389\"> 7:00 pm  </a> </li> <li class=\"timeslot-option timeslot-control\"> <a class=\"rest-row-times-btn timeslot\" data-rid=\"45367\" href=\"/book/validate?rid=45367&amp;d=2017-07-05 19:45&amp;p=2&amp;pt=100&amp;ss=0&amp;sd=2017-07-05 19:45&amp;pofids=&amp;hash=1487381431\"> 7:45 pm  </a> </li> <li class=\"timeslot-option timeslot-control\"> <a class=\"rest-row-times-btn timeslot\" data-rid=\"45367\" href=\"/book/validate?rid=45367&amp;d=2017-07-05 20:00&amp;p=2&amp;pt=100&amp;ss=0&amp;sd=2017-07-05 20:00&amp;pofids=&amp;hash=1619557979\"> 8:00 pm  </a> </li> </ul></div> </div></div> </div></div> </div>,\n",
       " <div class=\"result content-section-list-row cf with-times\" data-id=\"19\" data-index=\"20\" data-lat=\"38.9004300\" data-lon=\"-77.0441590\" data-offers=\"\" data-rid=\"24712\"><div class=\"rest-row with-image\"> <div class=\"rest-row-image\"> <a href=\"/founding-farmers-dc\" target=\"_blank\"><img alt=\"photo of founding farmers - dc restaurant\" class=\"lazy rest-image\" data-src=\"//resizer.otstatic.com/v2/profiles/legacy/24712.jpg\" src=\"//media.otstatic.com/search-result-node/images/no-image.png\"/></a></div> <div class=\"rest-row-info\"><div class=\"rest-row-header\"> <a class=\"rest-row-name rest-name \" href=\"/founding-farmers-dc\" target=\"_blank\"> <span class=\"rest-row-name-text\">Founding Farmers - DC</span> </a> </div> <div class=\"flex-row-justify\"> <div class=\"rest-row-review\"> <div class=\"star-rating\"><div class=\"star-wrapper small\"><div class=\"all-stars\"></div><div class=\"all-stars filled\" style=\"width: 90%;\"></div></div> <a class=\"review-link\" href=\"/founding-farmers-dc#reviews\" target=\"_blank\"><span class=\"star-rating-text\">(20502)</span><span class=\"star-rating-text--review-text\">20502 reviews</span></a></div> <span class=\"recommended-container\"><span class=\"thumbs-up-icon\"></span> <span class=\"recommended-small\">88%</span> <span class=\"recommended-text\">88% Recommend</span></span> </div> <div class=\"rest-row-pricing\"> <i>  $    $      </i>   $    $      </div> </div><div class=\"rest-row-meta rest-row-meta-grid flex-row-justify\"> <span class=\"rest-row-meta--cuisine rest-row-meta-text\">American</span> <span class=\"rest-row-meta--location rest-row-meta-text\">Foggy Bottom</span></div> <div class=\"message-alerts\"> <div class=\"notice-timeslot\"><span class=\"clock-icon\"></span> <span>Hurry, we only have 4 timeslots left!</span></div> </div> <div class=\"rest-row-times-cont\"><div class=\"rest-row-times\"> <div class=\"timeslot-window\"><ul class=\"availability-row-container\"> <li class=\"timeslot-option timeslot-control\"> <a class=\"rest-row-times-btn timeslot\" data-rid=\"24712\" href=\"/book/validate?rid=24712&amp;d=2017-07-05 17:00&amp;p=2&amp;pt=100&amp;ss=0&amp;sd=2017-07-05 17:00&amp;pofids=&amp;hash=729128380\"> 5:00 pm  </a> </li> <li class=\"timeslot-option timeslot-control\"> <a class=\"rest-row-times-btn timeslot\" data-rid=\"24712\" href=\"/book/validate?rid=24712&amp;d=2017-07-05 17:15&amp;p=2&amp;pt=100&amp;ss=0&amp;sd=2017-07-05 17:15&amp;pofids=&amp;hash=1439099886\"> 5:15 pm  </a> </li> <li class=\"timeslot-option\"> <a class=\"rest-row-times-btn exact unavailable\" data-offers=\"\" data-rid=\"24712\">\\xa0 </a> </li> <li class=\"timeslot-option timeslot-control\"> <a class=\"rest-row-times-btn timeslot\" data-rid=\"24712\" href=\"/book/validate?rid=24712&amp;d=2017-07-05 20:30&amp;p=2&amp;pt=100&amp;ss=0&amp;sd=2017-07-05 20:30&amp;pofids=&amp;hash=1326525588\"> 8:30 pm  </a> </li> <li class=\"timeslot-option timeslot-control\"> <a class=\"rest-row-times-btn timeslot\" data-rid=\"24712\" href=\"/book/validate?rid=24712&amp;d=2017-07-05 20:45&amp;p=2&amp;pt=100&amp;ss=0&amp;sd=2017-07-05 20:45&amp;pofids=&amp;hash=4229659815\"> 8:45 pm  </a> </li> </ul></div> </div></div> </div></div> </div>,\n",
       " <div class=\"result content-section-list-row cf with-times\" data-id=\"20\" data-index=\"21\" data-lat=\"38.9050280\" data-lon=\"-77.0640670\" data-offers=\"\" data-rid=\"19054\"><div class=\"rest-row with-image\"> <div class=\"rest-row-image\"> <a href=\"/clydes-of-georgetown\" target=\"_blank\"><img alt=\"photo of clyde's of georgetown restaurant\" class=\"lazy rest-image\" data-src=\"//resizer.otstatic.com/v2/profiles/legacy/19054.jpg\" src=\"//media.otstatic.com/search-result-node/images/no-image.png\"/></a></div> <div class=\"rest-row-info\"><div class=\"rest-row-header\"> <a class=\"rest-row-name rest-name \" href=\"/clydes-of-georgetown\" target=\"_blank\"> <span class=\"rest-row-name-text\">Clyde's of Georgetown</span> </a> </div> <div class=\"flex-row-justify\"> <div class=\"rest-row-review\"> <div class=\"star-rating\"><div class=\"star-wrapper small\"><div class=\"all-stars\"></div><div class=\"all-stars filled\" style=\"width: 88%;\"></div></div> <a class=\"review-link\" href=\"/clydes-of-georgetown#reviews\" target=\"_blank\"><span class=\"star-rating-text\">(1979)</span><span class=\"star-rating-text--review-text\">1979 reviews</span></a></div> <span class=\"recommended-container\"><span class=\"thumbs-up-icon\"></span> <span class=\"recommended-small\">91%</span> <span class=\"recommended-text\">91% Recommend</span></span> </div> <div class=\"rest-row-pricing\"> <i>  $    $      </i>   $    $      </div> </div><div class=\"rest-row-meta rest-row-meta-grid flex-row-justify\"> <span class=\"rest-row-meta--cuisine rest-row-meta-text\">American</span> <span class=\"rest-row-meta--location rest-row-meta-text\">Georgetown</span></div> <div class=\"message-alerts\"> </div> <div class=\"rest-row-times-cont\"><div class=\"rest-row-times\"> <div class=\"timeslot-window\"><ul class=\"availability-row-container\"> <li class=\"timeslot-option timeslot-control\"> <a class=\"rest-row-times-btn timeslot\" data-rid=\"19054\" href=\"/book/validate?rid=19054&amp;d=2017-07-05 18:15&amp;p=2&amp;pt=100&amp;ss=0&amp;sd=2017-07-05 18:15&amp;pofids=&amp;hash=3925168010\"> 6:15 pm  </a> </li> <li class=\"timeslot-option timeslot-control\"> <a class=\"rest-row-times-btn timeslot\" data-rid=\"19054\" href=\"/book/validate?rid=19054&amp;d=2017-07-05 18:30&amp;p=2&amp;pt=100&amp;ss=0&amp;sd=2017-07-05 18:30&amp;pofids=&amp;hash=3745472000\"> 6:30 pm  </a> </li> <li class=\"timeslot-option timeslot-control\"> <a class=\"rest-row-times-btn exact timeslot\" data-rid=\"19054\" href=\"/book/validate?rid=19054&amp;d=2017-07-05 19:00&amp;p=2&amp;pt=100&amp;ss=0&amp;sd=2017-07-05 19:00&amp;pofids=&amp;hash=3746066377\"> 7:00 pm  </a> </li> <li class=\"timeslot-option timeslot-control\"> <a class=\"rest-row-times-btn timeslot\" data-rid=\"19054\" href=\"/book/validate?rid=19054&amp;d=2017-07-05 19:30&amp;p=2&amp;pt=100&amp;ss=0&amp;sd=2017-07-05 19:30&amp;pofids=&amp;hash=3938692295\"> 7:30 pm  </a> </li> <li class=\"timeslot-option timeslot-control\"> <a class=\"rest-row-times-btn timeslot\" data-rid=\"19054\" href=\"/book/validate?rid=19054&amp;d=2017-07-05 20:00&amp;p=2&amp;pt=100&amp;ss=0&amp;sd=2017-07-05 20:00&amp;pofids=&amp;hash=4192618296\"> 8:00 pm  </a> </li> </ul></div> </div></div> </div></div> </div>,\n",
       " <div class=\"result content-section-list-row cf with-times\" data-id=\"21\" data-index=\"22\" data-lat=\"38.8947580\" data-lon=\"-77.0219380\" data-offers=\"\" data-rid=\"10666\"><div class=\"rest-row with-image\"> <div class=\"rest-row-image\"> <a href=\"/oyamel\" target=\"_blank\"><img alt=\"photo of oyamel restaurant\" class=\"lazy rest-image\" data-src=\"//resizer.otstatic.com/v2/profiles/legacy/10666.jpg\" src=\"//media.otstatic.com/search-result-node/images/no-image.png\"/></a></div> <div class=\"rest-row-info\"><div class=\"rest-row-header\"> <a class=\"rest-row-name rest-name \" href=\"/oyamel\" target=\"_blank\"> <span class=\"rest-row-name-text\">Oyamel</span> </a> </div> <div class=\"flex-row-justify\"> <div class=\"rest-row-review\"> <div class=\"star-rating\"><div class=\"star-wrapper small\"><div class=\"all-stars\"></div><div class=\"all-stars filled\" style=\"width: 90%;\"></div></div> <a class=\"review-link\" href=\"/oyamel#reviews\" target=\"_blank\"><span class=\"star-rating-text\">(6528)</span><span class=\"star-rating-text--review-text\">6528 reviews</span></a></div> <span class=\"recommended-container\"><span class=\"thumbs-up-icon\"></span> <span class=\"recommended-small\">91%</span> <span class=\"recommended-text\">91% Recommend</span></span> </div> <div class=\"rest-row-pricing\"> <i>  $    $      </i>   $    $      </div> </div><div class=\"rest-row-meta rest-row-meta-grid flex-row-justify\"> <span class=\"rest-row-meta--cuisine rest-row-meta-text\">Mexican</span> <span class=\"rest-row-meta--location rest-row-meta-text\">Penn Quarter</span></div> <div class=\"message-alerts\"> <div class=\"notice-timeslot\"><span class=\"clock-icon\"></span> <span>Hurry, we only have 4 timeslots left!</span></div> </div> <div class=\"rest-row-times-cont\"><div class=\"rest-row-times\"> <div class=\"timeslot-window\"><ul class=\"availability-row-container\"> <li class=\"timeslot-option timeslot-control\"> <a class=\"rest-row-times-btn timeslot\" data-rid=\"10666\" href=\"/book/validate?rid=10666&amp;d=2017-07-05 17:30&amp;p=2&amp;pt=100&amp;ss=0&amp;sd=2017-07-05 17:30&amp;pofids=&amp;hash=4137504851\"> 5:30 pm  </a> </li> <li class=\"timeslot-option timeslot-control\"> <a class=\"rest-row-times-btn timeslot\" data-rid=\"10666\" href=\"/book/validate?rid=10666&amp;d=2017-07-05 17:45&amp;p=2&amp;pt=100&amp;ss=0&amp;sd=2017-07-05 17:45&amp;pofids=&amp;hash=1846384444\"> 5:45 pm  </a> </li> <li class=\"timeslot-option\"> <a class=\"rest-row-times-btn exact unavailable\" data-offers=\"\" data-rid=\"10666\">\\xa0 </a> </li> <li class=\"timeslot-option timeslot-control\"> <a class=\"rest-row-times-btn timeslot\" data-rid=\"10666\" href=\"/book/validate?rid=10666&amp;d=2017-07-05 19:30&amp;p=2&amp;pt=100&amp;ss=0&amp;sd=2017-07-05 19:30&amp;pofids=&amp;hash=1574203060\"> 7:30 pm  </a> </li> <li class=\"timeslot-option timeslot-control\"> <a class=\"rest-row-times-btn timeslot\" data-rid=\"10666\" href=\"/book/validate?rid=10666&amp;d=2017-07-05 19:45&amp;p=2&amp;pt=100&amp;ss=0&amp;sd=2017-07-05 19:45&amp;pofids=&amp;hash=2285072635\"> 7:45 pm  </a> </li> </ul></div> </div></div> </div></div> </div>,\n",
       " <div class=\"result content-section-list-row cf with-times\" data-id=\"22\" data-index=\"23\" data-lat=\"38.9177520\" data-lon=\"-77.0233230\" data-offers=\"\" data-rid=\"256024\"><div class=\"rest-row with-image\"> <div class=\"rest-row-image\"> <a href=\"/r/hazel-washington\" target=\"_blank\"><img alt=\"photo of hazel restaurant\" class=\"lazy rest-image\" data-src=\"//resizer.otstatic.com/v2/profiles/legacy/256024.jpg\" src=\"//media.otstatic.com/search-result-node/images/no-image.png\"/></a></div> <div class=\"rest-row-info\"><div class=\"rest-row-header\"> <a class=\"rest-row-name rest-name \" href=\"/r/hazel-washington\" target=\"_blank\"> <span class=\"rest-row-name-text\">Hazel</span> </a> </div> <div class=\"flex-row-justify\"> <div class=\"rest-row-review\"> <div class=\"star-rating\"><div class=\"star-wrapper small\"><div class=\"all-stars\"></div><div class=\"all-stars filled\" style=\"width: 90%;\"></div></div> <a class=\"review-link\" href=\"/r/hazel-washington#reviews\" target=\"_blank\"><span class=\"star-rating-text\">(277)</span><span class=\"star-rating-text--review-text\">277 reviews</span></a></div> <span class=\"recommended-container\"><span class=\"thumbs-up-icon\"></span> <span class=\"recommended-small\">84%</span> <span class=\"recommended-text\">84% Recommend</span></span> </div> <div class=\"rest-row-pricing\"> <i>  $    $    $    </i>   $        </div> </div><div class=\"rest-row-meta rest-row-meta-grid flex-row-justify\"> <span class=\"rest-row-meta--cuisine rest-row-meta-text\">Contemporary American</span> <span class=\"rest-row-meta--location rest-row-meta-text\">Shaw</span></div> <div class=\"message-alerts\"> <div class=\"notice-timeslot\"><span class=\"clock-icon\"></span> <span>Hurry, we only have 4 timeslots left!</span></div> </div> <div class=\"rest-row-times-cont\"><div class=\"rest-row-times\"> <div class=\"timeslot-window\"><ul class=\"availability-row-container\"> <li class=\"timeslot-option timeslot-control\"> <a class=\"rest-row-times-btn timeslot\" data-rid=\"256024\" href=\"/book/validate?rid=256024&amp;d=2017-07-05 17:45&amp;p=2&amp;pt=100&amp;ss=0&amp;sd=2017-07-05 17:45&amp;pofids=&amp;hash=878897045\"> 5:45 pm  </a> </li> <li class=\"timeslot-option timeslot-control\"> <a class=\"rest-row-times-btn timeslot\" data-rid=\"256024\" href=\"/book/validate?rid=256024&amp;d=2017-07-05 18:00&amp;p=2&amp;pt=100&amp;ss=0&amp;sd=2017-07-05 18:00&amp;pofids=&amp;hash=838350034\"> 6:00 pm  </a> </li> <li class=\"timeslot-option\"> <a class=\"rest-row-times-btn exact unavailable\" data-offers=\"\" data-rid=\"256024\">\\xa0 </a> </li> <li class=\"timeslot-option timeslot-control\"> <a class=\"rest-row-times-btn timeslot\" data-rid=\"256024\" href=\"/book/validate?rid=256024&amp;d=2017-07-05 20:30&amp;p=2&amp;pt=100&amp;ss=0&amp;sd=2017-07-05 20:30&amp;pofids=&amp;hash=1578686705\"> 8:30 pm  </a> </li> <li class=\"timeslot-option timeslot-control\"> <a class=\"rest-row-times-btn timeslot\" data-rid=\"256024\" href=\"/book/validate?rid=256024&amp;d=2017-07-05 20:45&amp;p=2&amp;pt=100&amp;ss=0&amp;sd=2017-07-05 20:45&amp;pofids=&amp;hash=2241836663\"> 8:45 pm  </a> </li> </ul></div> </div></div> </div></div> </div>,\n",
       " <div class=\"result content-section-list-row cf with-times\" data-id=\"23\" data-index=\"24\" data-lat=\"38.9147470\" data-lon=\"-77.0324710\" data-offers=\"\" data-rid=\"97240\"><div class=\"rest-row with-image\"> <div class=\"rest-row-image\"> <a href=\"/teds-bulletin-14th-street\" target=\"_blank\"><img alt=\"photo of ted's bulletin - 14th street restaurant\" class=\"lazy rest-image\" data-src=\"//resizer.otstatic.com/v2/profiles/legacy/97240.jpg\" src=\"//media.otstatic.com/search-result-node/images/no-image.png\"/></a></div> <div class=\"rest-row-info\"><div class=\"rest-row-header\"> <a class=\"rest-row-name rest-name \" href=\"/teds-bulletin-14th-street\" target=\"_blank\"> <span class=\"rest-row-name-text\">Ted's Bulletin - 14th Street</span> </a> </div> <div class=\"flex-row-justify\"> <div class=\"rest-row-review\"> <div class=\"star-rating\"><div class=\"star-wrapper small\"><div class=\"all-stars\"></div><div class=\"all-stars filled\" style=\"width: 88%;\"></div></div> <a class=\"review-link\" href=\"/teds-bulletin-14th-street#reviews\" target=\"_blank\"><span class=\"star-rating-text\">(148)</span><span class=\"star-rating-text--review-text\">148 reviews</span></a></div> <span class=\"recommended-container\"><span class=\"thumbs-up-icon\"></span> <span class=\"recommended-small\">80%</span> <span class=\"recommended-text\">80% Recommend</span></span> </div> <div class=\"rest-row-pricing\"> <i>  $    $      </i>   $    $      </div> </div><div class=\"rest-row-meta rest-row-meta-grid flex-row-justify\"> <span class=\"rest-row-meta--cuisine rest-row-meta-text\">Comfort Food</span> <span class=\"rest-row-meta--location rest-row-meta-text\">Logan Circle</span></div> <div class=\"message-alerts\"> <div class=\"notice-timeslot\"><span class=\"clock-icon\"></span> <span>Hurry, we only have 1 timeslot left!</span></div> </div> <div class=\"rest-row-times-cont\"><div class=\"rest-row-times\"> <div class=\"timeslot-window\"><ul class=\"availability-row-container\"> <li class=\"timeslot-option\"> <a class=\"rest-row-times-btn unavailable\" data-offers=\"\" data-rid=\"97240\">\\xa0 </a> </li> <li class=\"timeslot-option timeslot-control\"> <a class=\"rest-row-times-btn timeslot\" data-rid=\"97240\" href=\"/book/validate?rid=97240&amp;d=2017-07-05 16:30&amp;p=2&amp;pt=100&amp;ss=0&amp;sd=2017-07-05 16:30&amp;pofids=&amp;hash=102413696\"> 4:30 pm  </a> </li> <li class=\"timeslot-option\"> <a class=\"rest-row-times-btn exact unavailable\" data-offers=\"\" data-rid=\"97240\">\\xa0 </a> </li> <li class=\"timeslot-option\"> <a class=\"rest-row-times-btn unavailable\" data-offers=\"\" data-rid=\"97240\">\\xa0 </a> </li> <li class=\"timeslot-option\"> <a class=\"rest-row-times-btn unavailable\" data-offers=\"\" data-rid=\"97240\">\\xa0 </a> </li> </ul></div> </div></div> </div></div> </div>,\n",
       " <div class=\"result content-section-list-row cf with-times\" data-id=\"24\" data-index=\"25\" data-lat=\"38.8986030\" data-lon=\"-77.0195890\" data-offers=\"\" data-rid=\"107461\"><div class=\"rest-row with-image\"> <div class=\"rest-row-image\"> <a href=\"/daikaya-izakaya-2f\" target=\"_blank\"><img alt=\"photo of daikaya izakaya (2f) restaurant\" class=\"lazy rest-image\" data-src=\"//resizer.otstatic.com/v2/profiles/legacy/107461.jpg\" src=\"//media.otstatic.com/search-result-node/images/no-image.png\"/></a></div> <div class=\"rest-row-info\"><div class=\"rest-row-header\"> <a class=\"rest-row-name rest-name \" href=\"/daikaya-izakaya-2f\" target=\"_blank\"> <span class=\"rest-row-name-text\">Daikaya Izakaya (2F)</span> </a> </div> <div class=\"flex-row-justify\"> <div class=\"rest-row-review\"> <div class=\"star-rating\"><div class=\"star-wrapper small\"><div class=\"all-stars\"></div><div class=\"all-stars filled\" style=\"width: 90%;\"></div></div> <a class=\"review-link\" href=\"/daikaya-izakaya-2f#reviews\" target=\"_blank\"><span class=\"star-rating-text\">(977)</span><span class=\"star-rating-text--review-text\">977 reviews</span></a></div> <span class=\"recommended-container\"><span class=\"thumbs-up-icon\"></span> <span class=\"recommended-small\">88%</span> <span class=\"recommended-text\">88% Recommend</span></span> </div> <div class=\"rest-row-pricing\"> <i>  $    $      </i>   $    $      </div> </div><div class=\"rest-row-meta rest-row-meta-grid flex-row-justify\"> <span class=\"rest-row-meta--cuisine rest-row-meta-text\">Japanese</span> <span class=\"rest-row-meta--location rest-row-meta-text\">Penn Quarter</span></div> <div class=\"message-alerts\"> </div> <div class=\"rest-row-times-cont\"><div class=\"rest-row-times\"> <div class=\"timeslot-window\"><ul class=\"availability-row-container\"> <li class=\"timeslot-option timeslot-control\"> <a class=\"rest-row-times-btn timeslot\" data-rid=\"107461\" href=\"/book/validate?rid=107461&amp;d=2017-07-05 18:30&amp;p=2&amp;pt=100&amp;ss=0&amp;sd=2017-07-05 18:30&amp;pofids=&amp;hash=3248294559\"> 6:30 pm  </a> </li> <li class=\"timeslot-option timeslot-control\"> <a class=\"rest-row-times-btn timeslot\" data-rid=\"107461\" href=\"/book/validate?rid=107461&amp;d=2017-07-05 18:45&amp;p=2&amp;pt=100&amp;ss=0&amp;sd=2017-07-05 18:45&amp;pofids=&amp;hash=3972411484\"> 6:45 pm  </a> </li> <li class=\"timeslot-option timeslot-control\"> <a class=\"rest-row-times-btn exact timeslot\" data-rid=\"107461\" href=\"/book/validate?rid=107461&amp;d=2017-07-05 19:00&amp;p=2&amp;pt=100&amp;ss=0&amp;sd=2017-07-05 19:00&amp;pofids=&amp;hash=2143606298\"> 7:00 pm  </a> </li> <li class=\"timeslot-option timeslot-control\"> <a class=\"rest-row-times-btn timeslot\" data-rid=\"107461\" href=\"/book/validate?rid=107461&amp;d=2017-07-05 19:15&amp;p=2&amp;pt=100&amp;ss=0&amp;sd=2017-07-05 19:15&amp;pofids=&amp;hash=310862410\"> 7:15 pm  </a> </li> <li class=\"timeslot-option timeslot-control\"> <a class=\"rest-row-times-btn timeslot\" data-rid=\"107461\" href=\"/book/validate?rid=107461&amp;d=2017-07-05 19:30&amp;p=2&amp;pt=100&amp;ss=0&amp;sd=2017-07-05 19:30&amp;pofids=&amp;hash=2587362932\"> 7:30 pm  </a> </li> </ul></div> </div></div> </div></div> </div>,\n",
       " <div class=\"result content-section-list-row cf with-times\" data-id=\"25\" data-index=\"26\" data-lat=\"38.8870370\" data-lon=\"-77.0944140\" data-offers=\"\" data-rid=\"156862\"><div class=\"rest-row with-image\"> <div class=\"rest-row-image\"> <a href=\"/circa-at-clarendon\" target=\"_blank\"><img alt=\"photo of circa at clarendon restaurant\" class=\"lazy rest-image\" data-src=\"//resizer.otstatic.com/v2/profiles/legacy/156862.jpg\" src=\"//media.otstatic.com/search-result-node/images/no-image.png\"/></a></div> <div class=\"rest-row-info\"><div class=\"rest-row-header\"> <a class=\"rest-row-name rest-name \" href=\"/circa-at-clarendon\" target=\"_blank\"> <span class=\"rest-row-name-text\">CIRCA at Clarendon</span> </a> </div> <div class=\"flex-row-justify\"> <div class=\"rest-row-review\"> <div class=\"star-rating\"><div class=\"star-wrapper small\"><div class=\"all-stars\"></div><div class=\"all-stars filled\" style=\"width: 92%;\"></div></div> <a class=\"review-link\" href=\"/circa-at-clarendon#reviews\" target=\"_blank\"><span class=\"star-rating-text\">(250)</span><span class=\"star-rating-text--review-text\">250 reviews</span></a></div> <span class=\"recommended-container\"><span class=\"thumbs-up-icon\"></span> <span class=\"recommended-small\">96%</span> <span class=\"recommended-text\">96% Recommend</span></span> </div> <div class=\"rest-row-pricing\"> <i>  $    $      </i>   $    $      </div> </div><div class=\"rest-row-meta rest-row-meta-grid flex-row-justify\"> <span class=\"rest-row-meta--cuisine rest-row-meta-text\">Contemporary American</span> <span class=\"rest-row-meta--location rest-row-meta-text\">Arlington</span></div> <div class=\"message-alerts\"> <div class=\"notice-timeslot\"><span class=\"clock-icon\"></span> <span>Hurry, we only have 4 timeslots left!</span></div> </div> <div class=\"rest-row-times-cont\"><div class=\"rest-row-times\"> <div class=\"timeslot-window\"><ul class=\"availability-row-container\"> <li class=\"timeslot-option timeslot-control\"> <a class=\"rest-row-times-btn timeslot\" data-rid=\"156862\" href=\"/book/validate?rid=156862&amp;d=2017-07-05 18:30&amp;p=2&amp;pt=100&amp;ss=0&amp;sd=2017-07-05 18:30&amp;pofids=&amp;hash=1216281825\"> 6:30 pm  </a> </li> <li class=\"timeslot-option timeslot-control\"> <a class=\"rest-row-times-btn timeslot\" data-rid=\"156862\" href=\"/book/validate?rid=156862&amp;d=2017-07-05 18:45&amp;p=2&amp;pt=100&amp;ss=0&amp;sd=2017-07-05 18:45&amp;pofids=&amp;hash=4214063357\"> 6:45 pm  </a> </li> <li class=\"timeslot-option\"> <a class=\"rest-row-times-btn exact unavailable\" data-offers=\"\" data-rid=\"156862\">\\xa0 </a> </li> <li class=\"timeslot-option timeslot-control\"> <a class=\"rest-row-times-btn timeslot\" data-rid=\"156862\" href=\"/book/validate?rid=156862&amp;d=2017-07-05 19:45&amp;p=2&amp;pt=100&amp;ss=0&amp;sd=2017-07-05 19:45&amp;pofids=&amp;hash=643081122\"> 7:45 pm  </a> </li> <li class=\"timeslot-option timeslot-control\"> <a class=\"rest-row-times-btn timeslot\" data-rid=\"156862\" href=\"/book/validate?rid=156862&amp;d=2017-07-05 20:00&amp;p=2&amp;pt=100&amp;ss=0&amp;sd=2017-07-05 20:00&amp;pofids=&amp;hash=4128144944\"> 8:00 pm  </a> </li> </ul></div> </div></div> </div></div> </div>,\n",
       " <div class=\"result content-section-list-row cf with-times\" data-id=\"26\" data-index=\"27\" data-lat=\"38.9097930\" data-lon=\"-77.0237110\" data-offers=\"\" data-rid=\"148486\"><div class=\"rest-row with-image\"> <div class=\"rest-row-image\"> <a href=\"/chaplin\" target=\"_blank\"><img alt=\"photo of chaplin restaurant\" class=\"lazy rest-image\" data-src=\"//resizer.otstatic.com/v2/profiles/legacy/148486.jpg\" src=\"//media.otstatic.com/search-result-node/images/no-image.png\"/></a></div> <div class=\"rest-row-info\"><div class=\"rest-row-header\"> <a class=\"rest-row-name rest-name \" href=\"/chaplin\" target=\"_blank\"> <span class=\"rest-row-name-text\">Chaplin</span> </a> </div> <div class=\"flex-row-justify\"> <div class=\"rest-row-review\"> <div class=\"star-rating\"><div class=\"star-wrapper small\"><div class=\"all-stars\"></div><div class=\"all-stars filled\" style=\"width: 92%;\"></div></div> <a class=\"review-link\" href=\"/chaplin#reviews\" target=\"_blank\"><span class=\"star-rating-text\">(360)</span><span class=\"star-rating-text--review-text\">360 reviews</span></a></div> <span class=\"recommended-container\"><span class=\"thumbs-up-icon\"></span> <span class=\"recommended-small\">92%</span> <span class=\"recommended-text\">92% Recommend</span></span> </div> <div class=\"rest-row-pricing\"> <i>  $    $      </i>   $    $      </div> </div><div class=\"rest-row-meta rest-row-meta-grid flex-row-justify\"> <span class=\"rest-row-meta--cuisine rest-row-meta-text\">Japanese</span> <span class=\"rest-row-meta--location rest-row-meta-text\">Shaw</span></div> <div class=\"message-alerts\"> </div> <div class=\"rest-row-times-cont\"><div class=\"rest-row-times\"> <div class=\"timeslot-window\"><ul class=\"availability-row-container\"> <li class=\"timeslot-option timeslot-control\"> <a class=\"rest-row-times-btn timeslot\" data-rid=\"148486\" href=\"/book/validate?rid=148486&amp;d=2017-07-05 18:30&amp;p=2&amp;pt=100&amp;ss=0&amp;sd=2017-07-05 18:30&amp;pofids=&amp;hash=209903861\"> 6:30 pm  </a> </li> <li class=\"timeslot-option timeslot-control\"> <a class=\"rest-row-times-btn timeslot\" data-rid=\"148486\" href=\"/book/validate?rid=148486&amp;d=2017-07-05 18:45&amp;p=2&amp;pt=100&amp;ss=0&amp;sd=2017-07-05 18:45&amp;pofids=&amp;hash=1427652435\"> 6:45 pm  </a> </li> <li class=\"timeslot-option timeslot-control\"> <a class=\"rest-row-times-btn exact timeslot\" data-rid=\"148486\" href=\"/book/validate?rid=148486&amp;d=2017-07-05 19:00&amp;p=2&amp;pt=100&amp;ss=0&amp;sd=2017-07-05 19:00&amp;pofids=&amp;hash=895920904\"> 7:00 pm  </a> </li> <li class=\"timeslot-option timeslot-control\"> <a class=\"rest-row-times-btn timeslot\" data-rid=\"148486\" href=\"/book/validate?rid=148486&amp;d=2017-07-05 19:15&amp;p=2&amp;pt=100&amp;ss=0&amp;sd=2017-07-05 19:15&amp;pofids=&amp;hash=997919129\"> 7:15 pm  </a> </li> <li class=\"timeslot-option timeslot-control\"> <a class=\"rest-row-times-btn timeslot\" data-rid=\"148486\" href=\"/book/validate?rid=148486&amp;d=2017-07-05 19:30&amp;p=2&amp;pt=100&amp;ss=0&amp;sd=2017-07-05 19:30&amp;pofids=&amp;hash=634180312\"> 7:30 pm  </a> </li> </ul></div> </div></div> </div></div> </div>,\n",
       " <div class=\"result content-section-list-row cf with-times\" data-id=\"27\" data-index=\"28\" data-lat=\"38.9065360\" data-lon=\"-77.0273900\" data-offers=\"\" data-rid=\"118378\"><div class=\"rest-row with-image\"> <div class=\"rest-row-image\"> <a href=\"/tortino\" target=\"_blank\"><img alt=\"photo of tortino restaurant\" class=\"lazy rest-image\" data-src=\"//resizer.otstatic.com/v2/profiles/legacy/118378.jpg\" src=\"//media.otstatic.com/search-result-node/images/no-image.png\"/></a></div> <div class=\"rest-row-info\"><div class=\"rest-row-header\"> <a class=\"rest-row-name rest-name \" href=\"/tortino\" target=\"_blank\"> <span class=\"rest-row-name-text\">Tortino</span> </a> </div> <div class=\"flex-row-justify\"> <div class=\"rest-row-review\"> <div class=\"star-rating\"><div class=\"star-wrapper small\"><div class=\"all-stars\"></div><div class=\"all-stars filled\" style=\"width: 92%;\"></div></div> <a class=\"review-link\" href=\"/tortino#reviews\" target=\"_blank\"><span class=\"star-rating-text\">(540)</span><span class=\"star-rating-text--review-text\">540 reviews</span></a></div> <span class=\"recommended-container\"><span class=\"thumbs-up-icon\"></span> <span class=\"recommended-small\">93%</span> <span class=\"recommended-text\">93% Recommend</span></span> </div> <div class=\"rest-row-pricing\"> <i>  $    $      </i>   $    $      </div> </div><div class=\"rest-row-meta rest-row-meta-grid flex-row-justify\"> <span class=\"rest-row-meta--cuisine rest-row-meta-text\">Italian</span> <span class=\"rest-row-meta--location rest-row-meta-text\">Downtown</span></div> <div class=\"message-alerts\"> </div> <div class=\"rest-row-times-cont\"><div class=\"rest-row-times\"> <div class=\"timeslot-window\"><ul class=\"availability-row-container\"> <li class=\"timeslot-option timeslot-control\"> <a class=\"rest-row-times-btn timeslot\" data-rid=\"118378\" href=\"/book/validate?rid=118378&amp;d=2017-07-05 18:30&amp;p=2&amp;pt=100&amp;ss=0&amp;sd=2017-07-05 18:30&amp;pofids=&amp;hash=2292589183\"> 6:30 pm  </a> </li> <li class=\"timeslot-option timeslot-control\"> <a class=\"rest-row-times-btn timeslot\" data-rid=\"118378\" href=\"/book/validate?rid=118378&amp;d=2017-07-05 18:45&amp;p=2&amp;pt=100&amp;ss=0&amp;sd=2017-07-05 18:45&amp;pofids=&amp;hash=3638235313\"> 6:45 pm  </a> </li> <li class=\"timeslot-option timeslot-control\"> <a class=\"rest-row-times-btn exact timeslot\" data-rid=\"118378\" href=\"/book/validate?rid=118378&amp;d=2017-07-05 19:00&amp;p=2&amp;pt=100&amp;ss=0&amp;sd=2017-07-05 19:00&amp;pofids=&amp;hash=1166284158\"> 7:00 pm  </a> </li> <li class=\"timeslot-option timeslot-control\"> <a class=\"rest-row-times-btn timeslot\" data-rid=\"118378\" href=\"/book/validate?rid=118378&amp;d=2017-07-05 19:15&amp;p=2&amp;pt=100&amp;ss=0&amp;sd=2017-07-05 19:15&amp;pofids=&amp;hash=4156579045\"> 7:15 pm  </a> </li> <li class=\"timeslot-option timeslot-control\"> <a class=\"rest-row-times-btn timeslot\" data-rid=\"118378\" href=\"/book/validate?rid=118378&amp;d=2017-07-05 19:30&amp;p=2&amp;pt=100&amp;ss=0&amp;sd=2017-07-05 19:30&amp;pofids=&amp;hash=510620680\"> 7:30 pm  </a> </li> </ul></div> </div></div> </div></div> </div>,\n",
       " <div class=\"result content-section-list-row cf with-times\" data-id=\"28\" data-index=\"29\" data-lat=\"38.9059560\" data-lon=\"-77.0647550\" data-offers=\"\" data-rid=\"1549\"><div class=\"rest-row with-image\"> <div class=\"rest-row-image\"> <a href=\"/peacock-cafe\" target=\"_blank\"><img alt=\"photo of peacock caf\\xe9 restaurant\" class=\"lazy rest-image\" data-src=\"//resizer.otstatic.com/v2/profiles/legacy/1549.jpg\" src=\"//media.otstatic.com/search-result-node/images/no-image.png\"/></a></div> <div class=\"rest-row-info\"><div class=\"rest-row-header\"> <a class=\"rest-row-name rest-name \" href=\"/peacock-cafe\" target=\"_blank\"> <span class=\"rest-row-name-text\">Peacock Caf\\xe9</span> </a> </div> <div class=\"flex-row-justify\"> <div class=\"rest-row-review\"> <div class=\"star-rating\"><div class=\"star-wrapper small\"><div class=\"all-stars\"></div><div class=\"all-stars filled\" style=\"width: 90%;\"></div></div> <a class=\"review-link\" href=\"/peacock-cafe#reviews\" target=\"_blank\"><span class=\"star-rating-text\">(1072)</span><span class=\"star-rating-text--review-text\">1072 reviews</span></a></div> <span class=\"recommended-container\"><span class=\"thumbs-up-icon\"></span> <span class=\"recommended-small\">88%</span> <span class=\"recommended-text\">88% Recommend</span></span> </div> <div class=\"rest-row-pricing\"> <i>  $    $      </i>   $    $      </div> </div><div class=\"rest-row-meta rest-row-meta-grid flex-row-justify\"> <span class=\"rest-row-meta--cuisine rest-row-meta-text\">Contemporary American</span> <span class=\"rest-row-meta--location rest-row-meta-text\">Georgetown</span></div> <div class=\"message-alerts\"> </div> <div class=\"rest-row-times-cont\"><div class=\"rest-row-times\"> <div class=\"timeslot-window\"><ul class=\"availability-row-container\"> <li class=\"timeslot-option timeslot-control\"> <a class=\"rest-row-times-btn timeslot\" data-rid=\"1549\" href=\"/book/validate?rid=1549&amp;d=2017-07-05 18:30&amp;p=2&amp;pt=100&amp;ss=0&amp;sd=2017-07-05 18:30&amp;pofids=&amp;hash=3861742901\"> 6:30 pm  </a> </li> <li class=\"timeslot-option timeslot-control\"> <a class=\"rest-row-times-btn timeslot\" data-rid=\"1549\" href=\"/book/validate?rid=1549&amp;d=2017-07-05 18:45&amp;p=2&amp;pt=100&amp;ss=0&amp;sd=2017-07-05 18:45&amp;pofids=&amp;hash=3718509871\"> 6:45 pm  </a> </li> <li class=\"timeslot-option timeslot-control\"> <a class=\"rest-row-times-btn exact timeslot\" data-rid=\"1549\" href=\"/book/validate?rid=1549&amp;d=2017-07-05 19:00&amp;p=2&amp;pt=100&amp;ss=0&amp;sd=2017-07-05 19:00&amp;pofids=&amp;hash=3452464790\"> 7:00 pm  </a> </li> <li class=\"timeslot-option timeslot-control\"> <a class=\"rest-row-times-btn timeslot\" data-rid=\"1549\" href=\"/book/validate?rid=1549&amp;d=2017-07-05 19:15&amp;p=2&amp;pt=100&amp;ss=0&amp;sd=2017-07-05 19:15&amp;pofids=&amp;hash=3496785197\"> 7:15 pm  </a> </li> <li class=\"timeslot-option timeslot-control\"> <a class=\"rest-row-times-btn timeslot\" data-rid=\"1549\" href=\"/book/validate?rid=1549&amp;d=2017-07-05 19:30&amp;p=2&amp;pt=100&amp;ss=0&amp;sd=2017-07-05 19:30&amp;pofids=&amp;hash=2124901379\"> 7:30 pm  </a> </li> </ul></div> </div></div> </div></div> </div>,\n",
       " <div class=\"result content-section-list-row cf with-times\" data-id=\"29\" data-index=\"30\" data-lat=\"38.8974900\" data-lon=\"-77.0321540\" data-offers=\"\" data-rid=\"72763\"><div class=\"rest-row with-image\"> <div class=\"rest-row-image\"> <a href=\"/the-hamilton\" target=\"_blank\"><img alt=\"photo of the hamilton restaurant\" class=\"lazy rest-image\" data-src=\"//resizer.otstatic.com/v2/profiles/legacy/72763.jpg\" src=\"//media.otstatic.com/search-result-node/images/no-image.png\"/></a></div> <div class=\"rest-row-info\"><div class=\"rest-row-header\"> <a class=\"rest-row-name rest-name \" href=\"/the-hamilton\" target=\"_blank\"> <span class=\"rest-row-name-text\">The Hamilton</span> </a> </div> <div class=\"flex-row-justify\"> <div class=\"rest-row-review\"> <div class=\"star-rating\"><div class=\"star-wrapper small\"><div class=\"all-stars\"></div><div class=\"all-stars filled\" style=\"width: 88%;\"></div></div> <a class=\"review-link\" href=\"/the-hamilton#reviews\" target=\"_blank\"><span class=\"star-rating-text\">(4952)</span><span class=\"star-rating-text--review-text\">4952 reviews</span></a></div> <span class=\"recommended-container\"><span class=\"thumbs-up-icon\"></span> <span class=\"recommended-small\">91%</span> <span class=\"recommended-text\">91% Recommend</span></span> </div> <div class=\"rest-row-pricing\"> <i>  $    $      </i>   $    $      </div> </div><div class=\"rest-row-meta rest-row-meta-grid flex-row-justify\"> <span class=\"rest-row-meta--cuisine rest-row-meta-text\">American</span> <span class=\"rest-row-meta--location rest-row-meta-text\">Downtown</span></div> <div class=\"message-alerts\"> </div> <div class=\"rest-row-times-cont\"><div class=\"rest-row-times\"> <div class=\"timeslot-window\"><ul class=\"availability-row-container\"> <li class=\"timeslot-option timeslot-control\"> <a class=\"rest-row-times-btn timeslot\" data-rid=\"72763\" href=\"/book/validate?rid=72763&amp;d=2017-07-05 18:15&amp;p=2&amp;pt=100&amp;ss=0&amp;sd=2017-07-05 18:15&amp;pofids=&amp;hash=2639373016\"> 6:15 pm  </a> </li> <li class=\"timeslot-option timeslot-control\"> <a class=\"rest-row-times-btn timeslot\" data-rid=\"72763\" href=\"/book/validate?rid=72763&amp;d=2017-07-05 18:30&amp;p=2&amp;pt=100&amp;ss=0&amp;sd=2017-07-05 18:30&amp;pofids=&amp;hash=783407405\"> 6:30 pm  </a> </li> <li class=\"timeslot-option timeslot-control\"> <a class=\"rest-row-times-btn exact timeslot\" data-rid=\"72763\" href=\"/book/validate?rid=72763&amp;d=2017-07-05 19:00&amp;p=2&amp;pt=100&amp;ss=0&amp;sd=2017-07-05 19:00&amp;pofids=&amp;hash=1610394925\"> 7:00 pm  </a> </li> <li class=\"timeslot-option timeslot-control\"> <a class=\"rest-row-times-btn timeslot\" data-rid=\"72763\" href=\"/book/validate?rid=72763&amp;d=2017-07-05 19:15&amp;p=2&amp;pt=100&amp;ss=0&amp;sd=2017-07-05 19:15&amp;pofids=&amp;hash=1132491793\"> 7:15 pm  </a> </li> <li class=\"timeslot-option timeslot-control\"> <a class=\"rest-row-times-btn timeslot\" data-rid=\"72763\" href=\"/book/validate?rid=72763&amp;d=2017-07-05 19:30&amp;p=2&amp;pt=100&amp;ss=0&amp;sd=2017-07-05 19:30&amp;pofids=&amp;hash=1735134588\"> 7:30 pm  </a> </li> </ul></div> </div></div> </div></div> </div>,\n",
       " <div class=\"result content-section-list-row cf with-times\" data-id=\"30\" data-index=\"31\" data-lat=\"38.9025130\" data-lon=\"-77.0210220\" data-offers=\"\" data-rid=\"264292\"><div class=\"rest-row with-image\"> <div class=\"rest-row-image\"> <a href=\"/r/rpm-italian-dc-washington\" target=\"_blank\"><img alt=\"photo of rpm italian - dc restaurant\" class=\"lazy rest-image\" data-src=\"//resizer.otstatic.com/v2/profiles/legacy/264292.jpg\" src=\"//media.otstatic.com/search-result-node/images/no-image.png\"/></a></div> <div class=\"rest-row-info\"><div class=\"rest-row-header\"> <a class=\"rest-row-name rest-name \" href=\"/r/rpm-italian-dc-washington\" target=\"_blank\"> <span class=\"rest-row-name-text\">RPM Italian - DC</span> </a> </div> <div class=\"flex-row-justify\"> <div class=\"rest-row-review\"> <div class=\"star-rating\"><div class=\"star-wrapper small\"><div class=\"all-stars\"></div><div class=\"all-stars filled\" style=\"width: 94%;\"></div></div> <a class=\"review-link\" href=\"/r/rpm-italian-dc-washington#reviews\" target=\"_blank\"><span class=\"star-rating-text\">(980)</span><span class=\"star-rating-text--review-text\">980 reviews</span></a></div> <span class=\"recommended-container\"><span class=\"thumbs-up-icon\"></span> <span class=\"recommended-small\">89%</span> <span class=\"recommended-text\">89% Recommend</span></span> </div> <div class=\"rest-row-pricing\"> <i>  $    $    $    </i>   $        </div> </div><div class=\"rest-row-meta rest-row-meta-grid flex-row-justify\"> <span class=\"rest-row-meta--cuisine rest-row-meta-text\">Italian</span> <span class=\"rest-row-meta--location rest-row-meta-text\">Mt. Vernon Square</span></div> <div class=\"message-alerts\"> <div class=\"notice-timeslot\"><span class=\"clock-icon\"></span> <span>Hurry, we only have 4 timeslots left!</span></div> </div> <div class=\"rest-row-times-cont\"><div class=\"rest-row-times\"> <div class=\"timeslot-window\"><ul class=\"availability-row-container\"> <li class=\"timeslot-option timeslot-control\"> <a class=\"rest-row-times-btn timeslot\" data-rid=\"264292\" href=\"/book/validate?rid=264292&amp;d=2017-07-05 18:30&amp;p=2&amp;pt=100&amp;ss=0&amp;sd=2017-07-05 18:30&amp;pofids=&amp;hash=246781402\"> 6:30 pm  </a> </li> <li class=\"timeslot-option timeslot-control\"> <a class=\"rest-row-times-btn timeslot\" data-rid=\"264292\" href=\"/book/validate?rid=264292&amp;d=2017-07-05 18:45&amp;p=2&amp;pt=100&amp;ss=0&amp;sd=2017-07-05 18:45&amp;pofids=&amp;hash=3191496477\"> 6:45 pm  </a> </li> <li class=\"timeslot-option\"> <a class=\"rest-row-times-btn exact unavailable\" data-offers=\"\" data-rid=\"264292\">\\xa0 </a> </li> <li class=\"timeslot-option timeslot-control\"> <a class=\"rest-row-times-btn timeslot\" data-rid=\"264292\" href=\"/book/validate?rid=264292&amp;d=2017-07-05 19:45&amp;p=2&amp;pt=100&amp;ss=0&amp;sd=2017-07-05 19:45&amp;pofids=&amp;hash=115139129\"> 7:45 pm  </a> </li> <li class=\"timeslot-option timeslot-control\"> <a class=\"rest-row-times-btn timeslot\" data-rid=\"264292\" href=\"/book/validate?rid=264292&amp;d=2017-07-05 20:00&amp;p=2&amp;pt=100&amp;ss=0&amp;sd=2017-07-05 20:00&amp;pofids=&amp;hash=68792780\"> 8:00 pm  </a> </li> </ul></div> </div></div> </div></div> </div>,\n",
       " <div class=\"result content-section-list-row cf with-times\" data-id=\"31\" data-index=\"32\" data-lat=\"38.9096710\" data-lon=\"-77.0335480\" data-offers=\"\" data-rid=\"44341\"><div class=\"rest-row with-image\"> <div class=\"rest-row-image\"> <a href=\"/commissary-dc\" target=\"_blank\"><img alt=\"photo of commissary dc restaurant\" class=\"lazy rest-image\" data-src=\"//resizer.otstatic.com/v2/profiles/legacy/44341.jpg\" src=\"//media.otstatic.com/search-result-node/images/no-image.png\"/></a></div> <div class=\"rest-row-info\"><div class=\"rest-row-header\"> <a class=\"rest-row-name rest-name \" href=\"/commissary-dc\" target=\"_blank\"> <span class=\"rest-row-name-text\">Commissary DC</span> </a> </div> <div class=\"flex-row-justify\"> <div class=\"rest-row-review\"> <div class=\"star-rating\"><div class=\"star-wrapper small\"><div class=\"all-stars\"></div><div class=\"all-stars filled\" style=\"width: 92%;\"></div></div> <a class=\"review-link\" href=\"/commissary-dc#reviews\" target=\"_blank\"><span class=\"star-rating-text\">(711)</span><span class=\"star-rating-text--review-text\">711 reviews</span></a></div> <span class=\"recommended-container\"><span class=\"thumbs-up-icon\"></span> <span class=\"recommended-small\">94%</span> <span class=\"recommended-text\">94% Recommend</span></span> </div> <div class=\"rest-row-pricing\"> <i>  $    $      </i>   $    $      </div> </div><div class=\"rest-row-meta rest-row-meta-grid flex-row-justify\"> <span class=\"rest-row-meta--cuisine rest-row-meta-text\">American</span> <span class=\"rest-row-meta--location rest-row-meta-text\">Logan Circle</span></div> <div class=\"message-alerts\"> </div> <div class=\"rest-row-times-cont\"><div class=\"rest-row-times\"> <div class=\"timeslot-window\"><ul class=\"availability-row-container\"> <li class=\"timeslot-option timeslot-control\"> <a class=\"rest-row-times-btn timeslot\" data-rid=\"44341\" href=\"/book/validate?rid=44341&amp;d=2017-07-05 18:30&amp;p=2&amp;pt=100&amp;ss=0&amp;sd=2017-07-05 18:30&amp;pofids=&amp;hash=3933430216\"> 6:30 pm  </a> </li> <li class=\"timeslot-option timeslot-control\"> <a class=\"rest-row-times-btn timeslot\" data-rid=\"44341\" href=\"/book/validate?rid=44341&amp;d=2017-07-05 18:45&amp;p=2&amp;pt=100&amp;ss=0&amp;sd=2017-07-05 18:45&amp;pofids=&amp;hash=1016703400\"> 6:45 pm  </a> </li> <li class=\"timeslot-option timeslot-control\"> <a class=\"rest-row-times-btn exact timeslot\" data-rid=\"44341\" href=\"/book/validate?rid=44341&amp;d=2017-07-05 19:00&amp;p=2&amp;pt=100&amp;ss=0&amp;sd=2017-07-05 19:00&amp;pofids=&amp;hash=2501003257\"> 7:00 pm  </a> </li> <li class=\"timeslot-option timeslot-control\"> <a class=\"rest-row-times-btn timeslot\" data-rid=\"44341\" href=\"/book/validate?rid=44341&amp;d=2017-07-05 19:15&amp;p=2&amp;pt=100&amp;ss=0&amp;sd=2017-07-05 19:15&amp;pofids=&amp;hash=2203813832\"> 7:15 pm  </a> </li> <li class=\"timeslot-option timeslot-control\"> <a class=\"rest-row-times-btn timeslot\" data-rid=\"44341\" href=\"/book/validate?rid=44341&amp;d=2017-07-05 19:30&amp;p=2&amp;pt=100&amp;ss=0&amp;sd=2017-07-05 19:30&amp;pofids=&amp;hash=2603991889\"> 7:30 pm  </a> </li> </ul></div> </div></div> </div></div> </div>,\n",
       " <div class=\"result content-section-list-row cf with-times\" data-id=\"32\" data-index=\"33\" data-lat=\"38.9141280\" data-lon=\"-77.0319720\" data-offers=\"\" data-rid=\"111517\"><div class=\"rest-row with-image\"> <div class=\"rest-row-image\"> <a href=\"/doi-moi\" target=\"_blank\"><img alt=\"photo of doi moi restaurant\" class=\"lazy rest-image\" data-src=\"//resizer.otstatic.com/v2/profiles/legacy/111517.jpg\" src=\"//media.otstatic.com/search-result-node/images/no-image.png\"/></a></div> <div class=\"rest-row-info\"><div class=\"rest-row-header\"> <a class=\"rest-row-name rest-name \" href=\"/doi-moi\" target=\"_blank\"> <span class=\"rest-row-name-text\">Doi Moi</span> </a> </div> <div class=\"flex-row-justify\"> <div class=\"rest-row-review\"> <div class=\"star-rating\"><div class=\"star-wrapper small\"><div class=\"all-stars\"></div><div class=\"all-stars filled\" style=\"width: 92%;\"></div></div> <a class=\"review-link\" href=\"/doi-moi#reviews\" target=\"_blank\"><span class=\"star-rating-text\">(394)</span><span class=\"star-rating-text--review-text\">394 reviews</span></a></div> <span class=\"recommended-container\"><span class=\"thumbs-up-icon\"></span> <span class=\"recommended-small\">93%</span> <span class=\"recommended-text\">93% Recommend</span></span> </div> <div class=\"rest-row-pricing\"> <i>  $    $      </i>   $    $      </div> </div><div class=\"rest-row-meta rest-row-meta-grid flex-row-justify\"> <span class=\"rest-row-meta--cuisine rest-row-meta-text\">Southeast Asian</span> <span class=\"rest-row-meta--location rest-row-meta-text\">Logan Circle</span></div> <div class=\"message-alerts\"> <div class=\"notice-timeslot\"><span class=\"clock-icon\"></span> <span>Hurry, we only have 4 timeslots left!</span></div> </div> <div class=\"rest-row-times-cont\"><div class=\"rest-row-times\"> <div class=\"timeslot-window\"><ul class=\"availability-row-container\"> <li class=\"timeslot-option timeslot-control\"> <a class=\"rest-row-times-btn timeslot\" data-rid=\"111517\" href=\"/book/validate?rid=111517&amp;d=2017-07-05 17:30&amp;p=2&amp;pt=100&amp;ss=0&amp;sd=2017-07-05 17:30&amp;pofids=&amp;hash=517477708\"> 5:30 pm  </a> </li> <li class=\"timeslot-option timeslot-control\"> <a class=\"rest-row-times-btn timeslot\" data-rid=\"111517\" href=\"/book/validate?rid=111517&amp;d=2017-07-05 17:45&amp;p=2&amp;pt=100&amp;ss=0&amp;sd=2017-07-05 17:45&amp;pofids=&amp;hash=1906044923\"> 5:45 pm  </a> </li> <li class=\"timeslot-option\"> <a class=\"rest-row-times-btn exact unavailable\" data-offers=\"\" data-rid=\"111517\">\\xa0 </a> </li> <li class=\"timeslot-option timeslot-control\"> <a class=\"rest-row-times-btn timeslot\" data-rid=\"111517\" href=\"/book/validate?rid=111517&amp;d=2017-07-05 20:30&amp;p=2&amp;pt=100&amp;ss=0&amp;sd=2017-07-05 20:30&amp;pofids=&amp;hash=2282723135\"> 8:30 pm  </a> </li> <li class=\"timeslot-option timeslot-control\"> <a class=\"rest-row-times-btn timeslot\" data-rid=\"111517\" href=\"/book/validate?rid=111517&amp;d=2017-07-05 20:45&amp;p=2&amp;pt=100&amp;ss=0&amp;sd=2017-07-05 20:45&amp;pofids=&amp;hash=1068595267\"> 8:45 pm  </a> </li> </ul></div> </div></div> </div></div> </div>,\n",
       " <div class=\"result content-section-list-row cf with-times\" data-id=\"33\" data-index=\"34\" data-lat=\"38.9084200\" data-lon=\"-77.0266840\" data-offers=\"\" data-rid=\"298063\"><div class=\"rest-row with-image\"> <div class=\"rest-row-image\"> <a href=\"/r/the-bird-washington\" target=\"_blank\"><img alt=\"photo of the bird restaurant\" class=\"lazy rest-image\" data-src=\"//resizer.otstatic.com/v2/profiles/legacy/298063.jpg\" src=\"//media.otstatic.com/search-result-node/images/no-image.png\"/></a></div> <div class=\"rest-row-info\"><div class=\"rest-row-header\"> <a class=\"rest-row-name rest-name \" href=\"/r/the-bird-washington\" target=\"_blank\"> <span class=\"rest-row-name-text\">The Bird</span> </a> </div> <div class=\"flex-row-justify\"> <div class=\"rest-row-review\"> <div class=\"star-rating\"><div class=\"star-wrapper small\"><div class=\"all-stars\"></div><div class=\"all-stars filled\" style=\"width: 88%;\"></div></div> <a class=\"review-link\" href=\"/r/the-bird-washington#reviews\" target=\"_blank\"><span class=\"star-rating-text\">(240)</span><span class=\"star-rating-text--review-text\">240 reviews</span></a></div> <span class=\"recommended-container\"><span class=\"thumbs-up-icon\"></span> <span class=\"recommended-small\">88%</span> <span class=\"recommended-text\">88% Recommend</span></span> </div> <div class=\"rest-row-pricing\"> <i>  $    $      </i>   $    $      </div> </div><div class=\"rest-row-meta rest-row-meta-grid flex-row-justify\"> <span class=\"rest-row-meta--cuisine rest-row-meta-text\">Contemporary American</span> <span class=\"rest-row-meta--location rest-row-meta-text\">Logan Circle</span></div> <div class=\"message-alerts\"> </div> <div class=\"rest-row-times-cont\"><div class=\"rest-row-times\"> <div class=\"timeslot-window\"><ul class=\"availability-row-container\"> <li class=\"timeslot-option timeslot-control\"> <a class=\"rest-row-times-btn timeslot\" data-rid=\"298063\" href=\"/book/validate?rid=298063&amp;d=2017-07-05 18:30&amp;p=2&amp;pt=100&amp;ss=0&amp;sd=2017-07-05 18:30&amp;pofids=&amp;hash=4259786517\"> 6:30 pm  </a> </li> <li class=\"timeslot-option timeslot-control\"> <a class=\"rest-row-times-btn timeslot\" data-rid=\"298063\" href=\"/book/validate?rid=298063&amp;d=2017-07-05 18:45&amp;p=2&amp;pt=100&amp;ss=0&amp;sd=2017-07-05 18:45&amp;pofids=&amp;hash=363945605\"> 6:45 pm  </a> </li> <li class=\"timeslot-option timeslot-control\"> <a class=\"rest-row-times-btn exact timeslot\" data-rid=\"298063\" href=\"/book/validate?rid=298063&amp;d=2017-07-05 19:00&amp;p=2&amp;pt=100&amp;ss=0&amp;sd=2017-07-05 19:00&amp;pofids=&amp;hash=2696257517\"> 7:00 pm  </a> </li> <li class=\"timeslot-option timeslot-control\"> <a class=\"rest-row-times-btn timeslot\" data-rid=\"298063\" href=\"/book/validate?rid=298063&amp;d=2017-07-05 19:15&amp;p=2&amp;pt=100&amp;ss=0&amp;sd=2017-07-05 19:15&amp;pofids=&amp;hash=196743418\"> 7:15 pm  </a> </li> <li class=\"timeslot-option timeslot-control\"> <a class=\"rest-row-times-btn timeslot\" data-rid=\"298063\" href=\"/book/validate?rid=298063&amp;d=2017-07-05 19:30&amp;p=2&amp;pt=100&amp;ss=0&amp;sd=2017-07-05 19:30&amp;pofids=&amp;hash=330878043\"> 7:30 pm  </a> </li> </ul></div> </div></div> </div></div> </div>,\n",
       " <div class=\"result content-section-list-row cf with-times\" data-id=\"34\" data-index=\"35\" data-lat=\"38.9006470\" data-lon=\"-77.0268420\" data-offers=\"\" data-rid=\"190525\"><div class=\"rest-row with-image\"> <div class=\"rest-row-image\"> <a href=\"/momofuku-ccdc\" target=\"_blank\"><img alt=\"photo of momofuku ccdc restaurant\" class=\"lazy rest-image\" data-src=\"//resizer.otstatic.com/v2/profiles/legacy/190525.jpg\" src=\"//media.otstatic.com/search-result-node/images/no-image.png\"/></a></div> <div class=\"rest-row-info\"><div class=\"rest-row-header\"> <a class=\"rest-row-name rest-name \" href=\"/momofuku-ccdc\" target=\"_blank\"> <span class=\"rest-row-name-text\">Momofuku CCDC</span> </a> </div> <div class=\"flex-row-justify\"> <div class=\"rest-row-review\"> <div class=\"star-rating\"><div class=\"star-wrapper small\"><div class=\"all-stars\"></div><div class=\"all-stars filled\" style=\"width: 90%;\"></div></div> <a class=\"review-link\" href=\"/momofuku-ccdc#reviews\" target=\"_blank\"><span class=\"star-rating-text\">(617)</span><span class=\"star-rating-text--review-text\">617 reviews</span></a></div> <span class=\"recommended-container\"><span class=\"thumbs-up-icon\"></span> <span class=\"recommended-small\">83%</span> <span class=\"recommended-text\">83% Recommend</span></span> </div> <div class=\"rest-row-pricing\"> <i>  $    $    $    </i>   $        </div> </div><div class=\"rest-row-meta rest-row-meta-grid flex-row-justify\"> <span class=\"rest-row-meta--cuisine rest-row-meta-text\">Contemporary American</span> <span class=\"rest-row-meta--location rest-row-meta-text\">Mount Vernon</span></div> <div class=\"message-alerts\"> </div> <div class=\"rest-row-times-cont\"><div class=\"rest-row-times\"> <div class=\"timeslot-window\"><ul class=\"availability-row-container\"> <li class=\"timeslot-option timeslot-control\"> <a class=\"rest-row-times-btn timeslot\" data-rid=\"190525\" href=\"/book/validate?rid=190525&amp;d=2017-07-05 18:30&amp;p=2&amp;pt=100&amp;ss=0&amp;sd=2017-07-05 18:30&amp;pofids=&amp;hash=3988939477\"> 6:30 pm  </a> </li> <li class=\"timeslot-option timeslot-control\"> <a class=\"rest-row-times-btn timeslot\" data-rid=\"190525\" href=\"/book/validate?rid=190525&amp;d=2017-07-05 18:45&amp;p=2&amp;pt=100&amp;ss=0&amp;sd=2017-07-05 18:45&amp;pofids=&amp;hash=3101751840\"> 6:45 pm  </a> </li> <li class=\"timeslot-option timeslot-control\"> <a class=\"rest-row-times-btn exact timeslot\" data-rid=\"190525\" href=\"/book/validate?rid=190525&amp;d=2017-07-05 19:00&amp;p=2&amp;pt=100&amp;ss=0&amp;sd=2017-07-05 19:00&amp;pofids=&amp;hash=611019280\"> 7:00 pm  </a> </li> <li class=\"timeslot-option timeslot-control\"> <a class=\"rest-row-times-btn timeslot\" data-rid=\"190525\" href=\"/book/validate?rid=190525&amp;d=2017-07-05 19:15&amp;p=2&amp;pt=100&amp;ss=0&amp;sd=2017-07-05 19:15&amp;pofids=&amp;hash=3108901143\"> 7:15 pm  </a> </li> <li class=\"timeslot-option timeslot-control\"> <a class=\"rest-row-times-btn timeslot\" data-rid=\"190525\" href=\"/book/validate?rid=190525&amp;d=2017-07-05 19:30&amp;p=2&amp;pt=100&amp;ss=0&amp;sd=2017-07-05 19:30&amp;pofids=&amp;hash=80628244\"> 7:30 pm  </a> </li> </ul></div> </div></div> </div></div> </div>,\n",
       " <div class=\"result content-section-list-row cf with-times\" data-id=\"35\" data-index=\"36\" data-lat=\"38.9108670\" data-lon=\"-77.0381150\" data-offers=\"\" data-rid=\"250489\"><div class=\"rest-row with-image\"> <div class=\"rest-row-image\"> <a href=\"/r/hanks-oyster-bar-dupont-washington\" target=\"_blank\"><img alt=\"photo of hank's oyster bar - dupont restaurant\" class=\"lazy rest-image\" data-src=\"//resizer.otstatic.com/v2/profiles/legacy/250489.jpg\" src=\"//media.otstatic.com/search-result-node/images/no-image.png\"/></a></div> <div class=\"rest-row-info\"><div class=\"rest-row-header\"> <a class=\"rest-row-name rest-name \" href=\"/r/hanks-oyster-bar-dupont-washington\" target=\"_blank\"> <span class=\"rest-row-name-text\">Hank's Oyster Bar - Dupont</span> </a> </div> <div class=\"flex-row-justify\"> <div class=\"rest-row-review\"> <div class=\"star-rating\"><div class=\"star-wrapper small\"><div class=\"all-stars\"></div><div class=\"all-stars filled\" style=\"width: 88%;\"></div></div> <a class=\"review-link\" href=\"/r/hanks-oyster-bar-dupont-washington#reviews\" target=\"_blank\"><span class=\"star-rating-text\">(110)</span><span class=\"star-rating-text--review-text\">110 reviews</span></a></div> <span class=\"recommended-container\"><span class=\"thumbs-up-icon\"></span> <span class=\"recommended-small\">91%</span> <span class=\"recommended-text\">91% Recommend</span></span> </div> <div class=\"rest-row-pricing\"> <i>  $    $      </i>   $    $      </div> </div><div class=\"rest-row-meta rest-row-meta-grid flex-row-justify\"> <span class=\"rest-row-meta--cuisine rest-row-meta-text\">Seafood</span> <span class=\"rest-row-meta--location rest-row-meta-text\">Dupont Circle</span></div> <div class=\"message-alerts\"> </div> <div class=\"rest-row-times-cont\"><div class=\"rest-row-times\"> <div class=\"timeslot-window\"><ul class=\"availability-row-container\"> <li class=\"timeslot-option timeslot-control\"> <a class=\"rest-row-times-btn timeslot\" data-rid=\"250489\" href=\"/book/validate?rid=250489&amp;d=2017-07-05 18:30&amp;p=2&amp;pt=100&amp;ss=0&amp;sd=2017-07-05 18:30&amp;pofids=&amp;hash=934192948\"> 6:30 pm  </a> </li> <li class=\"timeslot-option timeslot-control\"> <a class=\"rest-row-times-btn timeslot\" data-rid=\"250489\" href=\"/book/validate?rid=250489&amp;d=2017-07-05 18:45&amp;p=2&amp;pt=100&amp;ss=0&amp;sd=2017-07-05 18:45&amp;pofids=&amp;hash=147732539\"> 6:45 pm  </a> </li> <li class=\"timeslot-option timeslot-control\"> <a class=\"rest-row-times-btn exact timeslot\" data-rid=\"250489\" href=\"/book/validate?rid=250489&amp;d=2017-07-05 19:00&amp;p=2&amp;pt=100&amp;ss=0&amp;sd=2017-07-05 19:00&amp;pofids=&amp;hash=3762729949\"> 7:00 pm  </a> </li> <li class=\"timeslot-option timeslot-control\"> <a class=\"rest-row-times-btn timeslot\" data-rid=\"250489\" href=\"/book/validate?rid=250489&amp;d=2017-07-05 19:15&amp;p=2&amp;pt=100&amp;ss=0&amp;sd=2017-07-05 19:15&amp;pofids=&amp;hash=3970547265\"> 7:15 pm  </a> </li> <li class=\"timeslot-option timeslot-control\"> <a class=\"rest-row-times-btn timeslot\" data-rid=\"250489\" href=\"/book/validate?rid=250489&amp;d=2017-07-05 19:30&amp;p=2&amp;pt=100&amp;ss=0&amp;sd=2017-07-05 19:30&amp;pofids=&amp;hash=1917138036\"> 7:30 pm  </a> </li> </ul></div> </div></div> </div></div> </div>,\n",
       " <div class=\"result content-section-list-row cf with-times\" data-id=\"36\" data-index=\"37\" data-lat=\"38.8998280\" data-lon=\"-77.0245680\" data-offers=\"\" data-rid=\"150514\"><div class=\"rest-row with-image\"> <div class=\"rest-row-image\"> <a href=\"/dbgb-kitchen-and-bar-washington\" target=\"_blank\"><img alt=\"photo of dbgb dc restaurant\" class=\"lazy rest-image\" data-src=\"//resizer.otstatic.com/v2/profiles/legacy/150514.jpg\" src=\"//media.otstatic.com/search-result-node/images/no-image.png\"/></a></div> <div class=\"rest-row-info\"><div class=\"rest-row-header\"> <a class=\"rest-row-name rest-name \" href=\"/dbgb-kitchen-and-bar-washington\" target=\"_blank\"> <span class=\"rest-row-name-text\">DBGB DC</span> </a> </div> <div class=\"flex-row-justify\"> <div class=\"rest-row-review\"> <div class=\"star-rating\"><div class=\"star-wrapper small\"><div class=\"all-stars\"></div><div class=\"all-stars filled\" style=\"width: 90%;\"></div></div> <a class=\"review-link\" href=\"/dbgb-kitchen-and-bar-washington#reviews\" target=\"_blank\"><span class=\"star-rating-text\">(1043)</span><span class=\"star-rating-text--review-text\">1043 reviews</span></a></div> <span class=\"recommended-container\"><span class=\"thumbs-up-icon\"></span> <span class=\"recommended-small\">89%</span> <span class=\"recommended-text\">89% Recommend</span></span> </div> <div class=\"rest-row-pricing\"> <i>  $    $      </i>   $    $      </div> </div><div class=\"rest-row-meta rest-row-meta-grid flex-row-justify\"> <span class=\"rest-row-meta--cuisine rest-row-meta-text\">French</span> <span class=\"rest-row-meta--location rest-row-meta-text\">Penn Quarter</span></div> <div class=\"message-alerts\"> </div> <div class=\"rest-row-times-cont\"><div class=\"rest-row-times\"> <div class=\"timeslot-window\"><ul class=\"availability-row-container\"> <li class=\"timeslot-option timeslot-control\"> <a class=\"rest-row-times-btn timeslot\" data-rid=\"150514\" href=\"/book/validate?rid=150514&amp;d=2017-07-05 18:30&amp;p=2&amp;pt=100&amp;ss=0&amp;sd=2017-07-05 18:30&amp;pofids=&amp;hash=827615203\"> 6:30 pm  </a> </li> <li class=\"timeslot-option timeslot-control\"> <a class=\"rest-row-times-btn timeslot\" data-rid=\"150514\" href=\"/book/validate?rid=150514&amp;d=2017-07-05 18:45&amp;p=2&amp;pt=100&amp;ss=0&amp;sd=2017-07-05 18:45&amp;pofids=&amp;hash=3699600519\"> 6:45 pm  </a> </li> <li class=\"timeslot-option timeslot-control\"> <a class=\"rest-row-times-btn exact timeslot\" data-rid=\"150514\" href=\"/book/validate?rid=150514&amp;d=2017-07-05 19:00&amp;p=2&amp;pt=100&amp;ss=0&amp;sd=2017-07-05 19:00&amp;pofids=&amp;hash=2355786601\"> 7:00 pm  </a> </li> <li class=\"timeslot-option timeslot-control\"> <a class=\"rest-row-times-btn timeslot\" data-rid=\"150514\" href=\"/book/validate?rid=150514&amp;d=2017-07-05 19:15&amp;p=2&amp;pt=100&amp;ss=0&amp;sd=2017-07-05 19:15&amp;pofids=&amp;hash=3018521323\"> 7:15 pm  </a> </li> <li class=\"timeslot-option timeslot-control\"> <a class=\"rest-row-times-btn timeslot\" data-rid=\"150514\" href=\"/book/validate?rid=150514&amp;d=2017-07-05 19:30&amp;p=2&amp;pt=100&amp;ss=0&amp;sd=2017-07-05 19:30&amp;pofids=&amp;hash=1361591546\"> 7:30 pm  </a> </li> </ul></div> </div></div> </div></div> </div>,\n",
       " <div class=\"result content-section-list-row cf with-times\" data-id=\"37\" data-index=\"38\" data-lat=\"38.8737550\" data-lon=\"-77.0016610\" data-offers=\"\" data-rid=\"113854\"><div class=\"rest-row with-image\"> <div class=\"rest-row-image\"> <a href=\"/osteria-morini-dc\" target=\"_blank\"><img alt=\"photo of osteria morini dc restaurant\" class=\"lazy rest-image\" data-src=\"//resizer.otstatic.com/v2/profiles/legacy/113854.jpg\" src=\"//media.otstatic.com/search-result-node/images/no-image.png\"/></a></div> <div class=\"rest-row-info\"><div class=\"rest-row-header\"> <a class=\"rest-row-name rest-name \" href=\"/osteria-morini-dc\" target=\"_blank\"> <span class=\"rest-row-name-text\">Osteria Morini DC</span> </a> </div> <div class=\"flex-row-justify\"> <div class=\"rest-row-review\"> <div class=\"star-rating\"><div class=\"star-wrapper small\"><div class=\"all-stars\"></div><div class=\"all-stars filled\" style=\"width: 90%;\"></div></div> <a class=\"review-link\" href=\"/osteria-morini-dc#reviews\" target=\"_blank\"><span class=\"star-rating-text\">(1304)</span><span class=\"star-rating-text--review-text\">1304 reviews</span></a></div> <span class=\"recommended-container\"><span class=\"thumbs-up-icon\"></span> <span class=\"recommended-small\">91%</span> <span class=\"recommended-text\">91% Recommend</span></span> </div> <div class=\"rest-row-pricing\"> <i>  $    $      </i>   $    $      </div> </div><div class=\"rest-row-meta rest-row-meta-grid flex-row-justify\"> <span class=\"rest-row-meta--cuisine rest-row-meta-text\">Italian</span> <span class=\"rest-row-meta--location rest-row-meta-text\">Navy Yard</span></div> <div class=\"message-alerts\"> </div> <div class=\"rest-row-times-cont\"><div class=\"rest-row-times\"> <div class=\"timeslot-window\"><ul class=\"availability-row-container\"> <li class=\"timeslot-option timeslot-control\"> <a class=\"rest-row-times-btn timeslot\" data-rid=\"113854\" href=\"/book/validate?rid=113854&amp;d=2017-07-05 18:30&amp;p=2&amp;pt=100&amp;ss=0&amp;sd=2017-07-05 18:30&amp;pofids=&amp;hash=3554051412\"> 6:30 pm  </a> </li> <li class=\"timeslot-option timeslot-control\"> <a class=\"rest-row-times-btn timeslot\" data-rid=\"113854\" href=\"/book/validate?rid=113854&amp;d=2017-07-05 18:45&amp;p=2&amp;pt=100&amp;ss=0&amp;sd=2017-07-05 18:45&amp;pofids=&amp;hash=5456435\"> 6:45 pm  </a> </li> <li class=\"timeslot-option timeslot-control\"> <a class=\"rest-row-times-btn exact timeslot\" data-rid=\"113854\" href=\"/book/validate?rid=113854&amp;d=2017-07-05 19:00&amp;p=2&amp;pt=100&amp;ss=0&amp;sd=2017-07-05 19:00&amp;pofids=&amp;hash=4065169299\"> 7:00 pm  </a> </li> <li class=\"timeslot-option timeslot-control\"> <a class=\"rest-row-times-btn timeslot\" data-rid=\"113854\" href=\"/book/validate?rid=113854&amp;d=2017-07-05 19:15&amp;p=2&amp;pt=100&amp;ss=0&amp;sd=2017-07-05 19:15&amp;pofids=&amp;hash=1611892663\"> 7:15 pm  </a> </li> <li class=\"timeslot-option timeslot-control\"> <a class=\"rest-row-times-btn timeslot\" data-rid=\"113854\" href=\"/book/validate?rid=113854&amp;d=2017-07-05 19:30&amp;p=2&amp;pt=100&amp;ss=0&amp;sd=2017-07-05 19:30&amp;pofids=&amp;hash=3916983379\"> 7:30 pm  </a> </li> </ul></div> </div></div> </div></div> </div>,\n",
       " <div class=\"result content-section-list-row cf with-times\" data-id=\"38\" data-index=\"39\" data-lat=\"38.9115110\" data-lon=\"-77.0450530\" data-offers=\"\" data-rid=\"140557\"><div class=\"rest-row with-image\"> <div class=\"rest-row-image\"> <a href=\"/r/mission-washington\" target=\"_blank\"><img alt=\"photo of mission restaurant\" class=\"lazy rest-image\" data-src=\"//resizer.otstatic.com/v2/profiles/legacy/140557.jpg\" src=\"//media.otstatic.com/search-result-node/images/no-image.png\"/></a></div> <div class=\"rest-row-info\"><div class=\"rest-row-header\"> <a class=\"rest-row-name rest-name \" href=\"/r/mission-washington\" target=\"_blank\"> <span class=\"rest-row-name-text\">Mission</span> </a> </div> <div class=\"flex-row-justify\"> <div class=\"rest-row-review\"> <div class=\"star-rating\"><div class=\"star-wrapper small\"><div class=\"all-stars\"></div><div class=\"all-stars filled\" style=\"width: 88%;\"></div></div> <a class=\"review-link\" href=\"/r/mission-washington#reviews\" target=\"_blank\"><span class=\"star-rating-text\">(203)</span><span class=\"star-rating-text--review-text\">203 reviews</span></a></div> <span class=\"recommended-container\"><span class=\"thumbs-up-icon\"></span> <span class=\"recommended-small\">87%</span> <span class=\"recommended-text\">87% Recommend</span></span> </div> <div class=\"rest-row-pricing\"> <i>  $    $      </i>   $    $      </div> </div><div class=\"rest-row-meta rest-row-meta-grid flex-row-justify\"> <span class=\"rest-row-meta--cuisine rest-row-meta-text\">Mexican</span> <span class=\"rest-row-meta--location rest-row-meta-text\">Dupont Circle</span></div> <div class=\"message-alerts\"> </div> <div class=\"rest-row-times-cont\"><div class=\"rest-row-times\"> <div class=\"timeslot-window\"><ul class=\"availability-row-container\"> <li class=\"timeslot-option timeslot-control\"> <a class=\"rest-row-times-btn timeslot\" data-rid=\"140557\" href=\"/book/validate?rid=140557&amp;d=2017-07-05 18:15&amp;p=2&amp;pt=100&amp;ss=0&amp;sd=2017-07-05 18:15&amp;pofids=&amp;hash=307652039\"> 6:15 pm  </a> </li> <li class=\"timeslot-option timeslot-control\"> <a class=\"rest-row-times-btn timeslot\" data-rid=\"140557\" href=\"/book/validate?rid=140557&amp;d=2017-07-05 18:45&amp;p=2&amp;pt=100&amp;ss=0&amp;sd=2017-07-05 18:45&amp;pofids=&amp;hash=235747070\"> 6:45 pm  </a> </li> <li class=\"timeslot-option timeslot-control\"> <a class=\"rest-row-times-btn exact timeslot\" data-rid=\"140557\" href=\"/book/validate?rid=140557&amp;d=2017-07-05 19:00&amp;p=2&amp;pt=100&amp;ss=0&amp;sd=2017-07-05 19:00&amp;pofids=&amp;hash=4207970057\"> 7:00 pm  </a> </li> <li class=\"timeslot-option timeslot-control\"> <a class=\"rest-row-times-btn timeslot\" data-rid=\"140557\" href=\"/book/validate?rid=140557&amp;d=2017-07-05 19:15&amp;p=2&amp;pt=100&amp;ss=0&amp;sd=2017-07-05 19:15&amp;pofids=&amp;hash=3706611123\"> 7:15 pm  </a> </li> <li class=\"timeslot-option timeslot-control\"> <a class=\"rest-row-times-btn timeslot\" data-rid=\"140557\" href=\"/book/validate?rid=140557&amp;d=2017-07-05 19:30&amp;p=2&amp;pt=100&amp;ss=0&amp;sd=2017-07-05 19:30&amp;pofids=&amp;hash=1173649885\"> 7:30 pm  </a> </li> </ul></div> </div></div> </div></div> </div>,\n",
       " <div class=\"result content-section-list-row cf with-times\" data-id=\"39\" data-index=\"40\" data-lat=\"38.8956560\" data-lon=\"-77.0219560\" data-offers=\"\" data-rid=\"27085\"><div class=\"rest-row with-image\"> <div class=\"rest-row-image\"> <a href=\"/sei-restaurant-and-lounge\" target=\"_blank\"><img alt=\"photo of sei restaurant &amp; lounge restaurant\" class=\"lazy rest-image\" data-src=\"//resizer.otstatic.com/v2/profiles/legacy/27085.jpg\" src=\"//media.otstatic.com/search-result-node/images/no-image.png\"/></a></div> <div class=\"rest-row-info\"><div class=\"rest-row-header\"> <a class=\"rest-row-name rest-name \" href=\"/sei-restaurant-and-lounge\" target=\"_blank\"> <span class=\"rest-row-name-text\">SEI restaurant &amp; lounge</span> </a> </div> <div class=\"flex-row-justify\"> <div class=\"rest-row-review\"> <div class=\"star-rating\"><div class=\"star-wrapper small\"><div class=\"all-stars\"></div><div class=\"all-stars filled\" style=\"width: 90%;\"></div></div> <a class=\"review-link\" href=\"/sei-restaurant-and-lounge#reviews\" target=\"_blank\"><span class=\"star-rating-text\">(2059)</span><span class=\"star-rating-text--review-text\">2059 reviews</span></a></div> <span class=\"recommended-container\"><span class=\"thumbs-up-icon\"></span> <span class=\"recommended-small\">89%</span> <span class=\"recommended-text\">89% Recommend</span></span> </div> <div class=\"rest-row-pricing\"> <i>  $    $      </i>   $    $      </div> </div><div class=\"rest-row-meta rest-row-meta-grid flex-row-justify\"> <span class=\"rest-row-meta--cuisine rest-row-meta-text\">Asian</span> <span class=\"rest-row-meta--location rest-row-meta-text\">Penn Quarter</span></div> <div class=\"message-alerts\"> </div> <div class=\"rest-row-times-cont\"><div class=\"rest-row-times\"> <div class=\"timeslot-window\"><ul class=\"availability-row-container\"> <li class=\"timeslot-option timeslot-control\"> <a class=\"rest-row-times-btn timeslot\" data-rid=\"27085\" href=\"/book/validate?rid=27085&amp;d=2017-07-05 18:30&amp;p=2&amp;pt=100&amp;ss=0&amp;sd=2017-07-05 18:30&amp;pofids=&amp;hash=1253522339\"> 6:30 pm  </a> </li> <li class=\"timeslot-option timeslot-control\"> <a class=\"rest-row-times-btn timeslot\" data-rid=\"27085\" href=\"/book/validate?rid=27085&amp;d=2017-07-05 18:45&amp;p=2&amp;pt=100&amp;ss=0&amp;sd=2017-07-05 18:45&amp;pofids=&amp;hash=2163124203\"> 6:45 pm  </a> </li> <li class=\"timeslot-option timeslot-control\"> <a class=\"rest-row-times-btn exact timeslot\" data-rid=\"27085\" href=\"/book/validate?rid=27085&amp;d=2017-07-05 19:00&amp;p=2&amp;pt=100&amp;ss=0&amp;sd=2017-07-05 19:00&amp;pofids=&amp;hash=4148209270\"> 7:00 pm  </a> </li> <li class=\"timeslot-option timeslot-control\"> <a class=\"rest-row-times-btn timeslot\" data-rid=\"27085\" href=\"/book/validate?rid=27085&amp;d=2017-07-05 19:15&amp;p=2&amp;pt=100&amp;ss=0&amp;sd=2017-07-05 19:15&amp;pofids=&amp;hash=3346790141\"> 7:15 pm  </a> </li> <li class=\"timeslot-option timeslot-control\"> <a class=\"rest-row-times-btn timeslot\" data-rid=\"27085\" href=\"/book/validate?rid=27085&amp;d=2017-07-05 19:30&amp;p=2&amp;pt=100&amp;ss=0&amp;sd=2017-07-05 19:30&amp;pofids=&amp;hash=4158945208\"> 7:30 pm  </a> </li> </ul></div> </div></div> </div></div> </div>,\n",
       " <div class=\"result content-section-list-row cf with-times\" data-id=\"40\" data-index=\"41\" data-lat=\"38.7886940\" data-lon=\"-77.0190220\" data-offers=\"\" data-rid=\"170674\"><div class=\"rest-row with-image\"> <div class=\"rest-row-image\"> <a href=\"/succotash-restaurant\" target=\"_blank\"><img alt=\"photo of succotash restaurant restaurant\" class=\"lazy rest-image\" data-src=\"//resizer.otstatic.com/v2/profiles/legacy/170674.jpg\" src=\"//media.otstatic.com/search-result-node/images/no-image.png\"/></a></div> <div class=\"rest-row-info\"><div class=\"rest-row-header\"> <a class=\"rest-row-name rest-name \" href=\"/succotash-restaurant\" target=\"_blank\"> <span class=\"rest-row-name-text\">Succotash Restaurant</span> </a> </div> <div class=\"flex-row-justify\"> <div class=\"rest-row-review\"> <div class=\"star-rating\"><div class=\"star-wrapper small\"><div class=\"all-stars\"></div><div class=\"all-stars filled\" style=\"width: 88%;\"></div></div> <a class=\"review-link\" href=\"/succotash-restaurant#reviews\" target=\"_blank\"><span class=\"star-rating-text\">(654)</span><span class=\"star-rating-text--review-text\">654 reviews</span></a></div> <span class=\"recommended-container\"><span class=\"thumbs-up-icon\"></span> <span class=\"recommended-small\">87%</span> <span class=\"recommended-text\">87% Recommend</span></span> </div> <div class=\"rest-row-pricing\"> <i>  $    $      </i>   $    $      </div> </div><div class=\"rest-row-meta rest-row-meta-grid flex-row-justify\"> <span class=\"rest-row-meta--cuisine rest-row-meta-text\">Southern</span> <span class=\"rest-row-meta--location rest-row-meta-text\">National Harbor</span></div> <div class=\"message-alerts\"> </div> <div class=\"rest-row-times-cont\"><div class=\"rest-row-times\"> <div class=\"timeslot-window\"><ul class=\"availability-row-container\"> <li class=\"timeslot-option timeslot-control\"> <a class=\"rest-row-times-btn timeslot\" data-rid=\"170674\" href=\"/book/validate?rid=170674&amp;d=2017-07-05 18:00&amp;p=2&amp;pt=100&amp;ss=0&amp;sd=2017-07-05 18:00&amp;pofids=&amp;hash=3158122289\"> 6:00 pm  </a> </li> <li class=\"timeslot-option timeslot-control\"> <a class=\"rest-row-times-btn timeslot\" data-rid=\"170674\" href=\"/book/validate?rid=170674&amp;d=2017-07-05 18:30&amp;p=2&amp;pt=100&amp;ss=0&amp;sd=2017-07-05 18:30&amp;pofids=&amp;hash=3273789086\"> 6:30 pm  </a> </li> <li class=\"timeslot-option timeslot-control\"> <a class=\"rest-row-times-btn exact timeslot\" data-rid=\"170674\" href=\"/book/validate?rid=170674&amp;d=2017-07-05 19:00&amp;p=2&amp;pt=100&amp;ss=0&amp;sd=2017-07-05 19:00&amp;pofids=&amp;hash=4184893938\"> 7:00 pm  </a> </li> <li class=\"timeslot-option timeslot-control\"> <a class=\"rest-row-times-btn timeslot\" data-rid=\"170674\" href=\"/book/validate?rid=170674&amp;d=2017-07-05 19:15&amp;p=2&amp;pt=100&amp;ss=0&amp;sd=2017-07-05 19:15&amp;pofids=&amp;hash=3671355364\"> 7:15 pm  </a> </li> <li class=\"timeslot-option timeslot-control\"> <a class=\"rest-row-times-btn timeslot\" data-rid=\"170674\" href=\"/book/validate?rid=170674&amp;d=2017-07-05 19:30&amp;p=2&amp;pt=100&amp;ss=0&amp;sd=2017-07-05 19:30&amp;pofids=&amp;hash=3680597787\"> 7:30 pm  </a> </li> </ul></div> </div></div> </div></div> </div>,\n",
       " <div class=\"result content-section-list-row cf with-times\" data-id=\"41\" data-index=\"42\" data-lat=\"39.4130090\" data-lon=\"-77.4094540\" data-offers=\"\" data-rid=\"85606\"><div class=\"rest-row with-image\"> <div class=\"rest-row-image\"> <a href=\"/the-wine-kitchen-on-the-creek\" target=\"_blank\"><img alt=\"photo of the wine kitchen on the creek restaurant\" class=\"lazy rest-image\" data-src=\"//resizer.otstatic.com/v2/profiles/legacy/85606.jpg\" src=\"//media.otstatic.com/search-result-node/images/no-image.png\"/></a></div> <div class=\"rest-row-info\"><div class=\"rest-row-header\"> <a class=\"rest-row-name rest-name \" href=\"/the-wine-kitchen-on-the-creek\" target=\"_blank\"> <span class=\"rest-row-name-text\">The Wine Kitchen on the Creek</span> </a> </div> <div class=\"flex-row-justify\"> <div class=\"rest-row-review\"> <div class=\"star-rating\"><div class=\"star-wrapper small\"><div class=\"all-stars\"></div><div class=\"all-stars filled\" style=\"width: 94%;\"></div></div> <a class=\"review-link\" href=\"/the-wine-kitchen-on-the-creek#reviews\" target=\"_blank\"><span class=\"star-rating-text\">(1334)</span><span class=\"star-rating-text--review-text\">1334 reviews</span></a></div> <span class=\"recommended-container\"><span class=\"thumbs-up-icon\"></span> <span class=\"recommended-small\">95%</span> <span class=\"recommended-text\">95% Recommend</span></span> </div> <div class=\"rest-row-pricing\"> <i>  $    $      </i>   $    $      </div> </div><div class=\"rest-row-meta rest-row-meta-grid flex-row-justify\"> <span class=\"rest-row-meta--cuisine rest-row-meta-text\">American</span> <span class=\"rest-row-meta--location rest-row-meta-text\">Frederick</span></div> <div class=\"message-alerts\"> </div> <div class=\"rest-row-times-cont\"><div class=\"rest-row-times\"> <div class=\"timeslot-window\"><ul class=\"availability-row-container\"> <li class=\"timeslot-option timeslot-control\"> <a class=\"rest-row-times-btn timeslot\" data-rid=\"85606\" href=\"/book/validate?rid=85606&amp;d=2017-07-05 18:30&amp;p=2&amp;pt=100&amp;ss=0&amp;sd=2017-07-05 18:30&amp;pofids=&amp;hash=339517908\"> 6:30 pm  </a> </li> <li class=\"timeslot-option timeslot-control\"> <a class=\"rest-row-times-btn timeslot\" data-rid=\"85606\" href=\"/book/validate?rid=85606&amp;d=2017-07-05 18:45&amp;p=2&amp;pt=100&amp;ss=0&amp;sd=2017-07-05 18:45&amp;pofids=&amp;hash=820987759\"> 6:45 pm  </a> </li> <li class=\"timeslot-option timeslot-control\"> <a class=\"rest-row-times-btn exact timeslot\" data-rid=\"85606\" href=\"/book/validate?rid=85606&amp;d=2017-07-05 19:00&amp;p=2&amp;pt=100&amp;ss=0&amp;sd=2017-07-05 19:00&amp;pofids=&amp;hash=3395412327\"> 7:00 pm  </a> </li> <li class=\"timeslot-option timeslot-control\"> <a class=\"rest-row-times-btn timeslot\" data-rid=\"85606\" href=\"/book/validate?rid=85606&amp;d=2017-07-05 19:15&amp;p=2&amp;pt=100&amp;ss=0&amp;sd=2017-07-05 19:15&amp;pofids=&amp;hash=3241036819\"> 7:15 pm  </a> </li> <li class=\"timeslot-option timeslot-control\"> <a class=\"rest-row-times-btn timeslot\" data-rid=\"85606\" href=\"/book/validate?rid=85606&amp;d=2017-07-05 19:30&amp;p=2&amp;pt=100&amp;ss=0&amp;sd=2017-07-05 19:30&amp;pofids=&amp;hash=3994767887\"> 7:30 pm  </a> </li> </ul></div> </div></div> </div></div> </div>,\n",
       " <div class=\"result content-section-list-row cf with-times\" data-id=\"42\" data-index=\"43\" data-lat=\"38.8984340\" data-lon=\"-77.0230900\" data-offers=\"\" data-rid=\"12382\"><div class=\"rest-row with-image\"> <div class=\"rest-row-image\"> <a href=\"/proof-restaurant\" target=\"_blank\"><img alt=\"photo of proof restaurant restaurant\" class=\"lazy rest-image\" data-src=\"//resizer.otstatic.com/v2/profiles/legacy/12382.jpg\" src=\"//media.otstatic.com/search-result-node/images/no-image.png\"/></a></div> <div class=\"rest-row-info\"><div class=\"rest-row-header\"> <a class=\"rest-row-name rest-name \" href=\"/proof-restaurant\" target=\"_blank\"> <span class=\"rest-row-name-text\">Proof Restaurant</span> </a> </div> <div class=\"flex-row-justify\"> <div class=\"rest-row-review\"> <div class=\"star-rating\"><div class=\"star-wrapper small\"><div class=\"all-stars\"></div><div class=\"all-stars filled\" style=\"width: 90%;\"></div></div> <a class=\"review-link\" href=\"/proof-restaurant#reviews\" target=\"_blank\"><span class=\"star-rating-text\">(3243)</span><span class=\"star-rating-text--review-text\">3243 reviews</span></a></div> <span class=\"recommended-container\"><span class=\"thumbs-up-icon\"></span> <span class=\"recommended-small\">94%</span> <span class=\"recommended-text\">94% Recommend</span></span> </div> <div class=\"rest-row-pricing\"> <i>  $    $      </i>   $    $      </div> </div><div class=\"rest-row-meta rest-row-meta-grid flex-row-justify\"> <span class=\"rest-row-meta--cuisine rest-row-meta-text\">Contemporary American</span> <span class=\"rest-row-meta--location rest-row-meta-text\">Penn Quarter</span></div> <div class=\"message-alerts\"> <div class=\"notice-timeslot\"><span class=\"clock-icon\"></span> <span>Hurry, we only have 3 timeslots left!</span></div> </div> <div class=\"rest-row-times-cont\"><div class=\"rest-row-times\"> <div class=\"timeslot-window\"><ul class=\"availability-row-container\"> <li class=\"timeslot-option timeslot-control\"> <a class=\"rest-row-times-btn timeslot\" data-rid=\"12382\" href=\"/book/validate?rid=12382&amp;d=2017-07-05 18:30&amp;p=2&amp;pt=100&amp;ss=0&amp;sd=2017-07-05 18:30&amp;pofids=&amp;hash=575599082\"> 6:30 pm  </a> </li> <li class=\"timeslot-option timeslot-control\"> <a class=\"rest-row-times-btn timeslot\" data-rid=\"12382\" href=\"/book/validate?rid=12382&amp;d=2017-07-05 18:45&amp;p=2&amp;pt=100&amp;ss=0&amp;sd=2017-07-05 18:45&amp;pofids=&amp;hash=3086751815\"> 6:45 pm  </a> </li> <li class=\"timeslot-option timeslot-control\"> <a class=\"rest-row-times-btn exact timeslot\" data-rid=\"12382\" href=\"/book/validate?rid=12382&amp;d=2017-07-05 19:00&amp;p=2&amp;pt=100&amp;ss=0&amp;sd=2017-07-05 19:00&amp;pofids=&amp;hash=155935197\"> 7:00 pm  </a> </li> <li class=\"timeslot-option\"> <a class=\"rest-row-times-btn unavailable\" data-offers=\"\" data-rid=\"12382\">\\xa0 </a> </li> <li class=\"timeslot-option\"> <a class=\"rest-row-times-btn unavailable\" data-offers=\"\" data-rid=\"12382\">\\xa0 </a> </li> </ul></div> </div></div> </div></div> </div>,\n",
       " <div class=\"result content-section-list-row cf with-times\" data-id=\"43\" data-index=\"44\" data-lat=\"38.9042490\" data-lon=\"-77.0626230\" data-offers=\"\" data-rid=\"1835\"><div class=\"rest-row with-image\"> <div class=\"rest-row-image\"> <a href=\"/filomena-ristorante\" target=\"_blank\"><img alt=\"photo of filomena ristorante restaurant\" class=\"lazy rest-image\" data-src=\"//resizer.otstatic.com/v2/profiles/legacy/1835.jpg\" src=\"//media.otstatic.com/search-result-node/images/no-image.png\"/></a></div> <div class=\"rest-row-info\"><div class=\"rest-row-header\"> <a class=\"rest-row-name rest-name \" href=\"/filomena-ristorante\" target=\"_blank\"> <span class=\"rest-row-name-text\">Filomena Ristorante</span> </a> </div> <div class=\"flex-row-justify\"> <div class=\"rest-row-review\"> <div class=\"star-rating\"><div class=\"star-wrapper small\"><div class=\"all-stars\"></div><div class=\"all-stars filled\" style=\"width: 94%;\"></div></div> <a class=\"review-link\" href=\"/filomena-ristorante#reviews\" target=\"_blank\"><span class=\"star-rating-text\">(8252)</span><span class=\"star-rating-text--review-text\">8252 reviews</span></a></div> <span class=\"recommended-container\"><span class=\"thumbs-up-icon\"></span> <span class=\"recommended-small\">94%</span> <span class=\"recommended-text\">94% Recommend</span></span> </div> <div class=\"rest-row-pricing\"> <i>  $    $    $    </i>   $        </div> </div><div class=\"rest-row-meta rest-row-meta-grid flex-row-justify\"> <span class=\"rest-row-meta--cuisine rest-row-meta-text\">Italian</span> <span class=\"rest-row-meta--location rest-row-meta-text\">Georgetown</span></div> <div class=\"message-alerts\"> </div> <div class=\"rest-row-times-cont\"><div class=\"rest-row-times\"> <div class=\"timeslot-window\"><ul class=\"availability-row-container\"> <li class=\"timeslot-option timeslot-control\"> <a class=\"rest-row-times-btn timeslot\" data-rid=\"1835\" href=\"/book/validate?rid=1835&amp;d=2017-07-05 18:00&amp;p=2&amp;pt=100&amp;ss=0&amp;sd=2017-07-05 18:00&amp;pofids=&amp;hash=1113597873\"> 6:00 pm  </a> </li> <li class=\"timeslot-option timeslot-control\"> <a class=\"rest-row-times-btn timeslot\" data-rid=\"1835\" href=\"/book/validate?rid=1835&amp;d=2017-07-05 18:30&amp;p=2&amp;pt=100&amp;ss=0&amp;sd=2017-07-05 18:30&amp;pofids=&amp;hash=1444452554\"> 6:30 pm  </a> </li> <li class=\"timeslot-option timeslot-control\"> <a class=\"rest-row-times-btn exact timeslot\" data-rid=\"1835\" href=\"/book/validate?rid=1835&amp;d=2017-07-05 19:00&amp;p=2&amp;pt=100&amp;ss=0&amp;sd=2017-07-05 19:00&amp;pofids=&amp;hash=2186875015\"> 7:00 pm  </a> </li> <li class=\"timeslot-option timeslot-control\"> <a class=\"rest-row-times-btn timeslot\" data-rid=\"1835\" href=\"/book/validate?rid=1835&amp;d=2017-07-05 19:30&amp;p=2&amp;pt=100&amp;ss=0&amp;sd=2017-07-05 19:30&amp;pofids=&amp;hash=1742195282\"> 7:30 pm  </a> </li> <li class=\"timeslot-option timeslot-control\"> <a class=\"rest-row-times-btn timeslot\" data-rid=\"1835\" href=\"/book/validate?rid=1835&amp;d=2017-07-05 20:00&amp;p=2&amp;pt=100&amp;ss=0&amp;sd=2017-07-05 20:00&amp;pofids=&amp;hash=2956046151\"> 8:00 pm  </a> </li> </ul></div> </div></div> </div></div> </div>,\n",
       " <div class=\"result content-section-list-row cf with-times\" data-id=\"44\" data-index=\"45\" data-lat=\"38.8749030\" data-lon=\"-76.9999570\" data-offers=\"\" data-rid=\"114556\"><div class=\"rest-row with-image\"> <div class=\"rest-row-image\"> <a href=\"/the-arsenal-at-bluejacket\" target=\"_blank\"><img alt=\"photo of the arsenal at bluejacket restaurant\" class=\"lazy rest-image\" data-src=\"//resizer.otstatic.com/v2/profiles/legacy/114556.jpg\" src=\"//media.otstatic.com/search-result-node/images/no-image.png\"/></a></div> <div class=\"rest-row-info\"><div class=\"rest-row-header\"> <a class=\"rest-row-name rest-name \" href=\"/the-arsenal-at-bluejacket\" target=\"_blank\"> <span class=\"rest-row-name-text\">The Arsenal at Bluejacket</span> </a> </div> <div class=\"flex-row-justify\"> <div class=\"rest-row-review\"> <div class=\"star-rating\"><div class=\"star-wrapper small\"><div class=\"all-stars\"></div><div class=\"all-stars filled\" style=\"width: 88%;\"></div></div> <a class=\"review-link\" href=\"/the-arsenal-at-bluejacket#reviews\" target=\"_blank\"><span class=\"star-rating-text\">(603)</span><span class=\"star-rating-text--review-text\">603 reviews</span></a></div> <span class=\"recommended-container\"><span class=\"thumbs-up-icon\"></span> <span class=\"recommended-small\">82%</span> <span class=\"recommended-text\">82% Recommend</span></span> </div> <div class=\"rest-row-pricing\"> <i>  $    $      </i>   $    $      </div> </div><div class=\"rest-row-meta rest-row-meta-grid flex-row-justify\"> <span class=\"rest-row-meta--cuisine rest-row-meta-text\">Contemporary American</span> <span class=\"rest-row-meta--location rest-row-meta-text\">Navy Yard</span></div> <div class=\"message-alerts\"> <div class=\"notice-timeslot\"><span class=\"clock-icon\"></span> <span>Hurry, we only have 4 timeslots left!</span></div> </div> <div class=\"rest-row-times-cont\"><div class=\"rest-row-times\"> <div class=\"timeslot-window\"><ul class=\"availability-row-container\"> <li class=\"timeslot-option timeslot-control\"> <a class=\"rest-row-times-btn timeslot\" data-rid=\"114556\" href=\"/book/validate?rid=114556&amp;d=2017-07-05 17:00&amp;p=2&amp;pt=100&amp;ss=0&amp;sd=2017-07-05 17:00&amp;pofids=&amp;hash=1392198282\"> 5:00 pm  </a> </li> <li class=\"timeslot-option timeslot-control\"> <a class=\"rest-row-times-btn timeslot\" data-rid=\"114556\" href=\"/book/validate?rid=114556&amp;d=2017-07-05 17:15&amp;p=2&amp;pt=100&amp;ss=0&amp;sd=2017-07-05 17:15&amp;pofids=&amp;hash=2894068712\"> 5:15 pm  </a> </li> <li class=\"timeslot-option\"> <a class=\"rest-row-times-btn exact unavailable\" data-offers=\"\" data-rid=\"114556\">\\xa0 </a> </li> <li class=\"timeslot-option timeslot-control\"> <a class=\"rest-row-times-btn timeslot\" data-rid=\"114556\" href=\"/book/validate?rid=114556&amp;d=2017-07-05 19:15&amp;p=2&amp;pt=100&amp;ss=0&amp;sd=2017-07-05 19:15&amp;pofids=&amp;hash=2890474613\"> 7:15 pm  </a> </li> <li class=\"timeslot-option timeslot-control\"> <a class=\"rest-row-times-btn timeslot\" data-rid=\"114556\" href=\"/book/validate?rid=114556&amp;d=2017-07-05 19:30&amp;p=2&amp;pt=100&amp;ss=0&amp;sd=2017-07-05 19:30&amp;pofids=&amp;hash=1006606652\"> 7:30 pm  </a> </li> </ul></div> </div></div> </div></div> </div>,\n",
       " <div class=\"result content-section-list-row cf with-times\" data-id=\"45\" data-index=\"46\" data-lat=\"38.8050000\" data-lon=\"-77.0490000\" data-offers=\"\" data-rid=\"5631\"><div class=\"rest-row with-image\"> <div class=\"rest-row-image\"> <a href=\"/the-majestic\" target=\"_blank\"><img alt=\"photo of the majestic restaurant\" class=\"lazy rest-image\" data-src=\"//resizer.otstatic.com/v2/profiles/legacy/5631.jpg\" src=\"//media.otstatic.com/search-result-node/images/no-image.png\"/></a></div> <div class=\"rest-row-info\"><div class=\"rest-row-header\"> <a class=\"rest-row-name rest-name \" href=\"/the-majestic\" target=\"_blank\"> <span class=\"rest-row-name-text\">The Majestic</span> </a> </div> <div class=\"flex-row-justify\"> <div class=\"rest-row-review\"> <div class=\"star-rating\"><div class=\"star-wrapper small\"><div class=\"all-stars\"></div><div class=\"all-stars filled\" style=\"width: 90%;\"></div></div> <a class=\"review-link\" href=\"/the-majestic#reviews\" target=\"_blank\"><span class=\"star-rating-text\">(309)</span><span class=\"star-rating-text--review-text\">309 reviews</span></a></div> <span class=\"recommended-container\"><span class=\"thumbs-up-icon\"></span> <span class=\"recommended-small\">91%</span> <span class=\"recommended-text\">91% Recommend</span></span> </div> <div class=\"rest-row-pricing\"> <i>  $    $      </i>   $    $      </div> </div><div class=\"rest-row-meta rest-row-meta-grid flex-row-justify\"> <span class=\"rest-row-meta--cuisine rest-row-meta-text\">Contemporary American</span> <span class=\"rest-row-meta--location rest-row-meta-text\">Alexandria</span></div> <div class=\"message-alerts\"> </div> <div class=\"rest-row-times-cont\"><div class=\"rest-row-times\"> <div class=\"timeslot-window\"><ul class=\"availability-row-container\"> <li class=\"timeslot-option timeslot-control\"> <a class=\"rest-row-times-btn timeslot\" data-rid=\"5631\" href=\"/book/validate?rid=5631&amp;d=2017-07-05 18:30&amp;p=2&amp;pt=100&amp;ss=0&amp;sd=2017-07-05 18:30&amp;pofids=&amp;hash=3596744680\"> 6:30 pm  </a> </li> <li class=\"timeslot-option timeslot-control\"> <a class=\"rest-row-times-btn timeslot\" data-rid=\"5631\" href=\"/book/validate?rid=5631&amp;d=2017-07-05 18:45&amp;p=2&amp;pt=100&amp;ss=0&amp;sd=2017-07-05 18:45&amp;pofids=&amp;hash=2585360492\"> 6:45 pm  </a> </li> <li class=\"timeslot-option timeslot-control\"> <a class=\"rest-row-times-btn exact timeslot\" data-rid=\"5631\" href=\"/book/validate?rid=5631&amp;d=2017-07-05 19:00&amp;p=2&amp;pt=100&amp;ss=0&amp;sd=2017-07-05 19:00&amp;pofids=&amp;hash=1624778393\"> 7:00 pm  </a> </li> <li class=\"timeslot-option timeslot-control\"> <a class=\"rest-row-times-btn timeslot\" data-rid=\"5631\" href=\"/book/validate?rid=5631&amp;d=2017-07-05 19:15&amp;p=2&amp;pt=100&amp;ss=0&amp;sd=2017-07-05 19:15&amp;pofids=&amp;hash=1636188371\"> 7:15 pm  </a> </li> <li class=\"timeslot-option timeslot-control\"> <a class=\"rest-row-times-btn timeslot\" data-rid=\"5631\" href=\"/book/validate?rid=5631&amp;d=2017-07-05 21:00&amp;p=2&amp;pt=1000&amp;ss=0&amp;sd=2017-07-05 21:00&amp;pofids=&amp;hash=1882943810&amp;i=1\"> 9:00 pm  </a> </li> </ul></div> </div></div> </div></div> </div>,\n",
       " <div class=\"result content-section-list-row cf with-times\" data-id=\"46\" data-index=\"47\" data-lat=\"38.8038290\" data-lon=\"-77.0402680\" data-offers=\"\" data-rid=\"106921\"><div class=\"rest-row with-image\"> <div class=\"rest-row-image\"> <a href=\"/virtue-feed-and-grain-alexandria\" target=\"_blank\"><img alt=\"photo of virtue feed &amp; grain restaurant\" class=\"lazy rest-image\" data-src=\"//resizer.otstatic.com/v2/profiles/legacy/106921.jpg\" src=\"//media.otstatic.com/search-result-node/images/no-image.png\"/></a></div> <div class=\"rest-row-info\"><div class=\"rest-row-header\"> <a class=\"rest-row-name rest-name \" href=\"/virtue-feed-and-grain-alexandria\" target=\"_blank\"> <span class=\"rest-row-name-text\">Virtue Feed &amp; Grain</span> </a> </div> <div class=\"flex-row-justify\"> <div class=\"rest-row-review\"> <div class=\"star-rating\"><div class=\"star-wrapper small\"><div class=\"all-stars\"></div><div class=\"all-stars filled\" style=\"width: 88%;\"></div></div> <a class=\"review-link\" href=\"/virtue-feed-and-grain-alexandria#reviews\" target=\"_blank\"><span class=\"star-rating-text\">(1252)</span><span class=\"star-rating-text--review-text\">1252 reviews</span></a></div> <span class=\"recommended-container\"><span class=\"thumbs-up-icon\"></span> <span class=\"recommended-small\">85%</span> <span class=\"recommended-text\">85% Recommend</span></span> </div> <div class=\"rest-row-pricing\"> <i>  $    $      </i>   $    $      </div> </div><div class=\"rest-row-meta rest-row-meta-grid flex-row-justify\"> <span class=\"rest-row-meta--cuisine rest-row-meta-text\">Contemporary American</span> <span class=\"rest-row-meta--location rest-row-meta-text\">Alexandria</span></div> <div class=\"message-alerts\"> </div> <div class=\"rest-row-times-cont\"><div class=\"rest-row-times\"> <div class=\"timeslot-window\"><ul class=\"availability-row-container\"> <li class=\"timeslot-option timeslot-control\"> <a class=\"rest-row-times-btn timeslot\" data-rid=\"106921\" href=\"/book/validate?rid=106921&amp;d=2017-07-05 18:30&amp;p=2&amp;pt=100&amp;ss=0&amp;sd=2017-07-05 18:30&amp;pofids=&amp;hash=3978932421\"> 6:30 pm  </a> </li> <li class=\"timeslot-option timeslot-control\"> <a class=\"rest-row-times-btn timeslot\" data-rid=\"106921\" href=\"/book/validate?rid=106921&amp;d=2017-07-05 18:45&amp;p=2&amp;pt=100&amp;ss=0&amp;sd=2017-07-05 18:45&amp;pofids=&amp;hash=2730494691\"> 6:45 pm  </a> </li> <li class=\"timeslot-option timeslot-control\"> <a class=\"rest-row-times-btn exact timeslot\" data-rid=\"106921\" href=\"/book/validate?rid=106921&amp;d=2017-07-05 19:00&amp;p=2&amp;pt=100&amp;ss=0&amp;sd=2017-07-05 19:00&amp;pofids=&amp;hash=3236606639\"> 7:00 pm  </a> </li> <li class=\"timeslot-option timeslot-control\"> <a class=\"rest-row-times-btn timeslot\" data-rid=\"106921\" href=\"/book/validate?rid=106921&amp;d=2017-07-05 19:15&amp;p=2&amp;pt=100&amp;ss=0&amp;sd=2017-07-05 19:15&amp;pofids=&amp;hash=4254696768\"> 7:15 pm  </a> </li> <li class=\"timeslot-option timeslot-control\"> <a class=\"rest-row-times-btn timeslot\" data-rid=\"106921\" href=\"/book/validate?rid=106921&amp;d=2017-07-05 19:30&amp;p=2&amp;pt=100&amp;ss=0&amp;sd=2017-07-05 19:30&amp;pofids=&amp;hash=458352103\"> 7:30 pm  </a> </li> </ul></div> </div></div> </div></div> </div>,\n",
       " <div class=\"result content-section-list-row cf with-times\" data-id=\"47\" data-index=\"48\" data-lat=\"38.8970680\" data-lon=\"-77.0201240\" data-offers=\"\" data-rid=\"151471\"><div class=\"rest-row with-image\"> <div class=\"rest-row-image\"> <a href=\"/denson-liquor-bar\" target=\"_blank\"><img alt=\"photo of denson liquor bar restaurant\" class=\"lazy rest-image\" data-src=\"//resizer.otstatic.com/v2/profiles/legacy/151471.jpg\" src=\"//media.otstatic.com/search-result-node/images/no-image.png\"/></a></div> <div class=\"rest-row-info\"><div class=\"rest-row-header\"> <a class=\"rest-row-name rest-name \" href=\"/denson-liquor-bar\" target=\"_blank\"> <span class=\"rest-row-name-text\">Denson Liquor Bar</span> </a> </div> <div class=\"flex-row-justify\"> <div class=\"rest-row-review\"> <div class=\"star-rating\"><div class=\"star-wrapper small\"><div class=\"all-stars\"></div><div class=\"all-stars filled\" style=\"width: 96%;\"></div></div> <a class=\"review-link\" href=\"/denson-liquor-bar#reviews\" target=\"_blank\"><span class=\"star-rating-text\">(83)</span><span class=\"star-rating-text--review-text\">83 reviews</span></a></div> <span class=\"recommended-container\"><span class=\"thumbs-up-icon\"></span> <span class=\"recommended-small\">96%</span> <span class=\"recommended-text\">96% Recommend</span></span> </div> <div class=\"rest-row-pricing\"> <i>  $    $      </i>   $    $      </div> </div><div class=\"rest-row-meta rest-row-meta-grid flex-row-justify\"> <span class=\"rest-row-meta--cuisine rest-row-meta-text\">American</span> <span class=\"rest-row-meta--location rest-row-meta-text\">Penn Quarter</span></div> <div class=\"message-alerts\"> </div> <div class=\"rest-row-times-cont\"><div class=\"rest-row-times\"> <div class=\"timeslot-window\"><ul class=\"availability-row-container\"> <li class=\"timeslot-option timeslot-control\"> <a class=\"rest-row-times-btn timeslot\" data-rid=\"151471\" href=\"/book/validate?rid=151471&amp;d=2017-07-05 18:30&amp;p=2&amp;pt=100&amp;ss=0&amp;sd=2017-07-05 18:30&amp;pofids=&amp;hash=2745691004\"> 6:30 pm  </a> </li> <li class=\"timeslot-option timeslot-control\"> <a class=\"rest-row-times-btn timeslot\" data-rid=\"151471\" href=\"/book/validate?rid=151471&amp;d=2017-07-05 18:45&amp;p=2&amp;pt=100&amp;ss=0&amp;sd=2017-07-05 18:45&amp;pofids=&amp;hash=2540034973\"> 6:45 pm  </a> </li> <li class=\"timeslot-option timeslot-control\"> <a class=\"rest-row-times-btn exact timeslot\" data-rid=\"151471\" href=\"/book/validate?rid=151471&amp;d=2017-07-05 19:00&amp;p=2&amp;pt=100&amp;ss=0&amp;sd=2017-07-05 19:00&amp;pofids=&amp;hash=2442789694\"> 7:00 pm  </a> </li> <li class=\"timeslot-option timeslot-control\"> <a class=\"rest-row-times-btn timeslot\" data-rid=\"151471\" href=\"/book/validate?rid=151471&amp;d=2017-07-05 19:15&amp;p=2&amp;pt=100&amp;ss=0&amp;sd=2017-07-05 19:15&amp;pofids=&amp;hash=719208421\"> 7:15 pm  </a> </li> <li class=\"timeslot-option timeslot-control\"> <a class=\"rest-row-times-btn timeslot\" data-rid=\"151471\" href=\"/book/validate?rid=151471&amp;d=2017-07-05 19:30&amp;p=2&amp;pt=100&amp;ss=0&amp;sd=2017-07-05 19:30&amp;pofids=&amp;hash=63015968\"> 7:30 pm  </a> </li> </ul></div> </div></div> </div></div> </div>,\n",
       " <div class=\"result content-section-list-row cf with-times\" data-id=\"48\" data-index=\"49\" data-lat=\"38.8860900\" data-lon=\"-77.0967970\" data-offers=\"\" data-rid=\"11677\"><div class=\"rest-row with-image\"> <div class=\"rest-row-image\"> <a href=\"/the-liberty-tavern\" target=\"_blank\"><img alt=\"photo of the liberty tavern restaurant\" class=\"lazy rest-image\" data-src=\"//resizer.otstatic.com/v2/profiles/legacy/11677.jpg\" src=\"//media.otstatic.com/search-result-node/images/no-image.png\"/></a></div> <div class=\"rest-row-info\"><div class=\"rest-row-header\"> <a class=\"rest-row-name rest-name \" href=\"/the-liberty-tavern\" target=\"_blank\"> <span class=\"rest-row-name-text\">The Liberty Tavern</span> </a> </div> <div class=\"flex-row-justify\"> <div class=\"rest-row-review\"> <div class=\"star-rating\"><div class=\"star-wrapper small\"><div class=\"all-stars\"></div><div class=\"all-stars filled\" style=\"width: 90%;\"></div></div> <a class=\"review-link\" href=\"/the-liberty-tavern#reviews\" target=\"_blank\"><span class=\"star-rating-text\">(2868)</span><span class=\"star-rating-text--review-text\">2868 reviews</span></a></div> <span class=\"recommended-container\"><span class=\"thumbs-up-icon\"></span> <span class=\"recommended-small\">94%</span> <span class=\"recommended-text\">94% Recommend</span></span> </div> <div class=\"rest-row-pricing\"> <i>  $    $      </i>   $    $      </div> </div><div class=\"rest-row-meta rest-row-meta-grid flex-row-justify\"> <span class=\"rest-row-meta--cuisine rest-row-meta-text\">American</span> <span class=\"rest-row-meta--location rest-row-meta-text\">Arlington</span></div> <div class=\"message-alerts\"> </div> <div class=\"rest-row-times-cont\"><div class=\"rest-row-times\"> <div class=\"timeslot-window\"><ul class=\"availability-row-container\"> <li class=\"timeslot-option timeslot-control\"> <a class=\"rest-row-times-btn timeslot\" data-rid=\"11677\" href=\"/book/validate?rid=11677&amp;d=2017-07-05 18:30&amp;p=2&amp;pt=100&amp;ss=0&amp;sd=2017-07-05 18:30&amp;pofids=&amp;hash=3282182787\"> 6:30 pm  </a> </li> <li class=\"timeslot-option timeslot-control\"> <a class=\"rest-row-times-btn timeslot\" data-rid=\"11677\" href=\"/book/validate?rid=11677&amp;d=2017-07-05 18:45&amp;p=2&amp;pt=100&amp;ss=0&amp;sd=2017-07-05 18:45&amp;pofids=&amp;hash=4132405492\"> 6:45 pm  </a> </li> <li class=\"timeslot-option timeslot-control\"> <a class=\"rest-row-times-btn exact timeslot\" data-rid=\"11677\" href=\"/book/validate?rid=11677&amp;d=2017-07-05 19:00&amp;p=2&amp;pt=100&amp;ss=0&amp;sd=2017-07-05 19:00&amp;pofids=&amp;hash=3187238910\"> 7:00 pm  </a> </li> <li class=\"timeslot-option timeslot-control\"> <a class=\"rest-row-times-btn timeslot\" data-rid=\"11677\" href=\"/book/validate?rid=11677&amp;d=2017-07-05 19:15&amp;p=2&amp;pt=100&amp;ss=0&amp;sd=2017-07-05 19:15&amp;pofids=&amp;hash=1253620116\"> 7:15 pm  </a> </li> <li class=\"timeslot-option timeslot-control\"> <a class=\"rest-row-times-btn timeslot\" data-rid=\"11677\" href=\"/book/validate?rid=11677&amp;d=2017-07-05 19:30&amp;p=2&amp;pt=100&amp;ss=0&amp;sd=2017-07-05 19:30&amp;pofids=&amp;hash=3889050161\"> 7:30 pm  </a> </li> </ul></div> </div></div> </div></div> </div>,\n",
       " <div class=\"result content-section-list-row cf with-times\" data-id=\"49\" data-index=\"50\" data-lat=\"38.9035080\" data-lon=\"-77.0216020\" data-offers=\"\" data-rid=\"191320\"><div class=\"rest-row with-image\"> <div class=\"rest-row-image\"> <a href=\"/kinship\" target=\"_blank\"><img alt=\"photo of kinship restaurant\" class=\"lazy rest-image\" data-src=\"//resizer.otstatic.com/v2/profiles/legacy/191320.jpg\" src=\"//media.otstatic.com/search-result-node/images/no-image.png\"/></a></div> <div class=\"rest-row-info\"><div class=\"rest-row-header\"> <a class=\"rest-row-name rest-name \" href=\"/kinship\" target=\"_blank\"> <span class=\"rest-row-name-text\">Kinship</span> </a> </div> <div class=\"flex-row-justify\"> <div class=\"rest-row-review\"> <div class=\"star-rating\"><div class=\"star-wrapper small\"><div class=\"all-stars\"></div><div class=\"all-stars filled\" style=\"width: 96%;\"></div></div> <a class=\"review-link\" href=\"/kinship#reviews\" target=\"_blank\"><span class=\"star-rating-text\">(450)</span><span class=\"star-rating-text--review-text\">450 reviews</span></a></div> <span class=\"recommended-container\"><span class=\"thumbs-up-icon\"></span> <span class=\"recommended-small\">92%</span> <span class=\"recommended-text\">92% Recommend</span></span> </div> <div class=\"rest-row-pricing\"> <i>  $    $    $    $  </i> </div> </div><div class=\"rest-row-meta rest-row-meta-grid flex-row-justify\"> <span class=\"rest-row-meta--cuisine rest-row-meta-text\">American</span> <span class=\"rest-row-meta--location rest-row-meta-text\">Mt. Vernon Square</span></div> <div class=\"message-alerts\"> </div> <div class=\"rest-row-times-cont\"><div class=\"rest-row-times\"> <div class=\"timeslot-window\"><ul class=\"availability-row-container\"> <li class=\"timeslot-option timeslot-control\"> <a class=\"rest-row-times-btn timeslot\" data-rid=\"191320\" href=\"/book/validate?rid=191320&amp;d=2017-07-05 17:30&amp;p=2&amp;pt=100&amp;ss=0&amp;sd=2017-07-05 17:30&amp;pofids=&amp;hash=1166108436\"> 5:30 pm  </a> </li> <li class=\"timeslot-option timeslot-control\"> <a class=\"rest-row-times-btn timeslot\" data-rid=\"191320\" href=\"/book/validate?rid=191320&amp;d=2017-07-05 18:30&amp;p=2&amp;pt=100&amp;ss=0&amp;sd=2017-07-05 18:30&amp;pofids=&amp;hash=1348364461\"> 6:30 pm  </a> </li> <li class=\"timeslot-option timeslot-control\"> <a class=\"rest-row-times-btn exact timeslot\" data-rid=\"191320\" href=\"/book/validate?rid=191320&amp;d=2017-07-05 19:00&amp;p=2&amp;pt=100&amp;ss=0&amp;sd=2017-07-05 19:00&amp;pofids=&amp;hash=710568535\"> 7:00 pm  </a> </li> <li class=\"timeslot-option timeslot-control\"> <a class=\"rest-row-times-btn timeslot\" data-rid=\"191320\" href=\"/book/validate?rid=191320&amp;d=2017-07-05 21:00&amp;p=2&amp;pt=100&amp;ss=0&amp;sd=2017-07-05 21:00&amp;pofids=&amp;hash=1040317886\"> 9:00 pm  </a> </li> <li class=\"timeslot-option timeslot-control\"> <a class=\"rest-row-times-btn timeslot\" data-rid=\"191320\" href=\"/book/validate?rid=191320&amp;d=2017-07-05 21:30&amp;p=2&amp;pt=100&amp;ss=0&amp;sd=2017-07-05 21:30&amp;pofids=&amp;hash=2763749096\"> 9:30 pm  </a> </li> </ul></div> </div></div> </div></div> </div>,\n",
       " <div class=\"result content-section-list-row cf with-times\" data-id=\"50\" data-index=\"51\" data-lat=\"38.8818900\" data-lon=\"-76.9953410\" data-offers=\"\" data-rid=\"41830\"><div class=\"rest-row with-image\"> <div class=\"rest-row-image\"> <a href=\"/cava-mezze-dc\" target=\"_blank\"><img alt=\"photo of cava mezze - dc restaurant\" class=\"lazy rest-image\" data-src=\"//resizer.otstatic.com/v2/profiles/legacy/41830.jpg\" src=\"//media.otstatic.com/search-result-node/images/no-image.png\"/></a></div> <div class=\"rest-row-info\"><div class=\"rest-row-header\"> <a class=\"rest-row-name rest-name \" href=\"/cava-mezze-dc\" target=\"_blank\"> <span class=\"rest-row-name-text\">Cava Mezze - DC</span> </a> </div> <div class=\"flex-row-justify\"> <div class=\"rest-row-review\"> <div class=\"star-rating\"><div class=\"star-wrapper small\"><div class=\"all-stars\"></div><div class=\"all-stars filled\" style=\"width: 92%;\"></div></div> <a class=\"review-link\" href=\"/cava-mezze-dc#reviews\" target=\"_blank\"><span class=\"star-rating-text\">(1325)</span><span class=\"star-rating-text--review-text\">1325 reviews</span></a></div> <span class=\"recommended-container\"><span class=\"thumbs-up-icon\"></span> <span class=\"recommended-small\">86%</span> <span class=\"recommended-text\">86% Recommend</span></span> </div> <div class=\"rest-row-pricing\"> <i>  $    $      </i>   $    $      </div> </div><div class=\"rest-row-meta rest-row-meta-grid flex-row-justify\"> <span class=\"rest-row-meta--cuisine rest-row-meta-text\">Greek</span> <span class=\"rest-row-meta--location rest-row-meta-text\">Capitol Hill</span></div> <div class=\"message-alerts\"> </div> <div class=\"rest-row-times-cont\"><div class=\"rest-row-times\"> <div class=\"timeslot-window\"><ul class=\"availability-row-container\"> <li class=\"timeslot-option timeslot-control\"> <a class=\"rest-row-times-btn timeslot\" data-rid=\"41830\" href=\"/book/validate?rid=41830&amp;d=2017-07-05 18:30&amp;p=2&amp;pt=100&amp;ss=0&amp;sd=2017-07-05 18:30&amp;pofids=&amp;hash=1712207316\"> 6:30 pm  </a> </li> <li class=\"timeslot-option timeslot-control\"> <a class=\"rest-row-times-btn timeslot\" data-rid=\"41830\" href=\"/book/validate?rid=41830&amp;d=2017-07-05 18:45&amp;p=2&amp;pt=100&amp;ss=0&amp;sd=2017-07-05 18:45&amp;pofids=&amp;hash=2605296425\"> 6:45 pm  </a> </li> <li class=\"timeslot-option timeslot-control\"> <a class=\"rest-row-times-btn exact timeslot\" data-rid=\"41830\" href=\"/book/validate?rid=41830&amp;d=2017-07-05 19:00&amp;p=2&amp;pt=100&amp;ss=0&amp;sd=2017-07-05 19:00&amp;pofids=&amp;hash=1451506125\"> 7:00 pm  </a> </li> <li class=\"timeslot-option timeslot-control\"> <a class=\"rest-row-times-btn timeslot\" data-rid=\"41830\" href=\"/book/validate?rid=41830&amp;d=2017-07-05 19:15&amp;p=2&amp;pt=100&amp;ss=0&amp;sd=2017-07-05 19:15&amp;pofids=&amp;hash=862466365\"> 7:15 pm  </a> </li> <li class=\"timeslot-option timeslot-control\"> <a class=\"rest-row-times-btn timeslot\" data-rid=\"41830\" href=\"/book/validate?rid=41830&amp;d=2017-07-05 19:30&amp;p=2&amp;pt=100&amp;ss=0&amp;sd=2017-07-05 19:30&amp;pofids=&amp;hash=2956321800\"> 7:30 pm  </a> </li> </ul></div> </div></div> </div></div> </div>,\n",
       " <div class=\"result content-section-list-row cf with-times\" data-id=\"51\" data-index=\"52\" data-lat=\"38.9014560\" data-lon=\"-77.0199260\" data-offers=\"\" data-rid=\"231226\"><div class=\"rest-row with-image\"> <div class=\"rest-row-image\"> <a href=\"/r/farmers-and-distillers-washington\" target=\"_blank\"><img alt=\"photo of farmers &amp; distillers restaurant\" class=\"lazy rest-image\" data-src=\"//resizer.otstatic.com/v2/profiles/legacy/231226.jpg\" src=\"//media.otstatic.com/search-result-node/images/no-image.png\"/></a></div> <div class=\"rest-row-info\"><div class=\"rest-row-header\"> <a class=\"rest-row-name rest-name \" href=\"/r/farmers-and-distillers-washington\" target=\"_blank\"> <span class=\"rest-row-name-text\">Farmers &amp; Distillers</span> </a> </div> <div class=\"flex-row-justify\"> <div class=\"rest-row-review\"> <div class=\"star-rating\"><div class=\"star-wrapper small\"><div class=\"all-stars\"></div><div class=\"all-stars filled\" style=\"width: 88%;\"></div></div> <a class=\"review-link\" href=\"/r/farmers-and-distillers-washington#reviews\" target=\"_blank\"><span class=\"star-rating-text\">(1161)</span><span class=\"star-rating-text--review-text\">1161 reviews</span></a></div> <span class=\"recommended-container\"><span class=\"thumbs-up-icon\"></span> <span class=\"recommended-small\">84%</span> <span class=\"recommended-text\">84% Recommend</span></span> </div> <div class=\"rest-row-pricing\"> <i>  $    $      </i>   $    $      </div> </div><div class=\"rest-row-meta rest-row-meta-grid flex-row-justify\"> <span class=\"rest-row-meta--cuisine rest-row-meta-text\">American</span> <span class=\"rest-row-meta--location rest-row-meta-text\">Mt. Vernon Square</span></div> <div class=\"message-alerts\"> </div> <div class=\"rest-row-times-cont\"><div class=\"rest-row-times\"> <div class=\"timeslot-window\"><ul class=\"availability-row-container\"> <li class=\"timeslot-option timeslot-control\"> <a class=\"rest-row-times-btn timeslot\" data-rid=\"231226\" href=\"/book/validate?rid=231226&amp;d=2017-07-05 18:30&amp;p=2&amp;pt=100&amp;ss=0&amp;sd=2017-07-05 18:30&amp;pofids=&amp;hash=3333511131\"> 6:30 pm  </a> </li> <li class=\"timeslot-option timeslot-control\"> <a class=\"rest-row-times-btn timeslot\" data-rid=\"231226\" href=\"/book/validate?rid=231226&amp;d=2017-07-05 18:45&amp;p=2&amp;pt=100&amp;ss=0&amp;sd=2017-07-05 18:45&amp;pofids=&amp;hash=359522026\"> 6:45 pm  </a> </li> <li class=\"timeslot-option timeslot-control\"> <a class=\"rest-row-times-btn exact timeslot\" data-rid=\"231226\" href=\"/book/validate?rid=231226&amp;d=2017-07-05 19:00&amp;p=2&amp;pt=100&amp;ss=0&amp;sd=2017-07-05 19:00&amp;pofids=&amp;hash=3202883832\"> 7:00 pm  </a> </li> <li class=\"timeslot-option timeslot-control\"> <a class=\"rest-row-times-btn timeslot\" data-rid=\"231226\" href=\"/book/validate?rid=231226&amp;d=2017-07-05 19:15&amp;p=2&amp;pt=100&amp;ss=0&amp;sd=2017-07-05 19:15&amp;pofids=&amp;hash=3159270320\"> 7:15 pm  </a> </li> <li class=\"timeslot-option timeslot-control\"> <a class=\"rest-row-times-btn timeslot\" data-rid=\"231226\" href=\"/book/validate?rid=231226&amp;d=2017-07-05 19:30&amp;p=2&amp;pt=100&amp;ss=0&amp;sd=2017-07-05 19:30&amp;pofids=&amp;hash=729554623\"> 7:30 pm  </a> </li> </ul></div> </div></div> </div></div> </div>,\n",
       " <div class=\"result content-section-list-row cf with-times\" data-id=\"52\" data-index=\"53\" data-lat=\"38.8868560\" data-lon=\"-76.9958080\" data-offers=\"\" data-rid=\"44884\"><div class=\"rest-row with-image\"> <div class=\"rest-row-image\"> <a href=\"/acqua-al-2\" target=\"_blank\"><img alt=\"photo of acqua al 2 restaurant\" class=\"lazy rest-image\" data-src=\"//resizer.otstatic.com/v2/profiles/legacy/44884.jpg\" src=\"//media.otstatic.com/search-result-node/images/no-image.png\"/></a></div> <div class=\"rest-row-info\"><div class=\"rest-row-header\"> <a class=\"rest-row-name rest-name \" href=\"/acqua-al-2\" target=\"_blank\"> <span class=\"rest-row-name-text\">Acqua Al 2</span> </a> </div> <div class=\"flex-row-justify\"> <div class=\"rest-row-review\"> <div class=\"star-rating\"><div class=\"star-wrapper small\"><div class=\"all-stars\"></div><div class=\"all-stars filled\" style=\"width: 94%;\"></div></div> <a class=\"review-link\" href=\"/acqua-al-2#reviews\" target=\"_blank\"><span class=\"star-rating-text\">(2477)</span><span class=\"star-rating-text--review-text\">2477 reviews</span></a></div> <span class=\"recommended-container\"><span class=\"thumbs-up-icon\"></span> <span class=\"recommended-small\">95%</span> <span class=\"recommended-text\">95% Recommend</span></span> </div> <div class=\"rest-row-pricing\"> <i>  $    $    $    </i>   $        </div> </div><div class=\"rest-row-meta rest-row-meta-grid flex-row-justify\"> <span class=\"rest-row-meta--cuisine rest-row-meta-text\">Italian</span> <span class=\"rest-row-meta--location rest-row-meta-text\">Capitol Hill</span></div> <div class=\"message-alerts\"> </div> <div class=\"rest-row-times-cont\"><div class=\"rest-row-times\"> <div class=\"timeslot-window\"><ul class=\"availability-row-container\"> <li class=\"timeslot-option timeslot-control\"> <a class=\"rest-row-times-btn timeslot\" data-rid=\"44884\" href=\"/book/validate?rid=44884&amp;d=2017-07-05 18:30&amp;p=2&amp;pt=100&amp;ss=0&amp;sd=2017-07-05 18:30&amp;pofids=&amp;hash=725675426\"> 6:30 pm  </a> </li> <li class=\"timeslot-option timeslot-control\"> <a class=\"rest-row-times-btn timeslot\" data-rid=\"44884\" href=\"/book/validate?rid=44884&amp;d=2017-07-05 18:45&amp;p=2&amp;pt=100&amp;ss=0&amp;sd=2017-07-05 18:45&amp;pofids=&amp;hash=2771526920\"> 6:45 pm  </a> </li> <li class=\"timeslot-option timeslot-control\"> <a class=\"rest-row-times-btn exact timeslot\" data-rid=\"44884\" href=\"/book/validate?rid=44884&amp;d=2017-07-05 19:00&amp;p=2&amp;pt=100&amp;ss=0&amp;sd=2017-07-05 19:00&amp;pofids=&amp;hash=3614349128\"> 7:00 pm  </a> </li> <li class=\"timeslot-option timeslot-control\"> <a class=\"rest-row-times-btn timeslot\" data-rid=\"44884\" href=\"/book/validate?rid=44884&amp;d=2017-07-05 19:15&amp;p=2&amp;pt=100&amp;ss=0&amp;sd=2017-07-05 19:15&amp;pofids=&amp;hash=2389934046\"> 7:15 pm  </a> </li> <li class=\"timeslot-option timeslot-control\"> <a class=\"rest-row-times-btn timeslot\" data-rid=\"44884\" href=\"/book/validate?rid=44884&amp;d=2017-07-05 19:30&amp;p=2&amp;pt=100&amp;ss=0&amp;sd=2017-07-05 19:30&amp;pofids=&amp;hash=3193749903\"> 7:30 pm  </a> </li> </ul></div> </div></div> </div></div> </div>,\n",
       " <div class=\"result content-section-list-row cf with-times\" data-id=\"53\" data-index=\"54\" data-lat=\"38.8851570\" data-lon=\"-76.9965070\" data-offers=\"\" data-rid=\"340285\"><div class=\"rest-row with-image\"> <div class=\"rest-row-image\"> <a href=\"/r/joselito-casa-de-comidas-washington\" target=\"_blank\"><img alt=\"photo of joselito casa de comidas restaurant\" class=\"lazy rest-image\" data-src=\"//resizer.otstatic.com/v2/profiles/legacy/340285.jpg\" src=\"//media.otstatic.com/search-result-node/images/no-image.png\"/></a></div> <div class=\"rest-row-info\"><div class=\"rest-row-header\"> <a class=\"rest-row-name rest-name \" href=\"/r/joselito-casa-de-comidas-washington\" target=\"_blank\"> <span class=\"rest-row-name-text\">Joselito Casa de Comidas</span> </a> </div> <div class=\"flex-row-justify\"> <div class=\"rest-row-review\"> <div class=\"star-rating\"><div class=\"star-wrapper small\"><div class=\"all-stars\"></div><div class=\"all-stars filled\" style=\"width: 90%;\"></div></div> <a class=\"review-link\" href=\"/r/joselito-casa-de-comidas-washington#reviews\" target=\"_blank\"><span class=\"star-rating-text\">(159)</span><span class=\"star-rating-text--review-text\">159 reviews</span></a></div> <span class=\"recommended-container\"><span class=\"thumbs-up-icon\"></span> <span class=\"recommended-small\">94%</span> <span class=\"recommended-text\">94% Recommend</span></span> </div> <div class=\"rest-row-pricing\"> <i>  $    $      </i>   $    $      </div> </div><div class=\"rest-row-meta rest-row-meta-grid flex-row-justify\"> <span class=\"rest-row-meta--cuisine rest-row-meta-text\">Spanish</span> <span class=\"rest-row-meta--location rest-row-meta-text\">Capitol Hill</span></div> <div class=\"message-alerts\"> </div> <div class=\"rest-row-times-cont\"><div class=\"rest-row-times\"> <div class=\"timeslot-window\"><ul class=\"availability-row-container\"> <li class=\"timeslot-option timeslot-control\"> <a class=\"rest-row-times-btn timeslot\" data-rid=\"340285\" href=\"/book/validate?rid=340285&amp;d=2017-07-05 18:30&amp;p=2&amp;pt=100&amp;ss=0&amp;sd=2017-07-05 18:30&amp;pofids=&amp;hash=3518662871\"> 6:30 pm  </a> </li> <li class=\"timeslot-option timeslot-control\"> <a class=\"rest-row-times-btn timeslot\" data-rid=\"340285\" href=\"/book/validate?rid=340285&amp;d=2017-07-05 18:45&amp;p=2&amp;pt=100&amp;ss=0&amp;sd=2017-07-05 18:45&amp;pofids=&amp;hash=3001998896\"> 6:45 pm  </a> </li> <li class=\"timeslot-option timeslot-control\"> <a class=\"rest-row-times-btn exact timeslot\" data-rid=\"340285\" href=\"/book/validate?rid=340285&amp;d=2017-07-05 19:00&amp;p=2&amp;pt=100&amp;ss=0&amp;sd=2017-07-05 19:00&amp;pofids=&amp;hash=2655239948\"> 7:00 pm  </a> </li> <li class=\"timeslot-option timeslot-control\"> <a class=\"rest-row-times-btn timeslot\" data-rid=\"340285\" href=\"/book/validate?rid=340285&amp;d=2017-07-05 19:15&amp;p=2&amp;pt=100&amp;ss=0&amp;sd=2017-07-05 19:15&amp;pofids=&amp;hash=2023390544\"> 7:15 pm  </a> </li> <li class=\"timeslot-option timeslot-control\"> <a class=\"rest-row-times-btn timeslot\" data-rid=\"340285\" href=\"/book/validate?rid=340285&amp;d=2017-07-05 19:30&amp;p=2&amp;pt=100&amp;ss=0&amp;sd=2017-07-05 19:30&amp;pofids=&amp;hash=1249350262\"> 7:30 pm  </a> </li> </ul></div> </div></div> </div></div> </div>,\n",
       " <div class=\"result content-section-list-row cf with-times\" data-id=\"54\" data-index=\"55\" data-lat=\"38.9194320\" data-lon=\"-77.0321790\" data-offers=\"\" data-rid=\"264379\"><div class=\"rest-row with-image\"> <div class=\"rest-row-image\"> <a href=\"/r/sakerum-washington\" target=\"_blank\"><img alt=\"photo of sakerum restaurant\" class=\"lazy rest-image\" data-src=\"//resizer.otstatic.com/v2/profiles/legacy/264379.jpg\" src=\"//media.otstatic.com/search-result-node/images/no-image.png\"/></a></div> <div class=\"rest-row-info\"><div class=\"rest-row-header\"> <a class=\"rest-row-name rest-name \" href=\"/r/sakerum-washington\" target=\"_blank\"> <span class=\"rest-row-name-text\">Sakerum</span> </a> </div> <div class=\"flex-row-justify\"> <div class=\"rest-row-review\"> <div class=\"star-rating\"><div class=\"star-wrapper small\"><div class=\"all-stars\"></div><div class=\"all-stars filled\" style=\"width: 90%;\"></div></div> <a class=\"review-link\" href=\"/r/sakerum-washington#reviews\" target=\"_blank\"><span class=\"star-rating-text\">(132)</span><span class=\"star-rating-text--review-text\">132 reviews</span></a></div> <span class=\"recommended-container\"><span class=\"thumbs-up-icon\"></span> <span class=\"recommended-small\">87%</span> <span class=\"recommended-text\">87% Recommend</span></span> </div> <div class=\"rest-row-pricing\"> <i>  $    $      </i>   $    $      </div> </div><div class=\"rest-row-meta rest-row-meta-grid flex-row-justify\"> <span class=\"rest-row-meta--cuisine rest-row-meta-text\">Sushi</span> <span class=\"rest-row-meta--location rest-row-meta-text\">U Street Corridor</span></div> <div class=\"message-alerts\"> </div> <div class=\"rest-row-times-cont\"><div class=\"rest-row-times\"> <div class=\"timeslot-window\"><ul class=\"availability-row-container\"> <li class=\"timeslot-option timeslot-control\"> <a class=\"rest-row-times-btn timeslot\" data-rid=\"264379\" href=\"/book/validate?rid=264379&amp;d=2017-07-05 18:30&amp;p=2&amp;pt=100&amp;ss=0&amp;sd=2017-07-05 18:30&amp;pofids=&amp;hash=1368130830\"> 6:30 pm  </a> </li> <li class=\"timeslot-option timeslot-control\"> <a class=\"rest-row-times-btn timeslot\" data-rid=\"264379\" href=\"/book/validate?rid=264379&amp;d=2017-07-05 18:45&amp;p=2&amp;pt=100&amp;ss=0&amp;sd=2017-07-05 18:45&amp;pofids=&amp;hash=3229932746\"> 6:45 pm  </a> </li> <li class=\"timeslot-option timeslot-control\"> <a class=\"rest-row-times-btn exact timeslot\" data-rid=\"264379\" href=\"/book/validate?rid=264379&amp;d=2017-07-05 19:00&amp;p=2&amp;pt=100&amp;ss=0&amp;sd=2017-07-05 19:00&amp;pofids=&amp;hash=3426883671\"> 7:00 pm  </a> </li> <li class=\"timeslot-option timeslot-control\"> <a class=\"rest-row-times-btn timeslot\" data-rid=\"264379\" href=\"/book/validate?rid=264379&amp;d=2017-07-05 19:15&amp;p=2&amp;pt=100&amp;ss=0&amp;sd=2017-07-05 19:15&amp;pofids=&amp;hash=433769371\"> 7:15 pm  </a> </li> <li class=\"timeslot-option timeslot-control\"> <a class=\"rest-row-times-btn timeslot\" data-rid=\"264379\" href=\"/book/validate?rid=264379&amp;d=2017-07-05 19:30&amp;p=2&amp;pt=100&amp;ss=0&amp;sd=2017-07-05 19:30&amp;pofids=&amp;hash=3057485371\"> 7:30 pm  </a> </li> </ul></div> </div></div> </div></div> </div>,\n",
       " <div class=\"result content-section-list-row cf with-times\" data-id=\"55\" data-index=\"56\" data-lat=\"38.9079260\" data-lon=\"-77.0321780\" data-offers=\"\" data-rid=\"97729\"><div class=\"rest-row with-image\"> <div class=\"rest-row-image\"> <a href=\"/the-pig\" target=\"_blank\"><img alt=\"photo of the pig restaurant\" class=\"lazy rest-image\" data-src=\"//resizer.otstatic.com/v2/profiles/legacy/97729.jpg\" src=\"//media.otstatic.com/search-result-node/images/no-image.png\"/></a></div> <div class=\"rest-row-info\"><div class=\"rest-row-header\"> <a class=\"rest-row-name rest-name \" href=\"/the-pig\" target=\"_blank\"> <span class=\"rest-row-name-text\">The Pig</span> </a> </div> <div class=\"flex-row-justify\"> <div class=\"rest-row-review\"> <div class=\"star-rating\"><div class=\"star-wrapper small\"><div class=\"all-stars\"></div><div class=\"all-stars filled\" style=\"width: 88%;\"></div></div> <a class=\"review-link\" href=\"/the-pig#reviews\" target=\"_blank\"><span class=\"star-rating-text\">(1050)</span><span class=\"star-rating-text--review-text\">1050 reviews</span></a></div> <span class=\"recommended-container\"><span class=\"thumbs-up-icon\"></span> <span class=\"recommended-small\">91%</span> <span class=\"recommended-text\">91% Recommend</span></span> </div> <div class=\"rest-row-pricing\"> <i>  $    $      </i>   $    $      </div> </div><div class=\"rest-row-meta rest-row-meta-grid flex-row-justify\"> <span class=\"rest-row-meta--cuisine rest-row-meta-text\">Contemporary American</span> <span class=\"rest-row-meta--location rest-row-meta-text\">Logan Circle</span></div> <div class=\"message-alerts\"> </div> <div class=\"rest-row-times-cont\"><div class=\"rest-row-times\"> <div class=\"timeslot-window\"><ul class=\"availability-row-container\"> <li class=\"timeslot-option timeslot-control\"> <a class=\"rest-row-times-btn timeslot\" data-rid=\"97729\" href=\"/book/validate?rid=97729&amp;d=2017-07-05 18:30&amp;p=2&amp;pt=100&amp;ss=0&amp;sd=2017-07-05 18:30&amp;pofids=&amp;hash=3249698973\"> 6:30 pm  </a> </li> <li class=\"timeslot-option timeslot-control\"> <a class=\"rest-row-times-btn timeslot\" data-rid=\"97729\" href=\"/book/validate?rid=97729&amp;d=2017-07-05 18:45&amp;p=2&amp;pt=100&amp;ss=0&amp;sd=2017-07-05 18:45&amp;pofids=&amp;hash=31631946\"> 6:45 pm  </a> </li> <li class=\"timeslot-option timeslot-control\"> <a class=\"rest-row-times-btn exact timeslot\" data-rid=\"97729\" href=\"/book/validate?rid=97729&amp;d=2017-07-05 19:00&amp;p=2&amp;pt=100&amp;ss=0&amp;sd=2017-07-05 19:00&amp;pofids=&amp;hash=1156828791\"> 7:00 pm  </a> </li> <li class=\"timeslot-option timeslot-control\"> <a class=\"rest-row-times-btn timeslot\" data-rid=\"97729\" href=\"/book/validate?rid=97729&amp;d=2017-07-05 19:15&amp;p=2&amp;pt=100&amp;ss=0&amp;sd=2017-07-05 19:15&amp;pofids=&amp;hash=1249991595\"> 7:15 pm  </a> </li> <li class=\"timeslot-option timeslot-control\"> <a class=\"rest-row-times-btn timeslot\" data-rid=\"97729\" href=\"/book/validate?rid=97729&amp;d=2017-07-05 19:30&amp;p=2&amp;pt=100&amp;ss=0&amp;sd=2017-07-05 19:30&amp;pofids=&amp;hash=4281698593\"> 7:30 pm  </a> </li> </ul></div> </div></div> </div></div> </div>,\n",
       " <div class=\"result content-section-list-row cf with-times\" data-id=\"56\" data-index=\"57\" data-lat=\"38.9113690\" data-lon=\"-77.0440510\" data-offers=\"\" data-rid=\"156865\"><div class=\"rest-row with-image\"> <div class=\"rest-row-image\"> <a href=\"/circa-at-dupont\" target=\"_blank\"><img alt=\"photo of circa at dupont restaurant\" class=\"lazy rest-image\" data-src=\"//resizer.otstatic.com/v2/profiles/legacy/156865.jpg\" src=\"//media.otstatic.com/search-result-node/images/no-image.png\"/></a></div> <div class=\"rest-row-info\"><div class=\"rest-row-header\"> <a class=\"rest-row-name rest-name \" href=\"/circa-at-dupont\" target=\"_blank\"> <span class=\"rest-row-name-text\">CIRCA at Dupont</span> </a> </div> <div class=\"flex-row-justify\"> <div class=\"rest-row-review\"> <div class=\"star-rating\"><div class=\"star-wrapper small\"><div class=\"all-stars\"></div><div class=\"all-stars filled\" style=\"width: 88%;\"></div></div> <a class=\"review-link\" href=\"/circa-at-dupont#reviews\" target=\"_blank\"><span class=\"star-rating-text\">(253)</span><span class=\"star-rating-text--review-text\">253 reviews</span></a></div> <span class=\"recommended-container\"><span class=\"thumbs-up-icon\"></span> <span class=\"recommended-small\">92%</span> <span class=\"recommended-text\">92% Recommend</span></span> </div> <div class=\"rest-row-pricing\"> <i>  $    $      </i>   $    $      </div> </div><div class=\"rest-row-meta rest-row-meta-grid flex-row-justify\"> <span class=\"rest-row-meta--cuisine rest-row-meta-text\">American</span> <span class=\"rest-row-meta--location rest-row-meta-text\">Dupont Circle</span></div> <div class=\"message-alerts\"> <div class=\"notice-timeslot\"><span class=\"clock-icon\"></span> <span>Hurry, we only have 4 timeslots left!</span></div> </div> <div class=\"rest-row-times-cont\"><div class=\"rest-row-times\"> <div class=\"timeslot-window\"><ul class=\"availability-row-container\"> <li class=\"timeslot-option timeslot-control\"> <a class=\"rest-row-times-btn timeslot\" data-rid=\"156865\" href=\"/book/validate?rid=156865&amp;d=2017-07-05 18:15&amp;p=2&amp;pt=100&amp;ss=0&amp;sd=2017-07-05 18:15&amp;pofids=&amp;hash=2289537178\"> 6:15 pm  </a> </li> <li class=\"timeslot-option timeslot-control\"> <a class=\"rest-row-times-btn timeslot\" data-rid=\"156865\" href=\"/book/validate?rid=156865&amp;d=2017-07-05 18:45&amp;p=2&amp;pt=100&amp;ss=0&amp;sd=2017-07-05 18:45&amp;pofids=&amp;hash=1053825687\"> 6:45 pm  </a> </li> <li class=\"timeslot-option\"> <a class=\"rest-row-times-btn exact unavailable\" data-offers=\"\" data-rid=\"156865\">\\xa0 </a> </li> <li class=\"timeslot-option timeslot-control\"> <a class=\"rest-row-times-btn timeslot\" data-rid=\"156865\" href=\"/book/validate?rid=156865&amp;d=2017-07-05 20:00&amp;p=2&amp;pt=100&amp;ss=0&amp;sd=2017-07-05 20:00&amp;pofids=&amp;hash=3730961869\"> 8:00 pm  </a> </li> <li class=\"timeslot-option timeslot-control\"> <a class=\"rest-row-times-btn timeslot\" data-rid=\"156865\" href=\"/book/validate?rid=156865&amp;d=2017-07-05 20:15&amp;p=2&amp;pt=100&amp;ss=0&amp;sd=2017-07-05 20:15&amp;pofids=&amp;hash=1094355195\"> 8:15 pm  </a> </li> </ul></div> </div></div> </div></div> </div>,\n",
       " <div class=\"result content-section-list-row cf with-times\" data-id=\"57\" data-index=\"58\" data-lat=\"38.9097360\" data-lon=\"-77.0329020\" data-offers=\"\" data-rid=\"65419\"><div class=\"rest-row with-image\"> <div class=\"rest-row-image\"> <a href=\"/logan-tavern\" target=\"_blank\"><img alt=\"photo of logan tavern restaurant\" class=\"lazy rest-image\" data-src=\"//resizer.otstatic.com/v2/profiles/legacy/65419.jpg\" src=\"//media.otstatic.com/search-result-node/images/no-image.png\"/></a></div> <div class=\"rest-row-info\"><div class=\"rest-row-header\"> <a class=\"rest-row-name rest-name \" href=\"/logan-tavern\" target=\"_blank\"> <span class=\"rest-row-name-text\">Logan Tavern</span> </a> </div> <div class=\"flex-row-justify\"> <div class=\"rest-row-review\"> <div class=\"star-rating\"><div class=\"star-wrapper small\"><div class=\"all-stars\"></div><div class=\"all-stars filled\" style=\"width: 92%;\"></div></div> <a class=\"review-link\" href=\"/logan-tavern#reviews\" target=\"_blank\"><span class=\"star-rating-text\">(781)</span><span class=\"star-rating-text--review-text\">781 reviews</span></a></div> <span class=\"recommended-container\"><span class=\"thumbs-up-icon\"></span> <span class=\"recommended-small\">97%</span> <span class=\"recommended-text\">97% Recommend</span></span> </div> <div class=\"rest-row-pricing\"> <i>  $    $      </i>   $    $      </div> </div><div class=\"rest-row-meta rest-row-meta-grid flex-row-justify\"> <span class=\"rest-row-meta--cuisine rest-row-meta-text\">American</span> <span class=\"rest-row-meta--location rest-row-meta-text\">Logan Circle</span></div> <div class=\"message-alerts\"> </div> <div class=\"rest-row-times-cont\"><div class=\"rest-row-times\"> <div class=\"timeslot-window\"><ul class=\"availability-row-container\"> <li class=\"timeslot-option timeslot-control\"> <a class=\"rest-row-times-btn timeslot\" data-rid=\"65419\" href=\"/book/validate?rid=65419&amp;d=2017-07-05 18:30&amp;p=2&amp;pt=100&amp;ss=0&amp;sd=2017-07-05 18:30&amp;pofids=&amp;hash=3551341166\"> 6:30 pm  </a> </li> <li class=\"timeslot-option timeslot-control\"> <a class=\"rest-row-times-btn timeslot\" data-rid=\"65419\" href=\"/book/validate?rid=65419&amp;d=2017-07-05 18:45&amp;p=2&amp;pt=100&amp;ss=0&amp;sd=2017-07-05 18:45&amp;pofids=&amp;hash=2393789525\"> 6:45 pm  </a> </li> <li class=\"timeslot-option timeslot-control\"> <a class=\"rest-row-times-btn exact timeslot\" data-rid=\"65419\" href=\"/book/validate?rid=65419&amp;d=2017-07-05 19:00&amp;p=2&amp;pt=100&amp;ss=0&amp;sd=2017-07-05 19:00&amp;pofids=&amp;hash=1595020842\"> 7:00 pm  </a> </li> <li class=\"timeslot-option timeslot-control\"> <a class=\"rest-row-times-btn timeslot\" data-rid=\"65419\" href=\"/book/validate?rid=65419&amp;d=2017-07-05 19:15&amp;p=2&amp;pt=100&amp;ss=0&amp;sd=2017-07-05 19:15&amp;pofids=&amp;hash=3027201605\"> 7:15 pm  </a> </li> <li class=\"timeslot-option timeslot-control\"> <a class=\"rest-row-times-btn timeslot\" data-rid=\"65419\" href=\"/book/validate?rid=65419&amp;d=2017-07-05 19:30&amp;p=2&amp;pt=100&amp;ss=0&amp;sd=2017-07-05 19:30&amp;pofids=&amp;hash=4089907668\"> 7:30 pm  </a> </li> </ul></div> </div></div> </div></div> </div>,\n",
       " <div class=\"result content-section-list-row cf with-times\" data-id=\"58\" data-index=\"59\" data-lat=\"38.9017190\" data-lon=\"-77.0369260\" data-offers=\"\" data-rid=\"350710\"><div class=\"rest-row with-image\"> <div class=\"rest-row-image\"> <a href=\"/restaurant/profile/350710?p=2&amp;sd=2017-07-05%2019%3A00\" target=\"_blank\"><img alt=\"photo of mirabelle restaurant\" class=\"lazy rest-image\" data-src=\"//resizer.otstatic.com/v2/profiles/legacy/350710.jpg\" src=\"//media.otstatic.com/search-result-node/images/no-image.png\"/></a></div> <div class=\"rest-row-info\"><div class=\"rest-row-header\"> <a class=\"rest-row-name rest-name \" href=\"/restaurant/profile/350710?p=2&amp;sd=2017-07-05%2019%3A00\" target=\"_blank\"> <span class=\"rest-row-name-text\">Mirabelle</span> </a> </div> <div class=\"flex-row-justify\"> <div class=\"rest-row-review\"> <div class=\"star-rating\"><div class=\"star-wrapper small\"><div class=\"all-stars\"></div><div class=\"all-stars filled\" style=\"width: 92%;\"></div></div> <a class=\"review-link\" href=\"/restaurant/profile/350710?p=2&amp;sd=2017-07-05%2019%3A00#reviews\" target=\"_blank\"><span class=\"star-rating-text\">(132)</span><span class=\"star-rating-text--review-text\">132 reviews</span></a></div> <span class=\"recommended-container\"><span class=\"thumbs-up-icon\"></span> <span class=\"recommended-small\">89%</span> <span class=\"recommended-text\">89% Recommend</span></span> </div> <div class=\"rest-row-pricing\"> <i>  $    $    $    </i>   $        </div> </div><div class=\"rest-row-meta rest-row-meta-grid flex-row-justify\"> <span class=\"rest-row-meta--cuisine rest-row-meta-text\">French American</span> <span class=\"rest-row-meta--location rest-row-meta-text\">Downtown</span></div> <div class=\"message-alerts\"> <div class=\"notice-timeslot\"><span class=\"clock-icon\"></span> <span>Hurry, we only have 4 timeslots left!</span></div> </div> <div class=\"rest-row-times-cont\"><div class=\"rest-row-times\"> <div class=\"timeslot-window\"><ul class=\"availability-row-container\"> <li class=\"timeslot-option timeslot-control\"> <a class=\"rest-row-times-btn timeslot\" data-rid=\"350710\" href=\"/book/validate?rid=350710&amp;d=2017-07-05 18:00&amp;p=2&amp;pt=100&amp;ss=0&amp;sd=2017-07-05 18:00&amp;pofids=&amp;hash=1177267158\"> 6:00 pm  </a> </li> <li class=\"timeslot-option timeslot-control\"> <a class=\"rest-row-times-btn timeslot\" data-rid=\"350710\" href=\"/book/validate?rid=350710&amp;d=2017-07-05 18:15&amp;p=2&amp;pt=100&amp;ss=0&amp;sd=2017-07-05 18:15&amp;pofids=&amp;hash=4197602783\"> 6:15 pm  </a> </li> <li class=\"timeslot-option\"> <a class=\"rest-row-times-btn exact unavailable\" data-offers=\"\" data-rid=\"350710\">\\xa0 </a> </li> <li class=\"timeslot-option timeslot-control\"> <a class=\"rest-row-times-btn timeslot\" data-rid=\"350710\" href=\"/book/validate?rid=350710&amp;d=2017-07-05 19:15&amp;p=2&amp;pt=100&amp;ss=0&amp;sd=2017-07-05 19:15&amp;pofids=&amp;hash=1403935542\"> 7:15 pm  </a> </li> <li class=\"timeslot-option timeslot-control\"> <a class=\"rest-row-times-btn timeslot\" data-rid=\"350710\" href=\"/book/validate?rid=350710&amp;d=2017-07-05 20:00&amp;p=2&amp;pt=100&amp;ss=0&amp;sd=2017-07-05 20:00&amp;pofids=&amp;hash=3815385795\"> 8:00 pm  </a> </li> </ul></div> </div></div> </div></div> </div>,\n",
       " <div class=\"result content-section-list-row cf with-times\" data-id=\"59\" data-index=\"60\" data-lat=\"38.8984350\" data-lon=\"-77.0239730\" data-offers=\"\" data-rid=\"5853\"><div class=\"rest-row with-image\"> <div class=\"rest-row-image\"> <a href=\"/zaytinya\" target=\"_blank\"><img alt=\"photo of zaytinya restaurant\" class=\"lazy rest-image\" data-src=\"//resizer.otstatic.com/v2/profiles/legacy/5853.jpg\" src=\"//media.otstatic.com/search-result-node/images/no-image.png\"/></a></div> <div class=\"rest-row-info\"><div class=\"rest-row-header\"> <a class=\"rest-row-name rest-name \" href=\"/zaytinya\" target=\"_blank\"> <span class=\"rest-row-name-text\">Zaytinya</span> </a> </div> <div class=\"flex-row-justify\"> <div class=\"rest-row-review\"> <div class=\"star-rating\"><div class=\"star-wrapper small\"><div class=\"all-stars\"></div><div class=\"all-stars filled\" style=\"width: 92%;\"></div></div> <a class=\"review-link\" href=\"/zaytinya#reviews\" target=\"_blank\"><span class=\"star-rating-text\">(11295)</span><span class=\"star-rating-text--review-text\">11295 reviews</span></a></div> <span class=\"recommended-container\"><span class=\"thumbs-up-icon\"></span> <span class=\"recommended-small\">94%</span> <span class=\"recommended-text\">94% Recommend</span></span> </div> <div class=\"rest-row-pricing\"> <i>  $    $    $    </i>   $        </div> </div><div class=\"rest-row-meta rest-row-meta-grid flex-row-justify\"> <span class=\"rest-row-meta--cuisine rest-row-meta-text\">Mediterranean</span> <span class=\"rest-row-meta--location rest-row-meta-text\">Penn Quarter</span></div> <div class=\"message-alerts\"> <div class=\"notice-timeslot\"><span class=\"clock-icon\"></span> <span>Hurry, we only have 4 timeslots left!</span></div> </div> <div class=\"rest-row-times-cont\"><div class=\"rest-row-times\"> <div class=\"timeslot-window\"><ul class=\"availability-row-container\"> <li class=\"timeslot-option timeslot-control\"> <a class=\"rest-row-times-btn timeslot\" data-rid=\"5853\" href=\"/book/validate?rid=5853&amp;d=2017-07-05 18:30&amp;p=2&amp;pt=100&amp;ss=0&amp;sd=2017-07-05 18:30&amp;pofids=&amp;hash=105317468\"> 6:30 pm  </a> </li> <li class=\"timeslot-option timeslot-control\"> <a class=\"rest-row-times-btn timeslot\" data-rid=\"5853\" href=\"/book/validate?rid=5853&amp;d=2017-07-05 18:45&amp;p=2&amp;pt=100&amp;ss=0&amp;sd=2017-07-05 18:45&amp;pofids=&amp;hash=372003606\"> 6:45 pm  </a> </li> <li class=\"timeslot-option\"> <a class=\"rest-row-times-btn exact unavailable\" data-offers=\"\" data-rid=\"5853\">\\xa0 </a> </li> <li class=\"timeslot-option timeslot-control\"> <a class=\"rest-row-times-btn timeslot\" data-rid=\"5853\" href=\"/book/validate?rid=5853&amp;d=2017-07-05 19:45&amp;p=2&amp;pt=100&amp;ss=0&amp;sd=2017-07-05 19:45&amp;pofids=&amp;hash=4156901885\"> 7:45 pm  </a> </li> <li class=\"timeslot-option timeslot-control\"> <a class=\"rest-row-times-btn timeslot\" data-rid=\"5853\" href=\"/book/validate?rid=5853&amp;d=2017-07-05 20:00&amp;p=2&amp;pt=100&amp;ss=0&amp;sd=2017-07-05 20:00&amp;pofids=&amp;hash=3728275575\"> 8:00 pm  </a> </li> </ul></div> </div></div> </div></div> </div>,\n",
       " <div class=\"result content-section-list-row cf with-times\" data-id=\"60\" data-index=\"61\" data-lat=\"38.9226940\" data-lon=\"-77.2230200\" data-offers=\"\" data-rid=\"150769\"><div class=\"rest-row with-image\"> <div class=\"rest-row-image\"> <a href=\"/founding-farmers-tysons\" target=\"_blank\"><img alt=\"photo of founding farmers - tysons restaurant\" class=\"lazy rest-image\" data-src=\"//resizer.otstatic.com/v2/profiles/legacy/150769.jpg\" src=\"//media.otstatic.com/search-result-node/images/no-image.png\"/></a></div> <div class=\"rest-row-info\"><div class=\"rest-row-header\"> <a class=\"rest-row-name rest-name \" href=\"/founding-farmers-tysons\" target=\"_blank\"> <span class=\"rest-row-name-text\">Founding Farmers - Tysons</span> </a> </div> <div class=\"flex-row-justify\"> <div class=\"rest-row-review\"> <div class=\"star-rating\"><div class=\"star-wrapper small\"><div class=\"all-stars\"></div><div class=\"all-stars filled\" style=\"width: 88%;\"></div></div> <a class=\"review-link\" href=\"/founding-farmers-tysons#reviews\" target=\"_blank\"><span class=\"star-rating-text\">(4074)</span><span class=\"star-rating-text--review-text\">4074 reviews</span></a></div> <span class=\"recommended-container\"><span class=\"thumbs-up-icon\"></span> <span class=\"recommended-small\">87%</span> <span class=\"recommended-text\">87% Recommend</span></span> </div> <div class=\"rest-row-pricing\"> <i>  $    $      </i>   $    $      </div> </div><div class=\"rest-row-meta rest-row-meta-grid flex-row-justify\"> <span class=\"rest-row-meta--cuisine rest-row-meta-text\">American</span> <span class=\"rest-row-meta--location rest-row-meta-text\">Tysons Corner / McLean</span></div> <div class=\"message-alerts\"> </div> <div class=\"rest-row-times-cont\"><div class=\"rest-row-times\"> <div class=\"timeslot-window\"><ul class=\"availability-row-container\"> <li class=\"timeslot-option timeslot-control\"> <a class=\"rest-row-times-btn timeslot\" data-rid=\"150769\" href=\"/book/validate?rid=150769&amp;d=2017-07-05 18:30&amp;p=2&amp;pt=100&amp;ss=0&amp;sd=2017-07-05 18:30&amp;pofids=&amp;hash=1724911880\"> 6:30 pm  </a> </li> <li class=\"timeslot-option timeslot-control\"> <a class=\"rest-row-times-btn timeslot\" data-rid=\"150769\" href=\"/book/validate?rid=150769&amp;d=2017-07-05 18:45&amp;p=2&amp;pt=100&amp;ss=0&amp;sd=2017-07-05 18:45&amp;pofids=&amp;hash=3282042138\"> 6:45 pm  </a> </li> <li class=\"timeslot-option timeslot-control\"> <a class=\"rest-row-times-btn exact timeslot\" data-rid=\"150769\" href=\"/book/validate?rid=150769&amp;d=2017-07-05 19:00&amp;p=2&amp;pt=100&amp;ss=0&amp;sd=2017-07-05 19:00&amp;pofids=&amp;hash=2827102544\"> 7:00 pm  </a> </li> <li class=\"timeslot-option timeslot-control\"> <a class=\"rest-row-times-btn timeslot\" data-rid=\"150769\" href=\"/book/validate?rid=150769&amp;d=2017-07-05 19:15&amp;p=2&amp;pt=100&amp;ss=0&amp;sd=2017-07-05 19:15&amp;pofids=&amp;hash=2530199245\"> 7:15 pm  </a> </li> <li class=\"timeslot-option timeslot-control\"> <a class=\"rest-row-times-btn timeslot\" data-rid=\"150769\" href=\"/book/validate?rid=150769&amp;d=2017-07-05 19:30&amp;p=2&amp;pt=100&amp;ss=0&amp;sd=2017-07-05 19:30&amp;pofids=&amp;hash=3163196092\"> 7:30 pm  </a> </li> </ul></div> </div></div> </div></div> </div>,\n",
       " <div class=\"result content-section-list-row cf with-times\" data-id=\"61\" data-index=\"62\" data-lat=\"38.9017380\" data-lon=\"-77.0493060\" data-offers=\"\" data-rid=\"69664\"><div class=\"rest-row with-image\"> <div class=\"rest-row-image\"> <a href=\"/district-commons\" target=\"_blank\"><img alt=\"photo of district commons restaurant\" class=\"lazy rest-image\" data-src=\"//resizer.otstatic.com/v2/profiles/legacy/69664.jpg\" src=\"//media.otstatic.com/search-result-node/images/no-image.png\"/></a></div> <div class=\"rest-row-info\"><div class=\"rest-row-header\"> <a class=\"rest-row-name rest-name \" href=\"/district-commons\" target=\"_blank\"> <span class=\"rest-row-name-text\">District Commons</span> </a> </div> <div class=\"flex-row-justify\"> <div class=\"rest-row-review\"> <div class=\"star-rating\"><div class=\"star-wrapper small\"><div class=\"all-stars\"></div><div class=\"all-stars filled\" style=\"width: 88%;\"></div></div> <a class=\"review-link\" href=\"/district-commons#reviews\" target=\"_blank\"><span class=\"star-rating-text\">(2675)</span><span class=\"star-rating-text--review-text\">2675 reviews</span></a></div> <span class=\"recommended-container\"><span class=\"thumbs-up-icon\"></span> <span class=\"recommended-small\">88%</span> <span class=\"recommended-text\">88% Recommend</span></span> </div> <div class=\"rest-row-pricing\"> <i>  $    $      </i>   $    $      </div> </div><div class=\"rest-row-meta rest-row-meta-grid flex-row-justify\"> <span class=\"rest-row-meta--cuisine rest-row-meta-text\">Contemporary American</span> <span class=\"rest-row-meta--location rest-row-meta-text\">Foggy Bottom</span></div> <div class=\"message-alerts\"> </div> <div class=\"rest-row-times-cont\"><div class=\"rest-row-times\"> <div class=\"timeslot-window\"><ul class=\"availability-row-container\"> <li class=\"timeslot-option timeslot-control\"> <a class=\"rest-row-times-btn timeslot\" data-rid=\"69664\" href=\"/book/validate?rid=69664&amp;d=2017-07-05 18:30&amp;p=2&amp;pt=100&amp;ss=0&amp;sd=2017-07-05 18:30&amp;pofids=&amp;hash=1781493497\"> 6:30 pm  </a> </li> <li class=\"timeslot-option timeslot-control\"> <a class=\"rest-row-times-btn timeslot\" data-rid=\"69664\" href=\"/book/validate?rid=69664&amp;d=2017-07-05 18:45&amp;p=2&amp;pt=100&amp;ss=0&amp;sd=2017-07-05 18:45&amp;pofids=&amp;hash=731501981\"> 6:45 pm  </a> </li> <li class=\"timeslot-option timeslot-control\"> <a class=\"rest-row-times-btn exact timeslot\" data-rid=\"69664\" href=\"/book/validate?rid=69664&amp;d=2017-07-05 19:00&amp;p=2&amp;pt=100&amp;ss=0&amp;sd=2017-07-05 19:00&amp;pofids=&amp;hash=2871329202\"> 7:00 pm  </a> </li> <li class=\"timeslot-option timeslot-control\"> <a class=\"rest-row-times-btn timeslot\" data-rid=\"69664\" href=\"/book/validate?rid=69664&amp;d=2017-07-05 19:15&amp;p=2&amp;pt=100&amp;ss=0&amp;sd=2017-07-05 19:15&amp;pofids=&amp;hash=1970831885\"> 7:15 pm  </a> </li> <li class=\"timeslot-option timeslot-control\"> <a class=\"rest-row-times-btn timeslot\" data-rid=\"69664\" href=\"/book/validate?rid=69664&amp;d=2017-07-05 19:30&amp;p=2&amp;pt=100&amp;ss=0&amp;sd=2017-07-05 19:30&amp;pofids=&amp;hash=192743559\"> 7:30 pm  </a> </li> </ul></div> </div></div> </div></div> </div>,\n",
       " <div class=\"result content-section-list-row cf with-times\" data-id=\"62\" data-index=\"63\" data-lat=\"38.9165750\" data-lon=\"-77.0323780\" data-offers=\"\" data-rid=\"141223\"><div class=\"rest-row with-image\"> <div class=\"rest-row-image\"> <a href=\"/tico-washington\" target=\"_blank\"><img alt=\"photo of tico restaurant\" class=\"lazy rest-image\" data-src=\"//resizer.otstatic.com/v2/profiles/legacy/141223.jpg\" src=\"//media.otstatic.com/search-result-node/images/no-image.png\"/></a></div> <div class=\"rest-row-info\"><div class=\"rest-row-header\"> <a class=\"rest-row-name rest-name \" href=\"/tico-washington\" target=\"_blank\"> <span class=\"rest-row-name-text\">Tico</span> </a> </div> <div class=\"flex-row-justify\"> <div class=\"rest-row-review\"> <div class=\"star-rating\"><div class=\"star-wrapper small\"><div class=\"all-stars\"></div><div class=\"all-stars filled\" style=\"width: 92%;\"></div></div> <a class=\"review-link\" href=\"/tico-washington#reviews\" target=\"_blank\"><span class=\"star-rating-text\">(684)</span><span class=\"star-rating-text--review-text\">684 reviews</span></a></div> <span class=\"recommended-container\"><span class=\"thumbs-up-icon\"></span> <span class=\"recommended-small\">95%</span> <span class=\"recommended-text\">95% Recommend</span></span> </div> <div class=\"rest-row-pricing\"> <i>  $    $      </i>   $    $      </div> </div><div class=\"rest-row-meta rest-row-meta-grid flex-row-justify\"> <span class=\"rest-row-meta--cuisine rest-row-meta-text\">American</span> <span class=\"rest-row-meta--location rest-row-meta-text\">U Street Corridor</span></div> <div class=\"message-alerts\"> </div> <div class=\"rest-row-times-cont\"><div class=\"rest-row-times\"> <div class=\"timeslot-window\"><ul class=\"availability-row-container\"> <li class=\"timeslot-option timeslot-control\"> <a class=\"rest-row-times-btn timeslot\" data-rid=\"141223\" href=\"/book/validate?rid=141223&amp;d=2017-07-05 18:30&amp;p=2&amp;pt=100&amp;ss=0&amp;sd=2017-07-05 18:30&amp;pofids=&amp;hash=2802296666\"> 6:30 pm  </a> </li> <li class=\"timeslot-option timeslot-control\"> <a class=\"rest-row-times-btn timeslot\" data-rid=\"141223\" href=\"/book/validate?rid=141223&amp;d=2017-07-05 18:45&amp;p=2&amp;pt=100&amp;ss=0&amp;sd=2017-07-05 18:45&amp;pofids=&amp;hash=2779621272\"> 6:45 pm  </a> </li> <li class=\"timeslot-option timeslot-control\"> <a class=\"rest-row-times-btn exact timeslot\" data-rid=\"141223\" href=\"/book/validate?rid=141223&amp;d=2017-07-05 19:00&amp;p=2&amp;pt=100&amp;ss=0&amp;sd=2017-07-05 19:00&amp;pofids=&amp;hash=85327889\"> 7:00 pm  </a> </li> <li class=\"timeslot-option timeslot-control\"> <a class=\"rest-row-times-btn timeslot\" data-rid=\"141223\" href=\"/book/validate?rid=141223&amp;d=2017-07-05 19:15&amp;p=2&amp;pt=100&amp;ss=0&amp;sd=2017-07-05 19:15&amp;pofids=&amp;hash=3341411987\"> 7:15 pm  </a> </li> <li class=\"timeslot-option timeslot-control\"> <a class=\"rest-row-times-btn timeslot\" data-rid=\"141223\" href=\"/book/validate?rid=141223&amp;d=2017-07-05 19:45&amp;p=2&amp;pt=100&amp;ss=0&amp;sd=2017-07-05 19:45&amp;pofids=&amp;hash=80459664\"> 7:45 pm  </a> </li> </ul></div> </div></div> </div></div> </div>,\n",
       " <div class=\"result content-section-list-row cf with-times\" data-id=\"63\" data-index=\"64\" data-lat=\"38.8735310\" data-lon=\"-77.0014490\" data-offers=\"\" data-rid=\"173965\"><div class=\"rest-row with-image\"> <div class=\"rest-row-image\"> <a href=\"/due-south-washington\" target=\"_blank\"><img alt=\"photo of due south restaurant\" class=\"lazy rest-image\" data-src=\"//resizer.otstatic.com/v2/profiles/legacy/173965.jpg\" src=\"//media.otstatic.com/search-result-node/images/no-image.png\"/></a></div> <div class=\"rest-row-info\"><div class=\"rest-row-header\"> <a class=\"rest-row-name rest-name \" href=\"/due-south-washington\" target=\"_blank\"> <span class=\"rest-row-name-text\">Due South</span> </a> </div> <div class=\"flex-row-justify\"> <div class=\"rest-row-review\"> <div class=\"star-rating\"><div class=\"star-wrapper small\"><div class=\"all-stars\"></div><div class=\"all-stars filled\" style=\"width: 88%;\"></div></div> <a class=\"review-link\" href=\"/due-south-washington#reviews\" target=\"_blank\"><span class=\"star-rating-text\">(325)</span><span class=\"star-rating-text--review-text\">325 reviews</span></a></div> <span class=\"recommended-container\"><span class=\"thumbs-up-icon\"></span> <span class=\"recommended-small\">94%</span> <span class=\"recommended-text\">94% Recommend</span></span> </div> <div class=\"rest-row-pricing\"> <i>  $    $      </i>   $    $      </div> </div><div class=\"rest-row-meta rest-row-meta-grid flex-row-justify\"> <span class=\"rest-row-meta--cuisine rest-row-meta-text\">Southern</span> <span class=\"rest-row-meta--location rest-row-meta-text\">Navy Yard</span></div> <div class=\"message-alerts\"> </div> <div class=\"rest-row-times-cont\"><div class=\"rest-row-times\"> <div class=\"timeslot-window\"><ul class=\"availability-row-container\"> <li class=\"timeslot-option timeslot-control\"> <a class=\"rest-row-times-btn timeslot\" data-rid=\"173965\" href=\"/book/validate?rid=173965&amp;d=2017-07-05 18:30&amp;p=2&amp;pt=100&amp;ss=0&amp;sd=2017-07-05 18:30&amp;pofids=&amp;hash=1096517715\"> 6:30 pm  </a> </li> <li class=\"timeslot-option timeslot-control\"> <a class=\"rest-row-times-btn timeslot\" data-rid=\"173965\" href=\"/book/validate?rid=173965&amp;d=2017-07-05 18:45&amp;p=2&amp;pt=100&amp;ss=0&amp;sd=2017-07-05 18:45&amp;pofids=&amp;hash=2867601088\"> 6:45 pm  </a> </li> <li class=\"timeslot-option timeslot-control\"> <a class=\"rest-row-times-btn exact timeslot\" data-rid=\"173965\" href=\"/book/validate?rid=173965&amp;d=2017-07-05 19:00&amp;p=2&amp;pt=100&amp;ss=0&amp;sd=2017-07-05 19:00&amp;pofids=&amp;hash=2867357356\"> 7:00 pm  </a> </li> <li class=\"timeslot-option timeslot-control\"> <a class=\"rest-row-times-btn timeslot\" data-rid=\"173965\" href=\"/book/validate?rid=173965&amp;d=2017-07-05 19:15&amp;p=2&amp;pt=100&amp;ss=0&amp;sd=2017-07-05 19:15&amp;pofids=&amp;hash=96517453\"> 7:15 pm  </a> </li> <li class=\"timeslot-option timeslot-control\"> <a class=\"rest-row-times-btn timeslot\" data-rid=\"173965\" href=\"/book/validate?rid=173965&amp;d=2017-07-05 19:30&amp;p=2&amp;pt=100&amp;ss=0&amp;sd=2017-07-05 19:30&amp;pofids=&amp;hash=1459178986\"> 7:30 pm  </a> </li> </ul></div> </div></div> </div></div> </div>,\n",
       " <div class=\"result content-section-list-row cf with-times\" data-id=\"64\" data-index=\"65\" data-lat=\"38.8969450\" data-lon=\"-77.0235810\" data-offers=\"\" data-rid=\"106324\"><div class=\"rest-row with-image\"> <div class=\"rest-row-image\"> <a href=\"/r/nopa-kitchen-and-bar-washington\" target=\"_blank\"><img alt=\"photo of nopa kitchen + bar (washington d.c.) restaurant\" class=\"lazy rest-image\" data-src=\"//resizer.otstatic.com/v2/profiles/legacy/106324.jpg\" src=\"//media.otstatic.com/search-result-node/images/no-image.png\"/></a></div> <div class=\"rest-row-info\"><div class=\"rest-row-header\"> <a class=\"rest-row-name rest-name \" href=\"/r/nopa-kitchen-and-bar-washington\" target=\"_blank\"> <span class=\"rest-row-name-text\">NoPa Kitchen + Bar (Washington D.C.)</span> </a> </div> <div class=\"flex-row-justify\"> <div class=\"rest-row-review\"> <div class=\"star-rating\"><div class=\"star-wrapper small\"><div class=\"all-stars\"></div><div class=\"all-stars filled\" style=\"width: 90%;\"></div></div> <a class=\"review-link\" href=\"/r/nopa-kitchen-and-bar-washington#reviews\" target=\"_blank\"><span class=\"star-rating-text\">(1074)</span><span class=\"star-rating-text--review-text\">1074 reviews</span></a></div> <span class=\"recommended-container\"><span class=\"thumbs-up-icon\"></span> <span class=\"recommended-small\">91%</span> <span class=\"recommended-text\">91% Recommend</span></span> </div> <div class=\"rest-row-pricing\"> <i>  $    $      </i>   $    $      </div> </div><div class=\"rest-row-meta rest-row-meta-grid flex-row-justify\"> <span class=\"rest-row-meta--cuisine rest-row-meta-text\">Contemporary American</span> <span class=\"rest-row-meta--location rest-row-meta-text\">Penn Quarter</span></div> <div class=\"message-alerts\"> </div> <div class=\"rest-row-times-cont\"><div class=\"rest-row-times\"> <div class=\"timeslot-window\"><ul class=\"availability-row-container\"> <li class=\"timeslot-option timeslot-control\"> <a class=\"rest-row-times-btn timeslot\" data-rid=\"106324\" href=\"/book/validate?rid=106324&amp;d=2017-07-05 18:30&amp;p=2&amp;pt=100&amp;ss=0&amp;sd=2017-07-05 18:30&amp;pofids=&amp;hash=852088322\"> 6:30 pm  </a> </li> <li class=\"timeslot-option timeslot-control\"> <a class=\"rest-row-times-btn timeslot\" data-rid=\"106324\" href=\"/book/validate?rid=106324&amp;d=2017-07-05 18:45&amp;p=2&amp;pt=100&amp;ss=0&amp;sd=2017-07-05 18:45&amp;pofids=&amp;hash=205920280\"> 6:45 pm  </a> </li> <li class=\"timeslot-option timeslot-control\"> <a class=\"rest-row-times-btn exact timeslot\" data-rid=\"106324\" href=\"/book/validate?rid=106324&amp;d=2017-07-05 19:00&amp;p=2&amp;pt=100&amp;ss=0&amp;sd=2017-07-05 19:00&amp;pofids=&amp;hash=1693610348\"> 7:00 pm  </a> </li> <li class=\"timeslot-option timeslot-control\"> <a class=\"rest-row-times-btn timeslot\" data-rid=\"106324\" href=\"/book/validate?rid=106324&amp;d=2017-07-05 19:15&amp;p=2&amp;pt=100&amp;ss=0&amp;sd=2017-07-05 19:15&amp;pofids=&amp;hash=843758132\"> 7:15 pm  </a> </li> <li class=\"timeslot-option timeslot-control\"> <a class=\"rest-row-times-btn timeslot\" data-rid=\"106324\" href=\"/book/validate?rid=106324&amp;d=2017-07-05 19:30&amp;p=2&amp;pt=100&amp;ss=0&amp;sd=2017-07-05 19:30&amp;pofids=&amp;hash=2313466096\"> 7:30 pm  </a> </li> </ul></div> </div></div> </div></div> </div>,\n",
       " <div class=\"result content-section-list-row cf with-times\" data-id=\"65\" data-index=\"66\" data-lat=\"38.8993840\" data-lon=\"-77.0557910\" data-offers=\"\" data-rid=\"210616\"><div class=\"rest-row with-image\"> <div class=\"rest-row-image\"> <a href=\"/kingbird-at-the-watergate-hotel\" target=\"_blank\"><img alt=\"photo of kingbird at the watergate hotel restaurant\" class=\"lazy rest-image\" data-src=\"//resizer.otstatic.com/v2/profiles/legacy/210616.jpg\" src=\"//media.otstatic.com/search-result-node/images/no-image.png\"/></a></div> <div class=\"rest-row-info\"><div class=\"rest-row-header\"> <a class=\"rest-row-name rest-name \" href=\"/kingbird-at-the-watergate-hotel\" target=\"_blank\"> <span class=\"rest-row-name-text\">Kingbird at The Watergate Hotel</span> </a> </div> <div class=\"flex-row-justify\"> <div class=\"rest-row-review\"> <div class=\"star-rating\"><div class=\"star-wrapper small\"><div class=\"all-stars\"></div><div class=\"all-stars filled\" style=\"width: 86%;\"></div></div> <a class=\"review-link\" href=\"/kingbird-at-the-watergate-hotel#reviews\" target=\"_blank\"><span class=\"star-rating-text\">(499)</span><span class=\"star-rating-text--review-text\">499 reviews</span></a></div> <span class=\"recommended-container\"><span class=\"thumbs-up-icon\"></span> <span class=\"recommended-small\">84%</span> <span class=\"recommended-text\">84% Recommend</span></span> </div> <div class=\"rest-row-pricing\"> <i>  $    $      </i>   $    $      </div> </div><div class=\"rest-row-meta rest-row-meta-grid flex-row-justify\"> <span class=\"rest-row-meta--cuisine rest-row-meta-text\">Contemporary French / American</span> <span class=\"rest-row-meta--location rest-row-meta-text\">Foggy Bottom</span></div> <div class=\"message-alerts\"> </div> <div class=\"rest-row-times-cont\"><div class=\"rest-row-times\"> <div class=\"timeslot-window\"><ul class=\"availability-row-container\"> <li class=\"timeslot-option timeslot-control\"> <a class=\"rest-row-times-btn timeslot\" data-rid=\"210616\" href=\"/book/validate?rid=210616&amp;d=2017-07-05 18:30&amp;p=2&amp;pt=100&amp;ss=0&amp;sd=2017-07-05 18:30&amp;pofids=&amp;hash=1065423385\"> 6:30 pm  </a> </li> <li class=\"timeslot-option timeslot-control\"> <a class=\"rest-row-times-btn timeslot\" data-rid=\"210616\" href=\"/book/validate?rid=210616&amp;d=2017-07-05 18:45&amp;p=2&amp;pt=100&amp;ss=0&amp;sd=2017-07-05 18:45&amp;pofids=&amp;hash=2452099371\"> 6:45 pm  </a> </li> <li class=\"timeslot-option timeslot-control\"> <a class=\"rest-row-times-btn exact timeslot\" data-rid=\"210616\" href=\"/book/validate?rid=210616&amp;d=2017-07-05 19:00&amp;p=2&amp;pt=100&amp;ss=0&amp;sd=2017-07-05 19:00&amp;pofids=&amp;hash=3395653662\"> 7:00 pm  </a> </li> <li class=\"timeslot-option timeslot-control\"> <a class=\"rest-row-times-btn timeslot\" data-rid=\"210616\" href=\"/book/validate?rid=210616&amp;d=2017-07-05 19:15&amp;p=2&amp;pt=100&amp;ss=0&amp;sd=2017-07-05 19:15&amp;pofids=&amp;hash=3956971814\"> 7:15 pm  </a> </li> <li class=\"timeslot-option timeslot-control\"> <a class=\"rest-row-times-btn timeslot\" data-rid=\"210616\" href=\"/book/validate?rid=210616&amp;d=2017-07-05 19:30&amp;p=2&amp;pt=100&amp;ss=0&amp;sd=2017-07-05 19:30&amp;pofids=&amp;hash=3207747189\"> 7:30 pm  </a> </li> </ul></div> </div></div> </div></div> </div>,\n",
       " <div class=\"result content-section-list-row cf with-times\" data-id=\"66\" data-index=\"67\" data-lat=\"38.9024570\" data-lon=\"-77.0336520\" data-offers=\"\" data-rid=\"52291\"><div class=\"rest-row with-image\"> <div class=\"rest-row-image\"> <a href=\"/georgia-browns-restaurant\" target=\"_blank\"><img alt=\"photo of georgia brown's restaurant\" class=\"lazy rest-image\" data-src=\"//resizer.otstatic.com/v2/profiles/legacy/52291.jpg\" src=\"//media.otstatic.com/search-result-node/images/no-image.png\"/></a></div> <div class=\"rest-row-info\"><div class=\"rest-row-header\"> <a class=\"rest-row-name rest-name \" href=\"/georgia-browns-restaurant\" target=\"_blank\"> <span class=\"rest-row-name-text\">Georgia Brown's</span> </a> </div> <div class=\"flex-row-justify\"> <div class=\"rest-row-review\"> <div class=\"star-rating\"><div class=\"star-wrapper small\"><div class=\"all-stars\"></div><div class=\"all-stars filled\" style=\"width: 88%;\"></div></div> <a class=\"review-link\" href=\"/georgia-browns-restaurant#reviews\" target=\"_blank\"><span class=\"star-rating-text\">(4998)</span><span class=\"star-rating-text--review-text\">4998 reviews</span></a></div> <span class=\"recommended-container\"><span class=\"thumbs-up-icon\"></span> <span class=\"recommended-small\">90%</span> <span class=\"recommended-text\">90% Recommend</span></span> </div> <div class=\"rest-row-pricing\"> <i>  $    $      </i>   $    $      </div> </div><div class=\"rest-row-meta rest-row-meta-grid flex-row-justify\"> <span class=\"rest-row-meta--cuisine rest-row-meta-text\">Low Country</span> <span class=\"rest-row-meta--location rest-row-meta-text\">Downtown</span></div> <div class=\"message-alerts\"> </div> <div class=\"rest-row-times-cont\"><div class=\"rest-row-times\"> <div class=\"timeslot-window\"><ul class=\"availability-row-container\"> <li class=\"timeslot-option timeslot-control\"> <a class=\"rest-row-times-btn timeslot\" data-rid=\"52291\" href=\"/book/validate?rid=52291&amp;d=2017-07-05 18:30&amp;p=2&amp;pt=100&amp;ss=0&amp;sd=2017-07-05 18:30&amp;pofids=&amp;hash=1888807242\"> 6:30 pm  </a> </li> <li class=\"timeslot-option timeslot-control\"> <a class=\"rest-row-times-btn timeslot\" data-rid=\"52291\" href=\"/book/validate?rid=52291&amp;d=2017-07-05 18:45&amp;p=2&amp;pt=100&amp;ss=0&amp;sd=2017-07-05 18:45&amp;pofids=&amp;hash=2269200302\"> 6:45 pm  </a> </li> <li class=\"timeslot-option timeslot-control\"> <a class=\"rest-row-times-btn exact timeslot\" data-rid=\"52291\" href=\"/book/validate?rid=52291&amp;d=2017-07-05 19:00&amp;p=2&amp;pt=100&amp;ss=0&amp;sd=2017-07-05 19:00&amp;pofids=&amp;hash=557334330\"> 7:00 pm  </a> </li> <li class=\"timeslot-option timeslot-control\"> <a class=\"rest-row-times-btn timeslot\" data-rid=\"52291\" href=\"/book/validate?rid=52291&amp;d=2017-07-05 19:15&amp;p=2&amp;pt=100&amp;ss=0&amp;sd=2017-07-05 19:15&amp;pofids=&amp;hash=1073466828\"> 7:15 pm  </a> </li> <li class=\"timeslot-option timeslot-control\"> <a class=\"rest-row-times-btn timeslot\" data-rid=\"52291\" href=\"/book/validate?rid=52291&amp;d=2017-07-05 19:30&amp;p=2&amp;pt=100&amp;ss=0&amp;sd=2017-07-05 19:30&amp;pofids=&amp;hash=819517346\"> 7:30 pm  </a> </li> </ul></div> </div></div> </div></div> </div>,\n",
       " <div class=\"result content-section-list-row cf with-times\" data-id=\"67\" data-index=\"68\" data-lat=\"39.0293080\" data-lon=\"-77.3054140\" data-offers=\"\" data-rid=\"168922\"><div class=\"rest-row with-image\"> <div class=\"rest-row-image\"> <a href=\"/jacques-brasserie-at-lauberge-chez-francois\" target=\"_blank\"><img alt=\"photo of jacques' brasserie at l'auberge chez francois restaurant\" class=\"lazy rest-image\" data-src=\"//resizer.otstatic.com/v2/profiles/legacy/168922.jpg\" src=\"//media.otstatic.com/search-result-node/images/no-image.png\"/></a></div> <div class=\"rest-row-info\"><div class=\"rest-row-header\"> <a class=\"rest-row-name rest-name \" href=\"/jacques-brasserie-at-lauberge-chez-francois\" target=\"_blank\"> <span class=\"rest-row-name-text\">Jacques' Brasserie at L'Auberge Chez Francois</span> </a> </div> <div class=\"flex-row-justify\"> <div class=\"rest-row-review\"> <div class=\"star-rating\"><div class=\"star-wrapper small\"><div class=\"all-stars\"></div><div class=\"all-stars filled\" style=\"width: 94%;\"></div></div> <a class=\"review-link\" href=\"/jacques-brasserie-at-lauberge-chez-francois#reviews\" target=\"_blank\"><span class=\"star-rating-text\">(263)</span><span class=\"star-rating-text--review-text\">263 reviews</span></a></div> <span class=\"recommended-container\"><span class=\"thumbs-up-icon\"></span> <span class=\"recommended-small\">97%</span> <span class=\"recommended-text\">97% Recommend</span></span> </div> <div class=\"rest-row-pricing\"> <i>  $    $      </i>   $    $      </div> </div><div class=\"rest-row-meta rest-row-meta-grid flex-row-justify\"> <span class=\"rest-row-meta--cuisine rest-row-meta-text\">French</span> <span class=\"rest-row-meta--location rest-row-meta-text\">Great Falls</span></div> <div class=\"message-alerts\"> <div class=\"notice-timeslot\"><span class=\"clock-icon\"></span> <span>Hurry, we only have 4 timeslots left!</span></div> </div> <div class=\"rest-row-times-cont\"><div class=\"rest-row-times\"> <div class=\"timeslot-window\"><ul class=\"availability-row-container\"> <li class=\"timeslot-option timeslot-control\"> <a class=\"rest-row-times-btn timeslot\" data-rid=\"168922\" href=\"/book/validate?rid=168922&amp;d=2017-07-05 17:30&amp;p=2&amp;pt=100&amp;ss=0&amp;sd=2017-07-05 17:30&amp;pofids=&amp;hash=2794063250\"> 5:30 pm  </a> </li> <li class=\"timeslot-option timeslot-control\"> <a class=\"rest-row-times-btn timeslot\" data-rid=\"168922\" href=\"/book/validate?rid=168922&amp;d=2017-07-05 18:00&amp;p=2&amp;pt=100&amp;ss=0&amp;sd=2017-07-05 18:00&amp;pofids=&amp;hash=640002719\"> 6:00 pm  </a> </li> <li class=\"timeslot-option\"> <a class=\"rest-row-times-btn exact unavailable\" data-offers=\"\" data-rid=\"168922\">\\xa0 </a> </li> <li class=\"timeslot-option timeslot-control\"> <a class=\"rest-row-times-btn timeslot\" data-rid=\"168922\" href=\"/book/validate?rid=168922&amp;d=2017-07-05 19:15&amp;p=2&amp;pt=100&amp;ss=0&amp;sd=2017-07-05 19:15&amp;pofids=&amp;hash=3339121192\"> 7:15 pm  </a> </li> <li class=\"timeslot-option timeslot-control\"> <a class=\"rest-row-times-btn timeslot\" data-rid=\"168922\" href=\"/book/validate?rid=168922&amp;d=2017-07-05 19:30&amp;p=2&amp;pt=100&amp;ss=0&amp;sd=2017-07-05 19:30&amp;pofids=&amp;hash=1202580382\"> 7:30 pm  </a> </li> </ul></div> </div></div> </div></div> </div>,\n",
       " <div class=\"result content-section-list-row cf with-times\" data-id=\"68\" data-index=\"69\" data-lat=\"38.9173980\" data-lon=\"-77.0413090\" data-offers=\"\" data-rid=\"65686\"><div class=\"rest-row with-image\"> <div class=\"rest-row-image\"> <a href=\"/jack-rose-dining-saloon\" target=\"_blank\"><img alt=\"photo of jack rose dining saloon restaurant\" class=\"lazy rest-image\" data-src=\"//resizer.otstatic.com/v2/profiles/legacy/65686.jpg\" src=\"//media.otstatic.com/search-result-node/images/no-image.png\"/></a></div> <div class=\"rest-row-info\"><div class=\"rest-row-header\"> <a class=\"rest-row-name rest-name \" href=\"/jack-rose-dining-saloon\" target=\"_blank\"> <span class=\"rest-row-name-text\">Jack Rose Dining Saloon</span> </a> </div> <div class=\"flex-row-justify\"> <div class=\"rest-row-review\"> <div class=\"star-rating\"><div class=\"star-wrapper small\"><div class=\"all-stars\"></div><div class=\"all-stars filled\" style=\"width: 90%;\"></div></div> <a class=\"review-link\" href=\"/jack-rose-dining-saloon#reviews\" target=\"_blank\"><span class=\"star-rating-text\">(507)</span><span class=\"star-rating-text--review-text\">507 reviews</span></a></div> <span class=\"recommended-container\"><span class=\"thumbs-up-icon\"></span> <span class=\"recommended-small\">94%</span> <span class=\"recommended-text\">94% Recommend</span></span> </div> <div class=\"rest-row-pricing\"> <i>  $    $      </i>   $    $      </div> </div><div class=\"rest-row-meta rest-row-meta-grid flex-row-justify\"> <span class=\"rest-row-meta--cuisine rest-row-meta-text\">Contemporary American</span> <span class=\"rest-row-meta--location rest-row-meta-text\">Adams Morgan</span></div> <div class=\"message-alerts\"> <div class=\"notice-timeslot\"><span class=\"clock-icon\"></span> <span>Hurry, we only have 2 timeslots left!</span></div> </div> <div class=\"rest-row-times-cont\"><div class=\"rest-row-times\"> <div class=\"timeslot-window\"><ul class=\"availability-row-container\"> <li class=\"timeslot-option timeslot-control\"> <a class=\"rest-row-times-btn timeslot\" data-rid=\"65686\" href=\"/book/validate?rid=65686&amp;d=2017-07-05 17:45&amp;p=2&amp;pt=100&amp;ss=0&amp;sd=2017-07-05 17:45&amp;pofids=&amp;hash=3128208899\"> 5:45 pm  </a> </li> <li class=\"timeslot-option timeslot-control\"> <a class=\"rest-row-times-btn timeslot\" data-rid=\"65686\" href=\"/book/validate?rid=65686&amp;d=2017-07-05 18:00&amp;p=2&amp;pt=100&amp;ss=0&amp;sd=2017-07-05 18:00&amp;pofids=&amp;hash=290191845\"> 6:00 pm  </a> </li> <li class=\"timeslot-option\"> <a class=\"rest-row-times-btn exact unavailable\" data-offers=\"\" data-rid=\"65686\">\\xa0 </a> </li> <li class=\"timeslot-option\"> <a class=\"rest-row-times-btn unavailable\" data-offers=\"\" data-rid=\"65686\">\\xa0 </a> </li> <li class=\"timeslot-option\"> <a class=\"rest-row-times-btn unavailable\" data-offers=\"\" data-rid=\"65686\">\\xa0 </a> </li> </ul></div> </div></div> </div></div> </div>,\n",
       " <div class=\"result content-section-list-row cf with-times\" data-id=\"69\" data-index=\"70\" data-lat=\"38.9106490\" data-lon=\"-77.0382210\" data-offers=\"\" data-rid=\"23050\"><div class=\"rest-row with-image\"> <div class=\"rest-row-image\"> <a href=\"/r/agora-washington\" target=\"_blank\"><img alt=\"photo of agora restaurant\" class=\"lazy rest-image\" data-src=\"//resizer.otstatic.com/v2/profiles/legacy/23050.jpg\" src=\"//media.otstatic.com/search-result-node/images/no-image.png\"/></a></div> <div class=\"rest-row-info\"><div class=\"rest-row-header\"> <a class=\"rest-row-name rest-name \" href=\"/r/agora-washington\" target=\"_blank\"> <span class=\"rest-row-name-text\">AGORA</span> </a> </div> <div class=\"flex-row-justify\"> <div class=\"rest-row-review\"> <div class=\"star-rating\"><div class=\"star-wrapper small\"><div class=\"all-stars\"></div><div class=\"all-stars filled\" style=\"width: 92%;\"></div></div> <a class=\"review-link\" href=\"/r/agora-washington#reviews\" target=\"_blank\"><span class=\"star-rating-text\">(1548)</span><span class=\"star-rating-text--review-text\">1548 reviews</span></a></div> <span class=\"recommended-container\"><span class=\"thumbs-up-icon\"></span> <span class=\"recommended-small\">95%</span> <span class=\"recommended-text\">95% Recommend</span></span> </div> <div class=\"rest-row-pricing\"> <i>  $    $      </i>   $    $      </div> </div><div class=\"rest-row-meta rest-row-meta-grid flex-row-justify\"> <span class=\"rest-row-meta--cuisine rest-row-meta-text\">Mediterranean</span> <span class=\"rest-row-meta--location rest-row-meta-text\">Dupont Circle</span></div> <div class=\"message-alerts\"> </div> <div class=\"rest-row-times-cont\"> <a class=\"button minimal\" href=\"/r/agora-washington\">Find next available</a> <p class=\"not-available-message\"> No tables are available within 2.5 hours of your 7:00 PM request.</p> </div> </div></div> </div>,\n",
       " <div class=\"result content-section-list-row cf with-times\" data-id=\"70\" data-index=\"71\" data-lat=\"38.9391520\" data-lon=\"-77.0244320\" data-offers=\"\" data-rid=\"267784\"><div class=\"rest-row with-image\"> <div class=\"rest-row-image\"> <a href=\"/r/homestead-dc-washington\" target=\"_blank\"><img alt=\"photo of homestead dc restaurant\" class=\"lazy rest-image\" data-src=\"//resizer.otstatic.com/v2/profiles/legacy/267784.jpg\" src=\"//media.otstatic.com/search-result-node/images/no-image.png\"/></a></div> <div class=\"rest-row-info\"><div class=\"rest-row-header\"> <a class=\"rest-row-name rest-name \" href=\"/r/homestead-dc-washington\" target=\"_blank\"> <span class=\"rest-row-name-text\">Homestead DC</span> </a> </div> <div class=\"flex-row-justify\"> <div class=\"rest-row-review\"> <div class=\"star-rating\"><div class=\"star-wrapper small\"><div class=\"all-stars\"></div><div class=\"all-stars filled\" style=\"width: 90%;\"></div></div> <a class=\"review-link\" href=\"/r/homestead-dc-washington#reviews\" target=\"_blank\"><span class=\"star-rating-text\">(70)</span><span class=\"star-rating-text--review-text\">70 reviews</span></a></div> <span class=\"recommended-container\"><span class=\"thumbs-up-icon\"></span> <span class=\"recommended-small\">93%</span> <span class=\"recommended-text\">93% Recommend</span></span> </div> <div class=\"rest-row-pricing\"> <i>  $    $      </i>   $    $      </div> </div><div class=\"rest-row-meta rest-row-meta-grid flex-row-justify\"> <span class=\"rest-row-meta--cuisine rest-row-meta-text\">American</span> <span class=\"rest-row-meta--location rest-row-meta-text\">Petworth</span></div> <div class=\"message-alerts\"> </div> <div class=\"rest-row-times-cont\"><div class=\"rest-row-times\"> <div class=\"timeslot-window\"><ul class=\"availability-row-container\"> <li class=\"timeslot-option timeslot-control\"> <a class=\"rest-row-times-btn timeslot\" data-rid=\"267784\" href=\"/book/validate?rid=267784&amp;d=2017-07-05 18:30&amp;p=2&amp;pt=100&amp;ss=0&amp;sd=2017-07-05 18:30&amp;pofids=&amp;hash=2913151169\"> 6:30 pm  </a> </li> <li class=\"timeslot-option timeslot-control\"> <a class=\"rest-row-times-btn timeslot\" data-rid=\"267784\" href=\"/book/validate?rid=267784&amp;d=2017-07-05 18:45&amp;p=2&amp;pt=100&amp;ss=0&amp;sd=2017-07-05 18:45&amp;pofids=&amp;hash=3998139009\"> 6:45 pm  </a> </li> <li class=\"timeslot-option timeslot-control\"> <a class=\"rest-row-times-btn exact timeslot\" data-rid=\"267784\" href=\"/book/validate?rid=267784&amp;d=2017-07-05 19:00&amp;p=2&amp;pt=100&amp;ss=0&amp;sd=2017-07-05 19:00&amp;pofids=&amp;hash=3258401726\"> 7:00 pm  </a> </li> <li class=\"timeslot-option timeslot-control\"> <a class=\"rest-row-times-btn timeslot\" data-rid=\"267784\" href=\"/book/validate?rid=267784&amp;d=2017-07-05 19:15&amp;p=2&amp;pt=100&amp;ss=0&amp;sd=2017-07-05 19:15&amp;pofids=&amp;hash=1255501053\"> 7:15 pm  </a> </li> <li class=\"timeslot-option timeslot-control\"> <a class=\"rest-row-times-btn timeslot\" data-rid=\"267784\" href=\"/book/validate?rid=267784&amp;d=2017-07-05 19:30&amp;p=2&amp;pt=100&amp;ss=0&amp;sd=2017-07-05 19:30&amp;pofids=&amp;hash=215983504\"> 7:30 pm  </a> </li> </ul></div> </div></div> </div></div> </div>,\n",
       " <div class=\"result content-section-list-row cf with-times\" data-id=\"71\" data-index=\"72\" data-lat=\"38.9146910\" data-lon=\"-77.0671760\" data-offers=\"\" data-rid=\"17320\"><div class=\"rest-row with-image\"> <div class=\"rest-row-image\"> <a href=\"/bistrot-lepic-and-wine-bar\" target=\"_blank\"><img alt=\"photo of bistrot lepic &amp; wine bar restaurant\" class=\"lazy rest-image\" data-src=\"//resizer.otstatic.com/v2/profiles/legacy/17320.jpg\" src=\"//media.otstatic.com/search-result-node/images/no-image.png\"/></a></div> <div class=\"rest-row-info\"><div class=\"rest-row-header\"> <a class=\"rest-row-name rest-name \" href=\"/bistrot-lepic-and-wine-bar\" target=\"_blank\"> <span class=\"rest-row-name-text\">Bistrot Lepic &amp; Wine Bar</span> </a> </div> <div class=\"flex-row-justify\"> <div class=\"rest-row-review\"> <div class=\"star-rating\"><div class=\"star-wrapper small\"><div class=\"all-stars\"></div><div class=\"all-stars filled\" style=\"width: 92%;\"></div></div> <a class=\"review-link\" href=\"/bistrot-lepic-and-wine-bar#reviews\" target=\"_blank\"><span class=\"star-rating-text\">(1354)</span><span class=\"star-rating-text--review-text\">1354 reviews</span></a></div> <span class=\"recommended-container\"><span class=\"thumbs-up-icon\"></span> <span class=\"recommended-small\">99%</span> <span class=\"recommended-text\">99% Recommend</span></span> </div> <div class=\"rest-row-pricing\"> <i>  $    $      </i>   $    $      </div> </div><div class=\"rest-row-meta rest-row-meta-grid flex-row-justify\"> <span class=\"rest-row-meta--cuisine rest-row-meta-text\">French</span> <span class=\"rest-row-meta--location rest-row-meta-text\">Georgetown</span></div> <div class=\"message-alerts\"> </div> <div class=\"rest-row-times-cont\"><div class=\"rest-row-times\"> <div class=\"timeslot-window\"><ul class=\"availability-row-container\"> <li class=\"timeslot-option timeslot-control\"> <a class=\"rest-row-times-btn timeslot\" data-rid=\"17320\" href=\"/book/validate?rid=17320&amp;d=2017-07-05 18:30&amp;p=2&amp;pt=100&amp;ss=0&amp;sd=2017-07-05 18:30&amp;pofids=&amp;hash=3111719410\"> 6:30 pm  </a> </li> <li class=\"timeslot-option timeslot-control\"> <a class=\"rest-row-times-btn timeslot\" data-rid=\"17320\" href=\"/book/validate?rid=17320&amp;d=2017-07-05 18:45&amp;p=2&amp;pt=100&amp;ss=0&amp;sd=2017-07-05 18:45&amp;pofids=&amp;hash=1277757472\"> 6:45 pm  </a> </li> <li class=\"timeslot-option timeslot-control\"> <a class=\"rest-row-times-btn exact timeslot\" data-rid=\"17320\" href=\"/book/validate?rid=17320&amp;d=2017-07-05 19:00&amp;p=2&amp;pt=100&amp;ss=0&amp;sd=2017-07-05 19:00&amp;pofids=&amp;hash=2414272166\"> 7:00 pm  </a> </li> <li class=\"timeslot-option timeslot-control\"> <a class=\"rest-row-times-btn timeslot\" data-rid=\"17320\" href=\"/book/validate?rid=17320&amp;d=2017-07-05 19:15&amp;p=2&amp;pt=100&amp;ss=0&amp;sd=2017-07-05 19:15&amp;pofids=&amp;hash=3538418327\"> 7:15 pm  </a> </li> <li class=\"timeslot-option timeslot-control\"> <a class=\"rest-row-times-btn timeslot\" data-rid=\"17320\" href=\"/book/validate?rid=17320&amp;d=2017-07-05 19:45&amp;p=2&amp;pt=100&amp;ss=0&amp;sd=2017-07-05 19:45&amp;pofids=&amp;hash=446533398\"> 7:45 pm  </a> </li> </ul></div> </div></div> </div></div> </div>,\n",
       " <div class=\"result content-section-list-row cf with-times\" data-id=\"72\" data-index=\"73\" data-lat=\"38.9219070\" data-lon=\"-77.0436830\" data-offers=\"\" data-rid=\"335461\"><div class=\"rest-row with-image\"> <div class=\"rest-row-image\"> <a href=\"/r/johnnys-half-shell-washington-district\" target=\"_blank\"><img alt=\"photo of johnny's half shell - adams morgan restaurant\" class=\"lazy rest-image\" data-src=\"//resizer.otstatic.com/v2/profiles/legacy/335461.jpg\" src=\"//media.otstatic.com/search-result-node/images/no-image.png\"/></a></div> <div class=\"rest-row-info\"><div class=\"rest-row-header\"> <a class=\"rest-row-name rest-name \" href=\"/r/johnnys-half-shell-washington-district\" target=\"_blank\"> <span class=\"rest-row-name-text\">Johnny's Half Shell - Adams Morgan</span> </a> </div> <div class=\"flex-row-justify\"> <div class=\"rest-row-review\"> <div class=\"star-rating\"><div class=\"star-wrapper small\"><div class=\"all-stars\"></div><div class=\"all-stars filled\" style=\"width: 90%;\"></div></div> <a class=\"review-link\" href=\"/r/johnnys-half-shell-washington-district#reviews\" target=\"_blank\"><span class=\"star-rating-text\">(134)</span><span class=\"star-rating-text--review-text\">134 reviews</span></a></div> <span class=\"recommended-container\"><span class=\"thumbs-up-icon\"></span> <span class=\"recommended-small\">92%</span> <span class=\"recommended-text\">92% Recommend</span></span> </div> <div class=\"rest-row-pricing\"> <i>  $    $      </i>   $    $      </div> </div><div class=\"rest-row-meta rest-row-meta-grid flex-row-justify\"> <span class=\"rest-row-meta--cuisine rest-row-meta-text\">Oyster Bar</span> <span class=\"rest-row-meta--location rest-row-meta-text\">Adams Morgan</span></div> <div class=\"message-alerts\"> </div> <div class=\"rest-row-times-cont\"><div class=\"rest-row-times\"> <div class=\"timeslot-window\"><ul class=\"availability-row-container\"> <li class=\"timeslot-option timeslot-control\"> <a class=\"rest-row-times-btn timeslot\" data-rid=\"335461\" href=\"/book/validate?rid=335461&amp;d=2017-07-05 18:30&amp;p=2&amp;pt=100&amp;ss=0&amp;sd=2017-07-05 18:30&amp;pofids=&amp;hash=1527483589\"> 6:30 pm  </a> </li> <li class=\"timeslot-option timeslot-control\"> <a class=\"rest-row-times-btn timeslot\" data-rid=\"335461\" href=\"/book/validate?rid=335461&amp;d=2017-07-05 18:45&amp;p=2&amp;pt=100&amp;ss=0&amp;sd=2017-07-05 18:45&amp;pofids=&amp;hash=2502436681\"> 6:45 pm  </a> </li> <li class=\"timeslot-option timeslot-control\"> <a class=\"rest-row-times-btn exact timeslot\" data-rid=\"335461\" href=\"/book/validate?rid=335461&amp;d=2017-07-05 19:00&amp;p=2&amp;pt=100&amp;ss=0&amp;sd=2017-07-05 19:00&amp;pofids=&amp;hash=2556336267\"> 7:00 pm  </a> </li> <li class=\"timeslot-option timeslot-control\"> <a class=\"rest-row-times-btn timeslot\" data-rid=\"335461\" href=\"/book/validate?rid=335461&amp;d=2017-07-05 19:15&amp;p=2&amp;pt=100&amp;ss=0&amp;sd=2017-07-05 19:15&amp;pofids=&amp;hash=4027073485\"> 7:15 pm  </a> </li> <li class=\"timeslot-option timeslot-control\"> <a class=\"rest-row-times-btn timeslot\" data-rid=\"335461\" href=\"/book/validate?rid=335461&amp;d=2017-07-05 19:30&amp;p=2&amp;pt=100&amp;ss=0&amp;sd=2017-07-05 19:30&amp;pofids=&amp;hash=319908900\"> 7:30 pm  </a> </li> </ul></div> </div></div> </div></div> </div>,\n",
       " <div class=\"result content-section-list-row cf with-times\" data-id=\"73\" data-index=\"74\" data-lat=\"38.9137220\" data-lon=\"-77.2259210\" data-offers=\"\" data-rid=\"57595\"><div class=\"rest-row with-image\"> <div class=\"rest-row-image\"> <a href=\"/nostos-restaurant\" target=\"_blank\"><img alt=\"photo of nostos restaurant restaurant\" class=\"lazy rest-image\" data-src=\"//resizer.otstatic.com/v2/profiles/legacy/57595.jpg\" src=\"//media.otstatic.com/search-result-node/images/no-image.png\"/></a></div> <div class=\"rest-row-info\"><div class=\"rest-row-header\"> <a class=\"rest-row-name rest-name \" href=\"/nostos-restaurant\" target=\"_blank\"> <span class=\"rest-row-name-text\">Nostos Restaurant</span> </a> </div> <div class=\"flex-row-justify\"> <div class=\"rest-row-review\"> <div class=\"star-rating\"><div class=\"star-wrapper small\"><div class=\"all-stars\"></div><div class=\"all-stars filled\" style=\"width: 92%;\"></div></div> <a class=\"review-link\" href=\"/nostos-restaurant#reviews\" target=\"_blank\"><span class=\"star-rating-text\">(2299)</span><span class=\"star-rating-text--review-text\">2299 reviews</span></a></div> <span class=\"recommended-container\"><span class=\"thumbs-up-icon\"></span> <span class=\"recommended-small\">97%</span> <span class=\"recommended-text\">97% Recommend</span></span> </div> <div class=\"rest-row-pricing\"> <i>  $    $      </i>   $    $      </div> </div><div class=\"rest-row-meta rest-row-meta-grid flex-row-justify\"> <span class=\"rest-row-meta--cuisine rest-row-meta-text\">Greek</span> <span class=\"rest-row-meta--location rest-row-meta-text\">Vienna</span></div> <div class=\"message-alerts\"> </div> <div class=\"rest-row-times-cont\"><div class=\"rest-row-times\"> <div class=\"timeslot-window\"><ul class=\"availability-row-container\"> <li class=\"timeslot-option timeslot-control\"> <a class=\"rest-row-times-btn timeslot\" data-rid=\"57595\" href=\"/book/validate?rid=57595&amp;d=2017-07-05 18:30&amp;p=2&amp;pt=100&amp;ss=0&amp;sd=2017-07-05 18:30&amp;pofids=&amp;hash=455958612\"> 6:30 pm  </a> </li> <li class=\"timeslot-option timeslot-control\"> <a class=\"rest-row-times-btn timeslot\" data-rid=\"57595\" href=\"/book/validate?rid=57595&amp;d=2017-07-05 18:45&amp;p=2&amp;pt=100&amp;ss=0&amp;sd=2017-07-05 18:45&amp;pofids=&amp;hash=2209758207\"> 6:45 pm  </a> </li> <li class=\"timeslot-option timeslot-control\"> <a class=\"rest-row-times-btn exact timeslot\" data-rid=\"57595\" href=\"/book/validate?rid=57595&amp;d=2017-07-05 19:00&amp;p=2&amp;pt=100&amp;ss=0&amp;sd=2017-07-05 19:00&amp;pofids=&amp;hash=2930965875\"> 7:00 pm  </a> </li> <li class=\"timeslot-option timeslot-control\"> <a class=\"rest-row-times-btn timeslot\" data-rid=\"57595\" href=\"/book/validate?rid=57595&amp;d=2017-07-05 19:15&amp;p=2&amp;pt=100&amp;ss=0&amp;sd=2017-07-05 19:15&amp;pofids=&amp;hash=2328988097\"> 7:15 pm  </a> </li> <li class=\"timeslot-option timeslot-control\"> <a class=\"rest-row-times-btn timeslot\" data-rid=\"57595\" href=\"/book/validate?rid=57595&amp;d=2017-07-05 19:30&amp;p=2&amp;pt=100&amp;ss=0&amp;sd=2017-07-05 19:30&amp;pofids=&amp;hash=3603061846\"> 7:30 pm  </a> </li> </ul></div> </div></div> </div></div> </div>,\n",
       " <div class=\"result content-section-list-row cf with-times\" data-id=\"74\" data-index=\"75\" data-lat=\"38.8937500\" data-lon=\"-77.0783330\" data-offers=\"\" data-rid=\"170548\"><div class=\"rest-row with-image\"> <div class=\"rest-row-image\"> <a href=\"/kona-grill-arlington\" target=\"_blank\"><img alt=\"photo of kona grill - arlington restaurant\" class=\"lazy rest-image\" data-src=\"//resizer.otstatic.com/v2/profiles/legacy/170548.jpg\" src=\"//media.otstatic.com/search-result-node/images/no-image.png\"/></a></div> <div class=\"rest-row-info\"><div class=\"rest-row-header\"> <a class=\"rest-row-name rest-name \" href=\"/kona-grill-arlington\" target=\"_blank\"> <span class=\"rest-row-name-text\">Kona Grill - Arlington</span> </a> </div> <div class=\"flex-row-justify\"> <div class=\"rest-row-review\"> <div class=\"star-rating\"><div class=\"star-wrapper small\"><div class=\"all-stars\"></div><div class=\"all-stars filled\" style=\"width: 88%;\"></div></div> <a class=\"review-link\" href=\"/kona-grill-arlington#reviews\" target=\"_blank\"><span class=\"star-rating-text\">(164)</span><span class=\"star-rating-text--review-text\">164 reviews</span></a></div> <span class=\"recommended-container\"><span class=\"thumbs-up-icon\"></span> <span class=\"recommended-small\">92%</span> <span class=\"recommended-text\">92% Recommend</span></span> </div> <div class=\"rest-row-pricing\"> <i>  $    $      </i>   $    $      </div> </div><div class=\"rest-row-meta rest-row-meta-grid flex-row-justify\"> <span class=\"rest-row-meta--cuisine rest-row-meta-text\">American</span> <span class=\"rest-row-meta--location rest-row-meta-text\">Arlington</span></div> <div class=\"message-alerts\"> </div> <div class=\"rest-row-times-cont\"><div class=\"rest-row-times\"> <div class=\"timeslot-window\"><ul class=\"availability-row-container\"> <li class=\"timeslot-option timeslot-control\"> <a class=\"rest-row-times-btn timeslot\" data-rid=\"170548\" href=\"/book/validate?rid=170548&amp;d=2017-07-05 18:30&amp;p=2&amp;pt=1000&amp;ss=0&amp;sd=2017-07-05 18:30&amp;pofids=&amp;hash=1157379528&amp;i=1\"> 6:30 pm  </a> </li> <li class=\"timeslot-option timeslot-control\"> <a class=\"rest-row-times-btn timeslot\" data-rid=\"170548\" href=\"/book/validate?rid=170548&amp;d=2017-07-05 18:45&amp;p=2&amp;pt=1000&amp;ss=0&amp;sd=2017-07-05 18:45&amp;pofids=&amp;hash=1857085399&amp;i=1\"> 6:45 pm  </a> </li> <li class=\"timeslot-option timeslot-control\"> <a class=\"rest-row-times-btn exact timeslot\" data-rid=\"170548\" href=\"/book/validate?rid=170548&amp;d=2017-07-05 19:00&amp;p=2&amp;pt=1000&amp;ss=0&amp;sd=2017-07-05 19:00&amp;pofids=&amp;hash=150370590&amp;i=1\"> 7:00 pm  </a> </li> <li class=\"timeslot-option timeslot-control\"> <a class=\"rest-row-times-btn timeslot\" data-rid=\"170548\" href=\"/book/validate?rid=170548&amp;d=2017-07-05 19:15&amp;p=2&amp;pt=1000&amp;ss=0&amp;sd=2017-07-05 19:15&amp;pofids=&amp;hash=3169041892&amp;i=1\"> 7:15 pm  </a> </li> <li class=\"timeslot-option timeslot-control\"> <a class=\"rest-row-times-btn timeslot\" data-rid=\"170548\" href=\"/book/validate?rid=170548&amp;d=2017-07-05 19:30&amp;p=2&amp;pt=1000&amp;ss=0&amp;sd=2017-07-05 19:30&amp;pofids=&amp;hash=1193624100&amp;i=1\"> 7:30 pm  </a> </li> </ul></div> </div></div> </div></div> </div>,\n",
       " <div class=\"result content-section-list-row cf with-times\" data-id=\"75\" data-index=\"76\" data-lat=\"38.8237590\" data-lon=\"-77.0576680\" data-offers=\"\" data-rid=\"85396\"><div class=\"rest-row with-image\"> <div class=\"rest-row-image\"> <a href=\"/del-rey-cafe\" target=\"_blank\"><img alt=\"photo of del ray cafe restaurant\" class=\"lazy rest-image\" data-src=\"//resizer.otstatic.com/v2/profiles/legacy/85396.jpg\" src=\"//media.otstatic.com/search-result-node/images/no-image.png\"/></a></div> <div class=\"rest-row-info\"><div class=\"rest-row-header\"> <a class=\"rest-row-name rest-name \" href=\"/del-rey-cafe\" target=\"_blank\"> <span class=\"rest-row-name-text\">Del Ray Cafe</span> </a> </div> <div class=\"flex-row-justify\"> <div class=\"rest-row-review\"> <div class=\"star-rating\"><div class=\"star-wrapper small\"><div class=\"all-stars\"></div><div class=\"all-stars filled\" style=\"width: 92%;\"></div></div> <a class=\"review-link\" href=\"/del-rey-cafe#reviews\" target=\"_blank\"><span class=\"star-rating-text\">(233)</span><span class=\"star-rating-text--review-text\">233 reviews</span></a></div> <span class=\"recommended-container\"><span class=\"thumbs-up-icon\"></span> <span class=\"recommended-small\">93%</span> <span class=\"recommended-text\">93% Recommend</span></span> </div> <div class=\"rest-row-pricing\"> <i>  $    $      </i>   $    $      </div> </div><div class=\"rest-row-meta rest-row-meta-grid flex-row-justify\"> <span class=\"rest-row-meta--cuisine rest-row-meta-text\">French</span> <span class=\"rest-row-meta--location rest-row-meta-text\">Alexandria</span></div> <div class=\"message-alerts\"> </div> <div class=\"rest-row-times-cont\"><div class=\"rest-row-times\"> <div class=\"timeslot-window\"><ul class=\"availability-row-container\"> <li class=\"timeslot-option timeslot-control\"> <a class=\"rest-row-times-btn timeslot\" data-rid=\"85396\" href=\"/book/validate?rid=85396&amp;d=2017-07-05 18:30&amp;p=2&amp;pt=100&amp;ss=0&amp;sd=2017-07-05 18:30&amp;pofids=&amp;hash=1748190322\"> 6:30 pm  </a> </li> <li class=\"timeslot-option timeslot-control\"> <a class=\"rest-row-times-btn timeslot\" data-rid=\"85396\" href=\"/book/validate?rid=85396&amp;d=2017-07-05 18:45&amp;p=2&amp;pt=100&amp;ss=0&amp;sd=2017-07-05 18:45&amp;pofids=&amp;hash=1846891402\"> 6:45 pm  </a> </li> <li class=\"timeslot-option timeslot-control\"> <a class=\"rest-row-times-btn exact timeslot\" data-rid=\"85396\" href=\"/book/validate?rid=85396&amp;d=2017-07-05 19:00&amp;p=2&amp;pt=100&amp;ss=0&amp;sd=2017-07-05 19:00&amp;pofids=&amp;hash=168012485\"> 7:00 pm  </a> </li> <li class=\"timeslot-option timeslot-control\"> <a class=\"rest-row-times-btn timeslot\" data-rid=\"85396\" href=\"/book/validate?rid=85396&amp;d=2017-07-05 19:15&amp;p=2&amp;pt=100&amp;ss=0&amp;sd=2017-07-05 19:15&amp;pofids=&amp;hash=3785321286\"> 7:15 pm  </a> </li> <li class=\"timeslot-option timeslot-control\"> <a class=\"rest-row-times-btn timeslot\" data-rid=\"85396\" href=\"/book/validate?rid=85396&amp;d=2017-07-05 19:30&amp;p=2&amp;pt=100&amp;ss=0&amp;sd=2017-07-05 19:30&amp;pofids=&amp;hash=1616335449\"> 7:30 pm  </a> </li> </ul></div> </div></div> </div></div> </div>,\n",
       " <div class=\"result content-section-list-row cf with-times\" data-id=\"76\" data-index=\"77\" data-lat=\"38.8855920\" data-lon=\"-77.0949480\" data-offers=\"\" data-rid=\"43540\"><div class=\"rest-row with-image\"> <div class=\"rest-row-image\"> <a href=\"/lyon-hall\" target=\"_blank\"><img alt=\"photo of lyon hall restaurant\" class=\"lazy rest-image\" data-src=\"//resizer.otstatic.com/v2/profiles/legacy/43540.jpg\" src=\"//media.otstatic.com/search-result-node/images/no-image.png\"/></a></div> <div class=\"rest-row-info\"><div class=\"rest-row-header\"> <a class=\"rest-row-name rest-name \" href=\"/lyon-hall\" target=\"_blank\"> <span class=\"rest-row-name-text\">Lyon Hall</span> </a> </div> <div class=\"flex-row-justify\"> <div class=\"rest-row-review\"> <div class=\"star-rating\"><div class=\"star-wrapper small\"><div class=\"all-stars\"></div><div class=\"all-stars filled\" style=\"width: 90%;\"></div></div> <a class=\"review-link\" href=\"/lyon-hall#reviews\" target=\"_blank\"><span class=\"star-rating-text\">(1985)</span><span class=\"star-rating-text--review-text\">1985 reviews</span></a></div> <span class=\"recommended-container\"><span class=\"thumbs-up-icon\"></span> <span class=\"recommended-small\">90%</span> <span class=\"recommended-text\">90% Recommend</span></span> </div> <div class=\"rest-row-pricing\"> <i>  $    $      </i>   $    $      </div> </div><div class=\"rest-row-meta rest-row-meta-grid flex-row-justify\"> <span class=\"rest-row-meta--cuisine rest-row-meta-text\">French</span> <span class=\"rest-row-meta--location rest-row-meta-text\">Arlington</span></div> <div class=\"message-alerts\"> </div> <div class=\"rest-row-times-cont\"><div class=\"rest-row-times\"> <div class=\"timeslot-window\"><ul class=\"availability-row-container\"> <li class=\"timeslot-option timeslot-control\"> <a class=\"rest-row-times-btn timeslot\" data-rid=\"43540\" href=\"/book/validate?rid=43540&amp;d=2017-07-05 18:30&amp;p=2&amp;pt=100&amp;ss=0&amp;sd=2017-07-05 18:30&amp;pofids=&amp;hash=1340072800\"> 6:30 pm  </a> </li> <li class=\"timeslot-option timeslot-control\"> <a class=\"rest-row-times-btn timeslot\" data-rid=\"43540\" href=\"/book/validate?rid=43540&amp;d=2017-07-05 18:45&amp;p=2&amp;pt=100&amp;ss=0&amp;sd=2017-07-05 18:45&amp;pofids=&amp;hash=1290825579\"> 6:45 pm  </a> </li> <li class=\"timeslot-option timeslot-control\"> <a class=\"rest-row-times-btn exact timeslot\" data-rid=\"43540\" href=\"/book/validate?rid=43540&amp;d=2017-07-05 19:00&amp;p=2&amp;pt=100&amp;ss=0&amp;sd=2017-07-05 19:00&amp;pofids=&amp;hash=4102250104\"> 7:00 pm  </a> </li> <li class=\"timeslot-option timeslot-control\"> <a class=\"rest-row-times-btn timeslot\" data-rid=\"43540\" href=\"/book/validate?rid=43540&amp;d=2017-07-05 19:15&amp;p=2&amp;pt=100&amp;ss=0&amp;sd=2017-07-05 19:15&amp;pofids=&amp;hash=1753816853\"> 7:15 pm  </a> </li> <li class=\"timeslot-option timeslot-control\"> <a class=\"rest-row-times-btn timeslot\" data-rid=\"43540\" href=\"/book/validate?rid=43540&amp;d=2017-07-05 19:30&amp;p=2&amp;pt=100&amp;ss=0&amp;sd=2017-07-05 19:30&amp;pofids=&amp;hash=360325120\"> 7:30 pm  </a> </li> </ul></div> </div></div> </div></div> </div>,\n",
       " <div class=\"result content-section-list-row cf with-times\" data-id=\"77\" data-index=\"78\" data-lat=\"38.9005030\" data-lon=\"-77.0379490\" data-offers=\"\" data-rid=\"1827\"><div class=\"rest-row with-image\"> <div class=\"rest-row-image\"> <a href=\"/bombay-club-washington\" target=\"_blank\"><img alt=\"photo of bombay club restaurant\" class=\"lazy rest-image\" data-src=\"//resizer.otstatic.com/v2/profiles/legacy/1827.jpg\" src=\"//media.otstatic.com/search-result-node/images/no-image.png\"/></a></div> <div class=\"rest-row-info\"><div class=\"rest-row-header\"> <a class=\"rest-row-name rest-name \" href=\"/bombay-club-washington\" target=\"_blank\"> <span class=\"rest-row-name-text\">Bombay Club</span> </a> </div> <div class=\"flex-row-justify\"> <div class=\"rest-row-review\"> <div class=\"star-rating\"><div class=\"star-wrapper small\"><div class=\"all-stars\"></div><div class=\"all-stars filled\" style=\"width: 94%;\"></div></div> <a class=\"review-link\" href=\"/bombay-club-washington#reviews\" target=\"_blank\"><span class=\"star-rating-text\">(3369)</span><span class=\"star-rating-text--review-text\">3369 reviews</span></a></div> <span class=\"recommended-container\"><span class=\"thumbs-up-icon\"></span> <span class=\"recommended-small\">94%</span> <span class=\"recommended-text\">94% Recommend</span></span> </div> <div class=\"rest-row-pricing\"> <i>  $    $    $    </i>   $        </div> </div><div class=\"rest-row-meta rest-row-meta-grid flex-row-justify\"> <span class=\"rest-row-meta--cuisine rest-row-meta-text\">Indian</span> <span class=\"rest-row-meta--location rest-row-meta-text\">Downtown</span></div> <div class=\"message-alerts\"> </div> <div class=\"rest-row-times-cont\"><div class=\"rest-row-times\"> <div class=\"timeslot-window\"><ul class=\"availability-row-container\"> <li class=\"timeslot-option timeslot-control\"> <a class=\"rest-row-times-btn timeslot\" data-rid=\"1827\" href=\"/book/validate?rid=1827&amp;d=2017-07-05 18:30&amp;p=2&amp;pt=100&amp;ss=0&amp;sd=2017-07-05 18:30&amp;pofids=&amp;hash=1775835649\"> 6:30 pm  </a> </li> <li class=\"timeslot-option timeslot-control\"> <a class=\"rest-row-times-btn timeslot\" data-rid=\"1827\" href=\"/book/validate?rid=1827&amp;d=2017-07-05 18:45&amp;p=2&amp;pt=100&amp;ss=0&amp;sd=2017-07-05 18:45&amp;pofids=&amp;hash=3961561030\"> 6:45 pm  </a> </li> <li class=\"timeslot-option timeslot-control\"> <a class=\"rest-row-times-btn exact timeslot\" data-rid=\"1827\" href=\"/book/validate?rid=1827&amp;d=2017-07-05 19:00&amp;p=2&amp;pt=100&amp;ss=0&amp;sd=2017-07-05 19:00&amp;pofids=&amp;hash=3758446050\"> 7:00 pm  </a> </li> <li class=\"timeslot-option timeslot-control\"> <a class=\"rest-row-times-btn timeslot\" data-rid=\"1827\" href=\"/book/validate?rid=1827&amp;d=2017-07-05 19:15&amp;p=2&amp;pt=100&amp;ss=0&amp;sd=2017-07-05 19:15&amp;pofids=&amp;hash=4023063460\"> 7:15 pm  </a> </li> <li class=\"timeslot-option timeslot-control\"> <a class=\"rest-row-times-btn timeslot\" data-rid=\"1827\" href=\"/book/validate?rid=1827&amp;d=2017-07-05 19:30&amp;p=2&amp;pt=100&amp;ss=0&amp;sd=2017-07-05 19:30&amp;pofids=&amp;hash=515094758\"> 7:30 pm  </a> </li> </ul></div> </div></div> </div></div> </div>,\n",
       " <div class=\"result content-section-list-row cf with-times\" data-id=\"78\" data-index=\"79\" data-lat=\"38.9075780\" data-lon=\"-77.0455450\" data-offers=\"\" data-rid=\"2146\"><div class=\"rest-row with-image\"> <div class=\"rest-row-image\"> <a href=\"/firefly-dc\" target=\"_blank\"><img alt=\"photo of firefly - dc restaurant\" class=\"lazy rest-image\" data-src=\"//resizer.otstatic.com/v2/profiles/legacy/2146.jpg\" src=\"//media.otstatic.com/search-result-node/images/no-image.png\"/></a></div> <div class=\"rest-row-info\"><div class=\"rest-row-header\"> <a class=\"rest-row-name rest-name \" href=\"/firefly-dc\" target=\"_blank\"> <span class=\"rest-row-name-text\">Firefly - DC</span> </a> </div> <div class=\"flex-row-justify\"> <div class=\"rest-row-review\"> <div class=\"star-rating\"><div class=\"star-wrapper small\"><div class=\"all-stars\"></div><div class=\"all-stars filled\" style=\"width: 84%;\"></div></div> <a class=\"review-link\" href=\"/firefly-dc#reviews\" target=\"_blank\"><span class=\"star-rating-text\">(3191)</span><span class=\"star-rating-text--review-text\">3191 reviews</span></a></div> <span class=\"recommended-container\"><span class=\"thumbs-up-icon\"></span> <span class=\"recommended-small\">74%</span> <span class=\"recommended-text\">74% Recommend</span></span> </div> <div class=\"rest-row-pricing\"> <i>  $    $      </i>   $    $      </div> </div><div class=\"rest-row-meta rest-row-meta-grid flex-row-justify\"> <span class=\"rest-row-meta--cuisine rest-row-meta-text\">American</span> <span class=\"rest-row-meta--location rest-row-meta-text\">Dupont Circle</span></div> <div class=\"message-alerts\"> <div class=\"notice-timeslot\"><span class=\"clock-icon\"></span> <span>Hurry, we only have 4 timeslots left!</span></div> </div> <div class=\"rest-row-times-cont\"><div class=\"rest-row-times\"> <div class=\"timeslot-window\"><ul class=\"availability-row-container\"> <li class=\"timeslot-option timeslot-control\"> <a class=\"rest-row-times-btn timeslot\" data-rid=\"2146\" href=\"/book/validate?rid=2146&amp;d=2017-07-05 18:30&amp;p=2&amp;pt=100&amp;ss=0&amp;sd=2017-07-05 18:30&amp;pofids=&amp;hash=68913876\"> 6:30 pm  </a> </li> <li class=\"timeslot-option timeslot-control\"> <a class=\"rest-row-times-btn timeslot\" data-rid=\"2146\" href=\"/book/validate?rid=2146&amp;d=2017-07-05 18:45&amp;p=2&amp;pt=100&amp;ss=0&amp;sd=2017-07-05 18:45&amp;pofids=&amp;hash=2946216690\"> 6:45 pm  </a> </li> <li class=\"timeslot-option\"> <a class=\"rest-row-times-btn exact unavailable\" data-offers=\"\" data-rid=\"2146\">\\xa0 </a> </li> <li class=\"timeslot-option timeslot-control\"> <a class=\"rest-row-times-btn timeslot\" data-rid=\"2146\" href=\"/book/validate?rid=2146&amp;d=2017-07-05 19:15&amp;p=2&amp;pt=100&amp;ss=0&amp;sd=2017-07-05 19:15&amp;pofids=&amp;hash=1055448440\"> 7:15 pm  </a> </li> <li class=\"timeslot-option timeslot-control\"> <a class=\"rest-row-times-btn timeslot\" data-rid=\"2146\" href=\"/book/validate?rid=2146&amp;d=2017-07-05 19:30&amp;p=2&amp;pt=100&amp;ss=0&amp;sd=2017-07-05 19:30&amp;pofids=&amp;hash=2063877021\"> 7:30 pm  </a> </li> </ul></div> </div></div> </div></div> </div>,\n",
       " <div class=\"result content-section-list-row cf with-times\" data-id=\"79\" data-index=\"80\" data-lat=\"38.9332720\" data-lon=\"-77.0731780\" data-offers=\"\" data-rid=\"188062\"><div class=\"rest-row with-image\"> <div class=\"rest-row-image\"> <a href=\"/la-piquette\" target=\"_blank\"><img alt=\"photo of la piquette restaurant\" class=\"lazy rest-image\" data-src=\"//resizer.otstatic.com/v2/profiles/legacy/188062.jpg\" src=\"//media.otstatic.com/search-result-node/images/no-image.png\"/></a></div> <div class=\"rest-row-info\"><div class=\"rest-row-header\"> <a class=\"rest-row-name rest-name \" href=\"/la-piquette\" target=\"_blank\"> <span class=\"rest-row-name-text\">La Piquette</span> </a> </div> <div class=\"flex-row-justify\"> <div class=\"rest-row-review\"> <div class=\"star-rating\"><div class=\"star-wrapper small\"><div class=\"all-stars\"></div><div class=\"all-stars filled\" style=\"width: 92%;\"></div></div> <a class=\"review-link\" href=\"/la-piquette#reviews\" target=\"_blank\"><span class=\"star-rating-text\">(377)</span><span class=\"star-rating-text--review-text\">377 reviews</span></a></div> <span class=\"recommended-container\"><span class=\"thumbs-up-icon\"></span> <span class=\"recommended-small\">94%</span> <span class=\"recommended-text\">94% Recommend</span></span> </div> <div class=\"rest-row-pricing\"> <i>  $    $      </i>   $    $      </div> </div><div class=\"rest-row-meta rest-row-meta-grid flex-row-justify\"> <span class=\"rest-row-meta--cuisine rest-row-meta-text\">French</span> <span class=\"rest-row-meta--location rest-row-meta-text\">Cleveland Park</span></div> <div class=\"message-alerts\"> </div> <div class=\"rest-row-times-cont\"><div class=\"rest-row-times\"> <div class=\"timeslot-window\"><ul class=\"availability-row-container\"> <li class=\"timeslot-option timeslot-control\"> <a class=\"rest-row-times-btn timeslot\" data-rid=\"188062\" href=\"/book/validate?rid=188062&amp;d=2017-07-05 18:30&amp;p=2&amp;pt=100&amp;ss=0&amp;sd=2017-07-05 18:30&amp;pofids=&amp;hash=1413017637\"> 6:30 pm  </a> </li> <li class=\"timeslot-option timeslot-control\"> <a class=\"rest-row-times-btn timeslot\" data-rid=\"188062\" href=\"/book/validate?rid=188062&amp;d=2017-07-05 18:45&amp;p=2&amp;pt=100&amp;ss=0&amp;sd=2017-07-05 18:45&amp;pofids=&amp;hash=23534310\"> 6:45 pm  </a> </li> <li class=\"timeslot-option timeslot-control\"> <a class=\"rest-row-times-btn exact timeslot\" data-rid=\"188062\" href=\"/book/validate?rid=188062&amp;d=2017-07-05 19:00&amp;p=2&amp;pt=100&amp;ss=0&amp;sd=2017-07-05 19:00&amp;pofids=&amp;hash=1017338730\"> 7:00 pm  </a> </li> <li class=\"timeslot-option timeslot-control\"> <a class=\"rest-row-times-btn timeslot\" data-rid=\"188062\" href=\"/book/validate?rid=188062&amp;d=2017-07-05 19:15&amp;p=2&amp;pt=100&amp;ss=0&amp;sd=2017-07-05 19:15&amp;pofids=&amp;hash=2427147881\"> 7:15 pm  </a> </li> <li class=\"timeslot-option timeslot-control\"> <a class=\"rest-row-times-btn timeslot\" data-rid=\"188062\" href=\"/book/validate?rid=188062&amp;d=2017-07-05 19:30&amp;p=2&amp;pt=100&amp;ss=0&amp;sd=2017-07-05 19:30&amp;pofids=&amp;hash=2639118650\"> 7:30 pm  </a> </li> </ul></div> </div></div> </div></div> </div>,\n",
       " <div class=\"result content-section-list-row cf with-times\" data-id=\"80\" data-index=\"81\" data-lat=\"38.9073880\" data-lon=\"-77.0399910\" data-offers=\"\" data-rid=\"156829\"><div class=\"rest-row with-image\"> <div class=\"rest-row-image\"> <a href=\"/tabard-inn\" target=\"_blank\"><img alt=\"photo of tabard inn restaurant\" class=\"lazy rest-image\" data-src=\"//resizer.otstatic.com/v2/profiles/legacy/156829.jpg\" src=\"//media.otstatic.com/search-result-node/images/no-image.png\"/></a></div> <div class=\"rest-row-info\"><div class=\"rest-row-header\"> <a class=\"rest-row-name rest-name \" href=\"/tabard-inn\" target=\"_blank\"> <span class=\"rest-row-name-text\">Tabard Inn</span> </a> </div> <div class=\"flex-row-justify\"> <div class=\"rest-row-review\"> <div class=\"star-rating\"><div class=\"star-wrapper small\"><div class=\"all-stars\"></div><div class=\"all-stars filled\" style=\"width: 90%;\"></div></div> <a class=\"review-link\" href=\"/tabard-inn#reviews\" target=\"_blank\"><span class=\"star-rating-text\">(816)</span><span class=\"star-rating-text--review-text\">816 reviews</span></a></div> <span class=\"recommended-container\"><span class=\"thumbs-up-icon\"></span> <span class=\"recommended-small\">94%</span> <span class=\"recommended-text\">94% Recommend</span></span> </div> <div class=\"rest-row-pricing\"> <i>  $    $    $    </i>   $        </div> </div><div class=\"rest-row-meta rest-row-meta-grid flex-row-justify\"> <span class=\"rest-row-meta--cuisine rest-row-meta-text\">Contemporary American</span> <span class=\"rest-row-meta--location rest-row-meta-text\">Dupont Circle</span></div> <div class=\"message-alerts\"> </div> <div class=\"rest-row-times-cont\"><div class=\"rest-row-times\"> <div class=\"timeslot-window\"><ul class=\"availability-row-container\"> <li class=\"timeslot-option timeslot-control\"> <a class=\"rest-row-times-btn timeslot\" data-rid=\"156829\" href=\"/book/validate?rid=156829&amp;d=2017-07-05 18:30&amp;p=2&amp;pt=100&amp;ss=0&amp;sd=2017-07-05 18:30&amp;pofids=&amp;hash=1734515978\"> 6:30 pm  </a> </li> <li class=\"timeslot-option timeslot-control\"> <a class=\"rest-row-times-btn timeslot\" data-rid=\"156829\" href=\"/book/validate?rid=156829&amp;d=2017-07-05 18:45&amp;p=2&amp;pt=100&amp;ss=0&amp;sd=2017-07-05 18:45&amp;pofids=&amp;hash=3290816175\"> 6:45 pm  </a> </li> <li class=\"timeslot-option timeslot-control\"> <a class=\"rest-row-times-btn exact timeslot\" data-rid=\"156829\" href=\"/book/validate?rid=156829&amp;d=2017-07-05 19:00&amp;p=2&amp;pt=100&amp;ss=0&amp;sd=2017-07-05 19:00&amp;pofids=&amp;hash=4277040182\"> 7:00 pm  </a> </li> <li class=\"timeslot-option timeslot-control\"> <a class=\"rest-row-times-btn timeslot\" data-rid=\"156829\" href=\"/book/validate?rid=156829&amp;d=2017-07-05 19:15&amp;p=2&amp;pt=100&amp;ss=0&amp;sd=2017-07-05 19:15&amp;pofids=&amp;hash=1726926002\"> 7:15 pm  </a> </li> <li class=\"timeslot-option timeslot-control\"> <a class=\"rest-row-times-btn timeslot\" data-rid=\"156829\" href=\"/book/validate?rid=156829&amp;d=2017-07-05 19:30&amp;p=2&amp;pt=100&amp;ss=0&amp;sd=2017-07-05 19:30&amp;pofids=&amp;hash=3850223504\"> 7:30 pm  </a> </li> </ul></div> </div></div> </div></div> </div>,\n",
       " <div class=\"result content-section-list-row cf with-times\" data-id=\"81\" data-index=\"82\" data-lat=\"38.8816210\" data-lon=\"-76.9951220\" data-offers=\"\" data-rid=\"66595\"><div class=\"rest-row with-image\"> <div class=\"rest-row-image\"> <a href=\"/lavagna-washington-dc\" target=\"_blank\"><img alt=\"photo of lavagna - washington dc restaurant\" class=\"lazy rest-image\" data-src=\"//resizer.otstatic.com/v2/profiles/legacy/66595.jpg\" src=\"//media.otstatic.com/search-result-node/images/no-image.png\"/></a></div> <div class=\"rest-row-info\"><div class=\"rest-row-header\"> <a class=\"rest-row-name rest-name \" href=\"/lavagna-washington-dc\" target=\"_blank\"> <span class=\"rest-row-name-text\">Lavagna - Washington DC</span> </a> </div> <div class=\"flex-row-justify\"> <div class=\"rest-row-review\"> <div class=\"star-rating\"><div class=\"star-wrapper small\"><div class=\"all-stars\"></div><div class=\"all-stars filled\" style=\"width: 92%;\"></div></div> <a class=\"review-link\" href=\"/lavagna-washington-dc#reviews\" target=\"_blank\"><span class=\"star-rating-text\">(955)</span><span class=\"star-rating-text--review-text\">955 reviews</span></a></div> <span class=\"recommended-container\"><span class=\"thumbs-up-icon\"></span> <span class=\"recommended-small\">92%</span> <span class=\"recommended-text\">92% Recommend</span></span> </div> <div class=\"rest-row-pricing\"> <i>  $    $      </i>   $    $      </div> </div><div class=\"rest-row-meta rest-row-meta-grid flex-row-justify\"> <span class=\"rest-row-meta--cuisine rest-row-meta-text\">Italian</span> <span class=\"rest-row-meta--location rest-row-meta-text\">Capitol Hill</span></div> <div class=\"message-alerts\"> </div> <div class=\"rest-row-times-cont\"><div class=\"rest-row-times\"> <div class=\"timeslot-window\"><ul class=\"availability-row-container\"> <li class=\"timeslot-option timeslot-control\"> <a class=\"rest-row-times-btn timeslot\" data-rid=\"66595\" href=\"/book/validate?rid=66595&amp;d=2017-07-05 18:30&amp;p=2&amp;pt=100&amp;ss=0&amp;sd=2017-07-05 18:30&amp;pofids=&amp;hash=1962757219\"> 6:30 pm  </a> </li> <li class=\"timeslot-option timeslot-control\"> <a class=\"rest-row-times-btn timeslot\" data-rid=\"66595\" href=\"/book/validate?rid=66595&amp;d=2017-07-05 18:45&amp;p=2&amp;pt=100&amp;ss=0&amp;sd=2017-07-05 18:45&amp;pofids=&amp;hash=2744907455\"> 6:45 pm  </a> </li> <li class=\"timeslot-option timeslot-control\"> <a class=\"rest-row-times-btn exact timeslot\" data-rid=\"66595\" href=\"/book/validate?rid=66595&amp;d=2017-07-05 19:00&amp;p=2&amp;pt=100&amp;ss=0&amp;sd=2017-07-05 19:00&amp;pofids=&amp;hash=1256241583\"> 7:00 pm  </a> </li> <li class=\"timeslot-option timeslot-control\"> <a class=\"rest-row-times-btn timeslot\" data-rid=\"66595\" href=\"/book/validate?rid=66595&amp;d=2017-07-05 19:15&amp;p=2&amp;pt=100&amp;ss=0&amp;sd=2017-07-05 19:15&amp;pofids=&amp;hash=2204346803\"> 7:15 pm  </a> </li> <li class=\"timeslot-option timeslot-control\"> <a class=\"rest-row-times-btn timeslot\" data-rid=\"66595\" href=\"/book/validate?rid=66595&amp;d=2017-07-05 19:30&amp;p=2&amp;pt=100&amp;ss=0&amp;sd=2017-07-05 19:30&amp;pofids=&amp;hash=1547200999\"> 7:30 pm  </a> </li> </ul></div> </div></div> </div></div> </div>,\n",
       " <div class=\"result content-section-list-row cf with-times\" data-id=\"82\" data-index=\"83\" data-lat=\"38.8411740\" data-lon=\"-77.0873780\" data-offers=\"\" data-rid=\"112165\"><div class=\"rest-row with-image\"> <div class=\"rest-row-image\"> <a href=\"/copperwood-tavern\" target=\"_blank\"><img alt=\"photo of copperwood tavern restaurant\" class=\"lazy rest-image\" data-src=\"//resizer.otstatic.com/v2/profiles/legacy/112165.jpg\" src=\"//media.otstatic.com/search-result-node/images/no-image.png\"/></a></div> <div class=\"rest-row-info\"><div class=\"rest-row-header\"> <a class=\"rest-row-name rest-name \" href=\"/copperwood-tavern\" target=\"_blank\"> <span class=\"rest-row-name-text\">Copperwood Tavern</span> </a> </div> <div class=\"flex-row-justify\"> <div class=\"rest-row-review\"> <div class=\"star-rating\"><div class=\"star-wrapper small\"><div class=\"all-stars\"></div><div class=\"all-stars filled\" style=\"width: 88%;\"></div></div> <a class=\"review-link\" href=\"/copperwood-tavern#reviews\" target=\"_blank\"><span class=\"star-rating-text\">(1019)</span><span class=\"star-rating-text--review-text\">1019 reviews</span></a></div> <span class=\"recommended-container\"><span class=\"thumbs-up-icon\"></span> <span class=\"recommended-small\">91%</span> <span class=\"recommended-text\">91% Recommend</span></span> </div> <div class=\"rest-row-pricing\"> <i>  $    $      </i>   $    $      </div> </div><div class=\"rest-row-meta rest-row-meta-grid flex-row-justify\"> <span class=\"rest-row-meta--cuisine rest-row-meta-text\">Contemporary American</span> <span class=\"rest-row-meta--location rest-row-meta-text\">Arlington</span></div> <div class=\"message-alerts\"> </div> <div class=\"rest-row-times-cont\"><div class=\"rest-row-times\"> <div class=\"timeslot-window\"><ul class=\"availability-row-container\"> <li class=\"timeslot-option timeslot-control\"> <a class=\"rest-row-times-btn timeslot\" data-rid=\"112165\" href=\"/book/validate?rid=112165&amp;d=2017-07-05 18:30&amp;p=2&amp;pt=100&amp;ss=0&amp;sd=2017-07-05 18:30&amp;pofids=&amp;hash=3176222445\"> 6:30 pm  </a> </li> <li class=\"timeslot-option timeslot-control\"> <a class=\"rest-row-times-btn timeslot\" data-rid=\"112165\" href=\"/book/validate?rid=112165&amp;d=2017-07-05 18:45&amp;p=2&amp;pt=100&amp;ss=0&amp;sd=2017-07-05 18:45&amp;pofids=&amp;hash=1490909958\"> 6:45 pm  </a> </li> <li class=\"timeslot-option timeslot-control\"> <a class=\"rest-row-times-btn exact timeslot\" data-rid=\"112165\" href=\"/book/validate?rid=112165&amp;d=2017-07-05 19:00&amp;p=2&amp;pt=100&amp;ss=0&amp;sd=2017-07-05 19:00&amp;pofids=&amp;hash=1347295332\"> 7:00 pm  </a> </li> <li class=\"timeslot-option timeslot-control\"> <a class=\"rest-row-times-btn timeslot\" data-rid=\"112165\" href=\"/book/validate?rid=112165&amp;d=2017-07-05 19:15&amp;p=2&amp;pt=100&amp;ss=0&amp;sd=2017-07-05 19:15&amp;pofids=&amp;hash=3016339536\"> 7:15 pm  </a> </li> <li class=\"timeslot-option timeslot-control\"> <a class=\"rest-row-times-btn timeslot\" data-rid=\"112165\" href=\"/book/validate?rid=112165&amp;d=2017-07-05 19:30&amp;p=2&amp;pt=100&amp;ss=0&amp;sd=2017-07-05 19:30&amp;pofids=&amp;hash=4270956330\"> 7:30 pm  </a> </li> </ul></div> </div></div> </div></div> </div>,\n",
       " <div class=\"result content-section-list-row cf with-times\" data-id=\"83\" data-index=\"84\" data-lat=\"38.8952130\" data-lon=\"-77.0220080\" data-offers=\"\" data-rid=\"59506\"><div class=\"rest-row with-image\"> <div class=\"rest-row-image\"> <a href=\"/hill-country-barbecue-market-dc\" target=\"_blank\"><img alt=\"photo of hill country barbecue market - dc restaurant\" class=\"lazy rest-image\" data-src=\"//resizer.otstatic.com/v2/profiles/legacy/59506.jpg\" src=\"//media.otstatic.com/search-result-node/images/no-image.png\"/></a></div> <div class=\"rest-row-info\"><div class=\"rest-row-header\"> <a class=\"rest-row-name rest-name \" href=\"/hill-country-barbecue-market-dc\" target=\"_blank\"> <span class=\"rest-row-name-text\">Hill Country Barbecue Market - DC</span> </a> </div> <div class=\"flex-row-justify\"> <div class=\"rest-row-review\"> <div class=\"star-rating\"><div class=\"star-wrapper small\"><div class=\"all-stars\"></div><div class=\"all-stars filled\" style=\"width: 88%;\"></div></div> <a class=\"review-link\" href=\"/hill-country-barbecue-market-dc#reviews\" target=\"_blank\"><span class=\"star-rating-text\">(983)</span><span class=\"star-rating-text--review-text\">983 reviews</span></a></div> <span class=\"recommended-container\"><span class=\"thumbs-up-icon\"></span> <span class=\"recommended-small\">86%</span> <span class=\"recommended-text\">86% Recommend</span></span> </div> <div class=\"rest-row-pricing\"> <i>  $    $      </i>   $    $      </div> </div><div class=\"rest-row-meta rest-row-meta-grid flex-row-justify\"> <span class=\"rest-row-meta--cuisine rest-row-meta-text\">Barbecue</span> <span class=\"rest-row-meta--location rest-row-meta-text\">Penn Quarter</span></div> <div class=\"message-alerts\"> </div> <div class=\"rest-row-times-cont\"><div class=\"rest-row-times\"> <div class=\"timeslot-window\"><ul class=\"availability-row-container\"> <li class=\"timeslot-option timeslot-control\"> <a class=\"rest-row-times-btn timeslot\" data-rid=\"59506\" href=\"/book/validate?rid=59506&amp;d=2017-07-05 18:30&amp;p=2&amp;pt=100&amp;ss=0&amp;sd=2017-07-05 18:30&amp;pofids=&amp;hash=3430669488\"> 6:30 pm  </a> </li> <li class=\"timeslot-option timeslot-control\"> <a class=\"rest-row-times-btn timeslot\" data-rid=\"59506\" href=\"/book/validate?rid=59506&amp;d=2017-07-05 18:45&amp;p=2&amp;pt=100&amp;ss=0&amp;sd=2017-07-05 18:45&amp;pofids=&amp;hash=3953406864\"> 6:45 pm  </a> </li> <li class=\"timeslot-option timeslot-control\"> <a class=\"rest-row-times-btn exact timeslot\" data-rid=\"59506\" href=\"/book/validate?rid=59506&amp;d=2017-07-05 19:00&amp;p=2&amp;pt=100&amp;ss=0&amp;sd=2017-07-05 19:00&amp;pofids=&amp;hash=1998185513\"> 7:00 pm  </a> </li> <li class=\"timeslot-option timeslot-control\"> <a class=\"rest-row-times-btn timeslot\" data-rid=\"59506\" href=\"/book/validate?rid=59506&amp;d=2017-07-05 19:15&amp;p=2&amp;pt=100&amp;ss=0&amp;sd=2017-07-05 19:15&amp;pofids=&amp;hash=1939751296\"> 7:15 pm  </a> </li> <li class=\"timeslot-option timeslot-control\"> <a class=\"rest-row-times-btn timeslot\" data-rid=\"59506\" href=\"/book/validate?rid=59506&amp;d=2017-07-05 19:45&amp;p=2&amp;pt=100&amp;ss=0&amp;sd=2017-07-05 19:45&amp;pofids=&amp;hash=1450691136\"> 7:45 pm  </a> </li> </ul></div> </div></div> </div></div> </div>,\n",
       " <div class=\"result content-section-list-row cf with-times\" data-id=\"84\" data-index=\"85\" data-lat=\"38.9151230\" data-lon=\"-77.0316760\" data-offers=\"\" data-rid=\"151855\"><div class=\"rest-row with-image\"> <div class=\"rest-row-image\"> <a href=\"/bar-pilar\" target=\"_blank\"><img alt=\"photo of bar pilar restaurant\" class=\"lazy rest-image\" data-src=\"//resizer.otstatic.com/v2/profiles/legacy/151855.jpg\" src=\"//media.otstatic.com/search-result-node/images/no-image.png\"/></a></div> <div class=\"rest-row-info\"><div class=\"rest-row-header\"> <a class=\"rest-row-name rest-name \" href=\"/bar-pilar\" target=\"_blank\"> <span class=\"rest-row-name-text\">Bar Pilar</span> </a> </div> <div class=\"flex-row-justify\"> <div class=\"rest-row-review\"> <div class=\"star-rating\"><div class=\"star-wrapper small\"><div class=\"all-stars\"></div><div class=\"all-stars filled\" style=\"width: 92%;\"></div></div> <a class=\"review-link\" href=\"/bar-pilar#reviews\" target=\"_blank\"><span class=\"star-rating-text\">(175)</span><span class=\"star-rating-text--review-text\">175 reviews</span></a></div> <span class=\"recommended-container\"><span class=\"thumbs-up-icon\"></span> <span class=\"recommended-small\">91%</span> <span class=\"recommended-text\">91% Recommend</span></span> </div> <div class=\"rest-row-pricing\"> <i>  $    $      </i>   $    $      </div> </div><div class=\"rest-row-meta rest-row-meta-grid flex-row-justify\"> <span class=\"rest-row-meta--cuisine rest-row-meta-text\">Contemporary American</span> <span class=\"rest-row-meta--location rest-row-meta-text\">Logan Circle</span></div> <div class=\"message-alerts\"> </div> <div class=\"rest-row-times-cont\"><div class=\"rest-row-times\"> <div class=\"timeslot-window\"><ul class=\"availability-row-container\"> <li class=\"timeslot-option timeslot-control\"> <a class=\"rest-row-times-btn timeslot\" data-rid=\"151855\" href=\"/book/validate?rid=151855&amp;d=2017-07-05 18:30&amp;p=2&amp;pt=100&amp;ss=0&amp;sd=2017-07-05 18:30&amp;pofids=&amp;hash=2957477455\"> 6:30 pm  </a> </li> <li class=\"timeslot-option timeslot-control\"> <a class=\"rest-row-times-btn timeslot\" data-rid=\"151855\" href=\"/book/validate?rid=151855&amp;d=2017-07-05 18:45&amp;p=2&amp;pt=100&amp;ss=0&amp;sd=2017-07-05 18:45&amp;pofids=&amp;hash=1738772859\"> 6:45 pm  </a> </li> <li class=\"timeslot-option timeslot-control\"> <a class=\"rest-row-times-btn exact timeslot\" data-rid=\"151855\" href=\"/book/validate?rid=151855&amp;d=2017-07-05 19:00&amp;p=2&amp;pt=100&amp;ss=0&amp;sd=2017-07-05 19:00&amp;pofids=&amp;hash=830796753\"> 7:00 pm  </a> </li> <li class=\"timeslot-option timeslot-control\"> <a class=\"rest-row-times-btn timeslot\" data-rid=\"151855\" href=\"/book/validate?rid=151855&amp;d=2017-07-05 19:15&amp;p=2&amp;pt=100&amp;ss=0&amp;sd=2017-07-05 19:15&amp;pofids=&amp;hash=1733692116\"> 7:15 pm  </a> </li> <li class=\"timeslot-option timeslot-control\"> <a class=\"rest-row-times-btn timeslot\" data-rid=\"151855\" href=\"/book/validate?rid=151855&amp;d=2017-07-05 19:30&amp;p=2&amp;pt=100&amp;ss=0&amp;sd=2017-07-05 19:30&amp;pofids=&amp;hash=2967895758\"> 7:30 pm  </a> </li> </ul></div> </div></div> </div></div> </div>,\n",
       " <div class=\"result content-section-list-row cf with-times\" data-id=\"85\" data-index=\"86\" data-lat=\"38.9060150\" data-lon=\"-77.0369350\" data-offers=\"\" data-rid=\"35236\"><div class=\"rest-row with-image\"> <div class=\"rest-row-image\"> <a href=\"/greenhouse-at-the-jefferson-hotel-washington-dc\" target=\"_blank\"><img alt=\"photo of greenhouse at the jefferson hotel washington dc restaurant\" class=\"lazy rest-image\" data-src=\"//resizer.otstatic.com/v2/profiles/legacy/35236.jpg\" src=\"//media.otstatic.com/search-result-node/images/no-image.png\"/></a></div> <div class=\"rest-row-info\"><div class=\"rest-row-header\"> <a class=\"rest-row-name rest-name \" href=\"/greenhouse-at-the-jefferson-hotel-washington-dc\" target=\"_blank\"> <span class=\"rest-row-name-text\">Greenhouse at the Jefferson Hotel Washington DC</span> </a> </div> <div class=\"flex-row-justify\"> <div class=\"rest-row-review\"> <div class=\"star-rating\"><div class=\"star-wrapper small\"><div class=\"all-stars\"></div><div class=\"all-stars filled\" style=\"width: 92%;\"></div></div> <a class=\"review-link\" href=\"/greenhouse-at-the-jefferson-hotel-washington-dc#reviews\" target=\"_blank\"><span class=\"star-rating-text\">(430)</span><span class=\"star-rating-text--review-text\">430 reviews</span></a></div> <span class=\"recommended-container\"><span class=\"thumbs-up-icon\"></span> <span class=\"recommended-small\">93%</span> <span class=\"recommended-text\">93% Recommend</span></span> </div> <div class=\"rest-row-pricing\"> <i>  $    $      </i>   $    $      </div> </div><div class=\"rest-row-meta rest-row-meta-grid flex-row-justify\"> <span class=\"rest-row-meta--cuisine rest-row-meta-text\">Contemporary American</span> <span class=\"rest-row-meta--location rest-row-meta-text\">Downtown</span></div> <div class=\"message-alerts\"> </div> <div class=\"rest-row-times-cont\"> <a class=\"button minimal\" href=\"/greenhouse-at-the-jefferson-hotel-washington-dc\">Find next available</a> <p class=\"not-available-message\"> No tables are available within 2.5 hours of your 7:00 PM request.</p> </div> </div></div> </div>,\n",
       " <div class=\"result content-section-list-row cf with-times\" data-id=\"86\" data-index=\"87\" data-lat=\"38.9056530\" data-lon=\"-77.0432170\" data-offers=\"\" data-rid=\"79249\"><div class=\"rest-row with-image\"> <div class=\"rest-row-image\"> <a href=\"/boqueria\" target=\"_blank\"><img alt=\"photo of boqueria - dc restaurant\" class=\"lazy rest-image\" data-src=\"//resizer.otstatic.com/v2/profiles/legacy/79249.jpg\" src=\"//media.otstatic.com/search-result-node/images/no-image.png\"/></a></div> <div class=\"rest-row-info\"><div class=\"rest-row-header\"> <a class=\"rest-row-name rest-name \" href=\"/boqueria\" target=\"_blank\"> <span class=\"rest-row-name-text\">Boqueria - DC</span> </a> </div> <div class=\"flex-row-justify\"> <div class=\"rest-row-review\"> <div class=\"star-rating\"><div class=\"star-wrapper small\"><div class=\"all-stars\"></div><div class=\"all-stars filled\" style=\"width: 90%;\"></div></div> <a class=\"review-link\" href=\"/boqueria#reviews\" target=\"_blank\"><span class=\"star-rating-text\">(1356)</span><span class=\"star-rating-text--review-text\">1356 reviews</span></a></div> <span class=\"recommended-container\"><span class=\"thumbs-up-icon\"></span> <span class=\"recommended-small\">86%</span> <span class=\"recommended-text\">86% Recommend</span></span> </div> <div class=\"rest-row-pricing\"> <i>  $    $    $    </i>   $        </div> </div><div class=\"rest-row-meta rest-row-meta-grid flex-row-justify\"> <span class=\"rest-row-meta--cuisine rest-row-meta-text\">Spanish</span> <span class=\"rest-row-meta--location rest-row-meta-text\">Dupont Circle</span></div> <div class=\"message-alerts\"> </div> <div class=\"rest-row-times-cont\"><div class=\"rest-row-times\"> <div class=\"timeslot-window\"><ul class=\"availability-row-container\"> <li class=\"timeslot-option timeslot-control\"> <a class=\"rest-row-times-btn timeslot\" data-rid=\"79249\" href=\"/book/validate?rid=79249&amp;d=2017-07-05 18:30&amp;p=2&amp;pt=100&amp;ss=0&amp;sd=2017-07-05 18:30&amp;pofids=&amp;hash=3452895936\"> 6:30 pm  </a> </li> <li class=\"timeslot-option timeslot-control\"> <a class=\"rest-row-times-btn timeslot\" data-rid=\"79249\" href=\"/book/validate?rid=79249&amp;d=2017-07-05 18:45&amp;p=2&amp;pt=100&amp;ss=0&amp;sd=2017-07-05 18:45&amp;pofids=&amp;hash=2740135388\"> 6:45 pm  </a> </li> <li class=\"timeslot-option timeslot-control\"> <a class=\"rest-row-times-btn exact timeslot\" data-rid=\"79249\" href=\"/book/validate?rid=79249&amp;d=2017-07-05 19:00&amp;p=2&amp;pt=100&amp;ss=0&amp;sd=2017-07-05 19:00&amp;pofids=&amp;hash=3683977361\"> 7:00 pm  </a> </li> <li class=\"timeslot-option timeslot-control\"> <a class=\"rest-row-times-btn timeslot\" data-rid=\"79249\" href=\"/book/validate?rid=79249&amp;d=2017-07-05 19:15&amp;p=2&amp;pt=100&amp;ss=0&amp;sd=2017-07-05 19:15&amp;pofids=&amp;hash=466799497\"> 7:15 pm  </a> </li> <li class=\"timeslot-option timeslot-control\"> <a class=\"rest-row-times-btn timeslot\" data-rid=\"79249\" href=\"/book/validate?rid=79249&amp;d=2017-07-05 19:30&amp;p=2&amp;pt=100&amp;ss=0&amp;sd=2017-07-05 19:30&amp;pofids=&amp;hash=4008882748\"> 7:30 pm  </a> </li> </ul></div> </div></div> </div></div> </div>,\n",
       " <div class=\"result content-section-list-row cf with-times\" data-id=\"87\" data-index=\"88\" data-lat=\"38.8044430\" data-lon=\"-77.0399390\" data-offers=\"\" data-rid=\"261127\"><div class=\"rest-row with-image\"> <div class=\"rest-row-image\"> <a href=\"/r/volas-dockside-grill-alexandria\" target=\"_blank\"><img alt=\"photo of vola's dockside grill restaurant\" class=\"lazy rest-image\" data-src=\"//resizer.otstatic.com/v2/profiles/legacy/261127.jpg\" src=\"//media.otstatic.com/search-result-node/images/no-image.png\"/></a></div> <div class=\"rest-row-info\"><div class=\"rest-row-header\"> <a class=\"rest-row-name rest-name \" href=\"/r/volas-dockside-grill-alexandria\" target=\"_blank\"> <span class=\"rest-row-name-text\">Vola's Dockside Grill</span> </a> </div> <div class=\"flex-row-justify\"> <div class=\"rest-row-review\"> <div class=\"star-rating\"><div class=\"star-wrapper small\"><div class=\"all-stars\"></div><div class=\"all-stars filled\" style=\"width: 86%;\"></div></div> <a class=\"review-link\" href=\"/r/volas-dockside-grill-alexandria#reviews\" target=\"_blank\"><span class=\"star-rating-text\">(245)</span><span class=\"star-rating-text--review-text\">245 reviews</span></a></div> <span class=\"recommended-container\"><span class=\"thumbs-up-icon\"></span> <span class=\"recommended-small\">90%</span> <span class=\"recommended-text\">90% Recommend</span></span> </div> <div class=\"rest-row-pricing\"> <i>  $    $      </i>   $    $      </div> </div><div class=\"rest-row-meta rest-row-meta-grid flex-row-justify\"> <span class=\"rest-row-meta--cuisine rest-row-meta-text\">Seafood</span> <span class=\"rest-row-meta--location rest-row-meta-text\">Old Town Alexandria</span></div> <div class=\"message-alerts\"> </div> <div class=\"rest-row-times-cont\"><div class=\"rest-row-times\"> <div class=\"timeslot-window\"><ul class=\"availability-row-container\"> <li class=\"timeslot-option timeslot-control\"> <a class=\"rest-row-times-btn timeslot\" data-rid=\"261127\" href=\"/book/validate?rid=261127&amp;d=2017-07-05 18:30&amp;p=2&amp;pt=100&amp;ss=0&amp;sd=2017-07-05 18:30&amp;pofids=&amp;hash=449361431\"> 6:30 pm  </a> </li> <li class=\"timeslot-option timeslot-control\"> <a class=\"rest-row-times-btn timeslot\" data-rid=\"261127\" href=\"/book/validate?rid=261127&amp;d=2017-07-05 18:45&amp;p=2&amp;pt=100&amp;ss=0&amp;sd=2017-07-05 18:45&amp;pofids=&amp;hash=3113377990\"> 6:45 pm  </a> </li> <li class=\"timeslot-option timeslot-control\"> <a class=\"rest-row-times-btn exact timeslot\" data-rid=\"261127\" href=\"/book/validate?rid=261127&amp;d=2017-07-05 19:00&amp;p=2&amp;pt=100&amp;ss=0&amp;sd=2017-07-05 19:00&amp;pofids=&amp;hash=1210598502\"> 7:00 pm  </a> </li> <li class=\"timeslot-option timeslot-control\"> <a class=\"rest-row-times-btn timeslot\" data-rid=\"261127\" href=\"/book/validate?rid=261127&amp;d=2017-07-05 19:15&amp;p=2&amp;pt=100&amp;ss=0&amp;sd=2017-07-05 19:15&amp;pofids=&amp;hash=256107928\"> 7:15 pm  </a> </li> <li class=\"timeslot-option timeslot-control\"> <a class=\"rest-row-times-btn timeslot\" data-rid=\"261127\" href=\"/book/validate?rid=261127&amp;d=2017-07-05 19:30&amp;p=2&amp;pt=100&amp;ss=0&amp;sd=2017-07-05 19:30&amp;pofids=&amp;hash=2939318807\"> 7:30 pm  </a> </li> </ul></div> </div></div> </div></div> </div>,\n",
       " <div class=\"result content-section-list-row cf with-times\" data-id=\"88\" data-index=\"89\" data-lat=\"38.9800110\" data-lon=\"-77.0935730\" data-offers=\"\" data-rid=\"173764\"><div class=\"rest-row with-image\"> <div class=\"rest-row-image\"> <a href=\"/silver-bethesda\" target=\"_blank\"><img alt=\"photo of silver restaurant\" class=\"lazy rest-image\" data-src=\"//resizer.otstatic.com/v2/profiles/legacy/173764.jpg\" src=\"//media.otstatic.com/search-result-node/images/no-image.png\"/></a></div> <div class=\"rest-row-info\"><div class=\"rest-row-header\"> <a class=\"rest-row-name rest-name \" href=\"/silver-bethesda\" target=\"_blank\"> <span class=\"rest-row-name-text\">Silver</span> </a> </div> <div class=\"flex-row-justify\"> <div class=\"rest-row-review\"> <div class=\"star-rating\"><div class=\"star-wrapper small\"><div class=\"all-stars\"></div><div class=\"all-stars filled\" style=\"width: 86%;\"></div></div> <a class=\"review-link\" href=\"/silver-bethesda#reviews\" target=\"_blank\"><span class=\"star-rating-text\">(405)</span><span class=\"star-rating-text--review-text\">405 reviews</span></a></div> <span class=\"recommended-container\"><span class=\"thumbs-up-icon\"></span> <span class=\"recommended-small\">89%</span> <span class=\"recommended-text\">89% Recommend</span></span> </div> <div class=\"rest-row-pricing\"> <i>  $    $      </i>   $    $      </div> </div><div class=\"rest-row-meta rest-row-meta-grid flex-row-justify\"> <span class=\"rest-row-meta--cuisine rest-row-meta-text\">Contemporary American</span> <span class=\"rest-row-meta--location rest-row-meta-text\">Bethesda / Chevy Chase</span></div> <div class=\"message-alerts\"> </div> <div class=\"rest-row-times-cont\"><div class=\"rest-row-times\"> <div class=\"timeslot-window\"><ul class=\"availability-row-container\"> <li class=\"timeslot-option timeslot-control\"> <a class=\"rest-row-times-btn timeslot\" data-rid=\"173764\" href=\"/book/validate?rid=173764&amp;d=2017-07-05 18:30&amp;p=2&amp;pt=100&amp;ss=0&amp;sd=2017-07-05 18:30&amp;pofids=&amp;hash=755852288\"> 6:30 pm  </a> </li> <li class=\"timeslot-option timeslot-control\"> <a class=\"rest-row-times-btn timeslot\" data-rid=\"173764\" href=\"/book/validate?rid=173764&amp;d=2017-07-05 18:45&amp;p=2&amp;pt=100&amp;ss=0&amp;sd=2017-07-05 18:45&amp;pofids=&amp;hash=3684978362\"> 6:45 pm  </a> </li> <li class=\"timeslot-option timeslot-control\"> <a class=\"rest-row-times-btn exact timeslot\" data-rid=\"173764\" href=\"/book/validate?rid=173764&amp;d=2017-07-05 19:00&amp;p=2&amp;pt=100&amp;ss=0&amp;sd=2017-07-05 19:00&amp;pofids=&amp;hash=2011593691\"> 7:00 pm  </a> </li> <li class=\"timeslot-option timeslot-control\"> <a class=\"rest-row-times-btn timeslot\" data-rid=\"173764\" href=\"/book/validate?rid=173764&amp;d=2017-07-05 19:15&amp;p=2&amp;pt=100&amp;ss=0&amp;sd=2017-07-05 19:15&amp;pofids=&amp;hash=3182339883\"> 7:15 pm  </a> </li> <li class=\"timeslot-option timeslot-control\"> <a class=\"rest-row-times-btn timeslot\" data-rid=\"173764\" href=\"/book/validate?rid=173764&amp;d=2017-07-05 19:30&amp;p=2&amp;pt=100&amp;ss=0&amp;sd=2017-07-05 19:30&amp;pofids=&amp;hash=2002665406\"> 7:30 pm  </a> </li> </ul></div> </div></div> </div></div> </div>,\n",
       " <div class=\"result content-section-list-row cf with-times\" data-id=\"89\" data-index=\"90\" data-lat=\"38.9041040\" data-lon=\"-77.0328780\" data-offers=\"\" data-rid=\"58150\"><div class=\"rest-row with-image\"> <div class=\"rest-row-image\"> <a href=\"/lincoln-dc\" target=\"_blank\"><img alt=\"photo of lincoln - dc restaurant\" class=\"lazy rest-image\" data-src=\"//resizer.otstatic.com/v2/profiles/legacy/58150.jpg\" src=\"//media.otstatic.com/search-result-node/images/no-image.png\"/></a></div> <div class=\"rest-row-info\"><div class=\"rest-row-header\"> <a class=\"rest-row-name rest-name \" href=\"/lincoln-dc\" target=\"_blank\"> <span class=\"rest-row-name-text\">Lincoln - DC</span> </a> </div> <div class=\"flex-row-justify\"> <div class=\"rest-row-review\"> <div class=\"star-rating\"><div class=\"star-wrapper small\"><div class=\"all-stars\"></div><div class=\"all-stars filled\" style=\"width: 86%;\"></div></div> <a class=\"review-link\" href=\"/lincoln-dc#reviews\" target=\"_blank\"><span class=\"star-rating-text\">(2102)</span><span class=\"star-rating-text--review-text\">2102 reviews</span></a></div> <span class=\"recommended-container\"><span class=\"thumbs-up-icon\"></span> <span class=\"recommended-small\">81%</span> <span class=\"recommended-text\">81% Recommend</span></span> </div> <div class=\"rest-row-pricing\"> <i>  $    $      </i>   $    $      </div> </div><div class=\"rest-row-meta rest-row-meta-grid flex-row-justify\"> <span class=\"rest-row-meta--cuisine rest-row-meta-text\">American</span> <span class=\"rest-row-meta--location rest-row-meta-text\">McPherson Square</span></div> <div class=\"message-alerts\"> </div> <div class=\"rest-row-times-cont\"><div class=\"rest-row-times\"> <div class=\"timeslot-window\"><ul class=\"availability-row-container\"> <li class=\"timeslot-option timeslot-control\"> <a class=\"rest-row-times-btn timeslot\" data-rid=\"58150\" href=\"/book/validate?rid=58150&amp;d=2017-07-05 18:30&amp;p=2&amp;pt=100&amp;ss=0&amp;sd=2017-07-05 18:30&amp;pofids=&amp;hash=1617849226\"> 6:30 pm  </a> </li> <li class=\"timeslot-option timeslot-control\"> <a class=\"rest-row-times-btn timeslot\" data-rid=\"58150\" href=\"/book/validate?rid=58150&amp;d=2017-07-05 18:45&amp;p=2&amp;pt=100&amp;ss=0&amp;sd=2017-07-05 18:45&amp;pofids=&amp;hash=2324352849\"> 6:45 pm  </a> </li> <li class=\"timeslot-option timeslot-control\"> <a class=\"rest-row-times-btn exact timeslot\" data-rid=\"58150\" href=\"/book/validate?rid=58150&amp;d=2017-07-05 19:00&amp;p=2&amp;pt=100&amp;ss=0&amp;sd=2017-07-05 19:00&amp;pofids=&amp;hash=2989150004\"> 7:00 pm  </a> </li> <li class=\"timeslot-option timeslot-control\"> <a class=\"rest-row-times-btn timeslot\" data-rid=\"58150\" href=\"/book/validate?rid=58150&amp;d=2017-07-05 19:15&amp;p=2&amp;pt=100&amp;ss=0&amp;sd=2017-07-05 19:15&amp;pofids=&amp;hash=1702157760\"> 7:15 pm  </a> </li> <li class=\"timeslot-option timeslot-control\"> <a class=\"rest-row-times-btn timeslot\" data-rid=\"58150\" href=\"/book/validate?rid=58150&amp;d=2017-07-05 19:30&amp;p=2&amp;pt=100&amp;ss=0&amp;sd=2017-07-05 19:30&amp;pofids=&amp;hash=3307813437\"> 7:30 pm  </a> </li> </ul></div> </div></div> </div></div> </div>,\n",
       " <div class=\"result content-section-list-row cf with-times\" data-id=\"90\" data-index=\"91\" data-lat=\"38.9052000\" data-lon=\"-77.0568000\" data-offers=\"\" data-rid=\"3528\"><div class=\"rest-row with-image\"> <div class=\"rest-row-image\"> <a href=\"/la-chaumiere-washington\" target=\"_blank\"><img alt=\"photo of la chaumiere restaurant\" class=\"lazy rest-image\" data-src=\"//resizer.otstatic.com/v2/profiles/legacy/3528.jpg\" src=\"//media.otstatic.com/search-result-node/images/no-image.png\"/></a></div> <div class=\"rest-row-info\"><div class=\"rest-row-header\"> <a class=\"rest-row-name rest-name \" href=\"/la-chaumiere-washington\" target=\"_blank\"> <span class=\"rest-row-name-text\">La Chaumiere</span> </a> </div> <div class=\"flex-row-justify\"> <div class=\"rest-row-review\"> <div class=\"star-rating\"><div class=\"star-wrapper small\"><div class=\"all-stars\"></div><div class=\"all-stars filled\" style=\"width: 92%;\"></div></div> <a class=\"review-link\" href=\"/la-chaumiere-washington#reviews\" target=\"_blank\"><span class=\"star-rating-text\">(2299)</span><span class=\"star-rating-text--review-text\">2299 reviews</span></a></div> <span class=\"recommended-container\"><span class=\"thumbs-up-icon\"></span> <span class=\"recommended-small\">93%</span> <span class=\"recommended-text\">93% Recommend</span></span> </div> <div class=\"rest-row-pricing\"> <i>  $    $      </i>   $    $      </div> </div><div class=\"rest-row-meta rest-row-meta-grid flex-row-justify\"> <span class=\"rest-row-meta--cuisine rest-row-meta-text\">French</span> <span class=\"rest-row-meta--location rest-row-meta-text\">Georgetown</span></div> <div class=\"message-alerts\"> </div> <div class=\"rest-row-times-cont\"><div class=\"rest-row-times\"> <div class=\"timeslot-window\"><ul class=\"availability-row-container\"> <li class=\"timeslot-option timeslot-control\"> <a class=\"rest-row-times-btn timeslot\" data-rid=\"3528\" href=\"/book/validate?rid=3528&amp;d=2017-07-05 18:00&amp;p=2&amp;pt=100&amp;ss=0&amp;sd=2017-07-05 18:00&amp;pofids=&amp;hash=1907251584\"> 6:00 pm  </a> </li> <li class=\"timeslot-option timeslot-control\"> <a class=\"rest-row-times-btn timeslot\" data-rid=\"3528\" href=\"/book/validate?rid=3528&amp;d=2017-07-05 18:30&amp;p=2&amp;pt=100&amp;ss=0&amp;sd=2017-07-05 18:30&amp;pofids=&amp;hash=59746841\"> 6:30 pm  </a> </li> <li class=\"timeslot-option timeslot-control\"> <a class=\"rest-row-times-btn exact timeslot\" data-rid=\"3528\" href=\"/book/validate?rid=3528&amp;d=2017-07-05 19:00&amp;p=2&amp;pt=100&amp;ss=0&amp;sd=2017-07-05 19:00&amp;pofids=&amp;hash=4207572836\"> 7:00 pm  </a> </li> <li class=\"timeslot-option timeslot-control\"> <a class=\"rest-row-times-btn timeslot\" data-rid=\"3528\" href=\"/book/validate?rid=3528&amp;d=2017-07-05 19:30&amp;p=2&amp;pt=100&amp;ss=0&amp;sd=2017-07-05 19:30&amp;pofids=&amp;hash=3830172885\"> 7:30 pm  </a> </li> <li class=\"timeslot-option timeslot-control\"> <a class=\"rest-row-times-btn timeslot\" data-rid=\"3528\" href=\"/book/validate?rid=3528&amp;d=2017-07-05 20:00&amp;p=2&amp;pt=100&amp;ss=0&amp;sd=2017-07-05 20:00&amp;pofids=&amp;hash=2808315914\"> 8:00 pm  </a> </li> </ul></div> </div></div> </div></div> </div>,\n",
       " <div class=\"result content-section-list-row cf with-times\" data-id=\"91\" data-index=\"92\" data-lat=\"38.9053130\" data-lon=\"-77.0474500\" data-offers=\"\" data-rid=\"7036\"><div class=\"rest-row with-image\"> <div class=\"rest-row-image\"> <a href=\"/grillfish-washington\" target=\"_blank\"><img alt=\"photo of grillfish dc restaurant\" class=\"lazy rest-image\" data-src=\"//resizer.otstatic.com/v2/profiles/legacy/7036.jpg\" src=\"//media.otstatic.com/search-result-node/images/no-image.png\"/></a></div> <div class=\"rest-row-info\"><div class=\"rest-row-header\"> <a class=\"rest-row-name rest-name \" href=\"/grillfish-washington\" target=\"_blank\"> <span class=\"rest-row-name-text\">Grillfish DC</span> </a> </div> <div class=\"flex-row-justify\"> <div class=\"rest-row-review\"> <div class=\"star-rating\"><div class=\"star-wrapper small\"><div class=\"all-stars\"></div><div class=\"all-stars filled\" style=\"width: 88%;\"></div></div> <a class=\"review-link\" href=\"/grillfish-washington#reviews\" target=\"_blank\"><span class=\"star-rating-text\">(1981)</span><span class=\"star-rating-text--review-text\">1981 reviews</span></a></div> <span class=\"recommended-container\"><span class=\"thumbs-up-icon\"></span> <span class=\"recommended-small\">91%</span> <span class=\"recommended-text\">91% Recommend</span></span> </div> <div class=\"rest-row-pricing\"> <i>  $    $      </i>   $    $      </div> </div><div class=\"rest-row-meta rest-row-meta-grid flex-row-justify\"> <span class=\"rest-row-meta--cuisine rest-row-meta-text\">Seafood</span> <span class=\"rest-row-meta--location rest-row-meta-text\">Dupont Circle</span></div> <div class=\"message-alerts\"> </div> <div class=\"rest-row-times-cont\"><div class=\"rest-row-times\"> <div class=\"timeslot-window\"><ul class=\"availability-row-container\"> <li class=\"timeslot-option timeslot-control\"> <a class=\"rest-row-times-btn timeslot\" data-rid=\"7036\" href=\"/book/validate?rid=7036&amp;d=2017-07-05 18:30&amp;p=2&amp;pt=100&amp;ss=0&amp;sd=2017-07-05 18:30&amp;pofids=&amp;hash=1344595495\"> 6:30 pm  </a> </li> <li class=\"timeslot-option timeslot-control\"> <a class=\"rest-row-times-btn timeslot\" data-rid=\"7036\" href=\"/book/validate?rid=7036&amp;d=2017-07-05 18:45&amp;p=2&amp;pt=100&amp;ss=0&amp;sd=2017-07-05 18:45&amp;pofids=&amp;hash=3913932025\"> 6:45 pm  </a> </li> <li class=\"timeslot-option timeslot-control\"> <a class=\"rest-row-times-btn exact timeslot\" data-rid=\"7036\" href=\"/book/validate?rid=7036&amp;d=2017-07-05 19:00&amp;p=2&amp;pt=100&amp;ss=0&amp;sd=2017-07-05 19:00&amp;pofids=&amp;hash=554847840\"> 7:00 pm  </a> </li> <li class=\"timeslot-option timeslot-control\"> <a class=\"rest-row-times-btn timeslot\" data-rid=\"7036\" href=\"/book/validate?rid=7036&amp;d=2017-07-05 19:15&amp;p=2&amp;pt=100&amp;ss=0&amp;sd=2017-07-05 19:15&amp;pofids=&amp;hash=1638798734\"> 7:15 pm  </a> </li> <li class=\"timeslot-option timeslot-control\"> <a class=\"rest-row-times-btn timeslot\" data-rid=\"7036\" href=\"/book/validate?rid=7036&amp;d=2017-07-05 19:30&amp;p=2&amp;pt=100&amp;ss=0&amp;sd=2017-07-05 19:30&amp;pofids=&amp;hash=2313728579\"> 7:30 pm  </a> </li> </ul></div> </div></div> </div></div> </div>,\n",
       " <div class=\"result content-section-list-row cf with-times\" data-id=\"92\" data-index=\"93\" data-lat=\"38.8042510\" data-lon=\"-77.0421490\" data-offers=\"\" data-rid=\"40921\"><div class=\"rest-row with-image\"> <div class=\"rest-row-image\"> <a href=\"/warehouse-bar-and-grill\" target=\"_blank\"><img alt=\"photo of the warehouse restaurant\" class=\"lazy rest-image\" data-src=\"//resizer.otstatic.com/v2/profiles/legacy/40921.jpg\" src=\"//media.otstatic.com/search-result-node/images/no-image.png\"/></a></div> <div class=\"rest-row-info\"><div class=\"rest-row-header\"> <a class=\"rest-row-name rest-name \" href=\"/warehouse-bar-and-grill\" target=\"_blank\"> <span class=\"rest-row-name-text\">The Warehouse</span> </a> </div> <div class=\"flex-row-justify\"> <div class=\"rest-row-review\"> <div class=\"star-rating\"><div class=\"star-wrapper small\"><div class=\"all-stars\"></div><div class=\"all-stars filled\" style=\"width: 90%;\"></div></div> <a class=\"review-link\" href=\"/warehouse-bar-and-grill#reviews\" target=\"_blank\"><span class=\"star-rating-text\">(1545)</span><span class=\"star-rating-text--review-text\">1545 reviews</span></a></div> <span class=\"recommended-container\"><span class=\"thumbs-up-icon\"></span> <span class=\"recommended-small\">93%</span> <span class=\"recommended-text\">93% Recommend</span></span> </div> <div class=\"rest-row-pricing\"> <i>  $    $      </i>   $    $      </div> </div><div class=\"rest-row-meta rest-row-meta-grid flex-row-justify\"> <span class=\"rest-row-meta--cuisine rest-row-meta-text\">American</span> <span class=\"rest-row-meta--location rest-row-meta-text\">Alexandria</span></div> <div class=\"message-alerts\"> </div> <div class=\"rest-row-times-cont\"><div class=\"rest-row-times\"> <div class=\"timeslot-window\"><ul class=\"availability-row-container\"> <li class=\"timeslot-option timeslot-control\"> <a class=\"rest-row-times-btn timeslot\" data-rid=\"40921\" href=\"/book/validate?rid=40921&amp;d=2017-07-05 18:30&amp;p=2&amp;pt=100&amp;ss=0&amp;sd=2017-07-05 18:30&amp;pofids=&amp;hash=29536903\"> 6:30 pm  </a> </li> <li class=\"timeslot-option timeslot-control\"> <a class=\"rest-row-times-btn timeslot\" data-rid=\"40921\" href=\"/book/validate?rid=40921&amp;d=2017-07-05 18:45&amp;p=2&amp;pt=100&amp;ss=0&amp;sd=2017-07-05 18:45&amp;pofids=&amp;hash=286640547\"> 6:45 pm  </a> </li> <li class=\"timeslot-option timeslot-control\"> <a class=\"rest-row-times-btn exact timeslot\" data-rid=\"40921\" href=\"/book/validate?rid=40921&amp;d=2017-07-05 19:00&amp;p=2&amp;pt=100&amp;ss=0&amp;sd=2017-07-05 19:00&amp;pofids=&amp;hash=3750106503\"> 7:00 pm  </a> </li> <li class=\"timeslot-option timeslot-control\"> <a class=\"rest-row-times-btn timeslot\" data-rid=\"40921\" href=\"/book/validate?rid=40921&amp;d=2017-07-05 19:15&amp;p=2&amp;pt=100&amp;ss=0&amp;sd=2017-07-05 19:15&amp;pofids=&amp;hash=2302598887\"> 7:15 pm  </a> </li> <li class=\"timeslot-option timeslot-control\"> <a class=\"rest-row-times-btn timeslot\" data-rid=\"40921\" href=\"/book/validate?rid=40921&amp;d=2017-07-05 19:30&amp;p=2&amp;pt=100&amp;ss=0&amp;sd=2017-07-05 19:30&amp;pofids=&amp;hash=1617574705\"> 7:30 pm  </a> </li> </ul></div> </div></div> </div></div> </div>,\n",
       " <div class=\"result content-section-list-row cf with-times\" data-id=\"93\" data-index=\"94\" data-lat=\"38.8709940\" data-lon=\"-77.2172800\" data-offers=\"\" data-rid=\"2152\"><div class=\"rest-row with-image\"> <div class=\"rest-row-image\"> <a href=\"/2941-restaurant\" target=\"_blank\"><img alt=\"photo of 2941 restaurant restaurant\" class=\"lazy rest-image\" data-src=\"//resizer.otstatic.com/v2/profiles/legacy/2152.jpg\" src=\"//media.otstatic.com/search-result-node/images/no-image.png\"/></a></div> <div class=\"rest-row-info\"><div class=\"rest-row-header\"> <a class=\"rest-row-name rest-name \" href=\"/2941-restaurant\" target=\"_blank\"> <span class=\"rest-row-name-text\">2941 Restaurant</span> </a> </div> <div class=\"flex-row-justify\"> <div class=\"rest-row-review\"> <div class=\"star-rating\"><div class=\"star-wrapper small\"><div class=\"all-stars\"></div><div class=\"all-stars filled\" style=\"width: 94%;\"></div></div> <a class=\"review-link\" href=\"/2941-restaurant#reviews\" target=\"_blank\"><span class=\"star-rating-text\">(5097)</span><span class=\"star-rating-text--review-text\">5097 reviews</span></a></div> <span class=\"recommended-container\"><span class=\"thumbs-up-icon\"></span> <span class=\"recommended-small\">95%</span> <span class=\"recommended-text\">95% Recommend</span></span> </div> <div class=\"rest-row-pricing\"> <i>  $    $      </i>   $    $      </div> </div><div class=\"rest-row-meta rest-row-meta-grid flex-row-justify\"> <span class=\"rest-row-meta--cuisine rest-row-meta-text\">Contemporary American</span> <span class=\"rest-row-meta--location rest-row-meta-text\">Falls Church</span></div> <div class=\"message-alerts\"> </div> <div class=\"rest-row-times-cont\"><div class=\"rest-row-times\"> <div class=\"timeslot-window\"><ul class=\"availability-row-container\"> <li class=\"timeslot-option timeslot-control\"> <a class=\"rest-row-times-btn timeslot\" data-rid=\"2152\" href=\"/book/validate?rid=2152&amp;d=2017-07-05 18:30&amp;p=2&amp;pt=100&amp;ss=0&amp;sd=2017-07-05 18:30&amp;pofids=&amp;hash=631324955\"> 6:30 pm  </a> </li> <li class=\"timeslot-option timeslot-control\"> <a class=\"rest-row-times-btn timeslot\" data-rid=\"2152\" href=\"/book/validate?rid=2152&amp;d=2017-07-05 18:45&amp;p=2&amp;pt=100&amp;ss=0&amp;sd=2017-07-05 18:45&amp;pofids=&amp;hash=2012513295\"> 6:45 pm  </a> </li> <li class=\"timeslot-option timeslot-control\"> <a class=\"rest-row-times-btn exact timeslot\" data-rid=\"2152\" href=\"/book/validate?rid=2152&amp;d=2017-07-05 19:00&amp;p=2&amp;pt=100&amp;ss=0&amp;sd=2017-07-05 19:00&amp;pofids=&amp;hash=2398676338\"> 7:00 pm  </a> </li> <li class=\"timeslot-option timeslot-control\"> <a class=\"rest-row-times-btn timeslot\" data-rid=\"2152\" href=\"/book/validate?rid=2152&amp;d=2017-07-05 19:15&amp;p=2&amp;pt=100&amp;ss=0&amp;sd=2017-07-05 19:15&amp;pofids=&amp;hash=1186704760\"> 7:15 pm  </a> </li> <li class=\"timeslot-option timeslot-control\"> <a class=\"rest-row-times-btn timeslot\" data-rid=\"2152\" href=\"/book/validate?rid=2152&amp;d=2017-07-05 19:30&amp;p=2&amp;pt=100&amp;ss=0&amp;sd=2017-07-05 19:30&amp;pofids=&amp;hash=2123554663\"> 7:30 pm  </a> </li> </ul></div> </div></div> </div></div> </div>,\n",
       " <div class=\"result content-section-list-row cf with-times\" data-id=\"94\" data-index=\"95\" data-lat=\"38.8734520\" data-lon=\"-77.0015540\" data-offers=\"\" data-rid=\"263353\"><div class=\"rest-row with-image\"> <div class=\"rest-row-image\"> <a href=\"/r/whaleys-washington\" target=\"_blank\"><img alt=\"photo of whaley's restaurant\" class=\"lazy rest-image\" data-src=\"//resizer.otstatic.com/v2/profiles/legacy/263353.jpg\" src=\"//media.otstatic.com/search-result-node/images/no-image.png\"/></a></div> <div class=\"rest-row-info\"><div class=\"rest-row-header\"> <a class=\"rest-row-name rest-name \" href=\"/r/whaleys-washington\" target=\"_blank\"> <span class=\"rest-row-name-text\">Whaley's</span> </a> </div> <div class=\"flex-row-justify\"> <div class=\"rest-row-review\"> <div class=\"star-rating\"><div class=\"star-wrapper small\"><div class=\"all-stars\"></div><div class=\"all-stars filled\" style=\"width: 88%;\"></div></div> <a class=\"review-link\" href=\"/r/whaleys-washington#reviews\" target=\"_blank\"><span class=\"star-rating-text\">(247)</span><span class=\"star-rating-text--review-text\">247 reviews</span></a></div> <span class=\"recommended-container\"><span class=\"thumbs-up-icon\"></span> <span class=\"recommended-small\">83%</span> <span class=\"recommended-text\">83% Recommend</span></span> </div> <div class=\"rest-row-pricing\"> <i>  $    $    $    </i>   $        </div> </div><div class=\"rest-row-meta rest-row-meta-grid flex-row-justify\"> <span class=\"rest-row-meta--cuisine rest-row-meta-text\">Seafood</span> <span class=\"rest-row-meta--location rest-row-meta-text\">Navy Yard</span></div> <div class=\"message-alerts\"> </div> <div class=\"rest-row-times-cont\"><div class=\"rest-row-times\"> <div class=\"timeslot-window\"><ul class=\"availability-row-container\"> <li class=\"timeslot-option timeslot-control\"> <a class=\"rest-row-times-btn timeslot\" data-rid=\"263353\" href=\"/book/validate?rid=263353&amp;d=2017-07-05 18:30&amp;p=2&amp;pt=100&amp;ss=0&amp;sd=2017-07-05 18:30&amp;pofids=&amp;hash=2743964230\"> 6:30 pm  </a> </li> <li class=\"timeslot-option timeslot-control\"> <a class=\"rest-row-times-btn timeslot\" data-rid=\"263353\" href=\"/book/validate?rid=263353&amp;d=2017-07-05 18:45&amp;p=2&amp;pt=100&amp;ss=0&amp;sd=2017-07-05 18:45&amp;pofids=&amp;hash=541836330\"> 6:45 pm  </a> </li> <li class=\"timeslot-option timeslot-control\"> <a class=\"rest-row-times-btn exact timeslot\" data-rid=\"263353\" href=\"/book/validate?rid=263353&amp;d=2017-07-05 19:00&amp;p=2&amp;pt=100&amp;ss=0&amp;sd=2017-07-05 19:00&amp;pofids=&amp;hash=4186670263\"> 7:00 pm  </a> </li> <li class=\"timeslot-option timeslot-control\"> <a class=\"rest-row-times-btn timeslot\" data-rid=\"263353\" href=\"/book/validate?rid=263353&amp;d=2017-07-05 19:15&amp;p=2&amp;pt=100&amp;ss=0&amp;sd=2017-07-05 19:15&amp;pofids=&amp;hash=3694773711\"> 7:15 pm  </a> </li> <li class=\"timeslot-option timeslot-control\"> <a class=\"rest-row-times-btn timeslot\" data-rid=\"263353\" href=\"/book/validate?rid=263353&amp;d=2017-07-05 19:30&amp;p=2&amp;pt=100&amp;ss=0&amp;sd=2017-07-05 19:30&amp;pofids=&amp;hash=3187214963\"> 7:30 pm  </a> </li> </ul></div> </div></div> </div></div> </div>,\n",
       " <div class=\"result content-section-list-row cf with-times\" data-id=\"95\" data-index=\"96\" data-lat=\"38.9805790\" data-lon=\"-77.0932820\" data-offers=\"\" data-rid=\"187102\"><div class=\"rest-row with-image\"> <div class=\"rest-row-image\"> <a href=\"/passionfish-bethesda\" target=\"_blank\"><img alt=\"photo of passionfish - bethesda restaurant\" class=\"lazy rest-image\" data-src=\"//resizer.otstatic.com/v2/profiles/legacy/187102.jpg\" src=\"//media.otstatic.com/search-result-node/images/no-image.png\"/></a></div> <div class=\"rest-row-info\"><div class=\"rest-row-header\"> <a class=\"rest-row-name rest-name \" href=\"/passionfish-bethesda\" target=\"_blank\"> <span class=\"rest-row-name-text\">PassionFish - Bethesda</span> </a> </div> <div class=\"flex-row-justify\"> <div class=\"rest-row-review\"> <div class=\"star-rating\"><div class=\"star-wrapper small\"><div class=\"all-stars\"></div><div class=\"all-stars filled\" style=\"width: 88%;\"></div></div> <a class=\"review-link\" href=\"/passionfish-bethesda#reviews\" target=\"_blank\"><span class=\"star-rating-text\">(502)</span><span class=\"star-rating-text--review-text\">502 reviews</span></a></div> <span class=\"recommended-container\"><span class=\"thumbs-up-icon\"></span> <span class=\"recommended-small\">92%</span> <span class=\"recommended-text\">92% Recommend</span></span> </div> <div class=\"rest-row-pricing\"> <i>  $    $      </i>   $    $      </div> </div><div class=\"rest-row-meta rest-row-meta-grid flex-row-justify\"> <span class=\"rest-row-meta--cuisine rest-row-meta-text\">Seafood</span> <span class=\"rest-row-meta--location rest-row-meta-text\">Bethesda / Chevy Chase</span></div> <div class=\"message-alerts\"> </div> <div class=\"rest-row-times-cont\"><div class=\"rest-row-times\"> <div class=\"timeslot-window\"><ul class=\"availability-row-container\"> <li class=\"timeslot-option timeslot-control\"> <a class=\"rest-row-times-btn timeslot\" data-rid=\"187102\" href=\"/book/validate?rid=187102&amp;d=2017-07-05 18:30&amp;p=2&amp;pt=100&amp;ss=0&amp;sd=2017-07-05 18:30&amp;pofids=&amp;hash=1020458251\"> 6:30 pm  </a> </li> <li class=\"timeslot-option timeslot-control\"> <a class=\"rest-row-times-btn timeslot\" data-rid=\"187102\" href=\"/book/validate?rid=187102&amp;d=2017-07-05 18:45&amp;p=2&amp;pt=100&amp;ss=0&amp;sd=2017-07-05 18:45&amp;pofids=&amp;hash=3948204820\"> 6:45 pm  </a> </li> <li class=\"timeslot-option timeslot-control\"> <a class=\"rest-row-times-btn exact timeslot\" data-rid=\"187102\" href=\"/book/validate?rid=187102&amp;d=2017-07-05 19:00&amp;p=2&amp;pt=100&amp;ss=0&amp;sd=2017-07-05 19:00&amp;pofids=&amp;hash=3665492825\"> 7:00 pm  </a> </li> <li class=\"timeslot-option timeslot-control\"> <a class=\"rest-row-times-btn timeslot\" data-rid=\"187102\" href=\"/book/validate?rid=187102&amp;d=2017-07-05 19:15&amp;p=2&amp;pt=100&amp;ss=0&amp;sd=2017-07-05 19:15&amp;pofids=&amp;hash=2549981637\"> 7:15 pm  </a> </li> <li class=\"timeslot-option timeslot-control\"> <a class=\"rest-row-times-btn timeslot\" data-rid=\"187102\" href=\"/book/validate?rid=187102&amp;d=2017-07-05 19:30&amp;p=2&amp;pt=100&amp;ss=0&amp;sd=2017-07-05 19:30&amp;pofids=&amp;hash=3133966447\"> 7:30 pm  </a> </li> </ul></div> </div></div> </div></div> </div>,\n",
       " <div class=\"result content-section-list-row cf with-times\" data-id=\"96\" data-index=\"97\" data-lat=\"38.8963370\" data-lon=\"-77.0098580\" data-offers=\"\" data-rid=\"433\"><div class=\"rest-row with-image\"> <div class=\"rest-row-image\"> <a href=\"/bistro-bis\" target=\"_blank\"><img alt=\"photo of bistro bis restaurant\" class=\"lazy rest-image\" data-src=\"//resizer.otstatic.com/v2/profiles/legacy/433.jpg\" src=\"//media.otstatic.com/search-result-node/images/no-image.png\"/></a></div> <div class=\"rest-row-info\"><div class=\"rest-row-header\"> <a class=\"rest-row-name rest-name \" href=\"/bistro-bis\" target=\"_blank\"> <span class=\"rest-row-name-text\">Bistro Bis</span> </a> </div> <div class=\"flex-row-justify\"> <div class=\"rest-row-review\"> <div class=\"star-rating\"><div class=\"star-wrapper small\"><div class=\"all-stars\"></div><div class=\"all-stars filled\" style=\"width: 90%;\"></div></div> <a class=\"review-link\" href=\"/bistro-bis#reviews\" target=\"_blank\"><span class=\"star-rating-text\">(2791)</span><span class=\"star-rating-text--review-text\">2791 reviews</span></a></div> <span class=\"recommended-container\"><span class=\"thumbs-up-icon\"></span> <span class=\"recommended-small\">88%</span> <span class=\"recommended-text\">88% Recommend</span></span> </div> <div class=\"rest-row-pricing\"> <i>  $    $      </i>   $    $      </div> </div><div class=\"rest-row-meta rest-row-meta-grid flex-row-justify\"> <span class=\"rest-row-meta--cuisine rest-row-meta-text\">French</span> <span class=\"rest-row-meta--location rest-row-meta-text\">Capitol Hill</span></div> <div class=\"message-alerts\"> </div> <div class=\"rest-row-times-cont\"><div class=\"rest-row-times\"> <div class=\"timeslot-window\"><ul class=\"availability-row-container\"> <li class=\"timeslot-option timeslot-control\"> <a class=\"rest-row-times-btn timeslot\" data-rid=\"433\" href=\"/book/validate?rid=433&amp;d=2017-07-05 17:45&amp;p=2&amp;pt=1000&amp;ss=0&amp;sd=2017-07-05 17:45&amp;pofids=&amp;hash=258632552&amp;i=1\"> 5:45 pm  </a> </li> <li class=\"timeslot-option timeslot-control\"> <a class=\"rest-row-times-btn timeslot\" data-rid=\"433\" href=\"/book/validate?rid=433&amp;d=2017-07-05 18:45&amp;p=2&amp;pt=100&amp;ss=0&amp;sd=2017-07-05 18:45&amp;pofids=&amp;hash=607638418\"> 6:45 pm  </a> </li> <li class=\"timeslot-option timeslot-control\"> <a class=\"rest-row-times-btn exact timeslot\" data-rid=\"433\" href=\"/book/validate?rid=433&amp;d=2017-07-05 19:00&amp;p=2&amp;pt=100&amp;ss=0&amp;sd=2017-07-05 19:00&amp;pofids=&amp;hash=1148273927\"> 7:00 pm  </a> </li> <li class=\"timeslot-option timeslot-control\"> <a class=\"rest-row-times-btn timeslot\" data-rid=\"433\" href=\"/book/validate?rid=433&amp;d=2017-07-05 19:30&amp;p=2&amp;pt=100&amp;ss=0&amp;sd=2017-07-05 19:30&amp;pofids=&amp;hash=629947704\"> 7:30 pm  </a> </li> <li class=\"timeslot-option timeslot-control\"> <a class=\"rest-row-times-btn timeslot\" data-rid=\"433\" href=\"/book/validate?rid=433&amp;d=2017-07-05 19:45&amp;p=2&amp;pt=100&amp;ss=0&amp;sd=2017-07-05 19:45&amp;pofids=&amp;hash=918050821\"> 7:45 pm  </a> </li> </ul></div> </div></div> </div></div> </div>,\n",
       " <div class=\"result content-section-list-row cf with-times\" data-id=\"97\" data-index=\"98\" data-lat=\"38.8840560\" data-lon=\"-77.1171140\" data-offers=\"\" data-rid=\"162433\"><div class=\"rest-row with-image\"> <div class=\"rest-row-image\"> <a href=\"/ser\" target=\"_blank\"><img alt=\"photo of ser restaurant\" class=\"lazy rest-image\" data-src=\"//resizer.otstatic.com/v2/profiles/legacy/162433.jpg\" src=\"//media.otstatic.com/search-result-node/images/no-image.png\"/></a></div> <div class=\"rest-row-info\"><div class=\"rest-row-header\"> <a class=\"rest-row-name rest-name \" href=\"/ser\" target=\"_blank\"> <span class=\"rest-row-name-text\">SER</span> </a> </div> <div class=\"flex-row-justify\"> <div class=\"rest-row-review\"> <div class=\"star-rating\"><div class=\"star-wrapper small\"><div class=\"all-stars\"></div><div class=\"all-stars filled\" style=\"width: 88%;\"></div></div> <a class=\"review-link\" href=\"/ser#reviews\" target=\"_blank\"><span class=\"star-rating-text\">(496)</span><span class=\"star-rating-text--review-text\">496 reviews</span></a></div> <span class=\"recommended-container\"><span class=\"thumbs-up-icon\"></span> <span class=\"recommended-small\">94%</span> <span class=\"recommended-text\">94% Recommend</span></span> </div> <div class=\"rest-row-pricing\"> <i>  $    $      </i>   $    $      </div> </div><div class=\"rest-row-meta rest-row-meta-grid flex-row-justify\"> <span class=\"rest-row-meta--cuisine rest-row-meta-text\">Spanish</span> <span class=\"rest-row-meta--location rest-row-meta-text\">Arlington</span></div> <div class=\"message-alerts\"> </div> <div class=\"rest-row-times-cont\"><div class=\"rest-row-times\"> <div class=\"timeslot-window\"><ul class=\"availability-row-container\"> <li class=\"timeslot-option timeslot-control\"> <a class=\"rest-row-times-btn timeslot\" data-rid=\"162433\" href=\"/book/validate?rid=162433&amp;d=2017-07-05 18:30&amp;p=2&amp;pt=100&amp;ss=0&amp;sd=2017-07-05 18:30&amp;pofids=&amp;hash=3342747633\"> 6:30 pm  </a> </li> <li class=\"timeslot-option timeslot-control\"> <a class=\"rest-row-times-btn timeslot\" data-rid=\"162433\" href=\"/book/validate?rid=162433&amp;d=2017-07-05 18:45&amp;p=2&amp;pt=100&amp;ss=0&amp;sd=2017-07-05 18:45&amp;pofids=&amp;hash=206829064\"> 6:45 pm  </a> </li> <li class=\"timeslot-option timeslot-control\"> <a class=\"rest-row-times-btn exact timeslot\" data-rid=\"162433\" href=\"/book/validate?rid=162433&amp;d=2017-07-05 19:00&amp;p=2&amp;pt=100&amp;ss=0&amp;sd=2017-07-05 19:00&amp;pofids=&amp;hash=2862977226\"> 7:00 pm  </a> </li> <li class=\"timeslot-option timeslot-control\"> <a class=\"rest-row-times-btn timeslot\" data-rid=\"162433\" href=\"/book/validate?rid=162433&amp;d=2017-07-05 19:15&amp;p=2&amp;pt=100&amp;ss=0&amp;sd=2017-07-05 19:15&amp;pofids=&amp;hash=2060896629\"> 7:15 pm  </a> </li> <li class=\"timeslot-option timeslot-control\"> <a class=\"rest-row-times-btn timeslot\" data-rid=\"162433\" href=\"/book/validate?rid=162433&amp;d=2017-07-05 19:30&amp;p=2&amp;pt=100&amp;ss=0&amp;sd=2017-07-05 19:30&amp;pofids=&amp;hash=1791473702\"> 7:30 pm  </a> </li> </ul></div> </div></div> </div></div> </div>,\n",
       " <div class=\"result content-section-list-row cf with-times\" data-id=\"98\" data-index=\"99\" data-lat=\"38.9897830\" data-lon=\"-77.0980530\" data-offers=\"\" data-rid=\"166270\"><div class=\"rest-row with-image\"> <div class=\"rest-row-image\"> <a href=\"/barrel-and-crow\" target=\"_blank\"><img alt=\"photo of barrel &amp; crow restaurant\" class=\"lazy rest-image\" data-src=\"//resizer.otstatic.com/v2/profiles/legacy/166270.jpg\" src=\"//media.otstatic.com/search-result-node/images/no-image.png\"/></a></div> <div class=\"rest-row-info\"><div class=\"rest-row-header\"> <a class=\"rest-row-name rest-name \" href=\"/barrel-and-crow\" target=\"_blank\"> <span class=\"rest-row-name-text\">Barrel &amp; Crow</span> </a> </div> <div class=\"flex-row-justify\"> <div class=\"rest-row-review\"> <div class=\"star-rating\"><div class=\"star-wrapper small\"><div class=\"all-stars\"></div><div class=\"all-stars filled\" style=\"width: 88%;\"></div></div> <a class=\"review-link\" href=\"/barrel-and-crow#reviews\" target=\"_blank\"><span class=\"star-rating-text\">(407)</span><span class=\"star-rating-text--review-text\">407 reviews</span></a></div> <span class=\"recommended-container\"><span class=\"thumbs-up-icon\"></span> <span class=\"recommended-small\">92%</span> <span class=\"recommended-text\">92% Recommend</span></span> </div> <div class=\"rest-row-pricing\"> <i>  $    $      </i>   $    $      </div> </div><div class=\"rest-row-meta rest-row-meta-grid flex-row-justify\"> <span class=\"rest-row-meta--cuisine rest-row-meta-text\">American</span> <span class=\"rest-row-meta--location rest-row-meta-text\">Bethesda / Chevy Chase</span></div> <div class=\"message-alerts\"> </div> <div class=\"rest-row-times-cont\"><div class=\"rest-row-times\"> <div class=\"timeslot-window\"><ul class=\"availability-row-container\"> <li class=\"timeslot-option timeslot-control\"> <a class=\"rest-row-times-btn timeslot\" data-rid=\"166270\" href=\"/book/validate?rid=166270&amp;d=2017-07-05 18:30&amp;p=2&amp;pt=100&amp;ss=0&amp;sd=2017-07-05 18:30&amp;pofids=&amp;hash=62301644\"> 6:30 pm  </a> </li> <li class=\"timeslot-option timeslot-control\"> <a class=\"rest-row-times-btn timeslot\" data-rid=\"166270\" href=\"/book/validate?rid=166270&amp;d=2017-07-05 18:45&amp;p=2&amp;pt=100&amp;ss=0&amp;sd=2017-07-05 18:45&amp;pofids=&amp;hash=3225601949\"> 6:45 pm  </a> </li> <li class=\"timeslot-option timeslot-control\"> <a class=\"rest-row-times-btn exact timeslot\" data-rid=\"166270\" href=\"/book/validate?rid=166270&amp;d=2017-07-05 19:00&amp;p=2&amp;pt=100&amp;ss=0&amp;sd=2017-07-05 19:00&amp;pofids=&amp;hash=855346398\"> 7:00 pm  </a> </li> <li class=\"timeslot-option timeslot-control\"> <a class=\"rest-row-times-btn timeslot\" data-rid=\"166270\" href=\"/book/validate?rid=166270&amp;d=2017-07-05 19:15&amp;p=2&amp;pt=100&amp;ss=0&amp;sd=2017-07-05 19:15&amp;pofids=&amp;hash=3799070740\"> 7:15 pm  </a> </li> <li class=\"timeslot-option timeslot-control\"> <a class=\"rest-row-times-btn timeslot\" data-rid=\"166270\" href=\"/book/validate?rid=166270&amp;d=2017-07-05 19:30&amp;p=2&amp;pt=100&amp;ss=0&amp;sd=2017-07-05 19:30&amp;pofids=&amp;hash=1044346436\"> 7:30 pm  </a> </li> </ul></div> </div></div> </div></div> </div>,\n",
       " <div class=\"result content-section-list-row cf with-times\" data-id=\"99\" data-index=\"100\" data-lat=\"38.8986720\" data-lon=\"-77.0195890\" data-offers=\"\" data-rid=\"139420\"><div class=\"rest-row with-image\"> <div class=\"rest-row-image\"> <a href=\"/graffiato-dc\" target=\"_blank\"><img alt=\"photo of graffiato restaurant\" class=\"lazy rest-image\" data-src=\"//resizer.otstatic.com/v2/profiles/legacy/139420.jpg\" src=\"//media.otstatic.com/search-result-node/images/no-image.png\"/></a></div> <div class=\"rest-row-info\"><div class=\"rest-row-header\"> <a class=\"rest-row-name rest-name \" href=\"/graffiato-dc\" target=\"_blank\"> <span class=\"rest-row-name-text\">Graffiato</span> </a> </div> <div class=\"flex-row-justify\"> <div class=\"rest-row-review\"> <div class=\"star-rating\"><div class=\"star-wrapper small\"><div class=\"all-stars\"></div><div class=\"all-stars filled\" style=\"width: 86%;\"></div></div> <a class=\"review-link\" href=\"/graffiato-dc#reviews\" target=\"_blank\"><span class=\"star-rating-text\">(1312)</span><span class=\"star-rating-text--review-text\">1312 reviews</span></a></div> <span class=\"recommended-container\"><span class=\"thumbs-up-icon\"></span> <span class=\"recommended-small\">77%</span> <span class=\"recommended-text\">77% Recommend</span></span> </div> <div class=\"rest-row-pricing\"> <i>  $    $      </i>   $    $      </div> </div><div class=\"rest-row-meta rest-row-meta-grid flex-row-justify\"> <span class=\"rest-row-meta--cuisine rest-row-meta-text\">Contemporary Italian</span> <span class=\"rest-row-meta--location rest-row-meta-text\">Penn Quarter</span></div> <div class=\"message-alerts\"> </div> <div class=\"rest-row-times-cont\"><div class=\"rest-row-times\"> <div class=\"timeslot-window\"><ul class=\"availability-row-container\"> <li class=\"timeslot-option timeslot-control\"> <a class=\"rest-row-times-btn timeslot\" data-rid=\"139420\" href=\"/book/validate?rid=139420&amp;d=2017-07-05 18:00&amp;p=2&amp;pt=1000&amp;ss=0&amp;sd=2017-07-05 18:00&amp;pofids=&amp;hash=2002760790&amp;i=1\"> 6:00 pm  </a> </li> <li class=\"timeslot-option timeslot-control\"> <a class=\"rest-row-times-btn timeslot\" data-rid=\"139420\" href=\"/book/validate?rid=139420&amp;d=2017-07-05 18:45&amp;p=2&amp;pt=100&amp;ss=0&amp;sd=2017-07-05 18:45&amp;pofids=&amp;hash=2853686429\"> 6:45 pm  </a> </li> <li class=\"timeslot-option timeslot-control\"> <a class=\"rest-row-times-btn exact timeslot\" data-rid=\"139420\" href=\"/book/validate?rid=139420&amp;d=2017-07-05 19:00&amp;p=2&amp;pt=100&amp;ss=0&amp;sd=2017-07-05 19:00&amp;pofids=&amp;hash=2422734547\"> 7:00 pm  </a> </li> <li class=\"timeslot-option timeslot-control\"> <a class=\"rest-row-times-btn timeslot\" data-rid=\"139420\" href=\"/book/validate?rid=139420&amp;d=2017-07-05 19:15&amp;p=2&amp;pt=100&amp;ss=0&amp;sd=2017-07-05 19:15&amp;pofids=&amp;hash=2583120515\"> 7:15 pm  </a> </li> <li class=\"timeslot-option timeslot-control\"> <a class=\"rest-row-times-btn timeslot\" data-rid=\"139420\" href=\"/book/validate?rid=139420&amp;d=2017-07-05 20:30&amp;p=2&amp;pt=1000&amp;ss=0&amp;sd=2017-07-05 20:30&amp;pofids=&amp;hash=3721865231&amp;i=1\"> 8:30 pm  </a> </li> </ul></div> </div></div> </div></div> </div>]"
      ]
     },
     "execution_count": 37,
     "metadata": {},
     "output_type": "execute_result"
    }
   ],
   "source": [
    "# print out all entries\n",
    "soup.find_all('div', {'class':'result content-section-list-row cf with-times'})"
   ]
  },
  {
   "cell_type": "markdown",
   "metadata": {},
   "source": [
    "Look over the page. Does every single entry have each element we're seeking?\n",
    "> I did this previously. I know for a fact that not every element has a number of recent bookings. That's probably exactly why OpenTable houses this in JavaScript: they want to continously update the number of bookings with the most relevant number of values."
   ]
  },
  {
   "cell_type": "code",
   "execution_count": 38,
   "metadata": {
    "collapsed": false,
    "scrolled": true
   },
   "outputs": [
    {
     "name": "stdout",
     "output_type": "stream",
     "text": [
      "<div class=\"booking\"><span class=\"tadpole\"></span>Booked 75 times today</div>\n",
      "<div class=\"booking\"><span class=\"tadpole\"></span>Booked 16 times today</div>\n",
      "<div class=\"booking\"><span class=\"tadpole\"></span>Booked 25 times today</div>\n",
      "<div class=\"booking\"><span class=\"tadpole\"></span>Booked 19 times today</div>\n",
      "<div class=\"booking\"><span class=\"tadpole\"></span>Booked 48 times today</div>\n",
      "<div class=\"booking\"><span class=\"tadpole\"></span>Booked 83 times today</div>\n",
      "<div class=\"booking\"><span class=\"tadpole\"></span>Booked 252 times today</div>\n",
      "<div class=\"booking\"><span class=\"tadpole\"></span>Booked 28 times today</div>\n",
      "<div class=\"booking\"><span class=\"tadpole\"></span>Booked 90 times today</div>\n",
      "<div class=\"booking\"><span class=\"tadpole\"></span>Booked 236 times today</div>\n",
      "<div class=\"booking\"><span class=\"tadpole\"></span>Booked 6 times today</div>\n",
      "<div class=\"booking\"><span class=\"tadpole\"></span>Booked 12 times today</div>\n",
      "<div class=\"booking\"><span class=\"tadpole\"></span>Booked 211 times today</div>\n",
      "<div class=\"booking\"><span class=\"tadpole\"></span>Booked 37 times today</div>\n",
      "<div class=\"booking\"><span class=\"tadpole\"></span>Booked 42 times today</div>\n",
      "None\n",
      "<div class=\"booking\"><span class=\"tadpole\"></span>Booked 40 times today</div>\n",
      "<div class=\"booking\"><span class=\"tadpole\"></span>Booked 72 times today</div>\n",
      "<div class=\"booking\"><span class=\"tadpole\"></span>Booked 19 times today</div>\n",
      "<div class=\"booking\"><span class=\"tadpole\"></span>Booked 482 times today</div>\n",
      "<div class=\"booking\"><span class=\"tadpole\"></span>Booked 46 times today</div>\n",
      "<div class=\"booking\"><span class=\"tadpole\"></span>Booked 136 times today</div>\n",
      "<div class=\"booking\"><span class=\"tadpole\"></span>Booked 35 times today</div>\n",
      "None\n",
      "<div class=\"booking\"><span class=\"tadpole\"></span>Booked 23 times today</div>\n",
      "<div class=\"booking\"><span class=\"tadpole\"></span>Booked 13 times today</div>\n",
      "<div class=\"booking\"><span class=\"tadpole\"></span>Booked 28 times today</div>\n",
      "<div class=\"booking\"><span class=\"tadpole\"></span>Booked 4 times today</div>\n",
      "<div class=\"booking\"><span class=\"tadpole\"></span>Booked 15 times today</div>\n",
      "<div class=\"booking\"><span class=\"tadpole\"></span>Booked 148 times today</div>\n",
      "<div class=\"booking\"><span class=\"tadpole\"></span>Booked 63 times today</div>\n",
      "<div class=\"booking\"><span class=\"tadpole\"></span>Booked 40 times today</div>\n",
      "<div class=\"booking\"><span class=\"tadpole\"></span>Booked 10 times today</div>\n",
      "<div class=\"booking\"><span class=\"tadpole\"></span>Booked 33 times today</div>\n",
      "<div class=\"booking\"><span class=\"tadpole\"></span>Booked 48 times today</div>\n",
      "<div class=\"booking\"><span class=\"tadpole\"></span>Booked 38 times today</div>\n",
      "<div class=\"booking\"><span class=\"tadpole\"></span>Booked 16 times today</div>\n",
      "<div class=\"booking\"><span class=\"tadpole\"></span>Booked 90 times today</div>\n",
      "<div class=\"booking\"><span class=\"tadpole\"></span>Booked 13 times today</div>\n",
      "<div class=\"booking\"><span class=\"tadpole\"></span>Booked 8 times today</div>\n",
      "<div class=\"booking\"><span class=\"tadpole\"></span>Booked 25 times today</div>\n",
      "<div class=\"booking\"><span class=\"tadpole\"></span>Booked 8 times today</div>\n",
      "<div class=\"booking\"><span class=\"tadpole\"></span>Booked 9 times today</div>\n",
      "<div class=\"booking\"><span class=\"tadpole\"></span>Booked 112 times today</div>\n",
      "<div class=\"booking\"><span class=\"tadpole\"></span>Booked 17 times today</div>\n",
      "<div class=\"booking\"><span class=\"tadpole\"></span>Booked 15 times today</div>\n",
      "<div class=\"booking\"><span class=\"tadpole\"></span>Booked 63 times today</div>\n",
      "None\n",
      "<div class=\"booking\"><span class=\"tadpole\"></span>Booked 30 times today</div>\n",
      "<div class=\"booking\"><span class=\"tadpole\"></span>Booked 46 times today</div>\n",
      "<div class=\"booking\"><span class=\"tadpole\"></span>Booked 4 times today</div>\n",
      "<div class=\"booking\"><span class=\"tadpole\"></span>Booked 174 times today</div>\n",
      "<div class=\"booking\"><span class=\"tadpole\"></span>Booked 29 times today</div>\n",
      "<div class=\"booking\"><span class=\"tadpole\"></span>Booked 13 times today</div>\n",
      "<div class=\"booking\"><span class=\"tadpole\"></span>Booked 8 times today</div>\n",
      "<div class=\"booking\"><span class=\"tadpole\"></span>Booked 30 times today</div>\n",
      "<div class=\"booking\"><span class=\"tadpole\"></span>Booked 14 times today</div>\n",
      "<div class=\"booking\"><span class=\"tadpole\"></span>Booked 25 times today</div>\n",
      "<div class=\"booking\"><span class=\"tadpole\"></span>Booked 24 times today</div>\n",
      "<div class=\"booking\"><span class=\"tadpole\"></span>Booked 220 times today</div>\n",
      "<div class=\"booking\"><span class=\"tadpole\"></span>Booked 184 times today</div>\n",
      "<div class=\"booking\"><span class=\"tadpole\"></span>Booked 81 times today</div>\n",
      "<div class=\"booking\"><span class=\"tadpole\"></span>Booked 9 times today</div>\n",
      "<div class=\"booking\"><span class=\"tadpole\"></span>Booked 24 times today</div>\n",
      "<div class=\"booking\"><span class=\"tadpole\"></span>Booked 18 times today</div>\n",
      "<div class=\"booking\"><span class=\"tadpole\"></span>Booked 27 times today</div>\n",
      "<div class=\"booking\"><span class=\"tadpole\"></span>Booked 22 times today</div>\n",
      "<div class=\"booking\"><span class=\"tadpole\"></span>Booked 13 times today</div>\n",
      "<div class=\"booking\"><span class=\"tadpole\"></span>Booked 7 times today</div>\n",
      "<div class=\"booking\"><span class=\"tadpole\"></span>Booked 41 times today</div>\n",
      "<div class=\"booking\"><span class=\"tadpole\"></span>Booked 7 times today</div>\n",
      "<div class=\"booking\"><span class=\"tadpole\"></span>Booked 3 times today</div>\n",
      "<div class=\"booking\"><span class=\"tadpole\"></span>Booked 5 times today</div>\n",
      "<div class=\"booking\"><span class=\"tadpole\"></span>Booked 23 times today</div>\n",
      "<div class=\"booking\"><span class=\"tadpole\"></span>Booked 12 times today</div>\n",
      "<div class=\"booking\"><span class=\"tadpole\"></span>Booked 7 times today</div>\n",
      "<div class=\"booking\"><span class=\"tadpole\"></span>Booked 6 times today</div>\n",
      "<div class=\"booking\"><span class=\"tadpole\"></span>Booked 21 times today</div>\n",
      "<div class=\"booking\"><span class=\"tadpole\"></span>Booked 19 times today</div>\n",
      "<div class=\"booking\"><span class=\"tadpole\"></span>Booked 10 times today</div>\n",
      "<div class=\"booking\"><span class=\"tadpole\"></span>Booked 26 times today</div>\n",
      "<div class=\"booking\"><span class=\"tadpole\"></span>Booked 12 times today</div>\n",
      "<div class=\"booking\"><span class=\"tadpole\"></span>Booked 19 times today</div>\n",
      "<div class=\"booking\"><span class=\"tadpole\"></span>Booked 14 times today</div>\n",
      "<div class=\"booking\"><span class=\"tadpole\"></span>Booked 6 times today</div>\n",
      "<div class=\"booking\"><span class=\"tadpole\"></span>Booked 8 times today</div>\n",
      "<div class=\"booking\"><span class=\"tadpole\"></span>Booked 50 times today</div>\n",
      "<div class=\"booking\"><span class=\"tadpole\"></span>Booked 45 times today</div>\n",
      "<div class=\"booking\"><span class=\"tadpole\"></span>Booked 32 times today</div>\n",
      "<div class=\"booking\"><span class=\"tadpole\"></span>Booked 53 times today</div>\n",
      "<div class=\"booking\"><span class=\"tadpole\"></span>Booked 18 times today</div>\n",
      "<div class=\"booking\"><span class=\"tadpole\"></span>Booked 27 times today</div>\n",
      "<div class=\"booking\"><span class=\"tadpole\"></span>Booked 20 times today</div>\n",
      "<div class=\"booking\"><span class=\"tadpole\"></span>Booked 17 times today</div>\n",
      "<div class=\"booking\"><span class=\"tadpole\"></span>Booked 18 times today</div>\n",
      "<div class=\"booking\"><span class=\"tadpole\"></span>Booked 12 times today</div>\n",
      "<div class=\"booking\"><span class=\"tadpole\"></span>Booked 19 times today</div>\n",
      "<div class=\"booking\"><span class=\"tadpole\"></span>Booked 3 times today</div>\n",
      "<div class=\"booking\"><span class=\"tadpole\"></span>Booked 10 times today</div>\n",
      "<div class=\"booking\"><span class=\"tadpole\"></span>Booked 15 times today</div>\n"
     ]
    }
   ],
   "source": [
    "# what happens when a booking is not available?\n",
    "# print out each booking entry, using the identification code we wrote above\n",
    "for entry in html.find_all('div', {'class':'result content-section-list-row cf with-times'}):\n",
    "    print entry.find('div', {'class':'booking'})"
   ]
  },
  {
   "cell_type": "code",
   "execution_count": 45,
   "metadata": {
    "collapsed": false
   },
   "outputs": [
    {
     "name": "stdout",
     "output_type": "stream",
     "text": [
      "Booked 75 times today\n",
      "Booked 16 times today\n",
      "Booked 25 times today\n",
      "Booked 19 times today\n",
      "Booked 48 times today\n",
      "Booked 83 times today\n",
      "Booked 252 times today\n",
      "Booked 28 times today\n",
      "Booked 90 times today\n",
      "Booked 236 times today\n",
      "Booked 6 times today\n",
      "Booked 12 times today\n",
      "Booked 211 times today\n",
      "Booked 37 times today\n",
      "Booked 42 times today\n"
     ]
    },
    {
     "ename": "AttributeError",
     "evalue": "'NoneType' object has no attribute 'text'",
     "output_type": "error",
     "traceback": [
      "\u001b[0;31m---------------------------------------------------------------------------\u001b[0m",
      "\u001b[0;31mAttributeError\u001b[0m                            Traceback (most recent call last)",
      "\u001b[0;32m<ipython-input-45-2fb7387ce5b1>\u001b[0m in \u001b[0;36m<module>\u001b[0;34m()\u001b[0m\n\u001b[1;32m      1\u001b[0m \u001b[0;31m# if we find the element we want, we print it. Otherwise, we print 'ZERO'\u001b[0m\u001b[0;34m\u001b[0m\u001b[0;34m\u001b[0m\u001b[0m\n\u001b[1;32m      2\u001b[0m \u001b[0;32mfor\u001b[0m \u001b[0mentry\u001b[0m \u001b[0;32min\u001b[0m \u001b[0mhtml\u001b[0m\u001b[0;34m.\u001b[0m\u001b[0mfind_all\u001b[0m\u001b[0;34m(\u001b[0m\u001b[0;34m'div'\u001b[0m\u001b[0;34m,\u001b[0m \u001b[0;34m{\u001b[0m\u001b[0;34m'class'\u001b[0m\u001b[0;34m:\u001b[0m\u001b[0;34m'result content-section-list-row cf with-times'\u001b[0m\u001b[0;34m}\u001b[0m\u001b[0;34m)\u001b[0m\u001b[0;34m:\u001b[0m\u001b[0;34m\u001b[0m\u001b[0m\n\u001b[0;32m----> 3\u001b[0;31m         \u001b[0;32mprint\u001b[0m \u001b[0mentry\u001b[0m\u001b[0;34m.\u001b[0m\u001b[0mfind\u001b[0m\u001b[0;34m(\u001b[0m\u001b[0;34m'div'\u001b[0m\u001b[0;34m,\u001b[0m \u001b[0;34m{\u001b[0m\u001b[0;34m'class'\u001b[0m\u001b[0;34m:\u001b[0m\u001b[0;34m'booking'\u001b[0m\u001b[0;34m}\u001b[0m\u001b[0;34m)\u001b[0m\u001b[0;34m.\u001b[0m\u001b[0mtext\u001b[0m\u001b[0;34m\u001b[0m\u001b[0m\n\u001b[0m",
      "\u001b[0;31mAttributeError\u001b[0m: 'NoneType' object has no attribute 'text'"
     ]
    }
   ],
   "source": [
    "# if we find the element we want, we print it. Otherwise, we print 'ZERO'\n",
    "for entry in html.find_all('div', {'class':'result content-section-list-row cf with-times'}):\n",
    "        print entry.find('div', {'class':'booking'}).text"
   ]
  },
  {
   "cell_type": "markdown",
   "metadata": {},
   "source": [
    "What do you notice takes the place when booking is not found?\n",
    "\n",
    "Thus, we will use exceptions. Here's a demo:"
   ]
  },
  {
   "cell_type": "code",
   "execution_count": 40,
   "metadata": {
    "collapsed": false
   },
   "outputs": [
    {
     "name": "stdout",
     "output_type": "stream",
     "text": [
      "Booked 75 times today\n",
      "Booked 16 times today\n",
      "Booked 25 times today\n",
      "Booked 19 times today\n",
      "Booked 48 times today\n",
      "Booked 83 times today\n",
      "Booked 252 times today\n",
      "Booked 28 times today\n",
      "Booked 90 times today\n",
      "Booked 236 times today\n",
      "Booked 6 times today\n",
      "Booked 12 times today\n",
      "Booked 211 times today\n",
      "Booked 37 times today\n",
      "Booked 42 times today\n",
      "ZERO\n",
      "Booked 40 times today\n",
      "Booked 72 times today\n",
      "Booked 19 times today\n",
      "Booked 482 times today\n",
      "Booked 46 times today\n",
      "Booked 136 times today\n",
      "Booked 35 times today\n",
      "ZERO\n",
      "Booked 23 times today\n",
      "Booked 13 times today\n",
      "Booked 28 times today\n",
      "Booked 4 times today\n",
      "Booked 15 times today\n",
      "Booked 148 times today\n",
      "Booked 63 times today\n",
      "Booked 40 times today\n",
      "Booked 10 times today\n",
      "Booked 33 times today\n",
      "Booked 48 times today\n",
      "Booked 38 times today\n",
      "Booked 16 times today\n",
      "Booked 90 times today\n",
      "Booked 13 times today\n",
      "Booked 8 times today\n",
      "Booked 25 times today\n",
      "Booked 8 times today\n",
      "Booked 9 times today\n",
      "Booked 112 times today\n",
      "Booked 17 times today\n",
      "Booked 15 times today\n",
      "Booked 63 times today\n",
      "ZERO\n",
      "Booked 30 times today\n",
      "Booked 46 times today\n",
      "Booked 4 times today\n",
      "Booked 174 times today\n",
      "Booked 29 times today\n",
      "Booked 13 times today\n",
      "Booked 8 times today\n",
      "Booked 30 times today\n",
      "Booked 14 times today\n",
      "Booked 25 times today\n",
      "Booked 24 times today\n",
      "Booked 220 times today\n",
      "Booked 184 times today\n",
      "Booked 81 times today\n",
      "Booked 9 times today\n",
      "Booked 24 times today\n",
      "Booked 18 times today\n",
      "Booked 27 times today\n",
      "Booked 22 times today\n",
      "Booked 13 times today\n",
      "Booked 7 times today\n",
      "Booked 41 times today\n",
      "Booked 7 times today\n",
      "Booked 3 times today\n",
      "Booked 5 times today\n",
      "Booked 23 times today\n",
      "Booked 12 times today\n",
      "Booked 7 times today\n",
      "Booked 6 times today\n",
      "Booked 21 times today\n",
      "Booked 19 times today\n",
      "Booked 10 times today\n",
      "Booked 26 times today\n",
      "Booked 12 times today\n",
      "Booked 19 times today\n",
      "Booked 14 times today\n",
      "Booked 6 times today\n",
      "Booked 8 times today\n",
      "Booked 50 times today\n",
      "Booked 45 times today\n",
      "Booked 32 times today\n",
      "Booked 53 times today\n",
      "Booked 18 times today\n",
      "Booked 27 times today\n",
      "Booked 20 times today\n",
      "Booked 17 times today\n",
      "Booked 18 times today\n",
      "Booked 12 times today\n",
      "Booked 19 times today\n",
      "Booked 3 times today\n",
      "Booked 10 times today\n",
      "Booked 15 times today\n"
     ]
    }
   ],
   "source": [
    "# if we find the element we want, we print it. Otherwise, we print 'ZERO'\n",
    "for entry in html.find_all('div', {'class':'result content-section-list-row cf with-times'}):\n",
    "    try:\n",
    "        print entry.find('div', {'class':'booking'}).text\n",
    "    except:\n",
    "        print 'ZERO'"
   ]
  },
  {
   "cell_type": "markdown",
   "metadata": {},
   "source": [
    "From previously completing this, I know all other elements WILL be returned. That means we do not have to create exceptions for them.\n",
    "\n",
    "However, the onus is on you to now put all the pieces together.\n",
    "\n",
    "Loop through each entry. For each entry, grab the relevant information we want (name, location, price, bookings). Produce a dataframe with the columns \"name\",\"location\",\"price\",\"bookings\" that contains the 100 entries we would like."
   ]
  },
  {
   "cell_type": "code",
   "execution_count": 46,
   "metadata": {
    "collapsed": true
   },
   "outputs": [],
   "source": [
    "import pandas as pd"
   ]
  },
  {
   "cell_type": "code",
   "execution_count": 47,
   "metadata": {
    "collapsed": true
   },
   "outputs": [],
   "source": [
    "# I'm going to create my empty df first\n",
    "dc_eats = pd.DataFrame(columns=[\"name\",\"location\",\"price\",\"bookings\"])"
   ]
  },
  {
   "cell_type": "code",
   "execution_count": 48,
   "metadata": {
    "collapsed": true
   },
   "outputs": [],
   "source": [
    "for entry in html.find_all('div', {'class':'result content-section-list-row cf with-times'}):\n",
    "    # grab the name\n",
    "    name =  entry.find('span', {'class':'rest-row-name-text'}).text\n",
    "    # grab the location \n",
    "    location = entry.find('span', {'class':'rest-row-meta--location rest-row-meta-text'}).renderContents()\n",
    "    # grab the price\n",
    "    price =  entry.find('div', {'class':'rest-row-pricing'}).find('i').renderContents().count('$')\n",
    "    # try to find the number of bookings\n",
    "    try:\n",
    "        temp = entry.find('div', {'class':'booking'}).text\n",
    "        match = re.search(r'\\d+', temp)\n",
    "        if match:\n",
    "            bookings = match.group()\n",
    "    except:\n",
    "        bookings = 'NA'\n",
    "    dc_eats.loc[len(dc_eats)]=[name, location, price, bookings]"
   ]
  },
  {
   "cell_type": "code",
   "execution_count": 49,
   "metadata": {
    "collapsed": false
   },
   "outputs": [
    {
     "data": {
      "text/html": [
       "<div>\n",
       "<table border=\"1\" class=\"dataframe\">\n",
       "  <thead>\n",
       "    <tr style=\"text-align: right;\">\n",
       "      <th></th>\n",
       "      <th>name</th>\n",
       "      <th>location</th>\n",
       "      <th>price</th>\n",
       "      <th>bookings</th>\n",
       "    </tr>\n",
       "  </thead>\n",
       "  <tbody>\n",
       "    <tr>\n",
       "      <th>0</th>\n",
       "      <td>Rasika</td>\n",
       "      <td>Penn Quarter</td>\n",
       "      <td>3.0</td>\n",
       "      <td>75</td>\n",
       "    </tr>\n",
       "    <tr>\n",
       "      <th>1</th>\n",
       "      <td>Harold Black</td>\n",
       "      <td>Capitol Hill</td>\n",
       "      <td>2.0</td>\n",
       "      <td>16</td>\n",
       "    </tr>\n",
       "    <tr>\n",
       "      <th>2</th>\n",
       "      <td>Chez Billy Sud</td>\n",
       "      <td>Georgetown</td>\n",
       "      <td>2.0</td>\n",
       "      <td>25</td>\n",
       "    </tr>\n",
       "    <tr>\n",
       "      <th>3</th>\n",
       "      <td>Centrolina</td>\n",
       "      <td>Downtown</td>\n",
       "      <td>2.0</td>\n",
       "      <td>19</td>\n",
       "    </tr>\n",
       "    <tr>\n",
       "      <th>4</th>\n",
       "      <td>Ambar</td>\n",
       "      <td>Capitol Hill</td>\n",
       "      <td>2.0</td>\n",
       "      <td>48</td>\n",
       "    </tr>\n",
       "  </tbody>\n",
       "</table>\n",
       "</div>"
      ],
      "text/plain": [
       "             name      location  price bookings\n",
       "0          Rasika  Penn Quarter    3.0       75\n",
       "1    Harold Black  Capitol Hill    2.0       16\n",
       "2  Chez Billy Sud    Georgetown    2.0       25\n",
       "3      Centrolina      Downtown    2.0       19\n",
       "4           Ambar  Capitol Hill    2.0       48"
      ]
     },
     "execution_count": 49,
     "metadata": {},
     "output_type": "execute_result"
    }
   ],
   "source": [
    "# check out our work\n",
    "dc_eats.head()"
   ]
  },
  {
   "cell_type": "markdown",
   "metadata": {},
   "source": [
    "Awesome! We succeeded.\n",
    "\n",
    "Now, let's explore some of the other functionality of a webdriver. We've barely scratched the surface."
   ]
  },
  {
   "cell_type": "code",
   "execution_count": 50,
   "metadata": {
    "collapsed": true
   },
   "outputs": [],
   "source": [
    "# we can send keys as well\n",
    "# import\n",
    "from selenium.webdriver.common.keys import Keys"
   ]
  },
  {
   "cell_type": "code",
   "execution_count": 51,
   "metadata": {
    "collapsed": true
   },
   "outputs": [],
   "source": [
    "# open Firefox\n",
    "driver = webdriver.Firefox()\n",
    "# visit Python\n",
    "driver.get(\"http://www.python.org\")\n",
    "# verify we're in the right place\n",
    "assert \"Python\" in driver.title"
   ]
  },
  {
   "cell_type": "code",
   "execution_count": 52,
   "metadata": {
    "collapsed": true
   },
   "outputs": [],
   "source": [
    "# find the search position\n",
    "elem = driver.find_element_by_name(\"q\")\n",
    "# clear it\n",
    "elem.clear()\n",
    "# type in pycon\n",
    "elem.send_keys(\"pycon\")\n",
    "# send those keys\n",
    "elem.send_keys(Keys.RETURN)"
   ]
  },
  {
   "cell_type": "code",
   "execution_count": null,
   "metadata": {
    "collapsed": true
   },
   "outputs": [],
   "source": []
  },
  {
   "cell_type": "code",
   "execution_count": null,
   "metadata": {
    "collapsed": true
   },
   "outputs": [],
   "source": [
    "# send those keys\n",
    "#elem.send_keys(Keys.RETURN)\n",
    "# no results\n",
    "# assert \"No results found.\" not in driver.page_source"
   ]
  },
  {
   "cell_type": "code",
   "execution_count": 53,
   "metadata": {
    "collapsed": true
   },
   "outputs": [],
   "source": [
    "# close\n",
    "driver.close()"
   ]
  },
  {
   "cell_type": "code",
   "execution_count": 54,
   "metadata": {
    "collapsed": true
   },
   "outputs": [],
   "source": [
    "# all at once:\n",
    "driver = webdriver.Firefox()\n",
    "driver.get(\"http://www.python.org\")\n",
    "assert \"Python\" in driver.title\n",
    "elem = driver.find_element_by_name(\"q\")\n",
    "elem.clear()\n",
    "elem.send_keys(\"pycon\")\n",
    "elem.send_keys(Keys.RETURN)\n",
    "#assert \"No results found.\" not in driver.page_source\n",
    "driver.close()"
   ]
  },
  {
   "cell_type": "markdown",
   "metadata": {},
   "source": [
    "The above example (and many others) are available in the Selenium docs: http://selenium-python.readthedocs.io/getting-started.html\n",
    "\n",
    "What is especially important is exploring functionality like locating elements: http://selenium-python.readthedocs.io/locating-elements.html#locating-elements\n",
    "\n",
    "FAQ:\n",
    "http://selenium-python.readthedocs.io/faq.html"
   ]
  }
 ],
 "metadata": {
  "anaconda-cloud": {},
  "kernelspec": {
   "display_name": "Python 2",
   "language": "python",
   "name": "python2"
  },
  "language_info": {
   "codemirror_mode": {
    "name": "ipython",
    "version": 2
   },
   "file_extension": ".py",
   "mimetype": "text/x-python",
   "name": "python",
   "nbconvert_exporter": "python",
   "pygments_lexer": "ipython2",
   "version": "2.7.13"
  }
 },
 "nbformat": 4,
 "nbformat_minor": 1
}
